{
 "cells": [
  {
   "cell_type": "markdown",
   "metadata": {},
   "source": [
    "### Unsupervised Learning\n",
    "* There is no target information\n",
    "* All we do is find relationship between data\n",
    "* No easy way to verify if you have a good modeling or not\n",
    "* Clustering is a type of unsupervised learning\n",
    "### Clustering\n",
    "* Find similar data & cluster/group them together\n",
    "* Types of cluster - Partitioning & Hierarchial\n",
    "### Partitioning based Clustering\n",
    "* Find clusters connected to same centroid\n",
    "* For n Points what will be the centroid\n",
    "* (xn+ ... + x2+x1)/n, (yn + ... +y2+y1)/n"
   ]
  },
  {
   "cell_type": "markdown",
   "metadata": {},
   "source": [
    "### Kmeans Algorithm\n",
    "Kmeans algorithm is an iterative algorithm that tries to partition the dataset into Kpre-defined distinct non-overlapping subgroups (clusters) where each data point belongs to only one group. It tries to make the inter-cluster data points as similar as possible while also keeping the clusters as different (far) as possible. It assigns data points to a cluster such that the sum of the squared distance between the data points and the cluster’s centroid (arithmetic mean of all the data points that belong to that cluster) is at the minimum. The less variation we have within clusters, the more homogeneous (similar) the data points are within the same cluster.\n",
    "### The way kmeans algorithm works is as follows:\n",
    "* Specify number of clusters K.\n",
    "* Initialize centroids by first shuffling the dataset and then randomly selecting K data points for the centroids without replacement.\n",
    "* Keep iterating until there is no change to the centroids. i.e assignment of data points to clusters isn’t changing.\n",
    "* Compute the sum of the squared distance between data points and all centroids.\n",
    "* Assign each data point to the closest cluster (centroid).\n",
    "* Compute the centroids for the clusters by taking the average of the all data points that belong to each cluster."
   ]
  },
  {
   "cell_type": "markdown",
   "metadata": {},
   "source": [
    "### Agenda\n",
    "Implementing KMeans"
   ]
  },
  {
   "cell_type": "markdown",
   "metadata": {},
   "source": [
    "### Steps in KMeans\n",
    "* Randomy assign centroids\n",
    "* Assign data to nearest centroids\n",
    "* Recalculate the centroid\n",
    "* Repeat above two steps"
   ]
  },
  {
   "cell_type": "code",
   "execution_count": 3,
   "metadata": {},
   "outputs": [],
   "source": [
    "# importing dataset\n",
    "from sklearn.datasets import load_iris"
   ]
  },
  {
   "cell_type": "code",
   "execution_count": 4,
   "metadata": {},
   "outputs": [],
   "source": [
    "iris  = load_iris()"
   ]
  },
  {
   "cell_type": "code",
   "execution_count": 6,
   "metadata": {},
   "outputs": [],
   "source": [
    "feture_data = iris.data"
   ]
  },
  {
   "cell_type": "code",
   "execution_count": 7,
   "metadata": {},
   "outputs": [
    {
     "data": {
      "text/plain": [
       "(150, 4)"
      ]
     },
     "execution_count": 7,
     "metadata": {},
     "output_type": "execute_result"
    }
   ],
   "source": [
    "feture_data.shape"
   ]
  },
  {
   "cell_type": "code",
   "execution_count": 13,
   "metadata": {},
   "outputs": [],
   "source": [
    "feature_data = feture_data[:,[0,1]]"
   ]
  },
  {
   "cell_type": "code",
   "execution_count": 14,
   "metadata": {},
   "outputs": [
    {
     "data": {
      "text/plain": [
       "(150, 2)"
      ]
     },
     "execution_count": 14,
     "metadata": {},
     "output_type": "execute_result"
    }
   ],
   "source": [
    "feature_data.shape"
   ]
  },
  {
   "cell_type": "code",
   "execution_count": 15,
   "metadata": {},
   "outputs": [
    {
     "data": {
      "text/plain": [
       "array([0, 0, 0, 0, 0, 0, 0, 0, 0, 0, 0, 0, 0, 0, 0, 0, 0, 0, 0, 0, 0, 0,\n",
       "       0, 0, 0, 0, 0, 0, 0, 0, 0, 0, 0, 0, 0, 0, 0, 0, 0, 0, 0, 0, 0, 0,\n",
       "       0, 0, 0, 0, 0, 0, 1, 1, 1, 1, 1, 1, 1, 1, 1, 1, 1, 1, 1, 1, 1, 1,\n",
       "       1, 1, 1, 1, 1, 1, 1, 1, 1, 1, 1, 1, 1, 1, 1, 1, 1, 1, 1, 1, 1, 1,\n",
       "       1, 1, 1, 1, 1, 1, 1, 1, 1, 1, 1, 1, 2, 2, 2, 2, 2, 2, 2, 2, 2, 2,\n",
       "       2, 2, 2, 2, 2, 2, 2, 2, 2, 2, 2, 2, 2, 2, 2, 2, 2, 2, 2, 2, 2, 2,\n",
       "       2, 2, 2, 2, 2, 2, 2, 2, 2, 2, 2, 2, 2, 2, 2, 2, 2, 2])"
      ]
     },
     "execution_count": 15,
     "metadata": {},
     "output_type": "execute_result"
    }
   ],
   "source": [
    "iris.target"
   ]
  },
  {
   "cell_type": "markdown",
   "metadata": {},
   "source": [
    " ### Cluster feature_data into 3 classes"
   ]
  },
  {
   "cell_type": "code",
   "execution_count": 16,
   "metadata": {},
   "outputs": [],
   "source": [
    "import numpy as np\n",
    "import pandas as pd"
   ]
  },
  {
   "cell_type": "code",
   "execution_count": 104,
   "metadata": {},
   "outputs": [],
   "source": [
    "class MyKMeans:\n",
    "    def __init__(self,n_clusters =3):\n",
    "        self.n_clusters = n_clusters\n",
    "        \n",
    "    def my_fit(self,feature_data,centroids =[[4.8,3.2],[5.5,2.5],[7.5,3]]):\n",
    "        self.feature_data = np.array(feature_data)\n",
    "        self.data_centroid = []\n",
    "        self.centroids = np.array(centroids)\n",
    "        \n",
    "    def assign_data_to_centroid(self):\n",
    "        fd = self.feature_data.reshape(150,1,2)\n",
    "        cd = self.centroids.reshape(1,3,2)\n",
    "        distances = np.sqrt(np.sum(np.square(fd - cd),axis=2))\n",
    "        self.data_centroid = np.argmin(distances,axis=1)\n",
    "        self.distance_centroid = np.min(distances,axis=1)\n",
    "        return self.data_centroid\n",
    "    \n",
    "    def recalculate_centroid(self):\n",
    "        def f(d):\n",
    "            res = np.round([d['F1'].sum()/d.shape[0],d['F2'].sum()/d.shape[0]],3)\n",
    "            self.centroids.append(np.array(res))\n",
    "            \n",
    "        self.centroids = []\n",
    "        df = pd.DataFrame({'Centroid':self.data_centroid,'F1':self.feature_data[:,0],'F2':self.feature_data[:,1]})\n",
    "        df.groupby('Centroid').apply(f)\n",
    "        self.centroids = np.array(self.centroids)  \n",
    "        \n",
    "    def my_cost(self):\n",
    "        return self.distance_centroid.sum()"
   ]
  },
  {
   "cell_type": "code",
   "execution_count": 105,
   "metadata": {},
   "outputs": [],
   "source": [
    "myKmeans = MyKMeans(n_clusters=3)"
   ]
  },
  {
   "cell_type": "code",
   "execution_count": 106,
   "metadata": {},
   "outputs": [],
   "source": [
    "myKmeans.my_fit(feature_data)"
   ]
  },
  {
   "cell_type": "code",
   "execution_count": 107,
   "metadata": {},
   "outputs": [],
   "source": [
    "import matplotlib.pyplot as plt\n",
    "%matplotlib inline"
   ]
  },
  {
   "cell_type": "code",
   "execution_count": 108,
   "metadata": {},
   "outputs": [
    {
     "data": {
      "text/plain": [
       "<matplotlib.collections.PathCollection at 0x294c6c5c508>"
      ]
     },
     "execution_count": 108,
     "metadata": {},
     "output_type": "execute_result"
    },
    {
     "data": {
      "image/png": "[encoded data removed]",
      "text/plain": [
       "<Figure size 432x288 with 1 Axes>"
      ]
     },
     "metadata": {
      "needs_background": "light"
     },
     "output_type": "display_data"
    }
   ],
   "source": [
    "plt.scatter(myKmeans.feature_data[:,0],myKmeans.feature_data[:,1],s=10)#all row with first col,vice-ver\n",
    "plt.scatter(myKmeans.centroids[:1,0],myKmeans.centroids[:1,1],s=50,c='r')#1 row of centroids,vice-ver\n",
    "plt.scatter(myKmeans.centroids[1:2,0],myKmeans.centroids[1:2,1],s=50,c='k')#2row of centroids,vice-ver\n",
    "plt.scatter(myKmeans.centroids[2:3,0],myKmeans.centroids[2:3,1],s=50,c='g')"
   ]
  },
  {
   "cell_type": "code",
   "execution_count": 109,
   "metadata": {},
   "outputs": [],
   "source": [
    "closer_centroid = myKmeans.assign_data_to_centroid()"
   ]
  },
  {
   "cell_type": "code",
   "execution_count": 110,
   "metadata": {},
   "outputs": [
    {
     "data": {
      "text/plain": [
       "<matplotlib.collections.PathCollection at 0x294c6ccd088>"
      ]
     },
     "execution_count": 110,
     "metadata": {},
     "output_type": "execute_result"
    },
    {
     "data": {
      "image/png": "[encoded data removed]",
      "text/plain": [
       "<Figure size 432x288 with 1 Axes>"
      ]
     },
     "metadata": {
      "needs_background": "light"
     },
     "output_type": "display_data"
    }
   ],
   "source": [
    "plt.scatter(feature_data[:,0], feature_data[:,1],s=10,c=closer_centroid)\n",
    "plt.scatter(myKmeans.centroids[:1,0], myKmeans.centroids[:1,1], s=50, c='r')\n",
    "plt.scatter(myKmeans.centroids[1:2,0], myKmeans.centroids[1:2,1], s=50, c='k')\n",
    "plt.scatter(myKmeans.centroids[2:3,0], myKmeans.centroids[2:3,1], s=50, c='g')"
   ]
  },
  {
   "cell_type": "code",
   "execution_count": 112,
   "metadata": {},
   "outputs": [
    {
     "data": {
      "text/plain": [
       "88.60482492151777"
      ]
     },
     "execution_count": 112,
     "metadata": {},
     "output_type": "execute_result"
    }
   ],
   "source": [
    "myKmeans.my_cost()"
   ]
  },
  {
   "cell_type": "markdown",
   "metadata": {},
   "source": [
    "* Current centroid"
   ]
  },
  {
   "cell_type": "code",
   "execution_count": 113,
   "metadata": {},
   "outputs": [
    {
     "data": {
      "text/plain": [
       "array([[4.8, 3.2],\n",
       "       [5.5, 2.5],\n",
       "       [7.5, 3. ]])"
      ]
     },
     "execution_count": 113,
     "metadata": {},
     "output_type": "execute_result"
    }
   ],
   "source": [
    "myKmeans.centroids"
   ]
  },
  {
   "cell_type": "markdown",
   "metadata": {},
   "source": [
    "* Default centroids"
   ]
  },
  {
   "cell_type": "code",
   "execution_count": 114,
   "metadata": {},
   "outputs": [],
   "source": [
    "myKmeans.recalculate_centroid()"
   ]
  },
  {
   "cell_type": "code",
   "execution_count": 115,
   "metadata": {},
   "outputs": [],
   "source": [
    "closer_centroid = myKmeans.assign_data_to_centroid()"
   ]
  },
  {
   "cell_type": "code",
   "execution_count": 116,
   "metadata": {},
   "outputs": [
    {
     "data": {
      "text/plain": [
       "<matplotlib.collections.PathCollection at 0x294c6d36808>"
      ]
     },
     "execution_count": 116,
     "metadata": {},
     "output_type": "execute_result"
    },
    {
     "data": {
      "image/png": "[encoded data removed]",
      "text/plain": [
       "<Figure size 432x288 with 1 Axes>"
      ]
     },
     "metadata": {
      "needs_background": "light"
     },
     "output_type": "display_data"
    }
   ],
   "source": [
    "plt.scatter(myKmeans.feature_data[:,0], myKmeans.feature_data[:,1],s=10,c=closer_centroid)\n",
    "plt.scatter(myKmeans.centroids[:1,0], myKmeans.centroids[:1,1], s=50, c='r')\n",
    "plt.scatter(myKmeans.centroids[1:2,0], myKmeans.centroids[1:2,1], s=50, c='k')\n",
    "plt.scatter(myKmeans.centroids[2:3,0], myKmeans.centroids[2:3,1], s=50, c='g')"
   ]
  },
  {
   "cell_type": "code",
   "execution_count": 117,
   "metadata": {},
   "outputs": [
    {
     "data": {
      "text/plain": [
       "64.12423865823158"
      ]
     },
     "execution_count": 117,
     "metadata": {},
     "output_type": "execute_result"
    }
   ],
   "source": [
    "myKmeans.my_cost()"
   ]
  },
  {
   "cell_type": "code",
   "execution_count": 118,
   "metadata": {},
   "outputs": [],
   "source": [
    "myKmeans.recalculate_centroid()"
   ]
  },
  {
   "cell_type": "code",
   "execution_count": 119,
   "metadata": {},
   "outputs": [
    {
     "data": {
      "text/plain": [
       "array([[5.004, 3.41 ],\n",
       "       [5.848, 2.719],\n",
       "       [6.88 , 3.098]])"
      ]
     },
     "execution_count": 119,
     "metadata": {},
     "output_type": "execute_result"
    }
   ],
   "source": [
    "myKmeans.centroids"
   ]
  },
  {
   "cell_type": "code",
   "execution_count": null,
   "metadata": {},
   "outputs": [],
   "source": []
  }
 ],
 "metadata": {
  "kernelspec": {
   "display_name": "Python 3",
   "language": "python",
   "name": "python3"
  },
  "language_info": {
   "codemirror_mode": {
    "name": "ipython",
    "version": 3
   },
   "file_extension": ".py",
   "mimetype": "text/x-python",
   "name": "python",
   "nbconvert_exporter": "python",
   "pygments_lexer": "ipython3",
   "version": "3.7.4"
  }
 },
 "nbformat": 4,
 "nbformat_minor": 2
}
