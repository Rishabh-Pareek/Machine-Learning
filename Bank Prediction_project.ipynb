{
 "cells": [
  {
   "cell_type": "markdown",
   "metadata": {},
   "source": [
    "### About This File\n",
    "* Title: Bank Marketing\n",
    "* There are two datasets: 1) bank-full.csv with all examples, ordered by date (from May 2008 to November 2010). 2) bank.csv with 10% of the examples (4521), randomly selected from bank-full.csv\n",
    "    * Sources Created by: Paulo Cortez (Univ. Minho) and Sérgio Moro (ISCTE-IUL) @ 2012\n",
    "* Click here for dataset <a href=\"https://github.com/Rishabh-Pareek/raw_images/blob/master/bank-full.csv\">click here</a>\n",
    "    \n",
    "### Past Usage:\n",
    "* S. Moro, R. Laureano and P. Cortez. Using Data Mining for Bank Direct Marketing: An Application of the CRISP-DM Methodology. In P. Novais et al. (Eds.), Proceedings of the European Simulation and Modelling Conference - ESM'2011, pp. 117-121, Guimarães, Portugal, October, 2011. EUROSIS.\n",
    "### Relevant Information:\n",
    "* The data is related with direct marketing campaigns of a Portuguese banking institution. The marketing campaigns were based on phone calls. Often, more than one contact to the same client was required, in order to access if the product (bank term deposit) would be (or not) subscribed.\n",
    "* The classification goal is to predict if the client will subscribe a term deposit (variable y).\n"
   ]
  },
  {
   "cell_type": "code",
   "execution_count": 117,
   "metadata": {},
   "outputs": [],
   "source": [
    "import numpy as np # linear algebra\n",
    "import pandas as pd # data processing, CSV file I/O (e.g. pd.read_csv)\n",
    "import matplotlib.pyplot as plt # visualization\n",
    "%matplotlib inline\n",
    "import seaborn as sns# visualization\n",
    "from pandas_profiling import ProfileReport \n",
    "import warnings # ignores pink warnings \n",
    "warnings.filterwarnings('ignore')"
   ]
  },
  {
   "cell_type": "code",
   "execution_count": 118,
   "metadata": {},
   "outputs": [],
   "source": [
    "data = pd.read_csv('bank/bank-full.csv')"
   ]
  },
  {
   "cell_type": "code",
   "execution_count": 119,
   "metadata": {},
   "outputs": [
    {
     "data": {
      "text/html": [
       "<div>\n",
       "<style scoped>\n",
       "    .dataframe tbody tr th:only-of-type {\n",
       "        vertical-align: middle;\n",
       "    }\n",
       "\n",
       "    .dataframe tbody tr th {\n",
       "        vertical-align: top;\n",
       "    }\n",
       "\n",
       "    .dataframe thead th {\n",
       "        text-align: right;\n",
       "    }\n",
       "</style>\n",
       "<table border=\"1\" class=\"dataframe\">\n",
       "  <thead>\n",
       "    <tr style=\"text-align: right;\">\n",
       "      <th></th>\n",
       "      <th>age</th>\n",
       "      <th>job</th>\n",
       "      <th>marital</th>\n",
       "      <th>education</th>\n",
       "      <th>default</th>\n",
       "      <th>balance</th>\n",
       "      <th>housing</th>\n",
       "      <th>loan</th>\n",
       "      <th>contact</th>\n",
       "      <th>day</th>\n",
       "      <th>month</th>\n",
       "      <th>duration</th>\n",
       "      <th>campaign</th>\n",
       "      <th>pdays</th>\n",
       "      <th>previous</th>\n",
       "      <th>poutcome</th>\n",
       "      <th>y</th>\n",
       "    </tr>\n",
       "  </thead>\n",
       "  <tbody>\n",
       "    <tr>\n",
       "      <td>0</td>\n",
       "      <td>58</td>\n",
       "      <td>management</td>\n",
       "      <td>married</td>\n",
       "      <td>tertiary</td>\n",
       "      <td>no</td>\n",
       "      <td>2143</td>\n",
       "      <td>yes</td>\n",
       "      <td>no</td>\n",
       "      <td>unknown</td>\n",
       "      <td>5</td>\n",
       "      <td>may</td>\n",
       "      <td>261</td>\n",
       "      <td>1</td>\n",
       "      <td>-1</td>\n",
       "      <td>0</td>\n",
       "      <td>unknown</td>\n",
       "      <td>no</td>\n",
       "    </tr>\n",
       "    <tr>\n",
       "      <td>1</td>\n",
       "      <td>44</td>\n",
       "      <td>technician</td>\n",
       "      <td>single</td>\n",
       "      <td>secondary</td>\n",
       "      <td>no</td>\n",
       "      <td>29</td>\n",
       "      <td>yes</td>\n",
       "      <td>no</td>\n",
       "      <td>unknown</td>\n",
       "      <td>5</td>\n",
       "      <td>may</td>\n",
       "      <td>151</td>\n",
       "      <td>1</td>\n",
       "      <td>-1</td>\n",
       "      <td>0</td>\n",
       "      <td>unknown</td>\n",
       "      <td>no</td>\n",
       "    </tr>\n",
       "    <tr>\n",
       "      <td>2</td>\n",
       "      <td>33</td>\n",
       "      <td>entrepreneur</td>\n",
       "      <td>married</td>\n",
       "      <td>secondary</td>\n",
       "      <td>no</td>\n",
       "      <td>2</td>\n",
       "      <td>yes</td>\n",
       "      <td>yes</td>\n",
       "      <td>unknown</td>\n",
       "      <td>5</td>\n",
       "      <td>may</td>\n",
       "      <td>76</td>\n",
       "      <td>1</td>\n",
       "      <td>-1</td>\n",
       "      <td>0</td>\n",
       "      <td>unknown</td>\n",
       "      <td>no</td>\n",
       "    </tr>\n",
       "    <tr>\n",
       "      <td>3</td>\n",
       "      <td>47</td>\n",
       "      <td>blue-collar</td>\n",
       "      <td>married</td>\n",
       "      <td>unknown</td>\n",
       "      <td>no</td>\n",
       "      <td>1506</td>\n",
       "      <td>yes</td>\n",
       "      <td>no</td>\n",
       "      <td>unknown</td>\n",
       "      <td>5</td>\n",
       "      <td>may</td>\n",
       "      <td>92</td>\n",
       "      <td>1</td>\n",
       "      <td>-1</td>\n",
       "      <td>0</td>\n",
       "      <td>unknown</td>\n",
       "      <td>no</td>\n",
       "    </tr>\n",
       "    <tr>\n",
       "      <td>4</td>\n",
       "      <td>33</td>\n",
       "      <td>unknown</td>\n",
       "      <td>single</td>\n",
       "      <td>unknown</td>\n",
       "      <td>no</td>\n",
       "      <td>1</td>\n",
       "      <td>no</td>\n",
       "      <td>no</td>\n",
       "      <td>unknown</td>\n",
       "      <td>5</td>\n",
       "      <td>may</td>\n",
       "      <td>198</td>\n",
       "      <td>1</td>\n",
       "      <td>-1</td>\n",
       "      <td>0</td>\n",
       "      <td>unknown</td>\n",
       "      <td>no</td>\n",
       "    </tr>\n",
       "  </tbody>\n",
       "</table>\n",
       "</div>"
      ],
      "text/plain": [
       "   age           job  marital  education default  balance housing loan  \\\n",
       "0   58    management  married   tertiary      no     2143     yes   no   \n",
       "1   44    technician   single  secondary      no       29     yes   no   \n",
       "2   33  entrepreneur  married  secondary      no        2     yes  yes   \n",
       "3   47   blue-collar  married    unknown      no     1506     yes   no   \n",
       "4   33       unknown   single    unknown      no        1      no   no   \n",
       "\n",
       "   contact  day month  duration  campaign  pdays  previous poutcome   y  \n",
       "0  unknown    5   may       261         1     -1         0  unknown  no  \n",
       "1  unknown    5   may       151         1     -1         0  unknown  no  \n",
       "2  unknown    5   may        76         1     -1         0  unknown  no  \n",
       "3  unknown    5   may        92         1     -1         0  unknown  no  \n",
       "4  unknown    5   may       198         1     -1         0  unknown  no  "
      ]
     },
     "execution_count": 119,
     "metadata": {},
     "output_type": "execute_result"
    }
   ],
   "source": [
    "data.head()"
   ]
  },
  {
   "cell_type": "code",
   "execution_count": 120,
   "metadata": {},
   "outputs": [
    {
     "name": "stdout",
     "output_type": "stream",
     "text": [
      "<class 'pandas.core.frame.DataFrame'>\n",
      "RangeIndex: 45211 entries, 0 to 45210\n",
      "Data columns (total 17 columns):\n",
      "age          45211 non-null int64\n",
      "job          45211 non-null object\n",
      "marital      45211 non-null object\n",
      "education    45211 non-null object\n",
      "default      45211 non-null object\n",
      "balance      45211 non-null int64\n",
      "housing      45211 non-null object\n",
      "loan         45211 non-null object\n",
      "contact      45211 non-null object\n",
      "day          45211 non-null int64\n",
      "month        45211 non-null object\n",
      "duration     45211 non-null int64\n",
      "campaign     45211 non-null int64\n",
      "pdays        45211 non-null int64\n",
      "previous     45211 non-null int64\n",
      "poutcome     45211 non-null object\n",
      "y            45211 non-null object\n",
      "dtypes: int64(7), object(10)\n",
      "memory usage: 5.9+ MB\n"
     ]
    }
   ],
   "source": [
    "data.info()"
   ]
  },
  {
   "cell_type": "code",
   "execution_count": 121,
   "metadata": {},
   "outputs": [
    {
     "data": {
      "text/plain": [
       "Index(['age', 'job', 'marital', 'education', 'default', 'balance', 'housing',\n",
       "       'loan', 'contact', 'day', 'month', 'duration', 'campaign', 'pdays',\n",
       "       'previous', 'poutcome', 'y'],\n",
       "      dtype='object')"
      ]
     },
     "execution_count": 121,
     "metadata": {},
     "output_type": "execute_result"
    }
   ],
   "source": [
    "data.columns"
   ]
  },
  {
   "cell_type": "markdown",
   "metadata": {},
   "source": [
    "### Data Analysis"
   ]
  },
  {
   "cell_type": "code",
   "execution_count": 122,
   "metadata": {},
   "outputs": [
    {
     "data": {
      "text/html": [
       "<meta charset=\"UTF-8\">\n",
       "\n",
       "<style>\n",
       "\n",
       "        .variablerow {\n",
       "            border: 1px solid #e1e1e8;\n",
       "            border-top: hidden;\n",
       "            padding-top: 2em;\n",
       "            padding-bottom: 2em;\n",
       "            padding-left: 1em;\n",
       "            padding-right: 1em;\n",
       "        }\n",
       "\n",
       "        .headerrow {\n",
       "            border: 1px solid #e1e1e8;\n",
       "            background-color: #f5f5f5;\n",
       "            padding: 2em;\n",
       "        }\n",
       "        .namecol {\n",
       "            margin-top: -1em;\n",
       "            overflow-x: auto;\n",
       "        }\n",
       "\n",
       "        .dl-horizontal dt {\n",
       "            text-align: left;\n",
       "            padding-right: 1em;\n",
       "            white-space: normal;\n",
       "        }\n",
       "\n",
       "        .dl-horizontal dd {\n",
       "            margin-left: 0;\n",
       "        }\n",
       "\n",
       "        .ignore {\n",
       "            opacity: 0.4;\n",
       "        }\n",
       "\n",
       "        .container.pandas-profiling {\n",
       "            max-width:975px;\n",
       "        }\n",
       "\n",
       "        .col-md-12 {\n",
       "            padding-left: 2em;\n",
       "        }\n",
       "\n",
       "        .indent {\n",
       "            margin-left: 1em;\n",
       "        }\n",
       "\n",
       "        .center-img {\n",
       "            margin-left: auto !important;\n",
       "            margin-right: auto !important;\n",
       "            display: block;\n",
       "        }\n",
       "\n",
       "        /* Table example_values */\n",
       "            table.example_values {\n",
       "                border: 0;\n",
       "            }\n",
       "\n",
       "            .example_values th {\n",
       "                border: 0;\n",
       "                padding: 0 ;\n",
       "                color: #555;\n",
       "                font-weight: 600;\n",
       "            }\n",
       "\n",
       "            .example_values tr, .example_values td{\n",
       "                border: 0;\n",
       "                padding: 0;\n",
       "                color: #555;\n",
       "            }\n",
       "\n",
       "        /* STATS */\n",
       "            table.stats {\n",
       "                border: 0;\n",
       "            }\n",
       "\n",
       "            .stats th {\n",
       "                border: 0;\n",
       "                padding: 0 2em 0 0;\n",
       "                color: #555;\n",
       "                font-weight: 600;\n",
       "            }\n",
       "\n",
       "            .stats tr {\n",
       "                border: 0;\n",
       "            }\n",
       "\n",
       "            .stats td{\n",
       "                color: #555;\n",
       "                padding: 1px;\n",
       "                border: 0;\n",
       "            }\n",
       "\n",
       "\n",
       "        /* Sample table */\n",
       "            table.sample {\n",
       "                border: 0;\n",
       "                margin-bottom: 2em;\n",
       "                margin-left:1em;\n",
       "            }\n",
       "            .sample tr {\n",
       "                border:0;\n",
       "            }\n",
       "            .sample td, .sample th{\n",
       "                padding: 0.5em;\n",
       "                white-space: nowrap;\n",
       "                border: none;\n",
       "\n",
       "            }\n",
       "\n",
       "            .sample thead {\n",
       "                border-top: 0;\n",
       "                border-bottom: 2px solid #ddd;\n",
       "            }\n",
       "\n",
       "            .sample td {\n",
       "                width:100%;\n",
       "            }\n",
       "\n",
       "\n",
       "        /* There is no good solution available to make the divs equal height and then center ... */\n",
       "            .histogram {\n",
       "                margin-top: 3em;\n",
       "            }\n",
       "        /* Freq table */\n",
       "\n",
       "            table.freq {\n",
       "                margin-bottom: 2em;\n",
       "                border: 0;\n",
       "            }\n",
       "            table.freq th, table.freq tr, table.freq td {\n",
       "                border: 0;\n",
       "                padding: 0;\n",
       "            }\n",
       "\n",
       "            .freq thead {\n",
       "                font-weight: 600;\n",
       "                white-space: nowrap;\n",
       "                overflow: hidden;\n",
       "                text-overflow: ellipsis;\n",
       "\n",
       "            }\n",
       "\n",
       "            td.fillremaining{\n",
       "                width:auto;\n",
       "                max-width: none;\n",
       "            }\n",
       "\n",
       "            td.number, th.number {\n",
       "                text-align:right ;\n",
       "            }\n",
       "\n",
       "        /* Freq mini */\n",
       "            .freq.mini td{\n",
       "                width: 50%;\n",
       "                padding: 1px;\n",
       "                font-size: 12px;\n",
       "\n",
       "            }\n",
       "            table.freq.mini {\n",
       "                 width:100%;\n",
       "            }\n",
       "            .freq.mini th {\n",
       "                overflow: hidden;\n",
       "                text-overflow: ellipsis;\n",
       "                white-space: nowrap;\n",
       "                max-width: 5em;\n",
       "                font-weight: 400;\n",
       "                text-align:right;\n",
       "                padding-right: 0.5em;\n",
       "            }\n",
       "\n",
       "            .missing {\n",
       "                color: #a94442;\n",
       "            }\n",
       "            .alert, .alert > th, .alert > td {\n",
       "                color: #a94442;\n",
       "            }\n",
       "\n",
       "\n",
       "        /* Bars in tables */\n",
       "            .freq .bar{\n",
       "                float: left;\n",
       "                width: 0;\n",
       "                height: 100%;\n",
       "                line-height: 20px;\n",
       "                color: #fff;\n",
       "                text-align: center;\n",
       "                background-color: #337ab7;\n",
       "                border-radius: 3px;\n",
       "                margin-right: 4px;\n",
       "            }\n",
       "            .other .bar {\n",
       "                background-color: #999;\n",
       "            }\n",
       "            .missing .bar{\n",
       "                background-color: #a94442;\n",
       "            }\n",
       "            .tooltip-inner {\n",
       "                width: 100%;\n",
       "                white-space: nowrap;\n",
       "                text-align:left;\n",
       "            }\n",
       "\n",
       "            .extrapadding{\n",
       "                padding: 2em;\n",
       "            }\n",
       "\n",
       "            .pp-anchor{\n",
       "\n",
       "            }\n",
       "\n",
       "</style>\n",
       "\n",
       "<div class=\"container pandas-profiling\">\n",
       "    <div class=\"row headerrow highlight\">\n",
       "        <h1>Overview</h1>\n",
       "    </div>\n",
       "    <div class=\"row variablerow\">\n",
       "    <div class=\"col-md-6 namecol\">\n",
       "        <p class=\"h4\">Dataset info</p>\n",
       "        <table class=\"stats\" style=\"margin-left: 1em;\">\n",
       "            <tbody>\n",
       "            <tr>\n",
       "                <th>Number of variables</th>\n",
       "                <td>17 </td>\n",
       "            </tr>\n",
       "            <tr>\n",
       "                <th>Number of observations</th>\n",
       "                <td>45211 </td>\n",
       "            </tr>\n",
       "            <tr>\n",
       "                <th>Total Missing (%)</th>\n",
       "                <td>0.0% </td>\n",
       "            </tr>\n",
       "            <tr>\n",
       "                <th>Total size in memory</th>\n",
       "                <td>5.9 MiB </td>\n",
       "            </tr>\n",
       "            <tr>\n",
       "                <th>Average record size in memory</th>\n",
       "                <td>136.0 B </td>\n",
       "            </tr>\n",
       "            </tbody>\n",
       "        </table>\n",
       "    </div>\n",
       "    <div class=\"col-md-6 namecol\">\n",
       "        <p class=\"h4\">Variables types</p>\n",
       "        <table class=\"stats\" style=\"margin-left: 1em;\">\n",
       "            <tbody>\n",
       "            <tr>\n",
       "                <th>Numeric</th>\n",
       "                <td>7 </td>\n",
       "            </tr>\n",
       "            <tr>\n",
       "                <th>Categorical</th>\n",
       "                <td>10 </td>\n",
       "            </tr>\n",
       "            <tr>\n",
       "                <th>Boolean</th>\n",
       "                <td>0 </td>\n",
       "            </tr>\n",
       "            <tr>\n",
       "                <th>Date</th>\n",
       "                <td>0 </td>\n",
       "            </tr>\n",
       "            <tr>\n",
       "                <th>Text (Unique)</th>\n",
       "                <td>0 </td>\n",
       "            </tr>\n",
       "            <tr>\n",
       "                <th>Rejected</th>\n",
       "                <td>0 </td>\n",
       "            </tr>\n",
       "            <tr>\n",
       "                <th>Unsupported</th>\n",
       "                <td>0 </td>\n",
       "            </tr>\n",
       "            </tbody>\n",
       "        </table>\n",
       "    </div>\n",
       "    <div class=\"col-md-12\" style=\"padding-left: 1em;\">\n",
       "        \n",
       "        <p class=\"h4\">Warnings</p>\n",
       "        <ul class=\"list-unstyled\"><li><a href=\"#pp_var_balance\"><code>balance</code></a> has 3514 / 7.8% zeros <span class=\"label label-info\">Zeros</span></li><li><a href=\"#pp_var_previous\"><code>previous</code></a> is highly skewed (γ1 = 41.846)  <span class=\"label label-info\">Skewed</span></li><li><a href=\"#pp_var_previous\"><code>previous</code></a> has 36954 / 81.7% zeros <span class=\"label label-info\">Zeros</span></li> </ul>\n",
       "    </div>\n",
       "</div>\n",
       "    <div class=\"row headerrow highlight\">\n",
       "        <h1>Variables</h1>\n",
       "    </div>\n",
       "    <div class=\"row variablerow\">\n",
       "    <div class=\"col-md-3 namecol\">\n",
       "        <p class=\"h4 pp-anchor\" id=\"pp_var_age\">age<br/>\n",
       "            <small>Numeric</small>\n",
       "        </p>\n",
       "    </div><div class=\"col-md-6\">\n",
       "    <div class=\"row\">\n",
       "        <div class=\"col-sm-6\">\n",
       "            <table class=\"stats \">\n",
       "                <tr>\n",
       "                    <th>Distinct count</th>\n",
       "                    <td>77</td>\n",
       "                </tr>\n",
       "                <tr>\n",
       "                    <th>Unique (%)</th>\n",
       "                    <td>0.2%</td>\n",
       "                </tr>\n",
       "                <tr class=\"ignore\">\n",
       "                    <th>Missing (%)</th>\n",
       "                    <td>0.0%</td>\n",
       "                </tr>\n",
       "                <tr class=\"ignore\">\n",
       "                    <th>Missing (n)</th>\n",
       "                    <td>0</td>\n",
       "                </tr>\n",
       "                <tr class=\"ignore\">\n",
       "                    <th>Infinite (%)</th>\n",
       "                    <td>0.0%</td>\n",
       "                </tr>\n",
       "                <tr class=\"ignore\">\n",
       "                    <th>Infinite (n)</th>\n",
       "                    <td>0</td>\n",
       "                </tr>\n",
       "            </table>\n",
       "\n",
       "        </div>\n",
       "        <div class=\"col-sm-6\">\n",
       "            <table class=\"stats \">\n",
       "\n",
       "                <tr>\n",
       "                    <th>Mean</th>\n",
       "                    <td>40.936</td>\n",
       "                </tr>\n",
       "                <tr>\n",
       "                    <th>Minimum</th>\n",
       "                    <td>18</td>\n",
       "                </tr>\n",
       "                <tr>\n",
       "                    <th>Maximum</th>\n",
       "                    <td>95</td>\n",
       "                </tr>\n",
       "                <tr class=\"ignore\">\n",
       "                    <th>Zeros (%)</th>\n",
       "                    <td>0.0%</td>\n",
       "                </tr>\n",
       "            </table>\n",
       "        </div>\n",
       "    </div>\n",
       "</div>\n",
       "<div class=\"col-md-3 collapse in\" id=\"minihistogram-7906741210743670791\">\n",
       "    <img src=\"data:image/png;base64,iVBORw0KGgoAAAANSUhEUgAAAMgAAABLCAYAAAA1fMjoAAAABHNCSVQICAgIfAhkiAAAAAlwSFlzAAAPYQAAD2EBqD%2BnaQAAADh0RVh0U29mdHdhcmUAbWF0cGxvdGxpYiB2ZXJzaW9uMy4yLjIsIGh0dHA6Ly9tYXRwbG90bGliLm9yZy%2BWH4yJAAAB20lEQVR4nO3dse7SUBiH4a/EtbATehEm3oKJF%2BRm4ubopbi7unsXEC6AxsFB6qC4mPz8Y%2BCU6vOshJ6SnDenJYfSTdM0VWOHw6GGYWg9LAu33%2B9rt9s1HfNZ09F%2B6vu%2Bqn584PV6PccpsCCn06mGYfg1b1qaJZCu66qqar1ezxbIizcfr37P53ev7nAmPNVl3rS0aj4iLIhAIBAIBAKBYJab9Fv7mxtueAorCAQCgUAgEAgEAoFAIBAIBAKBQCAQCAQCgUAgEAgEgn9is2Ir126K9AvE5bOCQCAQCFxi3ZEHQyyfFQQCgUAgEAgEAoFAIBAIBAKBQCAQCAQCgUAgEAgEAoFAILCb98HYAfxYrCAQCAQCgUAgEAgEAoFAIHi4r3n9ISePxAoCgUAgeLhLLK7nkaj3M0sg0zRVVdXpdPrttW9fv7Q%2Bnf/O89cfmozz6e3LmxznMk8u86alWQIZx7GqqoZhmGN4Gtm8v%2B3xxnGszWZz24P%2BQTfNkOX5fK7j8Vh931fXda2HZ2GmaapxHGu73dZq1fa2eZZAYCl8iwWBQCAQCAQCgUAgEAgEAoFAIBAIBAKBQCAQCAQCgUAgEAgEAoFAIBAIBAKBQCAQCAQCgUAgEAgEAoFA8B2/y09LJ814xgAAAABJRU5ErkJggg%3D%3D\">\n",
       "\n",
       "</div>\n",
       "<div class=\"col-md-12 text-right\">\n",
       "    <a role=\"button\" data-toggle=\"collapse\" data-target=\"#descriptives-7906741210743670791,#minihistogram-7906741210743670791\"\n",
       "       aria-expanded=\"false\" aria-controls=\"collapseExample\">\n",
       "        Toggle details\n",
       "    </a>\n",
       "</div>\n",
       "<div class=\"row collapse col-md-12\" id=\"descriptives-7906741210743670791\">\n",
       "    <ul class=\"nav nav-tabs\" role=\"tablist\">\n",
       "        <li role=\"presentation\" class=\"active\"><a href=\"#quantiles-7906741210743670791\"\n",
       "                                                  aria-controls=\"quantiles-7906741210743670791\" role=\"tab\"\n",
       "                                                  data-toggle=\"tab\">Statistics</a></li>\n",
       "        <li role=\"presentation\"><a href=\"#histogram-7906741210743670791\" aria-controls=\"histogram-7906741210743670791\"\n",
       "                                   role=\"tab\" data-toggle=\"tab\">Histogram</a></li>\n",
       "        <li role=\"presentation\"><a href=\"#common-7906741210743670791\" aria-controls=\"common-7906741210743670791\"\n",
       "                                   role=\"tab\" data-toggle=\"tab\">Common Values</a></li>\n",
       "        <li role=\"presentation\"><a href=\"#extreme-7906741210743670791\" aria-controls=\"extreme-7906741210743670791\"\n",
       "                                   role=\"tab\" data-toggle=\"tab\">Extreme Values</a></li>\n",
       "\n",
       "    </ul>\n",
       "\n",
       "    <div class=\"tab-content\">\n",
       "        <div role=\"tabpanel\" class=\"tab-pane active row\" id=\"quantiles-7906741210743670791\">\n",
       "            <div class=\"col-md-4 col-md-offset-1\">\n",
       "                <p class=\"h4\">Quantile statistics</p>\n",
       "                <table class=\"stats indent\">\n",
       "                    <tr>\n",
       "                        <th>Minimum</th>\n",
       "                        <td>18</td>\n",
       "                    </tr>\n",
       "                    <tr>\n",
       "                        <th>5-th percentile</th>\n",
       "                        <td>27</td>\n",
       "                    </tr>\n",
       "                    <tr>\n",
       "                        <th>Q1</th>\n",
       "                        <td>33</td>\n",
       "                    </tr>\n",
       "                    <tr>\n",
       "                        <th>Median</th>\n",
       "                        <td>39</td>\n",
       "                    </tr>\n",
       "                    <tr>\n",
       "                        <th>Q3</th>\n",
       "                        <td>48</td>\n",
       "                    </tr>\n",
       "                    <tr>\n",
       "                        <th>95-th percentile</th>\n",
       "                        <td>59</td>\n",
       "                    </tr>\n",
       "                    <tr>\n",
       "                        <th>Maximum</th>\n",
       "                        <td>95</td>\n",
       "                    </tr>\n",
       "                    <tr>\n",
       "                        <th>Range</th>\n",
       "                        <td>77</td>\n",
       "                    </tr>\n",
       "                    <tr>\n",
       "                        <th>Interquartile range</th>\n",
       "                        <td>15</td>\n",
       "                    </tr>\n",
       "                </table>\n",
       "            </div>\n",
       "            <div class=\"col-md-4 col-md-offset-2\">\n",
       "                <p class=\"h4\">Descriptive statistics</p>\n",
       "                <table class=\"stats indent\">\n",
       "                    <tr>\n",
       "                        <th>Standard deviation</th>\n",
       "                        <td>10.619</td>\n",
       "                    </tr>\n",
       "                    <tr>\n",
       "                        <th>Coef of variation</th>\n",
       "                        <td>0.2594</td>\n",
       "                    </tr>\n",
       "                    <tr>\n",
       "                        <th>Kurtosis</th>\n",
       "                        <td>0.31957</td>\n",
       "                    </tr>\n",
       "                    <tr>\n",
       "                        <th>Mean</th>\n",
       "                        <td>40.936</td>\n",
       "                    </tr>\n",
       "                    <tr>\n",
       "                        <th>MAD</th>\n",
       "                        <td>8.7373</td>\n",
       "                    </tr>\n",
       "                    <tr class=\"\">\n",
       "                        <th>Skewness</th>\n",
       "                        <td>0.68482</td>\n",
       "                    </tr>\n",
       "                    <tr>\n",
       "                        <th>Sum</th>\n",
       "                        <td>1850767</td>\n",
       "                    </tr>\n",
       "                    <tr>\n",
       "                        <th>Variance</th>\n",
       "                        <td>112.76</td>\n",
       "                    </tr>\n",
       "                    <tr>\n",
       "                        <th>Memory size</th>\n",
       "                        <td>353.3 KiB</td>\n",
       "                    </tr>\n",
       "                </table>\n",
       "            </div>\n",
       "        </div>\n",
       "        <div role=\"tabpanel\" class=\"tab-pane col-md-8 col-md-offset-2\" id=\"histogram-7906741210743670791\">\n",
       "            <img src=\"data:image/png;base64,iVBORw0KGgoAAAANSUhEUgAAAlgAAAGQCAYAAAByNR6YAAAABHNCSVQICAgIfAhkiAAAAAlwSFlzAAAPYQAAD2EBqD%2BnaQAAADh0RVh0U29mdHdhcmUAbWF0cGxvdGxpYiB2ZXJzaW9uMy4yLjIsIGh0dHA6Ly9tYXRwbG90bGliLm9yZy%2BWH4yJAAAgAElEQVR4nO3dfVxUdf7//%2BcEMqLBRBrgmBdUZhJmJWWohW6JpmbmbloU6VpufrSU0M2wK7OELKM2/aRdrV1o6mdTurmVBKbhmuI1JmbmfjXFC6Q2HLxIQDi/P/xxbo7YZvXWYcbH/Xab2815n9ec8345GM/e58wZh2VZlgAAAGDMeb6eAAAAQKAhYAEAABhGwAIAADCMgAUAAGAYAQsAAMAwAhYAAIBhBCwAAADDCFgAAACGEbAAAAAMI2ABAAAYRsACAAAwjIAFAABgGAELAADAMAIWAACAYQQsAAAAwwhYAAAAhhGwAAAADCNgAQAAGEbAAgAAMIyABQAAYBgBCwAAwDACFgAAgGEELAAAAMMIWAAAAIYRsAAAAAwjYAEAABhGwAIAADCMgAUAAGAYAQsAAMAwAhYAAIBhBCwAAADDCFgAAACGEbAAAAAMI2ABAAAYRsACAAAwjIAFAABgGAELAADAMAIWAACAYcG%2BnsC5oKamRnv37lVYWJgcDoevpwMAwDnBsiwdPHhQbrdb5513dteUCFhnwd69e9WiRQtfTwMAgHNScXGxLr744rN6TALWWRAWFibp%2BBscHh7u49kAAHBuKC8vV4sWLezfw2cTAessqD0tGB4eTsACAOAs88XlOVzkDgAAYBgBCwAAwDACFgAAgGEELAAAAMMIWAAAAIYRsAAAAAwjYAEAABhGwAIAADCMgAUAAGAYAQsAAMAwAhYAAIBhBCwAAADD%2BLJn4GfEP57j6yn8Kmsn9fL1FAAA/z9WsAAAAAwjYAEAABhGwAIAADCMgAUAAGAYAQsAAMAwAhYAAIBhBCwAAADDCFgAAACGEbAAAAAMI2ABAAAYRsACAAAwjIAFAABgGAELAADAMAIWAACAYQQsAAAAwwhYAAAAhhGwAAAADKu3AWvZsmW67bbb5Ha75XA49NFHH9nbqqqqNG7cOLVv316NGzeW2%2B3Wfffdp71793rto6ysTCkpKXK5XHK5XEpJSdGBAwe8ajZt2qTExESFhoaqefPmmjhxoizL8qqZP3%2B%2BYmNj5XQ6FRsbq%2Bzs7DPXOAAA8Hv1NmAdPnxYHTp00LRp0%2BpsO3LkiNavX68nn3xS69ev14IFC/Ttt9%2BqX79%2BXnXJyckqLCxUTk6OcnJyVFhYqJSUFHt7eXm5evToIbfbrTVr1mjq1KmaMmWKsrKy7JqVK1dq0KBBSklJ0caNG5WSkqKBAwdq1apVZ655AADg1xzWycs19ZDD4VB2drb69%2B//szVr1qzR9ddfr507d6ply5basmWLYmNjVVBQoE6dOkmSCgoKlJCQoG%2B%2B%2BUZt27bV9OnTlZ6erv3798vpdEqSnn/%2BeU2dOlW7d%2B%2BWw%2BHQoEGDVF5erkWLFtnH6tWrlyIiIjRnzpzTmn95eblcLpc8Ho/Cw8N/x98Ezqb4x3N8PYVfZe2kXr6eAgDUK778/VtvV7B%2BLY/HI4fDoQsuuEDS8ZUnl8tlhytJuuGGG%2BRyubRixQq7JjEx0Q5XktSzZ0/t3btX3333nV2TlJTkdayePXva%2BziViooKlZeXez0AAMC5IyAC1tGjR/XYY48pOTnZTqglJSWKjIysUxsZGamSkhK7Jioqymt77fNfqqndfiqZmZn2dV8ul0stWrT47c0BAAC/4/cBq6qqSnfddZdqamr02muveW1zOBx16i3L8ho/uab2jOkv1Zxq37XS09Pl8XjsR3Fx8ek3BAAA/F6wryfwe1RVVWngwIHasWOHlixZ4nV%2BNTo6Wvv376/zmu%2B//95ekYqOjq6zElVaWipJv1hz8qrWiZxOp9dpRwAAcG7x2xWs2nC1bds2LV68WE2aNPHanpCQII/Ho9WrV9tjq1atksfjUefOne2aZcuWqbKy0q7Jzc2V2%2B1W69at7Zq8vDyvfefm5tr7AAAAOFm9DViHDh1SYWGhCgsLJUk7duxQYWGhdu3apWPHjulPf/qT1q5dq9mzZ6u6ulolJSUqKSmxw1K7du3Uq1cvDRs2TAUFBSooKNCwYcPUt29ftW3bVtLx2zg4nU4NGTJERUVFys7OVkZGhtLS0uxTgKNHj1Zubq4mT56sb775RpMnT9bixYuVmprqm78YAABQ79Xb2zR88cUX6t69e53xwYMHa8KECYqJiTnl65YuXapu3bpJkn788UeNGjVKCxculCT169dP06ZNsz9pKB2/0ejIkSO1evVqRUREaPjw4Xrqqae8rrH68MMP9cQTT2j79u269NJLNWnSJA0YMOC0e%2BE2Df6J2zQAgH/z5e/fehuwAgkB6zh/Cyz%2BhoAFAN64DxYAAEAAIWABAAAYRsACAAAwjIAFAABgGAELAADAMAIWAACAYQQsAAAAwwhYAAAAhhGwAAAADCNgAQAAGEbAAgAAMIyABQAAYBgBCwAAwDACFgAAgGEELAAAAMMIWAAAAIYRsAAAAAwjYAEAABhGwAIAADCMgAUAAGAYAQsAAMAwAhYAAIBhBCwAAADDCFgAAACGEbAAAAAMI2ABAAAYRsACAAAwjIAFAABgGAELAADAMAIWAACAYQQsAAAAwwhYAAAAhhGwAAAADCNgAQAAGEbAAgAAMIyABQAAYFi9DVjLli3TbbfdJrfbLYfDoY8%2B%2Bshru2VZmjBhgtxut0JDQ9WtWzdt3rzZq6asrEwpKSlyuVxyuVxKSUnRgQMHvGo2bdqkxMREhYaGqnnz5po4caIsy/KqmT9/vmJjY%2BV0OhUbG6vs7Owz0zQAAAgI9TZgHT58WB06dNC0adNOuf2FF15QVlaWpk2bpjVr1ig6Olo9evTQwYMH7Zrk5GQVFhYqJydHOTk5KiwsVEpKir29vLxcPXr0kNvt1po1azR16lRNmTJFWVlZds3KlSs1aNAgpaSkaOPGjUpJSdHAgQO1atWqM9c8AADwaw7r5OWaesjhcCg7O1v9%2B/eXdHz1yu12KzU1VePGjZMkVVRUKCoqSpMnT9aDDz6oLVu2KDY2VgUFBerUqZMkqaCgQAkJCfrmm2/Utm1bTZ8%2BXenp6dq/f7%2BcTqck6fnnn9fUqVO1e/duORwODRo0SOXl5Vq0aJE9n169eikiIkJz5sw5rfmXl5fL5XLJ4/EoPDzc5F%2BNX4l/PMfXUwhoayf18vUUAKBe8eXv33q7gvXf7NixQyUlJUpKSrLHnE6nEhMTtWLFCknHV55cLpcdriTphhtukMvl8qpJTEy0w5Uk9ezZU3v37tV3331n15x4nNqa2n2cSkVFhcrLy70eAADg3OGXAaukpESSFBUV5TUeFRVlbyspKVFkZGSd10ZGRnrVnGofJx7j52pqt59KZmamfd2Xy%2BVSixYtfk17AADAz/llwKrlcDi8nluW5TV28vbTqak9Y/pLNafad6309HR5PB77UVxcfBrdAACAQBHs6wn8FtHR0ZKOry41a9bMHi8tLbVXm6Kjo7V///46r/3%2B%2B%2B%2B9ak5eiSotLZWkX6w5eVXrRE6n0%2Bu0IwAAOLf45QpWTEyMoqOjlZeXZ49VVlYqPz9fnTt3liQlJCTI4/Fo9erVds2qVavk8Xi8apYtW6bKykq7Jjc3V263W61bt7ZrTjxObU3tPgAAAE5WbwPWoUOHVFhYqMLCQknHL2wvLCzUrl275HA4lJqaqoyMDGVnZ6uoqEhDhgxRo0aNlJycLElq166devXqpWHDhqmgoEAFBQUaNmyY%2Bvbtq7Zt20o6fhsHp9OpIUOGqKioSNnZ2crIyFBaWpp9CnD06NHKzc3V5MmT9c0332jy5MlavHixUlNTffMXAwAA6r16e4pw7dq16t69u/08LS1NkjR48GC98847evTRR/XTTz9pxIgRKisrU6dOnZSbm6uwsDD7NbNnz9aoUaPsTwH269fP675aLpdLeXl5GjlypOLj4xUREaG0tDT7WJLUuXNnzZ07V0888YSefPJJXXrppZo3b57XpxMBAABO5Bf3wfJ33AfrOO6DdWZxHywA8MZ9sAAAAAIIAQsAAMAwAhYAAIBhBCwAAADDCFgAAACGEbAAAAAMI2ABAAAYRsACAAAwjIAFAABgGAELAADAMAIWAACAYQQsAAAAwwhYAAAAhhGwAAAADCNgAQAAGEbAAgAAMIyABQAAYBgBCwAAwDACFgAAgGEELAAAAMMIWAAAAIYRsAAAAAwjYAEAABhGwAIAADCMgAUAAGAYAQsAAMAwAhYAAIBhBCwAAADDCFgAAACGEbAAAAAMI2ABAAAYRsACAAAwjIAFAABgGAELAADAMAIWAACAYQQsAAAAw4wHrB07dpje5SkdO3ZMTzzxhGJiYhQaGqpLLrlEEydOVE1NjV1jWZYmTJggt9ut0NBQdevWTZs3b/baT1lZmVJSUuRyueRyuZSSkqIDBw541WzatEmJiYkKDQ1V8%2BbNNXHiRFmWdVb6BAAA/sd4wLrsssvUvXt3zZo1S0ePHjW9e9vkyZM1Y8YMTZs2TVu2bNELL7ygF198UVOnTrVrXnjhBWVlZWnatGlas2aNoqOj1aNHDx08eNCuSU5OVmFhoXJycpSTk6PCwkKlpKTY28vLy9WjRw%2B53W6tWbNGU6dO1ZQpU5SVlXXGegMAAP7NeMDauHGjrrnmGo0ZM0bR0dF68MEHtXr1atOH0cqVK3X77berT58%2Bat26tf70pz8pKSlJa9eulXR89eqVV17R448/rgEDBiguLk7vvvuujhw5og8%2B%2BECStGXLFuXk5Oitt95SQkKCEhIS9Oabb%2Brjjz/W1q1bJUmzZ8/W0aNH9c477yguLk4DBgzQ%2BPHjlZWVxSoWAAA4JeMBKy4uTllZWdqzZ49mzpypkpISde3aVVdeeaWysrL0/fffGzlO165d9fnnn%2Bvbb7%2BVdDzYLV%2B%2BXL1795Z0/FRlSUmJkpKS7Nc4nU4lJiZqxYoVko6HNJfLpU6dOtk1N9xwg1wul1dNYmKinE6nXdOzZ0/t3btX33333SnnVlFRofLycq8HAAA4dwSfsR0HB%2BuOO%2B5Q79699dprryk9PV1jx45Venq6Bg0apMmTJ6tZs2a/ef/jxo2Tx%2BPRFVdcoaCgIFVXV2vSpEm6%2B%2B67JUklJSWSpKioKK/XRUVFaefOnXZNZGRknX1HRkbary8pKVHr1q3r7KN2W0xMTJ3XZ2Zm6plnnvnNvQG/RfzjOb6ewmlbO6mXr6cAAGfUGfsU4dq1azVixAg1a9ZMWVlZGjt2rP7f//t/WrJkifbs2aPbb7/9d%2B1/3rx5mjVrlj744AOtX79e7777rqZMmaJ3333Xq87hcHg9tyzLa%2Bzk7adTU3tq8FSvlaT09HR5PB77UVxc/OuaAwAAfs34ClZWVpZmzpyprVu3qnfv3nrvvffUu3dvnXfe8SwXExOj119/XVdcccXvOs5f//pXPfbYY7rrrrskSe3bt9fOnTuVmZmpwYMHKzo6WtLxVaYTV8pKS0vtFajo6Gjt37%2B/zr6///57r5ra1awT9yHVXR2r5XQ6vU4pAgCAc4vxFazp06crOTlZu3bt0kcffaS%2Bffva4apWy5Yt9fbbb/%2Bu4xw5cqTOfoOCguzbNMTExCg6Olp5eXn29srKSuXn56tz586SpISEBHk8Hq%2BL8FetWiWPx%2BNVs2zZMlVWVto1ubm5crvddU4dAgAASGdgBWvbtm2/WBMSEqLBgwf/ruPcdtttmjRpklq2bKkrr7xSGzZsUFZWloYOHSrp%2BOm71NRUZWRkqE2bNmrTpo0yMjLUqFEjJScnS5LatWunXr16adiwYXr99dclSX/5y1/Ut29ftW3bVtLx2zg888wzGjJkiMaPH69t27YpIyNDTz311M%2BeIgQAAOc24wFr5syZOv/883XnnXd6jf/jH//QkSNHfnewqjV16lQ9%2BeSTGjFihEpLS%2BV2u/Xggw/qqaeesmseffRR/fTTTxoxYoTKysrUqVMn5ebmKiwszK6ZPXu2Ro0aZX/asF%2B/fpo2bZq93eVyKS8vTyNHjlR8fLwiIiKUlpamtLQ0I30AAIDA47AM38ypbdu2mjFjhrp37%2B41np%2Bfr7/85S/2/aXOJeXl5XK5XPJ4PAoPD/f1dHzGnz7lhjOLTxECOBt8%2BfvX%2BDVYO3fuPOWtC1q1aqVdu3aZPhwAAEC9YzxgRUZG6quvvqozvnHjRjVp0sT04QAAAOod4wHrrrvu0qhRo7R06VJVV1erurpaS5Ys0ejRo%2B1bKgAAAAQy4xe5P/fcc9q5c6duvvlmBQcf331NTY3uu%2B8%2BZWRkmD4cAABAvWM8YIWEhGjevHl69tlntXHjRoWGhqp9%2B/Zq1aqV6UMBAADUS2fsuwgvv/xyXX755Wdq9wAAAPWW8YBVXV2td955R59//rlKS0vtO6vXWrJkielDAgAA1CvGA9bo0aP1zjvvqE%2BfPoqLi%2BNu5wAA4JxjPGDNnTtX//d//6fevXub3jUAAIBfMH6bhpCQEF122WWmdwsAAOA3jAesMWPG6G9/%2B5sMfwMPAACA3zB%2BinD58uVaunSpFi1apCuvvFINGjTw2r5gwQLThwQAAKhXjAesCy64QHfccYfp3QIAAPgN4wFr5syZpncJAADgV4xfgyVJx44d0%2BLFi/X666/r4MGDkqS9e/fq0KFDZ%2BJwAAAA9YrxFaydO3eqV69e2rVrlyoqKtSjRw%2BFhYXphRde0NGjRzVjxgzThwTgZ%2BIfz/H1FH6VtZN6%2BXoKAPyM8RWs0aNHKz4%2BXmVlZQoNDbXH77jjDn3%2B%2BeemDwcAAFDvnJFPEX755ZcKCQnxGm/VqpX27Nlj%2BnAAAAD1jvEVrJqaGlVXV9cZ3717t8LCwkwfDgAAoN4xHrB69OihV155xX7ucDh06NAhPf3003x9DgAAOCcYP0X48ssvq3v37oqNjdXRo0eVnJysbdu2qWnTppozZ47pwwEAANQ7xgOW2%2B1WYWGh5syZo/Xr16umpkb333%2B/7rnnHq%2BL3gEAAAKV8YAlSaGhoRo6dKiGDh16JnYPAABQrxkPWO%2B9995/3X7fffeZPiQAAEC9YjxgjR492ut5VVWVjhw5opCQEDVq1IiABQAAAp7xTxGWlZV5PQ4dOqStW7eqa9euXOQOAADOCWfkuwhP1qZNGz3//PN1VrcAAAAC0VkJWJIUFBSkvXv3nq3DAQAA%2BIzxa7AWLlzo9dyyLO3bt0/Tpk1Tly5dTB8OAACg3jEesPr37%2B/13OFw6KKLLtIf/vAHvfTSS6YPBwAAUO8YD1g1NTWmdwkAAOBXzto1WAAAAOcK4ytYaWlpp12blZVl%2BvAAAAA%2BZzxgbdiwQevXr9exY8fUtm1bSdK3336roKAgXXvttXadw%2BEwfWgAAIB6wXjAuu222xQWFqZ3331XERERko7ffPTPf/6zbrzxRo0ZM8b0IQEAAOoV49dgvfTSS8rMzLTDlSRFREToueee41OEAADgnGA8YJWXl2v//v11xktLS3Xw4EGjx9qzZ4/uvfdeNWnSRI0aNdLVV1%2BtdevW2dsty9KECRPkdrsVGhqqbt26afPmzV77KCsrU0pKilwul1wul1JSUnTgwAGvmk2bNikxMVGhoaFq3ry5Jk6cKMuyjPYCAAACh/GAdccdd%2BjPf/6zPvzwQ%2B3evVu7d%2B/Whx9%2BqPvvv18DBgwwdpyysjJ16dJFDRo00KJFi/T111/rpZde0gUXXGDXvPDCC8rKytK0adO0Zs0aRUdHq0ePHl5BLzk5WYWFhcrJyVFOTo4KCwuVkpJiby8vL1ePHj3kdru1Zs0aTZ06VVOmTOECfQAA8LMcluGlmCNHjmjs2LH6%2B9//rqqqKklScHCw7r//fr344otq3LixkeM89thj%2BvLLL/Wvf/3rlNsty5Lb7VZqaqrGjRsnSaqoqFBUVJQmT56sBx98UFu2bFFsbKwKCgrUqVMnSVJBQYESEhL0zTffqG3btpo%2BfbrS09O1f/9%2BOZ1OSdLzzz%2BvqVOnavfu3ad1sX55eblcLpc8Ho/Cw8ON9O%2BP4h/P8fUUgN9k7aRevp4CgN/Al79/ja9gNWrUSK%2B99pr%2B85//2J8o/PHHH/Xaa68ZC1fS8a/kiY%2BP15133qnIyEhdc801evPNN%2B3tO3bsUElJiZKSkuwxp9OpxMRErVixQpK0cuVKuVwuO1xJ0g033CCXy%2BVVk5iYaIcrSerZs6f27t2r7777zlg/AAAgcJyxG43u27dP%2B/bt0%2BWXX67GjRsbv2Zp%2B/btmj59utq0aaPPPvtMw4cP16hRo/Tee%2B9JkkpKSiRJUVFRXq%2BLioqyt5WUlCgyMrLOviMjI71qTrWPE49xsoqKCpWXl3s9AADAucN4wPrPf/6jm2%2B%2BWZdffrl69%2B6tffv2SZIeeOABo7doqKmp0bXXXquMjAxdc801evDBBzVs2DBNnz7dq%2B7kU3iWZXmNneoU3y/V1IbFnzs9mJmZaV8073K51KJFi1/XHAAA8GvGA9YjjzyiBg0aaNeuXWrUqJE9PmjQIOXkmLsGp1mzZoqNjfUaa9eunXbt2iVJio6OllR3lam0tNRegYqOjj7lJx6///57r5pT7UOquzpWKz09XR6Px34UFxf/2vYAAIAfMx6wcnNzNXnyZF188cVe423atNHOnTuNHadLly7aunWr19i3336rVq1aSZJiYmIUHR2tvLw8e3tlZaXy8/PVuXNnSVJCQoI8Ho9Wr15t16xatUoej8erZtmyZaqsrPTq0e12q3Xr1qecm9PpVHh4uNcDAACcO4wHrMOHD3utXNX64YcfvC4U/70eeeQRFRQUKCMjQ//%2B97/1wQcf6I033tDIkSMlHT99l5qaqoyMDGVnZ6uoqEhDhgxRo0aNlJycLOn4ilevXr00bNgwFRQUqKCgQMOGDVPfvn3tr/lJTk6W0%2BnUkCFDVFRUpOzsbGVkZCgtLY2v%2BwEAAKdkPGDddNNN9oXm0vGgU1NToxdffFHdu3c3dpzrrrtO2dnZmjNnjuLi4vTss8/qlVde0T333GPXPProo0pNTdWIESMUHx%2BvPXv2KDc3V2FhYXbN7Nmz1b59eyUlJSkpKUlXXXWV3n//fXu7y%2BVSXl6edu/erfj4eI0YMUJpaWm/6kutAQDAucX4fbC%2B/vprdevWTR07dtSSJUvUr18/bd68WT/%2B%2BKO%2B/PJLXXrppSYP5xe4D9Zx3AcL/or7YAH%2BKaDugxUbG6uvvvpK119/vXr06KHDhw9rwIAB2rBhwzkZrgAAwLkn2OTOqqqqlJSUpNdff13PPPOMyV0DAAD4DaMrWA0aNFBRUREXfwMAgHOa8VOE9913n95%2B%2B23TuwUAAPAbRk8RSsfvNfXWW28pLy9P8fHxdb5/MCsry/QhAQAA6hVjAWv79u1q3bq1ioqKdO2110o6fuPPE3HqEAAAnAuMBaw2bdpo3759Wrp0qaTjX43z6quv/uzXyQAAAAQqY9dgnXw7rUWLFunw4cOmdg8AAOA3jF/kXsvw/UsBAAD8hrGA5XA46lxjxTVXAADgXGTsGizLsjRkyBD7C52PHj2q4cOH1/kU4YIFC0wdEgAAoF4yFrAGDx7s9fzee%2B81tWsAAAC/YixgzZw509SuAAAA/NoZu8gdAADgXEXAAgAAMIyABQAAYBgBCwAAwDACFgAAgGEELAAAAMMIWAAAAIYRsAAAAAwjYAEAABhGwAIAADCMgAUAAGAYAQsAAMAwAhYAAIBhBCwAAADDCFgAAACGEbAAAAAMI2ABAAAYRsACAAAwjIAFAABgGAELAADAMAIWAACAYQQsAAAAwwhYAAAAhgVMwMrMzJTD4VBqaqo9VlFRoYcfflhNmzZV48aN1a9fP%2B3evdvrdbt27dJtt92mxo0bq2nTpho1apQqKyu9avLz89WxY0c1bNhQl1xyiWbMmHFWegIAAP4pIALWmjVr9MYbb%2Biqq67yGk9NTVV2drbmzp2r5cuX69ChQ%2Brbt6%2Bqq6slSdXV1erTp48OHz6s5cuXa%2B7cuZo/f77GjBlj72PHjh3q3bu3brzxRm3YsEHjx4/XqFGjNH/%2B/LPaIwAA8B/Bvp7A73Xo0CHdc889evPNN/Xcc8/Z4x6PR2%2B//bbef/993XLLLZKkWbNmqUWLFlq8eLF69uyp3Nxcff311youLpbb7ZYkvfTSSxoyZIgmTZqk8PBwzZgxQy1bttQrr7wiSWrXrp3Wrl2rKVOm6I9//OPZbxgAANR7fr%2BCNXLkSPXp08cOUbXWrVunqqoqJSUl2WNut1txcXFasWKFJGnlypWKi4uzw5Uk9ezZUxUVFVq3bp1dc%2BI%2BamvWrl2rqqqqM9UWAADwY369gjV37lytW7dOa9eurbOtpKREISEhioiI8BqPiopSSUmJXRMVFeW1PSIiQiEhIf%2B1JioqSseOHdMPP/ygZs2a1Tl2RUWFKioq7Ofl5eW/rUEAAOCX/HYFq7i4WKNHj9bs2bPVsGHD036dZVlyOBz28xP/fLo1lmX97Gul4xfcu1wu%2B9GiRYvTnh8AAPB/fhuw1q1bp9LSUnXs2FHBwcEKDg5Wfn6%2BXn31VQUHBysqKkqVlZUqKyvzel1paam9IhUdHW2vVNUqKytTVVXVf60pLS1VcHCwmjRpcsq5paeny%2BPx2I/i4mJTbQMAAD/gtwHr5ptv1qZNm1RYWGg/4uPjdc8999h/btCggfLy8uzX7Nu3T0VFRercubMkKSEhQUVFRdq3b59dk5ubK6fTqY4dO9o1J%2B6jtqZ2/6fidDoVHh7u9QAAAOcOv70GKywsTHFxcV5jjRs3VpMmTezx%2B%2B%2B/X2PGjFGTJk104YUXauzYsWrfvr19QXxSUpJiY2OVkpKiF198UT/%2B%2BKPGjh2rYcOG2aFo%2BPDhmjZtmtLS0jRs2DCtXLlSb7/9tubMmXN2GwYAAH7DbwPW6Xj55ZcVHBysgQMH6qefftLNN9%2Bsd955R0FBQZKkoKAgffLJJxoxYoS6dOmi0NBQJScna8qUKfY%2BYmJi9Omnn%2BqRR8%2B6P50AABHQSURBVB7R//7v/8rtduvVV1/lFg0AAOBnOazaK7ZxxpSXl8vlcsnj8ZzTpwvjH8/x9RSA32TtpF6%2BngKA38CXv3/99hosAACA%2BoqABQAAYBgBCwAAwDACFgAAgGEELAAAAMMIWAAAAIYRsAAAAAwjYAEAABhGwAIAADCMgAUAAGBYQH8XIQCY4G9f88RX%2BwC%2BxwoWAACAYQQsAAAAwwhYAAAAhhGwAAAADCNgAQAAGEbAAgAAMIyABQAAYBgBCwAAwDACFgAAgGEELAAAAMMIWAAAAIYRsAAAAAwjYAEAABhGwAIAADCMgAUAAGAYAQsAAMAwAhYAAIBhBCwAAADDCFgAAACGEbAAAAAMI2ABAAAYRsACAAAwjIAFAABgGAELAADAMAIWAACAYX4bsDIzM3XdddcpLCxMkZGR6t%2B/v7Zu3epVU1FRoYcfflhNmzZV48aN1a9fP%2B3evdurZteuXbrtttvUuHFjNW3aVKNGjVJlZaVXTX5%2Bvjp27KiGDRvqkksu0YwZM854fwAAwH/5bcDKz8/XyJEjVVBQoLy8PB07dkxJSUk6fPiwXZOamqrs7GzNnTtXy5cv16FDh9S3b19VV1dLkqqrq9WnTx8dPnxYy5cv19y5czV//nyNGTPG3seOHTvUu3dv3XjjjdqwYYPGjx%2BvUaNGaf78%2BWe9ZwAA4B8clmVZvp6ECd9//70iIyOVn5%2Bvm266SR6PRxdddJHef/99DRo0SJK0d%2B9etWjRQp9%2B%2Bql69uypRYsWqW/fviouLpbb7ZYkzZ07V0OGDFFpaanCw8M1btw4LVy4UFu2bLGPNXz4cG3cuFErV648rbmVl5fL5XLJ4/EoPDzcfPN%2BIv7xHF9PATgnrJ3Uy9dTAOoFX/7%2B9dsVrJN5PB5J0oUXXihJWrdunaqqqpSUlGTXuN1uxcXFacWKFZKklStXKi4uzg5XktSzZ09VVFRo3bp1ds2J%2B6itWbt2raqqqs5oTwAAwD8F%2B3oCJliWpbS0NHXt2lVxcXGSpJKSEoWEhCgiIsKrNioqSiUlJXZNVFSU1/aIiAiFhIT815qoqCgdO3ZMP/zwg5o1a1ZnPhUVFaqoqLCfl5eX//4mAQCA3wiIFayHHnpIX331lebMmfOLtZZlyeFw2M9P/PPp1tSeVT3Va6XjF%2BC7XC770aJFi9PqAwAABAa/D1gPP/ywFi5cqKVLl%2Briiy%2B2x6Ojo1VZWamysjKv%2BtLSUntFKjo62l6pqlVWVqaqqqr/WlNaWqrg4GA1adLklHNKT0%2BXx%2BOxH8XFxb%2B7TwAA4D/8NmBZlqWHHnpICxYs0JIlSxQTE%2BO1vWPHjmrQoIHy8vLssX379qmoqEidO3eWJCUkJKioqEj79u2za3Jzc%2BV0OtWxY0e75sR91NbEx8erQYMGp5yb0%2BlUeHi41wMAAJw7/DZgjRw5UrNmzdIHH3ygsLAwlZSUqKSkRD/99JMkyeVy6f7779eYMWP0%2Beefa8OGDbr33nvVvn173XLLLZKkpKQkxcbGKiUlRRs2bNDnn3%2BusWPHatiwYXYoGj58uHbu3Km0tDRt2bJFf//73/X2229r7NixPusdAADUb34bsKZPny6Px6Nu3bqpWbNm9mPevHl2zcsvv6z%2B/ftr4MCB6tKlixo1aqR//vOfCgoKkiQFBQXpk08%2BUcOGDdWlSxcNHDhQ/fv315QpU%2Bx9xMTE6NNPP9UXX3yhq6%2B%2BWs8%2B%2B6xeffVV/fGPfzzrPQMAAP8QMPfBqs%2B4D9Zx3AcLODu4DxZwHPfBAgAACCAELAAAAMMIWAAAAIYRsAAAAAwjYAEAABhGwAIAADCMgAUAAGAYAQsAAMAwAhYAAIBhwb6eAH4f7o4OAED9wwoWAACAYQQsAAAAwwhYAAAAhhGwAAAADCNgAQAAGEbAAgAAMIyABQAAYBgBCwAAwDACFgAAgGEELAAAAMMIWAAAAIYRsAAAAAwjYAEAABhGwAIAADCMgAUAAGAYAQsAAMAwAhYAAIBhBCwAAADDCFgAAACGEbAAAAAMI2ABAAAYRsACAAAwLNjXEwAAmBX/eI6vp3Da1k7q5espAGcEK1gAAACGsYIFAPAZf1ptk1hxw%2BljBQsAAMAwAhYAAIBhBKzT9NprrykmJkYNGzZUx44d9a9//cvXUwIAAPUU12Cdhnnz5ik1NVWvvfaaunTpotdff1233nqrvv76a7Vs2dLX0wMAnCVcM4bTxQrWacjKytL999%2BvBx54QO3atdMrr7yiFi1aaPr06b6eGgAAqIdYwfoFlZWVWrdunR577DGv8aSkJK1YseKUr6moqFBFRYX93OPxSJLKy8uNz6%2B64rDxfQIAAsOZ%2BL3jT2r7tyzrrB%2BbgPULfvjhB1VXVysqKsprPCoqSiUlJad8TWZmpp555pk64y1atDgjcwQA4FRcL/l6BvXDwYMH5XK5zuoxCVinyeFweD23LKvOWK309HSlpaXZz2tqavTjjz%2BqSZMmP/uaM628vFwtWrRQcXGxwsPDfTKHMy3Qewz0/iR6DBSB3mOg9ycFTo%2BWZengwYNyu91n/dgErF/QtGlTBQUF1VmtKi0trbOqVcvpdMrpdHqNXXDBBWdsjr9GeHi4X/9jOR2B3mOg9yfRY6AI9B4DvT8pMHo82ytXtbjI/ReEhISoY8eOysvL8xrPy8tT586dfTQrAABQn7GCdRrS0tKUkpKi%2BPh4JSQk6I033tCuXbs0fPhwX08NAADUQ0ETJkyY4OtJ1HdxcXFq0qSJMjIyNGXKFP300096//331aFDB19P7VcJCgpSt27dFBwcuLk60HsM9P4kegwUgd5joPcnnRs9nkkOyxefXQQAAAhgXIMFAABgGAELAADAMAIWAACAYQQsAAAAwwhYASQzM1PXXXedwsLCFBkZqf79%2B2vr1q1eNRUVFXr44YfVtGlTNW7cWP369dPu3bt9NONfb/r06brqqqvsm98lJCRo0aJF9nZ/7%2B9kmZmZcjgcSk1Ntcf8vccJEybI4XB4PaKjo%2B3tlmVpwoQJcrvdCg0NVbdu3bR582Yfzvi32bNnj%2B699141adJEjRo10tVXX61169bZ2/29z9atW9d5Hx0Oh0aOHCnJ/39Ojx07pieeeEIxMTEKDQ3VJZdcookTJ6qmpsau8ff3UDr%2BFTKpqalq1aqVQkND1blzZ61Zs8beHgg9%2BoyFgNGzZ09r5syZVlFRkVVYWGj16dPHatmypXXo0CG7Zvjw4Vbz5s2tvLw8a/369Vb37t2tDh06WMeOHfPhzE/fwoULrU8%2B%2BcTaunWrtXXrVmv8%2BPFWgwYNrKKiIsuy/L%2B/E61evdpq3bq1ddVVV1mjR4%2B2x/29x6efftq68sorrX379tmP0tJSe/vzzz9vhYWFWfPnz7c2bdpkDRo0yGrWrJlVXl7uw1n/Oj/%2B%2BKPVqlUra8iQIdaqVausHTt2WIsXL7b%2B/e9/2zX%2B3mdpaanXe5iXl2dJspYuXWpZlv//nD733HNWkyZNrI8//tjasWOH9Y9//MM6//zzrVdeecWu8ff30LIsa%2BDAgVZsbKyVn59vbdu2zXr66aet8PBwa/fu3ZZlBUaPvkLACmClpaWWJCs/P9%2ByLMs6cOCA1aBBA2vu3Ll2zZ49e6zzzjvPysnJ8dU0f7eIiAjrrbfeCqj%2BDh48aLVp08bKy8uzEhMT7YAVCD0%2B/fTTVocOHU65raamxoqOjraef/55e%2Bzo0aOWy%2BWyZsyYcbam%2BLuNGzfO6tq1689uD5Q%2BTzR69Gjr0ksvtWpqagLi57RPnz7W0KFDvcYGDBhg3XvvvZZlBcZ7eOTIESsoKMj6%2BOOPvcY7dOhgPf744wHRoy9xijCAeTweSdKFF14oSVq3bp2qqqqUlJRk17jdbsXFxWnFihU%2BmePvUV1drblz5%2Brw4cNKSEgIqP5GjhypPn366JZbbvEaD5Qet23bJrfbrZiYGN11113avn27JGnHjh0qKSnx6s/pdCoxMdGv%2Blu4cKHi4%2BN15513KjIyUtdcc43efPNNe3ug9FmrsrJSs2bN0tChQ%2BVwOALi57Rr1676/PPP9e2330qSNm7cqOXLl6t3796SAuM9PHbsmKqrq9WwYUOv8dDQUC1fvjwgevQlbs8aoCzLUlpamrp27aq4uDhJUklJiUJCQhQREeFVGxUVVefLrOuzTZs2KSEhQUePHtX555%2Bv7OxsxcbGqrCwMCD6mzt3rtatW6e1a9fW2RYI72GnTp303nvv6fLLL9f%2B/fv13HPPqXPnztq8ebPdw8lfpB4VFaWdO3f6Yrq/yfbt2zV9%2BnSlpaVp/PjxWr16tUaNGiWn06n77rsvYPqs9dFHH%2BnAgQMaMmSIpMD4OR03bpw8Ho%2BuuOIKBQUFqbq6WpMmTdLdd98tSQHxHoaFhSkhIUHPPvus2rVrp6ioKM2ZM0erVq1SmzZtAqJHXyJgBaiHHnpIX331lZYvX/6LtZZlyeFwnIVZmdG2bVsVFhbqwIEDmj9/vgYPHqz8/Pyfrfen/oqLizV69Gjl5ubW%2Bb/K/8aferz11lvtP7dv314JCQm69NJL9e677%2BqGG26QpDq9%2BFN/klRTU6P4%2BHhlZGRIkq655hpt3rxZ06dP13333WfX%2BXuftd5%2B%2B23deuutcrvd/7XOn/qbN2%2BeZs2apQ8%2B%2BEBXXnmlCgsLlZqaKrfbrcGDB9t1/v4evv/%2B%2Bxo6dKiaN2%2BuoKAgXXvttUpOTtb69evtGn/v0Vc4RRiAHn74YS1cuFBLly7VxRdfbI9HR0ersrJSZWVlXvWlpaV1/g%2BlPgsJCdFll12m%2BPh4ZWZmqkOHDvrb3/4WEP2tW7dOpaWl6tixo4KDgxUcHKz8/Hy9%2BuqrCg4OVlRUlN/3eLLGjRurffv22rZtm/1pwpNXOfytv2bNmik2NtZrrF27dtq1a5ckBUyfkrRz504tXrxYDzzwgD0WCP8W//rXv%2Bqxxx7TXXfdpfbt2yslJUWPPPKIMjMzJQXOe3jppZcqPz9fhw4dUnFxsVavXq2qqirFxMQETI%2B%2BQsAKIJZl6aGHHtKCBQu0ZMkSxcTEeG3v2LGjGjRooLy8PHts3759KioqUufOnc/2dI2xLEsVFRUB0d/NN9%2BsTZs2qbCw0H7Ex8frnnvusf/s7z2erKKiQlu2bFGzZs3s/6if2F9lZaXy8/P9qr8uXbrUuUXKt99%2Bq1atWklSwPQpSTNnzlRkZKT69OljjwXCv8UjR47ovPO8f0UGBQXZt2kIpPdQOv4/Os2aNVNZWZk%2B%2B%2Bwz3X777QHX41nno4vrcQb8z//8j%2BVyuawvvvjC6%2BPTR44csWuGDx9uXXzxxdbixYut9evXW3/4wx/86qPT6enp1rJly6wdO3ZYX331lTV%2B/HjrvPPOs3Jzcy3L8v/%2BTuXETxFalv/3OGbMGOuLL76wtm/fbhUUFFh9%2B/a1wsLCrO%2B%2B%2B86yrOMfC3e5XNaCBQusTZs2WXfffbfffSx89erVVnBwsDVp0iRr27Zt1uzZs61GjRpZs2bNsmsCoc/q6mqrZcuW1rhx4%2Bps8/ef08GDB1vNmze3b9OwYMECq2nTptajjz5q1wTCe5iTk2MtWrTI2r59u5Wbm2t16NDBuv76663KykrLsgKjR18hYAUQSad8zJw506756aefrIceesi68MILrdDQUKtv377Wrl27fDfpX2no0KFWq1atrJCQEOuiiy6ybr75ZjtcWZb/93cqJwcsf%2B%2Bx9j46DRo0sNxutzVgwABr8%2BbN9vaamhrr6aeftqKjoy2n02nddNNN1qZNm3w449/mn//8pxUXF2c5nU7riiuusN544w2v7YHQ52effWZJsrZu3Vpnm7//nJaXl1ujR4%2B2WrZsaTVs2NC65JJLrMcff9yqqKiwawLhPZw3b551ySWXWCEhIVZ0dLQ1cuRI68CBA/b2QOjRVxyWZVk%2BXEADAAAIOFyDBQAAYBgBCwAAwDACFgAAgGEELAAAAMMIWAAAAIYRsAAAAAwjYAEAABhGwAIAADCMgAUAAGAYAQsAAMAwAhYAAIBhBCwAAADDCFgAAACGEbAAAAAMI2ABAAAYRsACAAAwjIAFAABgGAELAADAsP8PMrdkzIfPdo4AAAAASUVORK5CYII%3D\"/>\n",
       "        </div>\n",
       "        <div role=\"tabpanel\" class=\"tab-pane col-md-12\" id=\"common-7906741210743670791\">\n",
       "            \n",
       "<table class=\"freq table table-hover\">\n",
       "    <thead>\n",
       "    <tr>\n",
       "        <td class=\"fillremaining\">Value</td>\n",
       "        <td class=\"number\">Count</td>\n",
       "        <td class=\"number\">Frequency (%)</td>\n",
       "        <td style=\"min-width:200px\">&nbsp;</td>\n",
       "    </tr>\n",
       "    </thead>\n",
       "    <tr class=\"\">\n",
       "        <td class=\"fillremaining\">32</td>\n",
       "        <td class=\"number\">2085</td>\n",
       "        <td class=\"number\">4.6%</td>\n",
       "        <td>\n",
       "            <div class=\"bar\" style=\"width:8%\">&nbsp;</div>\n",
       "        </td>\n",
       "</tr><tr class=\"\">\n",
       "        <td class=\"fillremaining\">31</td>\n",
       "        <td class=\"number\">1996</td>\n",
       "        <td class=\"number\">4.4%</td>\n",
       "        <td>\n",
       "            <div class=\"bar\" style=\"width:8%\">&nbsp;</div>\n",
       "        </td>\n",
       "</tr><tr class=\"\">\n",
       "        <td class=\"fillremaining\">33</td>\n",
       "        <td class=\"number\">1972</td>\n",
       "        <td class=\"number\">4.4%</td>\n",
       "        <td>\n",
       "            <div class=\"bar\" style=\"width:8%\">&nbsp;</div>\n",
       "        </td>\n",
       "</tr><tr class=\"\">\n",
       "        <td class=\"fillremaining\">34</td>\n",
       "        <td class=\"number\">1930</td>\n",
       "        <td class=\"number\">4.3%</td>\n",
       "        <td>\n",
       "            <div class=\"bar\" style=\"width:8%\">&nbsp;</div>\n",
       "        </td>\n",
       "</tr><tr class=\"\">\n",
       "        <td class=\"fillremaining\">35</td>\n",
       "        <td class=\"number\">1894</td>\n",
       "        <td class=\"number\">4.2%</td>\n",
       "        <td>\n",
       "            <div class=\"bar\" style=\"width:7%\">&nbsp;</div>\n",
       "        </td>\n",
       "</tr><tr class=\"\">\n",
       "        <td class=\"fillremaining\">36</td>\n",
       "        <td class=\"number\">1806</td>\n",
       "        <td class=\"number\">4.0%</td>\n",
       "        <td>\n",
       "            <div class=\"bar\" style=\"width:7%\">&nbsp;</div>\n",
       "        </td>\n",
       "</tr><tr class=\"\">\n",
       "        <td class=\"fillremaining\">30</td>\n",
       "        <td class=\"number\">1757</td>\n",
       "        <td class=\"number\">3.9%</td>\n",
       "        <td>\n",
       "            <div class=\"bar\" style=\"width:7%\">&nbsp;</div>\n",
       "        </td>\n",
       "</tr><tr class=\"\">\n",
       "        <td class=\"fillremaining\">37</td>\n",
       "        <td class=\"number\">1696</td>\n",
       "        <td class=\"number\">3.8%</td>\n",
       "        <td>\n",
       "            <div class=\"bar\" style=\"width:7%\">&nbsp;</div>\n",
       "        </td>\n",
       "</tr><tr class=\"\">\n",
       "        <td class=\"fillremaining\">39</td>\n",
       "        <td class=\"number\">1487</td>\n",
       "        <td class=\"number\">3.3%</td>\n",
       "        <td>\n",
       "            <div class=\"bar\" style=\"width:6%\">&nbsp;</div>\n",
       "        </td>\n",
       "</tr><tr class=\"\">\n",
       "        <td class=\"fillremaining\">38</td>\n",
       "        <td class=\"number\">1466</td>\n",
       "        <td class=\"number\">3.2%</td>\n",
       "        <td>\n",
       "            <div class=\"bar\" style=\"width:6%\">&nbsp;</div>\n",
       "        </td>\n",
       "</tr><tr class=\"other\">\n",
       "        <td class=\"fillremaining\">Other values (67)</td>\n",
       "        <td class=\"number\">27122</td>\n",
       "        <td class=\"number\">60.0%</td>\n",
       "        <td>\n",
       "            <div class=\"bar\" style=\"width:100%\">&nbsp;</div>\n",
       "        </td>\n",
       "</tr>\n",
       "</table>\n",
       "        </div>\n",
       "        <div role=\"tabpanel\" class=\"tab-pane col-md-12\"  id=\"extreme-7906741210743670791\">\n",
       "            <p class=\"h4\">Minimum 5 values</p>\n",
       "            \n",
       "<table class=\"freq table table-hover\">\n",
       "    <thead>\n",
       "    <tr>\n",
       "        <td class=\"fillremaining\">Value</td>\n",
       "        <td class=\"number\">Count</td>\n",
       "        <td class=\"number\">Frequency (%)</td>\n",
       "        <td style=\"min-width:200px\">&nbsp;</td>\n",
       "    </tr>\n",
       "    </thead>\n",
       "    <tr class=\"\">\n",
       "        <td class=\"fillremaining\">18</td>\n",
       "        <td class=\"number\">12</td>\n",
       "        <td class=\"number\">0.0%</td>\n",
       "        <td>\n",
       "            <div class=\"bar\" style=\"width:10%\">&nbsp;</div>\n",
       "        </td>\n",
       "</tr><tr class=\"\">\n",
       "        <td class=\"fillremaining\">19</td>\n",
       "        <td class=\"number\">35</td>\n",
       "        <td class=\"number\">0.1%</td>\n",
       "        <td>\n",
       "            <div class=\"bar\" style=\"width:27%\">&nbsp;</div>\n",
       "        </td>\n",
       "</tr><tr class=\"\">\n",
       "        <td class=\"fillremaining\">20</td>\n",
       "        <td class=\"number\">50</td>\n",
       "        <td class=\"number\">0.1%</td>\n",
       "        <td>\n",
       "            <div class=\"bar\" style=\"width:39%\">&nbsp;</div>\n",
       "        </td>\n",
       "</tr><tr class=\"\">\n",
       "        <td class=\"fillremaining\">21</td>\n",
       "        <td class=\"number\">79</td>\n",
       "        <td class=\"number\">0.2%</td>\n",
       "        <td>\n",
       "            <div class=\"bar\" style=\"width:61%\">&nbsp;</div>\n",
       "        </td>\n",
       "</tr><tr class=\"\">\n",
       "        <td class=\"fillremaining\">22</td>\n",
       "        <td class=\"number\">129</td>\n",
       "        <td class=\"number\">0.3%</td>\n",
       "        <td>\n",
       "            <div class=\"bar\" style=\"width:100%\">&nbsp;</div>\n",
       "        </td>\n",
       "</tr>\n",
       "</table>\n",
       "            <p class=\"h4\">Maximum 5 values</p>\n",
       "            \n",
       "<table class=\"freq table table-hover\">\n",
       "    <thead>\n",
       "    <tr>\n",
       "        <td class=\"fillremaining\">Value</td>\n",
       "        <td class=\"number\">Count</td>\n",
       "        <td class=\"number\">Frequency (%)</td>\n",
       "        <td style=\"min-width:200px\">&nbsp;</td>\n",
       "    </tr>\n",
       "    </thead>\n",
       "    <tr class=\"\">\n",
       "        <td class=\"fillremaining\">90</td>\n",
       "        <td class=\"number\">2</td>\n",
       "        <td class=\"number\">0.0%</td>\n",
       "        <td>\n",
       "            <div class=\"bar\" style=\"width:100%\">&nbsp;</div>\n",
       "        </td>\n",
       "</tr><tr class=\"\">\n",
       "        <td class=\"fillremaining\">92</td>\n",
       "        <td class=\"number\">2</td>\n",
       "        <td class=\"number\">0.0%</td>\n",
       "        <td>\n",
       "            <div class=\"bar\" style=\"width:100%\">&nbsp;</div>\n",
       "        </td>\n",
       "</tr><tr class=\"\">\n",
       "        <td class=\"fillremaining\">93</td>\n",
       "        <td class=\"number\">2</td>\n",
       "        <td class=\"number\">0.0%</td>\n",
       "        <td>\n",
       "            <div class=\"bar\" style=\"width:100%\">&nbsp;</div>\n",
       "        </td>\n",
       "</tr><tr class=\"\">\n",
       "        <td class=\"fillremaining\">94</td>\n",
       "        <td class=\"number\">1</td>\n",
       "        <td class=\"number\">0.0%</td>\n",
       "        <td>\n",
       "            <div class=\"bar\" style=\"width:50%\">&nbsp;</div>\n",
       "        </td>\n",
       "</tr><tr class=\"\">\n",
       "        <td class=\"fillremaining\">95</td>\n",
       "        <td class=\"number\">2</td>\n",
       "        <td class=\"number\">0.0%</td>\n",
       "        <td>\n",
       "            <div class=\"bar\" style=\"width:100%\">&nbsp;</div>\n",
       "        </td>\n",
       "</tr>\n",
       "</table>\n",
       "        </div>\n",
       "    </div>\n",
       "</div>\n",
       "</div><div class=\"row variablerow\">\n",
       "    <div class=\"col-md-3 namecol\">\n",
       "        <p class=\"h4 pp-anchor\" id=\"pp_var_job\">job<br/>\n",
       "            <small>Categorical</small>\n",
       "        </p>\n",
       "    </div><div class=\"col-md-3\">\n",
       "    <table class=\"stats \">\n",
       "        <tr class=\"\">\n",
       "            <th>Distinct count</th>\n",
       "            <td>12</td>\n",
       "        </tr>\n",
       "        <tr>\n",
       "            <th>Unique (%)</th>\n",
       "            <td>0.0%</td>\n",
       "        </tr>\n",
       "        <tr class=\"ignore\">\n",
       "            <th>Missing (%)</th>\n",
       "            <td>0.0%</td>\n",
       "        </tr>\n",
       "        <tr class=\"ignore\">\n",
       "            <th>Missing (n)</th>\n",
       "            <td>0</td>\n",
       "        </tr>\n",
       "    </table>\n",
       "</div>\n",
       "<div class=\"col-md-6 collapse in\" id=\"minifreqtable39072105933558683\">\n",
       "    <table class=\"mini freq\">\n",
       "        <tr class=\"\">\n",
       "    <th>blue-collar</th>\n",
       "    <td>\n",
       "        <div class=\"bar\" style=\"width:53%\" data-toggle=\"tooltip\" data-placement=\"right\" data-html=\"true\"\n",
       "             data-delay=500 title=\"Percentage: 21.5%\">\n",
       "            9732\n",
       "        </div>\n",
       "        \n",
       "    </td>\n",
       "</tr><tr class=\"\">\n",
       "    <th>management</th>\n",
       "    <td>\n",
       "        <div class=\"bar\" style=\"width:51%\" data-toggle=\"tooltip\" data-placement=\"right\" data-html=\"true\"\n",
       "             data-delay=500 title=\"Percentage: 20.9%\">\n",
       "            9458\n",
       "        </div>\n",
       "        \n",
       "    </td>\n",
       "</tr><tr class=\"\">\n",
       "    <th>technician</th>\n",
       "    <td>\n",
       "        <div class=\"bar\" style=\"width:41%\" data-toggle=\"tooltip\" data-placement=\"right\" data-html=\"true\"\n",
       "             data-delay=500 title=\"Percentage: 16.8%\">\n",
       "            7597\n",
       "        </div>\n",
       "        \n",
       "    </td>\n",
       "</tr><tr class=\"other\">\n",
       "    <th>Other values (9)</th>\n",
       "    <td>\n",
       "        <div class=\"bar\" style=\"width:100%\" data-toggle=\"tooltip\" data-placement=\"right\" data-html=\"true\"\n",
       "             data-delay=500 title=\"Percentage: 40.8%\">\n",
       "            18424\n",
       "        </div>\n",
       "        \n",
       "    </td>\n",
       "</tr>\n",
       "    </table>\n",
       "</div>\n",
       "<div class=\"col-md-12 text-right\">\n",
       "    <a role=\"button\" data-toggle=\"collapse\" data-target=\"#freqtable39072105933558683, #minifreqtable39072105933558683\"\n",
       "       aria-expanded=\"true\" aria-controls=\"collapseExample\">\n",
       "        Toggle details\n",
       "    </a>\n",
       "</div>\n",
       "<div class=\"col-md-12 extrapadding collapse\" id=\"freqtable39072105933558683\">\n",
       "    \n",
       "<table class=\"freq table table-hover\">\n",
       "    <thead>\n",
       "    <tr>\n",
       "        <td class=\"fillremaining\">Value</td>\n",
       "        <td class=\"number\">Count</td>\n",
       "        <td class=\"number\">Frequency (%)</td>\n",
       "        <td style=\"min-width:200px\">&nbsp;</td>\n",
       "    </tr>\n",
       "    </thead>\n",
       "    <tr class=\"\">\n",
       "        <td class=\"fillremaining\">blue-collar</td>\n",
       "        <td class=\"number\">9732</td>\n",
       "        <td class=\"number\">21.5%</td>\n",
       "        <td>\n",
       "            <div class=\"bar\" style=\"width:100%\">&nbsp;</div>\n",
       "        </td>\n",
       "</tr><tr class=\"\">\n",
       "        <td class=\"fillremaining\">management</td>\n",
       "        <td class=\"number\">9458</td>\n",
       "        <td class=\"number\">20.9%</td>\n",
       "        <td>\n",
       "            <div class=\"bar\" style=\"width:97%\">&nbsp;</div>\n",
       "        </td>\n",
       "</tr><tr class=\"\">\n",
       "        <td class=\"fillremaining\">technician</td>\n",
       "        <td class=\"number\">7597</td>\n",
       "        <td class=\"number\">16.8%</td>\n",
       "        <td>\n",
       "            <div class=\"bar\" style=\"width:78%\">&nbsp;</div>\n",
       "        </td>\n",
       "</tr><tr class=\"\">\n",
       "        <td class=\"fillremaining\">admin.</td>\n",
       "        <td class=\"number\">5171</td>\n",
       "        <td class=\"number\">11.4%</td>\n",
       "        <td>\n",
       "            <div class=\"bar\" style=\"width:53%\">&nbsp;</div>\n",
       "        </td>\n",
       "</tr><tr class=\"\">\n",
       "        <td class=\"fillremaining\">services</td>\n",
       "        <td class=\"number\">4154</td>\n",
       "        <td class=\"number\">9.2%</td>\n",
       "        <td>\n",
       "            <div class=\"bar\" style=\"width:43%\">&nbsp;</div>\n",
       "        </td>\n",
       "</tr><tr class=\"\">\n",
       "        <td class=\"fillremaining\">retired</td>\n",
       "        <td class=\"number\">2264</td>\n",
       "        <td class=\"number\">5.0%</td>\n",
       "        <td>\n",
       "            <div class=\"bar\" style=\"width:24%\">&nbsp;</div>\n",
       "        </td>\n",
       "</tr><tr class=\"\">\n",
       "        <td class=\"fillremaining\">self-employed</td>\n",
       "        <td class=\"number\">1579</td>\n",
       "        <td class=\"number\">3.5%</td>\n",
       "        <td>\n",
       "            <div class=\"bar\" style=\"width:17%\">&nbsp;</div>\n",
       "        </td>\n",
       "</tr><tr class=\"\">\n",
       "        <td class=\"fillremaining\">entrepreneur</td>\n",
       "        <td class=\"number\">1487</td>\n",
       "        <td class=\"number\">3.3%</td>\n",
       "        <td>\n",
       "            <div class=\"bar\" style=\"width:16%\">&nbsp;</div>\n",
       "        </td>\n",
       "</tr><tr class=\"\">\n",
       "        <td class=\"fillremaining\">unemployed</td>\n",
       "        <td class=\"number\">1303</td>\n",
       "        <td class=\"number\">2.9%</td>\n",
       "        <td>\n",
       "            <div class=\"bar\" style=\"width:14%\">&nbsp;</div>\n",
       "        </td>\n",
       "</tr><tr class=\"\">\n",
       "        <td class=\"fillremaining\">housemaid</td>\n",
       "        <td class=\"number\">1240</td>\n",
       "        <td class=\"number\">2.7%</td>\n",
       "        <td>\n",
       "            <div class=\"bar\" style=\"width:13%\">&nbsp;</div>\n",
       "        </td>\n",
       "</tr><tr class=\"other\">\n",
       "        <td class=\"fillremaining\">Other values (2)</td>\n",
       "        <td class=\"number\">1226</td>\n",
       "        <td class=\"number\">2.7%</td>\n",
       "        <td>\n",
       "            <div class=\"bar\" style=\"width:13%\">&nbsp;</div>\n",
       "        </td>\n",
       "</tr>\n",
       "</table>\n",
       "</div>\n",
       "</div><div class=\"row variablerow\">\n",
       "    <div class=\"col-md-3 namecol\">\n",
       "        <p class=\"h4 pp-anchor\" id=\"pp_var_marital\">marital<br/>\n",
       "            <small>Categorical</small>\n",
       "        </p>\n",
       "    </div><div class=\"col-md-3\">\n",
       "    <table class=\"stats \">\n",
       "        <tr class=\"\">\n",
       "            <th>Distinct count</th>\n",
       "            <td>3</td>\n",
       "        </tr>\n",
       "        <tr>\n",
       "            <th>Unique (%)</th>\n",
       "            <td>0.0%</td>\n",
       "        </tr>\n",
       "        <tr class=\"ignore\">\n",
       "            <th>Missing (%)</th>\n",
       "            <td>0.0%</td>\n",
       "        </tr>\n",
       "        <tr class=\"ignore\">\n",
       "            <th>Missing (n)</th>\n",
       "            <td>0</td>\n",
       "        </tr>\n",
       "    </table>\n",
       "</div>\n",
       "<div class=\"col-md-6 collapse in\" id=\"minifreqtable-8128725457682511104\">\n",
       "    <table class=\"mini freq\">\n",
       "        <tr class=\"\">\n",
       "    <th>married</th>\n",
       "    <td>\n",
       "        <div class=\"bar\" style=\"width:100%\" data-toggle=\"tooltip\" data-placement=\"right\" data-html=\"true\"\n",
       "             data-delay=500 title=\"Percentage: 60.2%\">\n",
       "            27214\n",
       "        </div>\n",
       "        \n",
       "    </td>\n",
       "</tr><tr class=\"\">\n",
       "    <th>single</th>\n",
       "    <td>\n",
       "        <div class=\"bar\" style=\"width:47%\" data-toggle=\"tooltip\" data-placement=\"right\" data-html=\"true\"\n",
       "             data-delay=500 title=\"Percentage: 28.3%\">\n",
       "            12790\n",
       "        </div>\n",
       "        \n",
       "    </td>\n",
       "</tr><tr class=\"\">\n",
       "    <th>divorced</th>\n",
       "    <td>\n",
       "        <div class=\"bar\" style=\"width:19%\" data-toggle=\"tooltip\" data-placement=\"right\" data-html=\"true\"\n",
       "             data-delay=500 title=\"Percentage: 11.5%\">\n",
       "            &nbsp;\n",
       "        </div>\n",
       "        5207\n",
       "    </td>\n",
       "</tr>\n",
       "    </table>\n",
       "</div>\n",
       "<div class=\"col-md-12 text-right\">\n",
       "    <a role=\"button\" data-toggle=\"collapse\" data-target=\"#freqtable-8128725457682511104, #minifreqtable-8128725457682511104\"\n",
       "       aria-expanded=\"true\" aria-controls=\"collapseExample\">\n",
       "        Toggle details\n",
       "    </a>\n",
       "</div>\n",
       "<div class=\"col-md-12 extrapadding collapse\" id=\"freqtable-8128725457682511104\">\n",
       "    \n",
       "<table class=\"freq table table-hover\">\n",
       "    <thead>\n",
       "    <tr>\n",
       "        <td class=\"fillremaining\">Value</td>\n",
       "        <td class=\"number\">Count</td>\n",
       "        <td class=\"number\">Frequency (%)</td>\n",
       "        <td style=\"min-width:200px\">&nbsp;</td>\n",
       "    </tr>\n",
       "    </thead>\n",
       "    <tr class=\"\">\n",
       "        <td class=\"fillremaining\">married</td>\n",
       "        <td class=\"number\">27214</td>\n",
       "        <td class=\"number\">60.2%</td>\n",
       "        <td>\n",
       "            <div class=\"bar\" style=\"width:100%\">&nbsp;</div>\n",
       "        </td>\n",
       "</tr><tr class=\"\">\n",
       "        <td class=\"fillremaining\">single</td>\n",
       "        <td class=\"number\">12790</td>\n",
       "        <td class=\"number\">28.3%</td>\n",
       "        <td>\n",
       "            <div class=\"bar\" style=\"width:47%\">&nbsp;</div>\n",
       "        </td>\n",
       "</tr><tr class=\"\">\n",
       "        <td class=\"fillremaining\">divorced</td>\n",
       "        <td class=\"number\">5207</td>\n",
       "        <td class=\"number\">11.5%</td>\n",
       "        <td>\n",
       "            <div class=\"bar\" style=\"width:19%\">&nbsp;</div>\n",
       "        </td>\n",
       "</tr>\n",
       "</table>\n",
       "</div>\n",
       "</div><div class=\"row variablerow\">\n",
       "    <div class=\"col-md-3 namecol\">\n",
       "        <p class=\"h4 pp-anchor\" id=\"pp_var_education\">education<br/>\n",
       "            <small>Categorical</small>\n",
       "        </p>\n",
       "    </div><div class=\"col-md-3\">\n",
       "    <table class=\"stats \">\n",
       "        <tr class=\"\">\n",
       "            <th>Distinct count</th>\n",
       "            <td>4</td>\n",
       "        </tr>\n",
       "        <tr>\n",
       "            <th>Unique (%)</th>\n",
       "            <td>0.0%</td>\n",
       "        </tr>\n",
       "        <tr class=\"ignore\">\n",
       "            <th>Missing (%)</th>\n",
       "            <td>0.0%</td>\n",
       "        </tr>\n",
       "        <tr class=\"ignore\">\n",
       "            <th>Missing (n)</th>\n",
       "            <td>0</td>\n",
       "        </tr>\n",
       "    </table>\n",
       "</div>\n",
       "<div class=\"col-md-6 collapse in\" id=\"minifreqtable2254004098180121217\">\n",
       "    <table class=\"mini freq\">\n",
       "        <tr class=\"\">\n",
       "    <th>secondary</th>\n",
       "    <td>\n",
       "        <div class=\"bar\" style=\"width:100%\" data-toggle=\"tooltip\" data-placement=\"right\" data-html=\"true\"\n",
       "             data-delay=500 title=\"Percentage: 51.3%\">\n",
       "            23202\n",
       "        </div>\n",
       "        \n",
       "    </td>\n",
       "</tr><tr class=\"\">\n",
       "    <th>tertiary</th>\n",
       "    <td>\n",
       "        <div class=\"bar\" style=\"width:57%\" data-toggle=\"tooltip\" data-placement=\"right\" data-html=\"true\"\n",
       "             data-delay=500 title=\"Percentage: 29.4%\">\n",
       "            13301\n",
       "        </div>\n",
       "        \n",
       "    </td>\n",
       "</tr><tr class=\"\">\n",
       "    <th>primary</th>\n",
       "    <td>\n",
       "        <div class=\"bar\" style=\"width:30%\" data-toggle=\"tooltip\" data-placement=\"right\" data-html=\"true\"\n",
       "             data-delay=500 title=\"Percentage: 15.2%\">\n",
       "            6851\n",
       "        </div>\n",
       "        \n",
       "    </td>\n",
       "</tr>\n",
       "    </table>\n",
       "</div>\n",
       "<div class=\"col-md-12 text-right\">\n",
       "    <a role=\"button\" data-toggle=\"collapse\" data-target=\"#freqtable2254004098180121217, #minifreqtable2254004098180121217\"\n",
       "       aria-expanded=\"true\" aria-controls=\"collapseExample\">\n",
       "        Toggle details\n",
       "    </a>\n",
       "</div>\n",
       "<div class=\"col-md-12 extrapadding collapse\" id=\"freqtable2254004098180121217\">\n",
       "    \n",
       "<table class=\"freq table table-hover\">\n",
       "    <thead>\n",
       "    <tr>\n",
       "        <td class=\"fillremaining\">Value</td>\n",
       "        <td class=\"number\">Count</td>\n",
       "        <td class=\"number\">Frequency (%)</td>\n",
       "        <td style=\"min-width:200px\">&nbsp;</td>\n",
       "    </tr>\n",
       "    </thead>\n",
       "    <tr class=\"\">\n",
       "        <td class=\"fillremaining\">secondary</td>\n",
       "        <td class=\"number\">23202</td>\n",
       "        <td class=\"number\">51.3%</td>\n",
       "        <td>\n",
       "            <div class=\"bar\" style=\"width:100%\">&nbsp;</div>\n",
       "        </td>\n",
       "</tr><tr class=\"\">\n",
       "        <td class=\"fillremaining\">tertiary</td>\n",
       "        <td class=\"number\">13301</td>\n",
       "        <td class=\"number\">29.4%</td>\n",
       "        <td>\n",
       "            <div class=\"bar\" style=\"width:57%\">&nbsp;</div>\n",
       "        </td>\n",
       "</tr><tr class=\"\">\n",
       "        <td class=\"fillremaining\">primary</td>\n",
       "        <td class=\"number\">6851</td>\n",
       "        <td class=\"number\">15.2%</td>\n",
       "        <td>\n",
       "            <div class=\"bar\" style=\"width:30%\">&nbsp;</div>\n",
       "        </td>\n",
       "</tr><tr class=\"\">\n",
       "        <td class=\"fillremaining\">unknown</td>\n",
       "        <td class=\"number\">1857</td>\n",
       "        <td class=\"number\">4.1%</td>\n",
       "        <td>\n",
       "            <div class=\"bar\" style=\"width:8%\">&nbsp;</div>\n",
       "        </td>\n",
       "</tr>\n",
       "</table>\n",
       "</div>\n",
       "</div><div class=\"row variablerow\">\n",
       "    <div class=\"col-md-3 namecol\">\n",
       "        <p class=\"h4 pp-anchor\" id=\"pp_var_default\">default<br/>\n",
       "            <small>Categorical</small>\n",
       "        </p>\n",
       "    </div><div class=\"col-md-3\">\n",
       "    <table class=\"stats \">\n",
       "        <tr class=\"\">\n",
       "            <th>Distinct count</th>\n",
       "            <td>2</td>\n",
       "        </tr>\n",
       "        <tr>\n",
       "            <th>Unique (%)</th>\n",
       "            <td>0.0%</td>\n",
       "        </tr>\n",
       "        <tr class=\"ignore\">\n",
       "            <th>Missing (%)</th>\n",
       "            <td>0.0%</td>\n",
       "        </tr>\n",
       "        <tr class=\"ignore\">\n",
       "            <th>Missing (n)</th>\n",
       "            <td>0</td>\n",
       "        </tr>\n",
       "    </table>\n",
       "</div>\n",
       "<div class=\"col-md-6 collapse in\" id=\"minifreqtable6157023207020549684\">\n",
       "    <table class=\"mini freq\">\n",
       "        <tr class=\"\">\n",
       "    <th>no</th>\n",
       "    <td>\n",
       "        <div class=\"bar\" style=\"width:100%\" data-toggle=\"tooltip\" data-placement=\"right\" data-html=\"true\"\n",
       "             data-delay=500 title=\"Percentage: 98.2%\">\n",
       "            44396\n",
       "        </div>\n",
       "        \n",
       "    </td>\n",
       "</tr><tr class=\"\">\n",
       "    <th>yes</th>\n",
       "    <td>\n",
       "        <div class=\"bar\" style=\"width:2%\" data-toggle=\"tooltip\" data-placement=\"right\" data-html=\"true\"\n",
       "             data-delay=500 title=\"Percentage: 1.8%\">\n",
       "            &nbsp;\n",
       "        </div>\n",
       "        815\n",
       "    </td>\n",
       "</tr>\n",
       "    </table>\n",
       "</div>\n",
       "<div class=\"col-md-12 text-right\">\n",
       "    <a role=\"button\" data-toggle=\"collapse\" data-target=\"#freqtable6157023207020549684, #minifreqtable6157023207020549684\"\n",
       "       aria-expanded=\"true\" aria-controls=\"collapseExample\">\n",
       "        Toggle details\n",
       "    </a>\n",
       "</div>\n",
       "<div class=\"col-md-12 extrapadding collapse\" id=\"freqtable6157023207020549684\">\n",
       "    \n",
       "<table class=\"freq table table-hover\">\n",
       "    <thead>\n",
       "    <tr>\n",
       "        <td class=\"fillremaining\">Value</td>\n",
       "        <td class=\"number\">Count</td>\n",
       "        <td class=\"number\">Frequency (%)</td>\n",
       "        <td style=\"min-width:200px\">&nbsp;</td>\n",
       "    </tr>\n",
       "    </thead>\n",
       "    <tr class=\"\">\n",
       "        <td class=\"fillremaining\">no</td>\n",
       "        <td class=\"number\">44396</td>\n",
       "        <td class=\"number\">98.2%</td>\n",
       "        <td>\n",
       "            <div class=\"bar\" style=\"width:100%\">&nbsp;</div>\n",
       "        </td>\n",
       "</tr><tr class=\"\">\n",
       "        <td class=\"fillremaining\">yes</td>\n",
       "        <td class=\"number\">815</td>\n",
       "        <td class=\"number\">1.8%</td>\n",
       "        <td>\n",
       "            <div class=\"bar\" style=\"width:2%\">&nbsp;</div>\n",
       "        </td>\n",
       "</tr>\n",
       "</table>\n",
       "</div>\n",
       "</div><div class=\"row variablerow\">\n",
       "    <div class=\"col-md-3 namecol\">\n",
       "        <p class=\"h4 pp-anchor\" id=\"pp_var_balance\">balance<br/>\n",
       "            <small>Numeric</small>\n",
       "        </p>\n",
       "    </div><div class=\"col-md-6\">\n",
       "    <div class=\"row\">\n",
       "        <div class=\"col-sm-6\">\n",
       "            <table class=\"stats \">\n",
       "                <tr>\n",
       "                    <th>Distinct count</th>\n",
       "                    <td>7168</td>\n",
       "                </tr>\n",
       "                <tr>\n",
       "                    <th>Unique (%)</th>\n",
       "                    <td>15.9%</td>\n",
       "                </tr>\n",
       "                <tr class=\"ignore\">\n",
       "                    <th>Missing (%)</th>\n",
       "                    <td>0.0%</td>\n",
       "                </tr>\n",
       "                <tr class=\"ignore\">\n",
       "                    <th>Missing (n)</th>\n",
       "                    <td>0</td>\n",
       "                </tr>\n",
       "                <tr class=\"ignore\">\n",
       "                    <th>Infinite (%)</th>\n",
       "                    <td>0.0%</td>\n",
       "                </tr>\n",
       "                <tr class=\"ignore\">\n",
       "                    <th>Infinite (n)</th>\n",
       "                    <td>0</td>\n",
       "                </tr>\n",
       "            </table>\n",
       "\n",
       "        </div>\n",
       "        <div class=\"col-sm-6\">\n",
       "            <table class=\"stats \">\n",
       "\n",
       "                <tr>\n",
       "                    <th>Mean</th>\n",
       "                    <td>1362.3</td>\n",
       "                </tr>\n",
       "                <tr>\n",
       "                    <th>Minimum</th>\n",
       "                    <td>-8019</td>\n",
       "                </tr>\n",
       "                <tr>\n",
       "                    <th>Maximum</th>\n",
       "                    <td>102127</td>\n",
       "                </tr>\n",
       "                <tr class=\"alert\">\n",
       "                    <th>Zeros (%)</th>\n",
       "                    <td>7.8%</td>\n",
       "                </tr>\n",
       "            </table>\n",
       "        </div>\n",
       "    </div>\n",
       "</div>\n",
       "<div class=\"col-md-3 collapse in\" id=\"minihistogram1053594598382210562\">\n",
       "    <img src=\"data:image/png;base64,iVBORw0KGgoAAAANSUhEUgAAAMgAAABLCAYAAAA1fMjoAAAABHNCSVQICAgIfAhkiAAAAAlwSFlzAAAPYQAAD2EBqD%2BnaQAAADh0RVh0U29mdHdhcmUAbWF0cGxvdGxpYiB2ZXJzaW9uMy4yLjIsIGh0dHA6Ly9tYXRwbG90bGliLm9yZy%2BWH4yJAAABwElEQVR4nO3XMWobURSG0TvC7Ui90Cwi4C0EvKB0hnQus5T0btN7FxJawAwpUkTjIlEawx8U7DdRck47jO4deB/idfM8z9XY4XCoYRhaj%2BXK7ff72u12TWfeNJ32U9/3VfXjg9fr9RIrcEXGcaxhGH6dm5YWCaTruqqqWq/XLwK5vX%2B8%2BPeeHu5eZS/%2Bbudz09Kq%2BUS4IgKBQCAQCAQCgUAgEAgEAoFAIBAIBAKBQCAQCAQCgUAgEAgEAoFAIBAIBAKBQCAQCAQCgUAgEAgEAoFAIBAIBAKBQCAQCAQCgUAgEAgEAoFAIBAIBAKBQCAQCAQCgUAgEAgEAoFAILhZeoHXcHv/ePE7Tw93b7AJ/xr/IBAIBAKBQCAQCBa5pM/zXFVV4zi%2BePb929cmO7z78Pnid758fP8Gm/A753NyPjctLRLINE1VVTUMwxLj/9jm09Ib/N%2BmaarNZtN0ZjcvkOXpdKrj8Vh931fXda3Hc2Xmea5pmmq73dZq1fZWsEggcC1c0iEQCAQCgUAgEAgEAoFAIBAIBAKBQCAQCAQCgUAgEAgEAoFAIBAIBAKBQCAQCAQCgUAgEAgEAoFAIBAIngHFD0Nz1sI6BQAAAABJRU5ErkJggg%3D%3D\">\n",
       "\n",
       "</div>\n",
       "<div class=\"col-md-12 text-right\">\n",
       "    <a role=\"button\" data-toggle=\"collapse\" data-target=\"#descriptives1053594598382210562,#minihistogram1053594598382210562\"\n",
       "       aria-expanded=\"false\" aria-controls=\"collapseExample\">\n",
       "        Toggle details\n",
       "    </a>\n",
       "</div>\n",
       "<div class=\"row collapse col-md-12\" id=\"descriptives1053594598382210562\">\n",
       "    <ul class=\"nav nav-tabs\" role=\"tablist\">\n",
       "        <li role=\"presentation\" class=\"active\"><a href=\"#quantiles1053594598382210562\"\n",
       "                                                  aria-controls=\"quantiles1053594598382210562\" role=\"tab\"\n",
       "                                                  data-toggle=\"tab\">Statistics</a></li>\n",
       "        <li role=\"presentation\"><a href=\"#histogram1053594598382210562\" aria-controls=\"histogram1053594598382210562\"\n",
       "                                   role=\"tab\" data-toggle=\"tab\">Histogram</a></li>\n",
       "        <li role=\"presentation\"><a href=\"#common1053594598382210562\" aria-controls=\"common1053594598382210562\"\n",
       "                                   role=\"tab\" data-toggle=\"tab\">Common Values</a></li>\n",
       "        <li role=\"presentation\"><a href=\"#extreme1053594598382210562\" aria-controls=\"extreme1053594598382210562\"\n",
       "                                   role=\"tab\" data-toggle=\"tab\">Extreme Values</a></li>\n",
       "\n",
       "    </ul>\n",
       "\n",
       "    <div class=\"tab-content\">\n",
       "        <div role=\"tabpanel\" class=\"tab-pane active row\" id=\"quantiles1053594598382210562\">\n",
       "            <div class=\"col-md-4 col-md-offset-1\">\n",
       "                <p class=\"h4\">Quantile statistics</p>\n",
       "                <table class=\"stats indent\">\n",
       "                    <tr>\n",
       "                        <th>Minimum</th>\n",
       "                        <td>-8019</td>\n",
       "                    </tr>\n",
       "                    <tr>\n",
       "                        <th>5-th percentile</th>\n",
       "                        <td>-172</td>\n",
       "                    </tr>\n",
       "                    <tr>\n",
       "                        <th>Q1</th>\n",
       "                        <td>72</td>\n",
       "                    </tr>\n",
       "                    <tr>\n",
       "                        <th>Median</th>\n",
       "                        <td>448</td>\n",
       "                    </tr>\n",
       "                    <tr>\n",
       "                        <th>Q3</th>\n",
       "                        <td>1428</td>\n",
       "                    </tr>\n",
       "                    <tr>\n",
       "                        <th>95-th percentile</th>\n",
       "                        <td>5768</td>\n",
       "                    </tr>\n",
       "                    <tr>\n",
       "                        <th>Maximum</th>\n",
       "                        <td>102127</td>\n",
       "                    </tr>\n",
       "                    <tr>\n",
       "                        <th>Range</th>\n",
       "                        <td>110146</td>\n",
       "                    </tr>\n",
       "                    <tr>\n",
       "                        <th>Interquartile range</th>\n",
       "                        <td>1356</td>\n",
       "                    </tr>\n",
       "                </table>\n",
       "            </div>\n",
       "            <div class=\"col-md-4 col-md-offset-2\">\n",
       "                <p class=\"h4\">Descriptive statistics</p>\n",
       "                <table class=\"stats indent\">\n",
       "                    <tr>\n",
       "                        <th>Standard deviation</th>\n",
       "                        <td>3044.8</td>\n",
       "                    </tr>\n",
       "                    <tr>\n",
       "                        <th>Coef of variation</th>\n",
       "                        <td>2.2351</td>\n",
       "                    </tr>\n",
       "                    <tr>\n",
       "                        <th>Kurtosis</th>\n",
       "                        <td>140.75</td>\n",
       "                    </tr>\n",
       "                    <tr>\n",
       "                        <th>Mean</th>\n",
       "                        <td>1362.3</td>\n",
       "                    </tr>\n",
       "                    <tr>\n",
       "                        <th>MAD</th>\n",
       "                        <td>1551.5</td>\n",
       "                    </tr>\n",
       "                    <tr class=\"\">\n",
       "                        <th>Skewness</th>\n",
       "                        <td>8.3603</td>\n",
       "                    </tr>\n",
       "                    <tr>\n",
       "                        <th>Sum</th>\n",
       "                        <td>61589682</td>\n",
       "                    </tr>\n",
       "                    <tr>\n",
       "                        <th>Variance</th>\n",
       "                        <td>9270600</td>\n",
       "                    </tr>\n",
       "                    <tr>\n",
       "                        <th>Memory size</th>\n",
       "                        <td>353.3 KiB</td>\n",
       "                    </tr>\n",
       "                </table>\n",
       "            </div>\n",
       "        </div>\n",
       "        <div role=\"tabpanel\" class=\"tab-pane col-md-8 col-md-offset-2\" id=\"histogram1053594598382210562\">\n",
       "            <img src=\"data:image/png;base64,iVBORw0KGgoAAAANSUhEUgAAAlgAAAGQCAYAAAByNR6YAAAABHNCSVQICAgIfAhkiAAAAAlwSFlzAAAPYQAAD2EBqD%2BnaQAAADh0RVh0U29mdHdhcmUAbWF0cGxvdGxpYiB2ZXJzaW9uMy4yLjIsIGh0dHA6Ly9tYXRwbG90bGliLm9yZy%2BWH4yJAAAgAElEQVR4nO3dfVyVVb7///eOmy0xsEclwJ2O4lQqoU3CjGKZlgneltWMlkVaDhPjLaGnMuecSc8klo41ZWl1PNqNidMgM81JGbAbzBFMUAzUymk0vAHRwo06Bojr%2B4c/rp9bMM250I2%2Bno/Hfjzc1/XZa61rnfOI96zr2ms7jDFGAAAAsM0VF3sAAAAAlxoCFgAAgM0IWAAAADYjYAEAANiMgAUAAGAzAhYAAIDNCFgAAAA2I2ABAADYjIAFAABgMwIWAACAzQhYAAAANiNgAQAA2IyABQAAYDMCFgAAgM0IWAAAADYjYAEAANiMgAUAAGAzAhYAAIDNCFgAAAA2I2ABAADYjIAFAABgMwIWAACAzQhYAAAANiNgAQAA2IyABQAAYDMCFgAAgM0IWAAAADYjYAEAANiMgAUAAGAzAhYAAIDNCFgAAAA2I2ABAADYjIAFAABgMwIWAACAzQhYAAAANiNgAQAA2IyABQAAYDMCFgAAgM38L/YALgcnTpzQvn37FBISIofDcbGHAwDAZcEYo8OHD8vtduuKKy7smhIB6wLYt2%2BfOnTocLGHAQDAZWn37t1q3779Be2TgHUBhISESDr5f%2BDQ0NCLPBoAAC4P1dXV6tChg/V3%2BEIiYF0ADbcFQ0NDCVgAAFxgF%2BPxHB5yBwAAsBkBCwAAwGYELAAAAJsRsAAAAGxGwAIAALBZiwhY6enpcjgcSk1NtY7V1NRo0qRJCgsLU3BwsO644w7t2bPH63NlZWUaPny4goODFRYWpsmTJ6u2ttarJi8vT7GxsWrVqpU6d%2B6sRYsWNer/5ZdfVlRUlFq1aqXY2Fh9/PHHzXOhAADgkuDzAWvjxo169dVX1aNHD6/jqampysrKUkZGhtatW6cjR45o2LBhqq%2BvlyTV19dr6NChOnr0qNatW6eMjAxlZmZq6tSpVhs7d%2B7UkCFD1LdvX23evFlPPvmkJk%2BerMzMTKtmxYoVSk1N1YwZM7R582b17dtXgwcPVllZ2YWZAAAA0PIYH3b48GFz7bXXmtzcXNOvXz8zZcoUY4wxhw4dMgEBASYjI8Oq3bt3r7niiitMdna2McaYVatWmSuuuMLs3bvXqlm%2BfLlxOp3G4/EYY4x57LHHTNeuXb36fOSRR0zv3r2t9z/72c9MSkqKV03Xrl3NE088cc7X4fF4jCSrXwAA0Pwu5t9fn17BmjBhgoYOHarbb7/d63hRUZHq6uqUkJBgHXO73YqJidH69eslSfn5%2BYqJiZHb7bZqEhMTVVNTo6KiIqvm1DYaagoLC1VXV6fa2loVFRU1qklISLD6aUpNTY2qq6u9XgAA4PLhszu5Z2RkqKioSIWFhY3OVVRUKDAwUK1bt/Y6HhERoYqKCqsmIiLC63zr1q0VGBj4nTURERE6fvy4Dh48KGOM6uvrm6xpaKMp6enpmjlz5rlfLAAAuKT45ArW7t27NWXKFC1btkytWrU6588ZY7y2w29qa/yz1RhjGh1vqua7tt2fPn26PB6P9dq9e/c5XwMAAGj5fDJgFRUVqbKyUrGxsfL395e/v7/y8vL0wgsvyN/fXxEREaqtrVVVVZXX5yorK63VpsjIyEarTFVVVaqrq/vOmsrKSvn7%2B6tt27YKCwuTn59fkzWnr2qdyul0Wr87yO8PAgBw%2BfHJW4QDBgxQSUmJ17GHHnpIXbt21eOPP64OHTooICBAubm5GjlypCSpvLxcpaWlevbZZyVJ8fHxevrpp1VeXq527dpJknJycuR0OhUbG2vV/PWvf/XqJycnR3FxcQoICJAkxcbGKjc3V3fddZdVk5ubqzvvvLN5Lv57ipuRfbGHcM4Knx50sYcAAMAF4ZMBKyQkRDExMV7HgoOD1bZtW%2Bv4uHHjNHXqVLVt21Zt2rTRtGnT1L17d%2BuB%2BISEBEVHRyspKUlz587VN998o2nTpik5OdlaUUpJSdGCBQuUlpam5ORk5efna/HixVq%2BfLnVb1pampKSkhQXF6f4%2BHi9%2BuqrKisrU0pKygWaDQAA0NL4ZMA6F88995z8/f01cuRIHTt2TAMGDNDSpUvl5%2BcnSfLz89N7772n8ePH66abblJQUJBGjx6tefPmWW1ERUVp1apVevTRR/XSSy/J7XbrhRde0D333GPVjBo1Sl9//bVmzZql8vJyxcTEaNWqVerYseMFv2YAANAyOEzDU91oNtXV1XK5XPJ4PLY/j8UtQgAAmtacf3/PxicfcgcAAGjJCFgAAAA2I2ABAADYjIAFAABgMwIWAACAzQhYAAAANiNgAQAA2IyABQAAYDMCFgAAgM0IWAAAADYjYAEAANiMgAUAAGAzAhYAAIDNCFgAAAA2I2ABAADYjIAFAABgMwIWAACAzQhYAAAANiNgAQAA2IyABQAAYDMCFgAAgM0IWAAAADYjYAEAANiMgAUAAGAzAhYAAIDNCFgAAAA2I2ABAADYzCcD1sKFC9WjRw%2BFhoYqNDRU8fHxWr16tXW%2Bf//%2BcjgcXq97773Xq42qqiolJSXJ5XLJ5XIpKSlJhw4d8qopKSlRv379FBQUpKuvvlqzZs2SMcarJjMzU9HR0XI6nYqOjlZWVlbzXTgAALgk%2BGTAat%2B%2BvebMmaPCwkIVFhbqtttu05133qmtW7daNcnJySovL7der7zyilcbo0ePVnFxsbKzs5Wdna3i4mIlJSVZ56urqzVw4EC53W5t3LhRL774oubNm6f58%2BdbNfn5%2BRo1apSSkpK0ZcsWJSUlaeTIkdqwYUPzTwIAAGixHOb0JRsf1aZNG82dO1fjxo1T//799ZOf/ETPP/98k7Xbt29XdHS0CgoK1KtXL0lSQUGB4uPj9dlnn6lLly5auHChpk%2Bfrv3798vpdEqS5syZoxdffFF79uyRw%2BHQqFGjVF1d7bV6NmjQILVu3VrLly8/57FXV1fL5XLJ4/EoNDT035iFxuJmZNvaXnMqfHrQxR4CAOAy0px/f8/GJ1ewTlVfX6%2BMjAwdPXpU8fHx1vFly5YpLCxM119/vaZNm6bDhw9b5/Lz8%2BVyuaxwJUm9e/eWy%2BXS%2BvXrrZp%2B/fpZ4UqSEhMTtW/fPu3atcuqSUhI8BpPYmKi1QYAAEBT/C/2AM6kpKRE8fHx%2Bvbbb/WDH/xAWVlZio6OliTdf//9ioqKUmRkpEpLSzV9%2BnRt2bJFubm5kqSKigqFh4c3ajM8PFwVFRVWTadOnbzOR0REWOeioqJUUVFhHTu1pqGNM6mpqVFNTY31vrq6%2BvtdPAAAaNF8NmB16dJFxcXFOnTokDIzMzVmzBjl5eUpOjpaycnJVl1MTIyuvfZaxcXFadOmTerZs6ckyeFwNGrTGON1/PSahrulZ6tpqu1Tpaena%2BbMmed4pQAA4FLjs7cIAwMDdc011yguLk7p6em64YYb9Ic//KHJ2p49eyogIEA7duyQJEVGRmr//v2N6g4cOGCtSEVGRjZaiaqsrJSks9acvqp1uunTp8vj8Viv3bt3n8MVAwCAS4XPBqzTGWO8brudauvWraqrq1O7du0kSfHx8fJ4PPrkk0%2Bsmg0bNsjj8ahPnz5Wzdq1a1VbW2vV5OTkyO12W7cO4%2BPjrduOp9Y0tHEmTqfT2mKi4QUAAC4fPnmL8Mknn9TgwYPVoUMHHT58WBkZGfroo4%2BUnZ2tL7/8UsuWLdOQIUMUFhambdu2aerUqbrxxht10003SZK6deumQYMGKTk52dq%2B4Ve/%2BpWGDRumLl26SDq5jcPMmTM1duxYPfnkk9qxY4dmz56t//qv/7JuAU6ZMkW33HKLnnnmGd155536y1/%2BojVr1mjdunUXZ2IAAECL4JMrWPv371dSUpK6dOmiAQMGaMOGDcrOztbAgQMVGBio999/X4mJierSpYsmT56shIQErVmzRn5%2BflYby5YtU/fu3ZWQkKCEhAT16NFDb775pnXe5XIpNzdXe/bsUVxcnMaPH6%2B0tDSlpaVZNX369FFGRoaWLFmiHj16aOnSpVqxYoXXtxMBAABO12L2wWrJ2AfrJPbBAgBcSOyDBQAAcAkhYAEAANiMgAUAAGAzAhYAAIDNCFgAAAA2I2ABAADYjIAFAABgMwIWAACAzQhYAAAANiNgAQAA2IyABQAAYDMCFgAAgM0IWAAAADYjYAEAANiMgAUAAGAzAhYAAIDNCFgAAAA2I2ABAADYjIAFAABgMwIWAACAzQhYAAAANiNgAQAA2IyABQAAYDMCFgAAgM0IWAAAADYjYAEAANiMgAUAAGAzAhYAAIDNfDZgLVy4UD169FBoaKhCQ0MVHx%2Bv1atXW%2Bdramo0adIkhYWFKTg4WHfccYf27Nnj1UZZWZmGDx%2Bu4OBghYWFafLkyaqtrfWqycvLU2xsrFq1aqXOnTtr0aJFjcby8ssvKyoqSq1atVJsbKw%2B/vjj5rloAABwSfDZgNW%2BfXvNmTNHhYWFKiws1G233aY777xTW7dulSSlpqYqKytLGRkZWrdunY4cOaJhw4apvr5eklRfX6%2BhQ4fq6NGjWrdunTIyMpSZmampU6dafezcuVNDhgxR3759tXnzZj355JOaPHmyMjMzrZoVK1YoNTVVM2bM0ObNm9W3b18NHjxYZWVlF3ZCAABAi%2BEwxpiLPYhz1aZNG82dO1c///nPddVVV%2BnNN9/UqFGjJEn79u1Thw4dtGrVKiUmJmr16tUaNmyYdu/eLbfbLUnKyMjQ2LFjVVlZqdDQUD3%2B%2BON69913tX37dquPlJQUbdmyRfn5%2BZKkXr16qWfPnlq4cKFV061bN40YMULp6ennNO7q6mq5XC55PB6FhobaNR2SpLgZ2ba215wKnx50sYcAALiMNOff37Px2RWsU9XX1ysjI0NHjx5VfHy8ioqKVFdXp4SEBKvG7XYrJiZG69evlyTl5%2BcrJibGCleSlJiYqJqaGhUVFVk1p7bRUFNYWKi6ujrV1taqqKioUU1CQoLVT1NqampUXV3t9QIAAJcPnw5YJSUl%2BsEPfiCn06mUlBRlZWUpOjpaFRUVCgwMVOvWrb3qIyIiVFFRIUmqqKhQRESE1/nWrVsrMDDwO2siIiJ0/PhxHTx4UAcPHlR9fX2TNQ1tNCU9PV0ul8t6dejQ4bznAAAAtDw%2BHbC6dOmi4uJiFRQU6Ne//rXGjBmjbdu2nbHeGCOHw2G9P/Xf51rTcMf0bDVNtd1g%2BvTp8ng81mv37t1nrAUAAJce/4s9gO8SGBioa665RpIUFxenjRs36g9/%2BINGjRql2tpaVVVVea1iVVZWqk%2BfPpKkyMhIbdiwwau9qqoq1dXVWStSkZGRjVaiKisr5e/vr7Zt28oYIz8/vyZrTl/VOpXT6ZTT6Tz/CwcAAC2aT69gnc4Yo5qaGsXGxiogIEC5ubnWufLycpWWlloBKz4%2BXqWlpSovL7dqcnJy5HQ6FRsba9Wc2kZDTVxcnAICAhQYGKjY2NhGNbm5uVY/AAAAp/PZFawnn3xSgwcPVocOHXT48GFlZGToo48%2BUnZ2tlwul8aNG6epU6eqbdu2atOmjaZNm6bu3bvr9ttvl3TyQfTo6GglJSVp7ty5%2BuabbzRt2jQlJydb3yRISUnRggULlJaWpuTkZOXn52vx4sVavny5NY60tDQlJSUpLi5O8fHxevXVV1VWVqaUlJSLMi8AAMD3%2BWzA2r9/v5KSklReXi6Xy6UePXooOztbAwcOlCQ999xz8vf318iRI3Xs2DENGDBAS5culZ%2BfnyTJz89P7733nsaPH6%2BbbrpJQUFBGj16tObNm2f1ERUVpVWrVunRRx/VSy%2B9JLfbrRdeeEH33HOPVTNq1Ch9/fXXmjVrlsrLyxUTE6NVq1apY8eOF3ZCAABAi9Gi9sFqqdgH6yT2wQIAXEjsgwUAAHAJIWABAADYjIAFAABgMwIWAACAzQhYAAAANiNgAQAA2IyABQAAYDMCFgAAgM0IWAAAADYjYAEAANiMgAUAAGAzAhYAAIDNCFgAAAA2I2ABAADYjIAFAABgMwIWAACAzQhYAAAANiNgAQAA2IyABQAAYDMCFgAAgM0IWAAAADYjYAEAANiMgAUAAGAzAhYAAIDNCFgAAAA2I2ABAADYjIAFAABgM58MWOnp6frpT3%2BqkJAQhYeHa8SIEfr888%2B9avr37y%2BHw%2BH1uvfee71qqqqqlJSUJJfLJZfLpaSkJB06dMirpqSkRP369VNQUJCuvvpqzZo1S8YYr5rMzExFR0fL6XQqOjpaWVlZzXPhAADgkuCTASsvL08TJkxQQUGBcnNzdfz4cSUkJOjo0aNedcnJySovL7der7zyitf50aNHq7i4WNnZ2crOzlZxcbGSkpKs89XV1Ro4cKDcbrc2btyoF198UfPmzdP8%2BfOtmvz8fI0aNUpJSUnasmWLkpKSNHLkSG3YsKF5JwEAALRYDnP6co0POnDggMLDw5WXl6dbbrlF0skVrJ/85Cd6/vnnm/zM9u3bFR0drYKCAvXq1UuSVFBQoPj4eH322Wfq0qWLFi5cqOnTp2v//v1yOp2SpDlz5ujFF1/Unj175HA4NGrUKFVXV2v16tVW24MGDVLr1q21fPnycxp/dXW1XC6XPB6PQkND/52paCRuRrat7TWnwqcHXewhAAAuI8359/dsfHIF63Qej0eS1KZNG6/jy5YtU1hYmK6//npNmzZNhw8fts7l5%2BfL5XJZ4UqSevfuLZfLpfXr11s1/fr1s8KVJCUmJmrfvn3atWuXVZOQkODVb2JiotUGAADA6fztbnDnzp2KioqyrT1jjNLS0nTzzTcrJibGOn7//fcrKipKkZGRKi0t1fTp07Vlyxbl5uZKkioqKhQeHt6ovfDwcFVUVFg1nTp18jofERFhnYuKilJFRYV17NSahjaaUlNTo5qaGut9dXX197toAADQotkesK655hrdcsstGjdunH7%2B85%2BrVatW/1Z7EydO1Keffqp169Z5HU9OTrb%2BHRMTo2uvvVZxcXHatGmTevbsKUlyOByN2jPGeB0/vabhjunZappqu0F6erpmzpx5tksDAACXKNtvEW7ZskU33nijpk6dqsjISD3yyCP65JNPzqutSZMm6d1339WHH36o9u3bf2dtz549FRAQoB07dkiSIiMjtX///kZ1Bw4csFakIiMjG61EVVZWStJZa05f1TrV9OnT5fF4rNfu3bvPcqUAAOBSYnvAiomJ0fz587V3714tWbJEFRUVuvnmm3X99ddr/vz5OnDgwFnbMMZo4sSJWrlypT744INzuuW4detW1dXVqV27dpKk%2BPh4eTwer3C3YcMGeTwe9enTx6pZu3atamtrrZqcnBy53W7r1mF8fLx12/HUmoY2muJ0OhUaGur1AgAAl49me8jd399fd911l/74xz/qmWee0Zdffqlp06apffv2evDBB1VeXn7Gz06YMEFvvfWW3n77bYWEhKiiokIVFRU6duyYJOnLL7/UrFmzVFhYqF27dmnVqlX6xS9%2BoRtvvFE33XSTJKlbt24aNGiQkpOTVVBQoIKCAiUnJ2vYsGHq0qWLpJPbODidTo0dO1alpaXKysrS7NmzlZaWZt0CnDJlinJycvTMM8/os88%2B0zPPPKM1a9YoNTW1uaYOAAC0cM0WsAoLCzV%2B/Hi1a9dO8%2BfP17Rp0/Tll1/qgw8%2B0N69e3XnnXee8bMLFy6Ux%2BNR//791a5dO%2Bu1YsUKSVJgYKDef/99JSYmqkuXLpo8ebISEhK0Zs0a%2Bfn5We0sW7ZM3bt3V0JCghISEtSjRw%2B9%2Beab1nmXy6Xc3Fzt2bNHcXFxGj9%2BvNLS0pSWlmbV9OnTRxkZGVqyZIl69OihpUuXasWKFV7fTgQAADiV7ftgzZ8/X0uWLNHnn3%2BuIUOG6Je//KWGDBmiK674/7PcP/7xD3Xt2lXHjx%2B3s2ufxT5YJ7EPFgDgQrqY%2B2DZ/i3ChQsX6uGHH9ZDDz2kyMjIJmt%2B9KMfafHixXZ3DQAA4BNsD1gN3%2BL7LoGBgRozZozdXQMAAPgE25/BWrJkid55551Gx9955x29/vrrdncHAADgc2wPWHPmzFFYWFij4%2BHh4Zo9e7bd3QEAAPgc2wPWV1991eS%2BVR07dlRZWZnd3QEAAPgc2wNWeHi4Pv3000bHt2zZorZt29rdHQAAgM%2BxPWDde%2B%2B9mjx5sj788EPV19ervr5eH3zwgaZMmaJ7773X7u4AAAB8ju3fIvzd736nr776SgMGDJC//8nmT5w4oQcffJBnsAAAwGXB9oAVGBioFStW6L//%2B7%2B1ZcsWBQUFqXv37urYsaPdXQEAAPgk2wNWg%2Buuu07XXXddczUPAADgs2wPWPX19Vq6dKnef/99VVZW6sSJE17nP/jgA7u7BAAA8Cm2B6wpU6Zo6dKlGjp0qGJiYuRwOOzuAgAAwKfZHrAyMjL0xz/%2BUUOGDLG7aQAAgBbB9m0aAgMDdc0119jdLAAAQIthe8CaOnWq/vCHP8gYY3fTAAAALYLttwjXrVunDz/8UKtXr9b111%2BvgIAAr/MrV660u0sAAACfYnvA%2BuEPf6i77rrL7mYBAABaDNsD1pIlS%2BxuEgAAoEWx/RksSTp%2B/LjWrFmjV155RYcPH5Yk7du3T0eOHGmO7gAAAHyK7StYX331lQYNGqSysjLV1NRo4MCBCgkJ0bPPPqtvv/1WixYtsrtLAAAAn2L7CtaUKVMUFxenqqoqBQUFWcfvuusuvf/%2B%2B3Z3BwAA4HOa5VuEf//73xUYGOh1vGPHjtq7d6/d3QEAAPgc21ewTpw4ofr6%2BkbH9%2BzZo5CQELu7AwAA8Dm2B6yBAwfq%2Beeft947HA4dOXJEv/3tb/n5HAAAcFmw/Rbhc889p1tvvVXR0dH69ttvNXr0aO3YsUNhYWFavny53d0BAAD4HNsDltvtVnFxsZYvX65NmzbpxIkTGjdunO6//36vh94BAAAuVbYHLEkKCgrSww8/rIcffrg5mgcAAPBptgesN9544zvPP/jgg3Z3CQAA4FOaZR%2BsU1/jx4/X2LFj9atf/Uqpqann3E56erp%2B%2BtOfKiQkROHh4RoxYoQ%2B//xzr5qamhpNmjRJYWFhCg4O1h133KE9e/Z41ZSVlWn48OEKDg5WWFiYJk%2BerNraWq%2BavLw8xcbGqlWrVurcuXOTm6G%2B/PLLioqKUqtWrRQbG6uPP/74e8wKAAC4nNgesKqqqrxeR44c0eeff66bb775ez3knpeXpwkTJqigoEC5ubk6fvy4EhISdPToUasmNTVVWVlZysjI0Lp163TkyBENGzbM2iaivr5eQ4cO1dGjR7Vu3TplZGQoMzNTU6dOtdrYuXOnhgwZor59%2B2rz5s168sknNXnyZGVmZlo1K1asUGpqqmbMmKHNmzerb9%2B%2BGjx4sMrKymyYMQAAcKlxGGPMheiosLBQDzzwgD777LPz%2BvyBAwcUHh6uvLw83XLLLfJ4PLrqqqv05ptvatSoUZJO/t5hhw4dtGrVKiUmJmr16tUaNmyYdu/eLbfbLUnKyMjQ2LFjVVlZqdDQUD3%2B%2BON69913tX37dquvlJQUbdmyRfn5%2BZKkXr16qWfPnlq4cKFV061bN40YMULp6elnHXt1dbVcLpc8Ho9CQ0PP6/rPJG5Gtq3tNafCpwdd7CEAAC4jzfn392ya5ceem%2BLn56d9%2B/ad9%2Bc9Ho8kqU2bNpKkoqIi1dXVKSEhwapxu92KiYnR%2BvXrJUn5%2BfmKiYmxwpUkJSYmqqamRkVFRVbNqW001BQWFqqurk61tbUqKipqVJOQkGD1c7qamhpVV1d7vQAAwOXD9ofc3333Xa/3xhiVl5drwYIFuummm86rTWOM0tLSdPPNNysmJkaSVFFRocDAQLVu3dqrNiIiQhUVFVZNRESE1/nWrVsrMDDwO2siIiJ0/PhxHTx4UMYY1dfXN1nT0Mbp0tPTNXPmzPO6VgAA0PLZHrBGjBjh9d7hcOiqq67Sbbfdpt///vfn1ebEiRP16aefat26dWetNcbI4XB49f99axrumjocDq9/f1cbp5o%2BfbrS0tKs99XV1erQocNZxw4AAC4NtgesEydO2NrepEmT9O6772rt2rVq3769dTwyMlK1tbWqqqryWsWqrKxUnz59rJoNGzZ4tVdVVaW6ujprRSoyMrLRSlRlZaX8/f3Vtm1bGWPk5%2BfXZM3pq1oNnE6nnE7n%2BV80AABo0S7YM1jflzFGEydO1MqVK/XBBx8oKirK63xsbKwCAgKUm5trHSsvL1dpaakVsOLj41VaWqry8nKrJicnR06nU7GxsVbNqW001MTFxSkgIECBgYGKjY1tVJObm2v1AwAAcCrbV7BOvTV2NvPnzz/juQkTJujtt9/WX/7yF4WEhFgrSC6XS0FBQXK5XBo3bpymTp2qtm3bqk2bNpo2bZq6d%2B%2Bu22%2B/XdLJB9Gjo6OVlJSkuXPn6ptvvtG0adOUnJxsfZsgJSVFCxYsUFpampKTk5Wfn6/Fixd7bSmRlpampKQkxcXFKT4%2BXq%2B%2B%2BqrKysqUkpJyPlMEAAAucbYHrM2bN2vTpk06fvy4unTpIkn64osv5Ofnp549e1p1Z3p%2BqUHDlgj9%2B/f3Or5kyRKNHTtW0skflvb399fIkSN17NgxDRgwQEuXLpWfn5%2Bkk99cfO%2B99zR%2B/HjddNNNCgoK0ujRozVv3jyrvaioKK1atUqPPvqoXnrpJbndbr3wwgu65557rJpRo0bp66%2B/1qxZs1ReXq6YmBitWrVKHTt2PO95AgAAly7b98GaP3%2B%2BPvroI73%2B%2BuvWs1FVVVV66KGH1LdvX69NPi8X7IN1EvtgAQAupEtqH6zf//73Sk9P93rwvHXr1vrd73533t8iBAAAaElsD1jV1dXav39/o%2BOVlZU6fPiw3d0BAAD4HNsD1l133aWHHnpIf/rTn7Rnzx7t2bNHf/rTnzRu3DjdfffddncHAADgc2x/yH3RokWaNm2aHnjgAdXV1Z3sxGGsDy0AAB1dSURBVN9f48aN09y5c%2B3uDgAAwOfYHrCuvPJKvfzyy5o7d66%2B/PJLGWN0zTXXKDg42O6uAAAAfFKzbTRaXl6u8vJyXXfddQoODpbNX1YEAADwWbYHrK%2B//loDBgzQddddpyFDhli7qP/yl7%2B8LLdoAAAAlx/bA9ajjz6qgIAAlZWV6corr7SOjxo1StnZLWfPJgAAgPNl%2BzNYOTk5%2Btvf/ub1w8ySdO211%2Bqrr76yuzsAAACfY/sK1tGjR71WrhocPHhQTqfT7u4AAAB8ju0B65ZbbtEbb7xhvXc4HDpx4oTmzp2rW2%2B91e7uAAAAfI7ttwjnzp2r/v37q7CwULW1tXrssce0detWffPNN/r73/9ud3cAAAA%2Bx/YVrOjoaH366af62c9%2BpoEDB%2Bro0aO6%2B%2B67tXnzZv34xz%2B2uzsAAACfY%2BsKVl1dnRISEvTKK69o5syZdjYNAADQYti6ghUQEKDS0lI5HA47mwUAAGhRbL9F%2BOCDD2rx4sV2NwsAANBi2P6Qe21trf7nf/5Hubm5iouLa/QbhPPnz7e7SwAAAJ9iW8D65z//qU6dOqm0tFQ9e/aUJH3xxRdeNdw6BAAAlwPbAta1116r8vJyffjhh5JO/jTOCy%2B8oIiICLu6AAAAaBFsewbLGOP1fvXq1Tp69KhdzQMAALQYtj/k3uD0wAUAAHC5sC1gORyORs9Y8cwVAAC4HNn2DJYxRmPHjrV%2B0Pnbb79VSkpKo28Rrly50q4uAQAAfJJtAWvMmDFe7x944AG7mgYAAGhRbAtYS5YssaspAACAFq3ZHnIHAAC4XBGwAAAAbOazAWvt2rUaPny43G63HA6H/vznP3udHzt2rPXNxYZX7969vWpqamo0adIkhYWFKTg4WHfccYf27NnjVVNWVqbhw4crODhYYWFhmjx5smpra71q8vLyFBsbq1atWqlz585atGhR81w0AAC4JPhswDp69KhuuOEGLViw4Iw1gwYNUnl5ufVatWqV1/nU1FRlZWUpIyND69at05EjRzRs2DDV19dLkurr6zV06FAdPXpU69atU0ZGhjIzMzV16lSrjZ07d2rIkCHq27evNm/erCeffFKTJ09WZmZm81w4AABo8Wz/sWe7DB48WIMHD/7OGqfTqcjIyCbPeTweLV68WG%2B%2B%2BaZuv/12SdJbb72lDh06aM2aNUpMTFROTo62bdum3bt3y%2B12S5J%2B//vfa%2BzYsXr66acVGhqqRYsW6Uc/%2BpGef/55SVK3bt1UWFioefPm6Z577rHxigEAwKXCZ1ewzsVHH32k8PBwXXfddUpOTlZlZaV1rqioSHV1dUpISLCOud1uxcTEaP369ZKk/Px8xcTEWOFKkhITE1VTU6OioiKr5tQ2GmoKCwtVV1fXnJcHAABaKJ9dwTqbwYMH6xe/%2BIU6duyonTt36j//8z912223qaioSE6nUxUVFQoMDFTr1q29PhcREaGKigpJUkVFRaMfo27durUCAwO/syYiIkLHjx/XwYMH1a5du0Zjq6mpUU1NjfW%2BurralmsGAAAtQ4sNWKNGjbL%2BHRMTo7i4OHXs2FHvvfee7r777jN%2Bzhjj9RM%2BTf2cz9lqGn5n8Uw/BZSenq6ZM2ee24UAAIBLTou%2BRXiqdu3aqWPHjtqxY4ckKTIyUrW1taqqqvKqq6ystFakIiMjrZWqBlVVVaqrq/vOmsrKSvn7%2B6tt27ZNjmX69OnyeDzWa/fu3bZcIwAAaBkumYD19ddfa/fu3dYtu9jYWAUEBCg3N9eqKS8vV2lpqfr06SNJio%2BPV2lpqcrLy62anJwcOZ1OxcbGWjWnttFQExcXp4CAgCbH4nQ6FRoa6vUCAACXD58NWEeOHFFxcbGKi4slndwuobi4WGVlZTpy5IimTZum/Px87dq1Sx999JGGDx%2BusLAw3XXXXZIkl8ulcePGaerUqXr//fe1efNmPfDAA%2Brevbv1rcKEhARFR0crKSlJmzdv1vvvv69p06YpOTnZCkUpKSn66quvlJaWpu3bt%2Bt///d/tXjxYk2bNu3iTAwAAPB5PvsMVmFhoW699VbrfVpamqSTPyq9cOFClZSU6I033tChQ4fUrl073XrrrVqxYoVCQkKszzz33HPy9/fXyJEjdezYMQ0YMEBLly6Vn5%2BfJMnPz0/vvfeexo8fr5tuuklBQUEaPXq05s2bZ7URFRWlVatW6dFHH9VLL70kt9utF154gS0aAADAGTlMwxPbaDbV1dVyuVzyeDy23y6Mm5Fta3vNqfDpQRd7CACAy0hz/v09G5%2B9RQgAANBSEbAAAABsRsACAACwGQELAADAZgQsAAAAmxGwAAAAbEbAAgAAsBkBCwAAwGYELAAAAJsRsAAAAGxGwAIAALAZAQsAAMBmBCwAAACbEbAAAABsRsACAACwGQELAADAZgQsAAAAmxGwAAAAbEbAAgAAsBkBCwAAwGYELAAAAJsRsAAAAGxGwAIAALAZAQsAAMBmBCwAAACbEbAAAABsRsACAACwGQELAADAZj4bsNauXavhw4fL7XbL4XDoz3/%2Bs9d5Y4yeeuopud1uBQUFqX///tq6datXTVVVlZKSkuRyueRyuZSUlKRDhw551ZSUlKhfv34KCgrS1VdfrVmzZskY41WTmZmp6OhoOZ1ORUdHKysrq3kuGgAAXBJ8NmAdPXpUN9xwgxYsWNDk%2BWeffVbz58/XggULtHHjRkVGRmrgwIE6fPiwVTN69GgVFxcrOztb2dnZKi4uVlJSknW%2BurpaAwcOlNvt1saNG/Xiiy9q3rx5mj9/vlWTn5%2BvUaNGKSkpSVu2bFFSUpJGjhypDRs2NN/FAwCAFs1hTl%2Bu8UEOh0NZWVkaMWKEpJOrV263W6mpqXr88cclSTU1NYqIiNAzzzyjRx55RNu3b1d0dLQKCgrUq1cvSVJBQYHi4%2BP12WefqUuXLlq4cKGmT5%2Bu/fv3y%2Bl0SpLmzJmjF198UXv27JHD4dCoUaNUXV2t1atXW%2BMZNGiQWrdureXLl5/T%2BKurq%2BVyueTxeBQaGmrn1ChuRrat7TWnwqcHXewhAAAuI8359/dsfHYF67vs3LlTFRUVSkhIsI45nU7169dP69evl3Ry5cnlclnhSpJ69%2B4tl8vlVdOvXz8rXElSYmKi9u3bp127dlk1p/bTUNPQRlNqampUXV3t9QIAAJePFhmwKioqJEkRERFexyMiIqxzFRUVCg8Pb/TZ8PBwr5qm2ji1jzPVNJxvSnp6uvXcl8vlUocOHb7P5QEAgBauRQasBg6Hw%2Bu9Mcbr2Onnz6Wm4Y7p2WqaarvB9OnT5fF4rNfu3bvP4WoAAMClwv9iD%2BB8REZGSjq5utSuXTvreGVlpbXaFBkZqf379zf67IEDB7xqTl%2BJqqyslKSz1py%2BqnUqp9PpddsRAABcXlrkClZUVJQiIyOVm5trHautrVVeXp769OkjSYqPj5fH49Enn3xi1WzYsEEej8erZu3ataqtrbVqcnJy5Ha71alTJ6vm1H4aahraAAAAOJ3PBqwjR46ouLhYxcXFkk4%2B2F5cXKyysjI5HA6lpqZq9uzZysrKUmlpqcaOHasrr7xSo0ePliR169ZNgwYNUnJysgoKClRQUKDk5GQNGzZMXbp0kXRyGwen06mxY8eqtLRUWVlZmj17ttLS0qxbgFOmTFFOTo6eeeYZffbZZ3rmmWe0Zs0apaamXpyJAQAAPs9nbxEWFhbq1ltvtd6npaVJksaMGaOlS5fqscce07FjxzR%2B/HhVVVWpV69eysnJUUhIiPWZZcuWafLkyda3AO%2B44w6vfbVcLpdyc3M1YcIExcXFqXXr1kpLS7P6kqQ%2BffooIyNDv/nNb/Sf//mf%2BvGPf6wVK1Z4fTsRAADgVC1iH6yWjn2wTmIfLADAhcQ%2BWAAAAJcQAhYAAIDNCFgAAAA2I2ABAADYjIAFAABgMwIWAACAzQhYAAAANiNgAQAA2IyABQAAYDMCFgAAgM0IWAAAADYjYAEAANiMgAUAAGAzAhYAAIDNCFgAAAA2I2ABAADYjIAFAABgMwIWAACAzQhYAAAANiNgAQAA2IyABQAAYDMCFgAAgM0IWAAAADYjYAEAANiMgAUAAGAzAhYAAIDNCFgAAAA2a7EB66mnnpLD4fB6RUZGWueNMXrqqafkdrsVFBSk/v37a%2BvWrV5tVFVVKSkpSS6XSy6XS0lJSTp06JBXTUlJifr166egoCBdffXVmjVrlowxF%2BQaAQBAy9RiA5YkXX/99SovL7deJSUl1rlnn31W8%2BfP14IFC7Rx40ZFRkZq4MCBOnz4sFUzevRoFRcXKzs7W9nZ2SouLlZSUpJ1vrq6WgMHDpTb7dbGjRv14osvat68eZo/f/4FvU4AANCy%2BF/sAfw7/P39vVatGhhj9Pzzz2vGjBm6%2B%2B67JUmvv/66IiIi9Pbbb%2BuRRx7R9u3blZ2drYKCAvXq1UuS9Nprryk%2BPl6ff/65unTpomXLlunbb7/V0qVL5XQ6FRMToy%2B%2B%2BELz589XWlqaHA7HBb1eAADQMrTogLVjxw653W45nU716tVLs2fPVufOnbVz505VVFQoISHBqnU6nerXr5/Wr1%2BvRx55RPn5%2BXK5XFa4kqTevXvL5XJp/fr16tKli/Lz89WvXz85nU6rJjExUdOnT9euXbsUFRV1Qa%2B3pYubkX2xh/C9FD496GIPAQDQQrXYW4S9evXSG2%2B8ob/97W967bXXVFFRoT59%2Bujrr79WRUWFJCkiIsLrMxEREda5iooKhYeHN2o3PDzcq6apNhrOnUlNTY2qq6u9XgAA4PLRYlewBg8ebP27e/fuio%2BP149//GO9/vrr6t27tyQ1uoVnjPE61tQtvrPVNDzg/l23B9PT0zVz5szvcTUAAOBS0mJXsE4XHBys7t27a8eOHdZzWaevMlVWVlorUJGRkdq/f3%2Bjdg4cOOBV01QbUuPVsVNNnz5dHo/Heu3evfv8LwwAALQ4l0zAqqmp0fbt29WuXTtFRUUpMjJSubm51vna2lrl5eWpT58%2BkqT4%2BHh5PB598sknVs2GDRvk8Xi8atauXava2lqrJicnR263W506dTrjWJxOp0JDQ71eAADg8tFiA9a0adOUl5ennTt3asOGDfr5z3%2Bu6upqjRkzRg6HQ6mpqZo9e7aysrJUWlqqsWPH6sorr9To0aMlSd26ddOgQYOUnJysgoICFRQUKDk5WcOGDVOXLl0kndzGwel0auzYsSotLVVWVpZmz57NNwgBAMB3arHPYO3Zs0f33XefDh48qKuuukq9e/dWQUGBOnbsKEl67LHHdOzYMY0fP15VVVXq1auXcnJyFBISYrWxbNkyTZ482fq24R133KEFCxZY510ul3JzczVhwgTFxcWpdevWSktLU1pa2oW9WAAA0KI4DNuSN7vq6mq5XC55PB7bbxe2tK0PWhK2aQCAlq05//6eTYu9RQgAAOCrCFgAAAA2I2ABAADYjIAFAABgMwIWAACAzQhYAAAANiNgAQAA2IyABQAAYDMCFgAAgM0IWAAAADYjYAEAANiMgAUAAGAzAhYAAIDNCFgAAAA2I2ABAADYjIAFAABgMwIWAACAzQhYAAAANiNgAQAA2IyABQAAYDMCFgAAgM0IWAAAADYjYAEAANiMgAUAAGAzAhYAAIDNCFgAAAA2I2ABAADYjIAFAABgMwLWOXr55ZcVFRWlVq1aKTY2Vh9//PHFHhIAAPBRBKxzsGLFCqWmpmrGjBnavHmz%2Bvbtq8GDB6usrOxiDw0AAPgghzHGXOxB%2BLpevXqpZ8%2BeWrhwoXWsW7duGjFihNLT08/6%2BerqarlcLnk8HoWGhto6trgZ2ba2h5ar8OlBF3sIAOBTmvPv79n4X9DeWqDa2loVFRXpiSee8DqekJCg9evXN/mZmpoa1dTUWO89Ho%2Bkk/%2BHtlt9zVHb20TL1Bz//wUALVnDfxcvxloSAessDh48qPr6ekVERHgdj4iIUEVFRZOfSU9P18yZMxsd79ChQ7OMEZAk1%2B8v9ggAwDcdPnxYLpfrgvZJwDpHDofD670xptGxBtOnT1daWpr1/sSJE/rmm2/Utm3bM36mJaqurlaHDh20e/fuC7702tIxd%2BePuTt/zN2/h/k7fxdr7owxOnz4sNxu9wXrswEB6yzCwsLk5%2BfXaLWqsrKy0apWA6fTKafT6XXshz/8YbON8WILDQ3lPzbnibk7f8zd%2BWPu/j3M3/m7GHN3oVeuGvAtwrMIDAxUbGyscnNzvY7n5uaqT58%2BF2lUAADAl7GCdQ7S0tKUlJSkuLg4xcfH69VXX1VZWZlSUlIu9tAAAIAP8nvqqaeeutiD8HUxMTFq27atZs%2BerXnz5unYsWN68803dcMNN1zsoV10fn5%2B6t%2B/v/z9yerfF3N3/pi788fc/XuYv/N3uc0d%2B2ABAADYjGewAAAAbEbAAgAAsBkBCwAAwGYELAAAAJsRsHBeXn75ZUVFRalVq1aKjY3Vxx9/fLGH1KzS09P105/%2BVCEhIQoPD9eIESP0%2Beefe9XU1NRo0qRJCgsLU3BwsO644w7t2bPHq6asrEzDhw9XcHCwwsLCNHnyZNXW1nrV5OXlKTY2Vq1atVLnzp21aNGiRuNpyfOfnp4uh8Oh1NRU6xhzd2Z79%2B7VAw88oLZt2%2BrKK6/UT37yExUVFVnnjTF66qmn5Ha7FRQUpP79%2B2vr1q1ebVRVVSkpKUkul0sul0tJSUk6dOiQV01JSYn69eunoKAgXX311Zo1a1aj32/LzMxUdHS0nE6noqOjlZWV1XwXboPjx4/rN7/5jaKiohQUFKTOnTtr1qxZOnHihFXD/J20du1aDR8%2BXG63Ww6HQ3/%2B85%2B9zvvSPJ3LWHyCAb6njIwMExAQYF577TWzbds2M2XKFBMcHGy%2B%2Buqriz20ZpOYmGiWLFliSktLTXFxsRk6dKj50Y9%2BZI4cOWLVpKSkmKuvvtrk5uaaTZs2mVtvvdXccMMN5vjx48YYY44fP25iYmLMrbfeajZt2mRyc3ON2%2B02EydOtNr45z//aa688kozZcoUs23bNvPaa6%2BZgIAA86c//cmqacnz/8knn5hOnTqZHj16mClTpljHmbumffPNN6Zjx45m7NixZsOGDWbnzp1mzZo15h//%2BIdVM2fOHBMSEmIyMzNNSUmJGTVqlGnXrp2prq62agYNGmRiYmLM%2BvXrzfr1601MTIwZNmyYdd7j8ZiIiAhz7733mpKSEpOZmWlCQkLMvHnzrJr169cbPz8/M3v2bLN9%2B3Yze/Zs4%2B/vbwoKCi7MZJyH3/3ud6Zt27bm//7v/8zOnTvNO%2B%2B8Y37wgx%2BY559/3qph/k5atWqVmTFjhsnMzDSSTFZWltd5X5qncxmLLyBg4Xv72c9%2BZlJSUryOde3a1TzxxBMXaUQXXmVlpZFk8vLyjDHGHDp0yAQEBJiMjAyrZu/eveaKK64w2dnZxpiT/wG74oorzN69e62a5cuXG6fTaTwejzHGmMcee8x07drVq69HHnnE9O7d23rfUuf/8OHD5tprrzW5ubmmX79%2BVsBi7s7s8ccfNzfffPMZz584ccJERkaaOXPmWMe%2B/fZb43K5zKJFi4wxxmzbts1I8voDlZ%2BfbySZzz77zBhjzMsvv2xcLpf59ttvrZr09HTjdrvNiRMnjDHGjBw50gwaNMir/8TERHPvvff%2B%2BxfaTIYOHWoefvhhr2N33323eeCBB4wxzN%2BZnB6wfGmezmUsvoJbhPheamtrVVRUpISEBK/jCQkJWr9%2B/UUa1YXn8XgkSW3atJEkFRUVqa6uzmte3G63YmJirHnJz89XTEyM14%2BOJiYmqqamxrrlk5%2Bf32huExMTVVhYqLq6uhY9/xMmTNDQoUN1%2B%2B23ex1n7s7s3XffVVxcnH7xi18oPDxcN954o1577TXr/M6dO1VRUeF1TU6nU/369fOaO5fLpV69elk1vXv3lsvl8qrp16%2Bf12%2BoJiYmat%2B%2Bfdq1a5dV09T8%2BurcSdLNN9%2Bs999/X1988YUkacuWLVq3bp2GDBkiifk7V740T%2BcyFl9BwML3cvDgQdXX1zf6oeuIiIhGP4h9qTLGKC0tTTfffLNiYmIkSRUVFQoMDFTr1q29ak%2Bdl4qKikbz1rp1awUGBn5nTUREhI4fP66DBw%2B22PnPyMhQUVGR0tPTG51j7s7sn//8pxYuXKhrr71Wf/vb35SSkqLJkyfrjTfekCRr3N91TRUVFQoPD2/Udnh4%2BFnn7tQ%2BzlTjq3MnSY8//rjuu%2B8%2Bde3aVQEBAbrxxhuVmpqq%2B%2B67TxLzd658aZ7OZSy%2B4vLYrx62czgcXu%2BNMY2OXaomTpyoTz/9VOvWrTtr7enz0tQcna3G/H8PgDocDq9/f1cbvmT37t2aMmWKcnJy1KpVq3P%2BHHMnnThxQnFxcZo9e7Yk6cYbb9TWrVu1cOFCPfjgg1bd2a7p3527c%2B3H16xYsUJvvfWW3n77bV1//fUqLi5Wamqq3G63xowZY9Uxf%2BfGl%2BapJcwlK1j4XsLCwuTn59fofylUVlY2%2Bl8Ul6JJkybp3Xff1Ycffqj27dtbxyMjI1VbW6uqqiqv%2BlPnJTIystG8VVVVqa6u7jtrKisr5e/vr7Zt27bI%2BS8qKlJlZaViY2Pl7%2B8vf39/5eXl6YUXXpC/v78iIiKYuzNo166doqOjvY5169ZNZWVlkk5es6TvvKbIyEjt37%2B/UdsHDhw469xJOmuNr86dJP3Hf/yHnnjiCd17773q3r27kpKS9Oijj1orqczfufGleTqXsfgKAha%2Bl8DAQMXGxio3N9freG5urvr06XORRtX8jDGaOHGiVq5cqQ8%2B%2BEBRUVFe52NjYxUQEOA1L%2BXl5SotLbXmJT4%2BXqWlpSovL7dqcnJy5HQ6FRsba9WcPrc5OTmKi4tTQEBAi5z/AQMGqKSkRMXFxdYrLi5O999/v/Vv5q5pN910U6PtQL744gt17NhRkhQVFaXIyEiva6qtrVVeXp7X3Hk8Hn3yySdWzYYNG%2BTxeLxq1q5d67XtRU5Ojtxutzp16mTVNDW/vjp3kvSvf/1LV1zh/WfOz8/P2qaB%2BTs3vjRP5zIWn3GhnqbHpaPhq%2B6LFy8227ZtM6mpqSY4ONjs2rXrYg%2Bt2fz61782LpfLfPTRR6a8vNx6/etf/7JqUlJSTPv27c2aNWvMpk2bzG233dbkVgMDBgwwmzZtMmvWrDHt27dvcquBRx991Gzbts0sXrz4jFsNtOT5P/VbhMYwd2fyySefGH9/f/P000%2BbHTt2mGXLlpkrr7zSvPXWW1bNnDlzjMvlMitXrjQlJSXmvvvua/Lr8z169DD5%2BfkmPz/fdO/e3evr84cOHTIRERHmvvvuMyUlJWblypUmNDTU6%2Bvzf//7342fn5%2BZM2eO2b59u5kzZ45PbTPQlDFjxpirr77a2qZh5cqVJiwszDz22GNWDfN30uHDh83mzZvN5s2bjSQzf/58s3nzZmsLE1%2Bap3MZiy8gYOG8vPTSS6Zjx44mMDDQ9OzZ09qu4FIlqcnXkiVLrJpjx46ZiRMnmjZt2pigoCAzbNgwU1ZW5tXOV199ZYYOHWqCgoJMmzZtzMSJE72%2BsmyMMR999JG58cYbTWBgoOnUqZNZuHBho/G09Pk/PWAxd2f217/%2B1cTExBin02m6du1qXn31Va/zJ06cML/97W9NZGSkcTqd5pZbbjElJSVeNV9//bW5//77TUhIiAkJCTH333%2B/qaqq8qr59NNPTd%2B%2BfY3T6TSRkZHmqaeesr463%2BCdd94xXbp0MQEBAaZr164mMzOzeS7aJtXV1WbKlCnmRz/6kWnVqpXp3LmzmTFjhqmpqbFqmL%2BTPvzwwyb/GzdmzBhjjG/N07mMxRc4jDltC1UAAAD8W3gGCwAAwGYELAAAAJsRsAAAAGxGwAIAALAZAQsAAMBmBCwAAACbEbAAAABsRsACAACwGQELAADAZgQsAAAAmxGwAAAAbEbAAgAAsBkBCwAAwGYELAAAAJsRsAAAAGxGwAIAALAZAQsAAMBmBCwAAACb/T/pTA6GAxHWWAAAAABJRU5ErkJggg%3D%3D\"/>\n",
       "        </div>\n",
       "        <div role=\"tabpanel\" class=\"tab-pane col-md-12\" id=\"common1053594598382210562\">\n",
       "            \n",
       "<table class=\"freq table table-hover\">\n",
       "    <thead>\n",
       "    <tr>\n",
       "        <td class=\"fillremaining\">Value</td>\n",
       "        <td class=\"number\">Count</td>\n",
       "        <td class=\"number\">Frequency (%)</td>\n",
       "        <td style=\"min-width:200px\">&nbsp;</td>\n",
       "    </tr>\n",
       "    </thead>\n",
       "    <tr class=\"\">\n",
       "        <td class=\"fillremaining\">0</td>\n",
       "        <td class=\"number\">3514</td>\n",
       "        <td class=\"number\">7.8%</td>\n",
       "        <td>\n",
       "            <div class=\"bar\" style=\"width:9%\">&nbsp;</div>\n",
       "        </td>\n",
       "</tr><tr class=\"\">\n",
       "        <td class=\"fillremaining\">1</td>\n",
       "        <td class=\"number\">195</td>\n",
       "        <td class=\"number\">0.4%</td>\n",
       "        <td>\n",
       "            <div class=\"bar\" style=\"width:1%\">&nbsp;</div>\n",
       "        </td>\n",
       "</tr><tr class=\"\">\n",
       "        <td class=\"fillremaining\">2</td>\n",
       "        <td class=\"number\">156</td>\n",
       "        <td class=\"number\">0.3%</td>\n",
       "        <td>\n",
       "            <div class=\"bar\" style=\"width:1%\">&nbsp;</div>\n",
       "        </td>\n",
       "</tr><tr class=\"\">\n",
       "        <td class=\"fillremaining\">4</td>\n",
       "        <td class=\"number\">139</td>\n",
       "        <td class=\"number\">0.3%</td>\n",
       "        <td>\n",
       "            <div class=\"bar\" style=\"width:1%\">&nbsp;</div>\n",
       "        </td>\n",
       "</tr><tr class=\"\">\n",
       "        <td class=\"fillremaining\">3</td>\n",
       "        <td class=\"number\">134</td>\n",
       "        <td class=\"number\">0.3%</td>\n",
       "        <td>\n",
       "            <div class=\"bar\" style=\"width:1%\">&nbsp;</div>\n",
       "        </td>\n",
       "</tr><tr class=\"\">\n",
       "        <td class=\"fillremaining\">5</td>\n",
       "        <td class=\"number\">113</td>\n",
       "        <td class=\"number\">0.2%</td>\n",
       "        <td>\n",
       "            <div class=\"bar\" style=\"width:1%\">&nbsp;</div>\n",
       "        </td>\n",
       "</tr><tr class=\"\">\n",
       "        <td class=\"fillremaining\">6</td>\n",
       "        <td class=\"number\">88</td>\n",
       "        <td class=\"number\">0.2%</td>\n",
       "        <td>\n",
       "            <div class=\"bar\" style=\"width:1%\">&nbsp;</div>\n",
       "        </td>\n",
       "</tr><tr class=\"\">\n",
       "        <td class=\"fillremaining\">8</td>\n",
       "        <td class=\"number\">81</td>\n",
       "        <td class=\"number\">0.2%</td>\n",
       "        <td>\n",
       "            <div class=\"bar\" style=\"width:1%\">&nbsp;</div>\n",
       "        </td>\n",
       "</tr><tr class=\"\">\n",
       "        <td class=\"fillremaining\">23</td>\n",
       "        <td class=\"number\">75</td>\n",
       "        <td class=\"number\">0.2%</td>\n",
       "        <td>\n",
       "            <div class=\"bar\" style=\"width:1%\">&nbsp;</div>\n",
       "        </td>\n",
       "</tr><tr class=\"\">\n",
       "        <td class=\"fillremaining\">10</td>\n",
       "        <td class=\"number\">69</td>\n",
       "        <td class=\"number\">0.2%</td>\n",
       "        <td>\n",
       "            <div class=\"bar\" style=\"width:1%\">&nbsp;</div>\n",
       "        </td>\n",
       "</tr><tr class=\"other\">\n",
       "        <td class=\"fillremaining\">Other values (7158)</td>\n",
       "        <td class=\"number\">40647</td>\n",
       "        <td class=\"number\">89.9%</td>\n",
       "        <td>\n",
       "            <div class=\"bar\" style=\"width:100%\">&nbsp;</div>\n",
       "        </td>\n",
       "</tr>\n",
       "</table>\n",
       "        </div>\n",
       "        <div role=\"tabpanel\" class=\"tab-pane col-md-12\"  id=\"extreme1053594598382210562\">\n",
       "            <p class=\"h4\">Minimum 5 values</p>\n",
       "            \n",
       "<table class=\"freq table table-hover\">\n",
       "    <thead>\n",
       "    <tr>\n",
       "        <td class=\"fillremaining\">Value</td>\n",
       "        <td class=\"number\">Count</td>\n",
       "        <td class=\"number\">Frequency (%)</td>\n",
       "        <td style=\"min-width:200px\">&nbsp;</td>\n",
       "    </tr>\n",
       "    </thead>\n",
       "    <tr class=\"\">\n",
       "        <td class=\"fillremaining\">-8019</td>\n",
       "        <td class=\"number\">1</td>\n",
       "        <td class=\"number\">0.0%</td>\n",
       "        <td>\n",
       "            <div class=\"bar\" style=\"width:100%\">&nbsp;</div>\n",
       "        </td>\n",
       "</tr><tr class=\"\">\n",
       "        <td class=\"fillremaining\">-6847</td>\n",
       "        <td class=\"number\">1</td>\n",
       "        <td class=\"number\">0.0%</td>\n",
       "        <td>\n",
       "            <div class=\"bar\" style=\"width:100%\">&nbsp;</div>\n",
       "        </td>\n",
       "</tr><tr class=\"\">\n",
       "        <td class=\"fillremaining\">-4057</td>\n",
       "        <td class=\"number\">1</td>\n",
       "        <td class=\"number\">0.0%</td>\n",
       "        <td>\n",
       "            <div class=\"bar\" style=\"width:100%\">&nbsp;</div>\n",
       "        </td>\n",
       "</tr><tr class=\"\">\n",
       "        <td class=\"fillremaining\">-3372</td>\n",
       "        <td class=\"number\">1</td>\n",
       "        <td class=\"number\">0.0%</td>\n",
       "        <td>\n",
       "            <div class=\"bar\" style=\"width:100%\">&nbsp;</div>\n",
       "        </td>\n",
       "</tr><tr class=\"\">\n",
       "        <td class=\"fillremaining\">-3313</td>\n",
       "        <td class=\"number\">1</td>\n",
       "        <td class=\"number\">0.0%</td>\n",
       "        <td>\n",
       "            <div class=\"bar\" style=\"width:100%\">&nbsp;</div>\n",
       "        </td>\n",
       "</tr>\n",
       "</table>\n",
       "            <p class=\"h4\">Maximum 5 values</p>\n",
       "            \n",
       "<table class=\"freq table table-hover\">\n",
       "    <thead>\n",
       "    <tr>\n",
       "        <td class=\"fillremaining\">Value</td>\n",
       "        <td class=\"number\">Count</td>\n",
       "        <td class=\"number\">Frequency (%)</td>\n",
       "        <td style=\"min-width:200px\">&nbsp;</td>\n",
       "    </tr>\n",
       "    </thead>\n",
       "    <tr class=\"\">\n",
       "        <td class=\"fillremaining\">66721</td>\n",
       "        <td class=\"number\">1</td>\n",
       "        <td class=\"number\">0.0%</td>\n",
       "        <td>\n",
       "            <div class=\"bar\" style=\"width:50%\">&nbsp;</div>\n",
       "        </td>\n",
       "</tr><tr class=\"\">\n",
       "        <td class=\"fillremaining\">71188</td>\n",
       "        <td class=\"number\">1</td>\n",
       "        <td class=\"number\">0.0%</td>\n",
       "        <td>\n",
       "            <div class=\"bar\" style=\"width:50%\">&nbsp;</div>\n",
       "        </td>\n",
       "</tr><tr class=\"\">\n",
       "        <td class=\"fillremaining\">81204</td>\n",
       "        <td class=\"number\">2</td>\n",
       "        <td class=\"number\">0.0%</td>\n",
       "        <td>\n",
       "            <div class=\"bar\" style=\"width:100%\">&nbsp;</div>\n",
       "        </td>\n",
       "</tr><tr class=\"\">\n",
       "        <td class=\"fillremaining\">98417</td>\n",
       "        <td class=\"number\">1</td>\n",
       "        <td class=\"number\">0.0%</td>\n",
       "        <td>\n",
       "            <div class=\"bar\" style=\"width:50%\">&nbsp;</div>\n",
       "        </td>\n",
       "</tr><tr class=\"\">\n",
       "        <td class=\"fillremaining\">102127</td>\n",
       "        <td class=\"number\">1</td>\n",
       "        <td class=\"number\">0.0%</td>\n",
       "        <td>\n",
       "            <div class=\"bar\" style=\"width:50%\">&nbsp;</div>\n",
       "        </td>\n",
       "</tr>\n",
       "</table>\n",
       "        </div>\n",
       "    </div>\n",
       "</div>\n",
       "</div><div class=\"row variablerow\">\n",
       "    <div class=\"col-md-3 namecol\">\n",
       "        <p class=\"h4 pp-anchor\" id=\"pp_var_housing\">housing<br/>\n",
       "            <small>Categorical</small>\n",
       "        </p>\n",
       "    </div><div class=\"col-md-3\">\n",
       "    <table class=\"stats \">\n",
       "        <tr class=\"\">\n",
       "            <th>Distinct count</th>\n",
       "            <td>2</td>\n",
       "        </tr>\n",
       "        <tr>\n",
       "            <th>Unique (%)</th>\n",
       "            <td>0.0%</td>\n",
       "        </tr>\n",
       "        <tr class=\"ignore\">\n",
       "            <th>Missing (%)</th>\n",
       "            <td>0.0%</td>\n",
       "        </tr>\n",
       "        <tr class=\"ignore\">\n",
       "            <th>Missing (n)</th>\n",
       "            <td>0</td>\n",
       "        </tr>\n",
       "    </table>\n",
       "</div>\n",
       "<div class=\"col-md-6 collapse in\" id=\"minifreqtable-110798136554882095\">\n",
       "    <table class=\"mini freq\">\n",
       "        <tr class=\"\">\n",
       "    <th>yes</th>\n",
       "    <td>\n",
       "        <div class=\"bar\" style=\"width:100%\" data-toggle=\"tooltip\" data-placement=\"right\" data-html=\"true\"\n",
       "             data-delay=500 title=\"Percentage: 55.6%\">\n",
       "            25130\n",
       "        </div>\n",
       "        \n",
       "    </td>\n",
       "</tr><tr class=\"\">\n",
       "    <th>no</th>\n",
       "    <td>\n",
       "        <div class=\"bar\" style=\"width:80%\" data-toggle=\"tooltip\" data-placement=\"right\" data-html=\"true\"\n",
       "             data-delay=500 title=\"Percentage: 44.4%\">\n",
       "            20081\n",
       "        </div>\n",
       "        \n",
       "    </td>\n",
       "</tr>\n",
       "    </table>\n",
       "</div>\n",
       "<div class=\"col-md-12 text-right\">\n",
       "    <a role=\"button\" data-toggle=\"collapse\" data-target=\"#freqtable-110798136554882095, #minifreqtable-110798136554882095\"\n",
       "       aria-expanded=\"true\" aria-controls=\"collapseExample\">\n",
       "        Toggle details\n",
       "    </a>\n",
       "</div>\n",
       "<div class=\"col-md-12 extrapadding collapse\" id=\"freqtable-110798136554882095\">\n",
       "    \n",
       "<table class=\"freq table table-hover\">\n",
       "    <thead>\n",
       "    <tr>\n",
       "        <td class=\"fillremaining\">Value</td>\n",
       "        <td class=\"number\">Count</td>\n",
       "        <td class=\"number\">Frequency (%)</td>\n",
       "        <td style=\"min-width:200px\">&nbsp;</td>\n",
       "    </tr>\n",
       "    </thead>\n",
       "    <tr class=\"\">\n",
       "        <td class=\"fillremaining\">yes</td>\n",
       "        <td class=\"number\">25130</td>\n",
       "        <td class=\"number\">55.6%</td>\n",
       "        <td>\n",
       "            <div class=\"bar\" style=\"width:100%\">&nbsp;</div>\n",
       "        </td>\n",
       "</tr><tr class=\"\">\n",
       "        <td class=\"fillremaining\">no</td>\n",
       "        <td class=\"number\">20081</td>\n",
       "        <td class=\"number\">44.4%</td>\n",
       "        <td>\n",
       "            <div class=\"bar\" style=\"width:80%\">&nbsp;</div>\n",
       "        </td>\n",
       "</tr>\n",
       "</table>\n",
       "</div>\n",
       "</div><div class=\"row variablerow\">\n",
       "    <div class=\"col-md-3 namecol\">\n",
       "        <p class=\"h4 pp-anchor\" id=\"pp_var_loan\">loan<br/>\n",
       "            <small>Categorical</small>\n",
       "        </p>\n",
       "    </div><div class=\"col-md-3\">\n",
       "    <table class=\"stats \">\n",
       "        <tr class=\"\">\n",
       "            <th>Distinct count</th>\n",
       "            <td>2</td>\n",
       "        </tr>\n",
       "        <tr>\n",
       "            <th>Unique (%)</th>\n",
       "            <td>0.0%</td>\n",
       "        </tr>\n",
       "        <tr class=\"ignore\">\n",
       "            <th>Missing (%)</th>\n",
       "            <td>0.0%</td>\n",
       "        </tr>\n",
       "        <tr class=\"ignore\">\n",
       "            <th>Missing (n)</th>\n",
       "            <td>0</td>\n",
       "        </tr>\n",
       "    </table>\n",
       "</div>\n",
       "<div class=\"col-md-6 collapse in\" id=\"minifreqtable927862663980435899\">\n",
       "    <table class=\"mini freq\">\n",
       "        <tr class=\"\">\n",
       "    <th>no</th>\n",
       "    <td>\n",
       "        <div class=\"bar\" style=\"width:100%\" data-toggle=\"tooltip\" data-placement=\"right\" data-html=\"true\"\n",
       "             data-delay=500 title=\"Percentage: 84.0%\">\n",
       "            37967\n",
       "        </div>\n",
       "        \n",
       "    </td>\n",
       "</tr><tr class=\"\">\n",
       "    <th>yes</th>\n",
       "    <td>\n",
       "        <div class=\"bar\" style=\"width:19%\" data-toggle=\"tooltip\" data-placement=\"right\" data-html=\"true\"\n",
       "             data-delay=500 title=\"Percentage: 16.0%\">\n",
       "            &nbsp;\n",
       "        </div>\n",
       "        7244\n",
       "    </td>\n",
       "</tr>\n",
       "    </table>\n",
       "</div>\n",
       "<div class=\"col-md-12 text-right\">\n",
       "    <a role=\"button\" data-toggle=\"collapse\" data-target=\"#freqtable927862663980435899, #minifreqtable927862663980435899\"\n",
       "       aria-expanded=\"true\" aria-controls=\"collapseExample\">\n",
       "        Toggle details\n",
       "    </a>\n",
       "</div>\n",
       "<div class=\"col-md-12 extrapadding collapse\" id=\"freqtable927862663980435899\">\n",
       "    \n",
       "<table class=\"freq table table-hover\">\n",
       "    <thead>\n",
       "    <tr>\n",
       "        <td class=\"fillremaining\">Value</td>\n",
       "        <td class=\"number\">Count</td>\n",
       "        <td class=\"number\">Frequency (%)</td>\n",
       "        <td style=\"min-width:200px\">&nbsp;</td>\n",
       "    </tr>\n",
       "    </thead>\n",
       "    <tr class=\"\">\n",
       "        <td class=\"fillremaining\">no</td>\n",
       "        <td class=\"number\">37967</td>\n",
       "        <td class=\"number\">84.0%</td>\n",
       "        <td>\n",
       "            <div class=\"bar\" style=\"width:100%\">&nbsp;</div>\n",
       "        </td>\n",
       "</tr><tr class=\"\">\n",
       "        <td class=\"fillremaining\">yes</td>\n",
       "        <td class=\"number\">7244</td>\n",
       "        <td class=\"number\">16.0%</td>\n",
       "        <td>\n",
       "            <div class=\"bar\" style=\"width:19%\">&nbsp;</div>\n",
       "        </td>\n",
       "</tr>\n",
       "</table>\n",
       "</div>\n",
       "</div><div class=\"row variablerow\">\n",
       "    <div class=\"col-md-3 namecol\">\n",
       "        <p class=\"h4 pp-anchor\" id=\"pp_var_contact\">contact<br/>\n",
       "            <small>Categorical</small>\n",
       "        </p>\n",
       "    </div><div class=\"col-md-3\">\n",
       "    <table class=\"stats \">\n",
       "        <tr class=\"\">\n",
       "            <th>Distinct count</th>\n",
       "            <td>3</td>\n",
       "        </tr>\n",
       "        <tr>\n",
       "            <th>Unique (%)</th>\n",
       "            <td>0.0%</td>\n",
       "        </tr>\n",
       "        <tr class=\"ignore\">\n",
       "            <th>Missing (%)</th>\n",
       "            <td>0.0%</td>\n",
       "        </tr>\n",
       "        <tr class=\"ignore\">\n",
       "            <th>Missing (n)</th>\n",
       "            <td>0</td>\n",
       "        </tr>\n",
       "    </table>\n",
       "</div>\n",
       "<div class=\"col-md-6 collapse in\" id=\"minifreqtable-8530720695259856979\">\n",
       "    <table class=\"mini freq\">\n",
       "        <tr class=\"\">\n",
       "    <th>cellular</th>\n",
       "    <td>\n",
       "        <div class=\"bar\" style=\"width:100%\" data-toggle=\"tooltip\" data-placement=\"right\" data-html=\"true\"\n",
       "             data-delay=500 title=\"Percentage: 64.8%\">\n",
       "            29285\n",
       "        </div>\n",
       "        \n",
       "    </td>\n",
       "</tr><tr class=\"\">\n",
       "    <th>unknown</th>\n",
       "    <td>\n",
       "        <div class=\"bar\" style=\"width:45%\" data-toggle=\"tooltip\" data-placement=\"right\" data-html=\"true\"\n",
       "             data-delay=500 title=\"Percentage: 28.8%\">\n",
       "            13020\n",
       "        </div>\n",
       "        \n",
       "    </td>\n",
       "</tr><tr class=\"\">\n",
       "    <th>telephone</th>\n",
       "    <td>\n",
       "        <div class=\"bar\" style=\"width:10%\" data-toggle=\"tooltip\" data-placement=\"right\" data-html=\"true\"\n",
       "             data-delay=500 title=\"Percentage: 6.4%\">\n",
       "            &nbsp;\n",
       "        </div>\n",
       "        2906\n",
       "    </td>\n",
       "</tr>\n",
       "    </table>\n",
       "</div>\n",
       "<div class=\"col-md-12 text-right\">\n",
       "    <a role=\"button\" data-toggle=\"collapse\" data-target=\"#freqtable-8530720695259856979, #minifreqtable-8530720695259856979\"\n",
       "       aria-expanded=\"true\" aria-controls=\"collapseExample\">\n",
       "        Toggle details\n",
       "    </a>\n",
       "</div>\n",
       "<div class=\"col-md-12 extrapadding collapse\" id=\"freqtable-8530720695259856979\">\n",
       "    \n",
       "<table class=\"freq table table-hover\">\n",
       "    <thead>\n",
       "    <tr>\n",
       "        <td class=\"fillremaining\">Value</td>\n",
       "        <td class=\"number\">Count</td>\n",
       "        <td class=\"number\">Frequency (%)</td>\n",
       "        <td style=\"min-width:200px\">&nbsp;</td>\n",
       "    </tr>\n",
       "    </thead>\n",
       "    <tr class=\"\">\n",
       "        <td class=\"fillremaining\">cellular</td>\n",
       "        <td class=\"number\">29285</td>\n",
       "        <td class=\"number\">64.8%</td>\n",
       "        <td>\n",
       "            <div class=\"bar\" style=\"width:100%\">&nbsp;</div>\n",
       "        </td>\n",
       "</tr><tr class=\"\">\n",
       "        <td class=\"fillremaining\">unknown</td>\n",
       "        <td class=\"number\">13020</td>\n",
       "        <td class=\"number\">28.8%</td>\n",
       "        <td>\n",
       "            <div class=\"bar\" style=\"width:45%\">&nbsp;</div>\n",
       "        </td>\n",
       "</tr><tr class=\"\">\n",
       "        <td class=\"fillremaining\">telephone</td>\n",
       "        <td class=\"number\">2906</td>\n",
       "        <td class=\"number\">6.4%</td>\n",
       "        <td>\n",
       "            <div class=\"bar\" style=\"width:10%\">&nbsp;</div>\n",
       "        </td>\n",
       "</tr>\n",
       "</table>\n",
       "</div>\n",
       "</div><div class=\"row variablerow\">\n",
       "    <div class=\"col-md-3 namecol\">\n",
       "        <p class=\"h4 pp-anchor\" id=\"pp_var_day\">day<br/>\n",
       "            <small>Numeric</small>\n",
       "        </p>\n",
       "    </div><div class=\"col-md-6\">\n",
       "    <div class=\"row\">\n",
       "        <div class=\"col-sm-6\">\n",
       "            <table class=\"stats \">\n",
       "                <tr>\n",
       "                    <th>Distinct count</th>\n",
       "                    <td>31</td>\n",
       "                </tr>\n",
       "                <tr>\n",
       "                    <th>Unique (%)</th>\n",
       "                    <td>0.1%</td>\n",
       "                </tr>\n",
       "                <tr class=\"ignore\">\n",
       "                    <th>Missing (%)</th>\n",
       "                    <td>0.0%</td>\n",
       "                </tr>\n",
       "                <tr class=\"ignore\">\n",
       "                    <th>Missing (n)</th>\n",
       "                    <td>0</td>\n",
       "                </tr>\n",
       "                <tr class=\"ignore\">\n",
       "                    <th>Infinite (%)</th>\n",
       "                    <td>0.0%</td>\n",
       "                </tr>\n",
       "                <tr class=\"ignore\">\n",
       "                    <th>Infinite (n)</th>\n",
       "                    <td>0</td>\n",
       "                </tr>\n",
       "            </table>\n",
       "\n",
       "        </div>\n",
       "        <div class=\"col-sm-6\">\n",
       "            <table class=\"stats \">\n",
       "\n",
       "                <tr>\n",
       "                    <th>Mean</th>\n",
       "                    <td>15.806</td>\n",
       "                </tr>\n",
       "                <tr>\n",
       "                    <th>Minimum</th>\n",
       "                    <td>1</td>\n",
       "                </tr>\n",
       "                <tr>\n",
       "                    <th>Maximum</th>\n",
       "                    <td>31</td>\n",
       "                </tr>\n",
       "                <tr class=\"ignore\">\n",
       "                    <th>Zeros (%)</th>\n",
       "                    <td>0.0%</td>\n",
       "                </tr>\n",
       "            </table>\n",
       "        </div>\n",
       "    </div>\n",
       "</div>\n",
       "<div class=\"col-md-3 collapse in\" id=\"minihistogram-6105935784818957965\">\n",
       "    <img src=\"data:image/png;base64,iVBORw0KGgoAAAANSUhEUgAAAMgAAABLCAYAAAA1fMjoAAAABHNCSVQICAgIfAhkiAAAAAlwSFlzAAAPYQAAD2EBqD%2BnaQAAADh0RVh0U29mdHdhcmUAbWF0cGxvdGxpYiB2ZXJzaW9uMy4yLjIsIGh0dHA6Ly9tYXRwbG90bGliLm9yZy%2BWH4yJAAAB2klEQVR4nO3bQa7SUBiG4b/EKTAndBcuwj05duh%2BXIS7gLCANg4cSB0od6J%2BuZfIaYHnGVKSU5Lz5m%2Bb0k3TNFVjx%2BOx%2Br5vvSx37nA41H6/b7rmu6ar/bZer6vq1w/ebDZznAJ3ZBiG6vv%2BZd%2B0NEsgXddVVdVmsxHIf/D%2B45c3ff/rpw83OpPbuuybllbNV4Q7IhAIBAKBQCAQCASzPMXiObz16VrV8p6wCWRhrtlU3I5LLAgeYoI8wihnmR4ikGu0iMrl0v1ziQWBQCAQCAQCgUAgEAgEAoFAIBAIBAKBQCB42ldNruHVkedjgkAgEAgEAoF7EF7lWe%2B/TBAIBALB4i6xnnWUs0wmCASLmyDcnin9eiYIBAKBQCAQCAQCgUAgEAgEAoFAIBAIBAKBQCAQCAQCgUAgEAgEAsEs/weZpqmqqoZh%2BOPYj%2B/fWp8OC/K3PXH57LJvWpolkHEcq6qq7/s5lmfBtp//fWwcx9put%2B1Opqq6aYYsz%2BdznU6nWq/X1XVd6%2BW5M9M01TiOtdvtarVqe1cwSyBwL9ykQyAQCAQCgUAgEAgEAoFAIBAIBAKBQCAQCAQCgUAgEAgEAoFAIBAIBAKBQCAQCAQCgUAgEAgEAoFAIBD8BHzjUevrZxu1AAAAAElFTkSuQmCC\">\n",
       "\n",
       "</div>\n",
       "<div class=\"col-md-12 text-right\">\n",
       "    <a role=\"button\" data-toggle=\"collapse\" data-target=\"#descriptives-6105935784818957965,#minihistogram-6105935784818957965\"\n",
       "       aria-expanded=\"false\" aria-controls=\"collapseExample\">\n",
       "        Toggle details\n",
       "    </a>\n",
       "</div>\n",
       "<div class=\"row collapse col-md-12\" id=\"descriptives-6105935784818957965\">\n",
       "    <ul class=\"nav nav-tabs\" role=\"tablist\">\n",
       "        <li role=\"presentation\" class=\"active\"><a href=\"#quantiles-6105935784818957965\"\n",
       "                                                  aria-controls=\"quantiles-6105935784818957965\" role=\"tab\"\n",
       "                                                  data-toggle=\"tab\">Statistics</a></li>\n",
       "        <li role=\"presentation\"><a href=\"#histogram-6105935784818957965\" aria-controls=\"histogram-6105935784818957965\"\n",
       "                                   role=\"tab\" data-toggle=\"tab\">Histogram</a></li>\n",
       "        <li role=\"presentation\"><a href=\"#common-6105935784818957965\" aria-controls=\"common-6105935784818957965\"\n",
       "                                   role=\"tab\" data-toggle=\"tab\">Common Values</a></li>\n",
       "        <li role=\"presentation\"><a href=\"#extreme-6105935784818957965\" aria-controls=\"extreme-6105935784818957965\"\n",
       "                                   role=\"tab\" data-toggle=\"tab\">Extreme Values</a></li>\n",
       "\n",
       "    </ul>\n",
       "\n",
       "    <div class=\"tab-content\">\n",
       "        <div role=\"tabpanel\" class=\"tab-pane active row\" id=\"quantiles-6105935784818957965\">\n",
       "            <div class=\"col-md-4 col-md-offset-1\">\n",
       "                <p class=\"h4\">Quantile statistics</p>\n",
       "                <table class=\"stats indent\">\n",
       "                    <tr>\n",
       "                        <th>Minimum</th>\n",
       "                        <td>1</td>\n",
       "                    </tr>\n",
       "                    <tr>\n",
       "                        <th>5-th percentile</th>\n",
       "                        <td>3</td>\n",
       "                    </tr>\n",
       "                    <tr>\n",
       "                        <th>Q1</th>\n",
       "                        <td>8</td>\n",
       "                    </tr>\n",
       "                    <tr>\n",
       "                        <th>Median</th>\n",
       "                        <td>16</td>\n",
       "                    </tr>\n",
       "                    <tr>\n",
       "                        <th>Q3</th>\n",
       "                        <td>21</td>\n",
       "                    </tr>\n",
       "                    <tr>\n",
       "                        <th>95-th percentile</th>\n",
       "                        <td>29</td>\n",
       "                    </tr>\n",
       "                    <tr>\n",
       "                        <th>Maximum</th>\n",
       "                        <td>31</td>\n",
       "                    </tr>\n",
       "                    <tr>\n",
       "                        <th>Range</th>\n",
       "                        <td>30</td>\n",
       "                    </tr>\n",
       "                    <tr>\n",
       "                        <th>Interquartile range</th>\n",
       "                        <td>13</td>\n",
       "                    </tr>\n",
       "                </table>\n",
       "            </div>\n",
       "            <div class=\"col-md-4 col-md-offset-2\">\n",
       "                <p class=\"h4\">Descriptive statistics</p>\n",
       "                <table class=\"stats indent\">\n",
       "                    <tr>\n",
       "                        <th>Standard deviation</th>\n",
       "                        <td>8.3225</td>\n",
       "                    </tr>\n",
       "                    <tr>\n",
       "                        <th>Coef of variation</th>\n",
       "                        <td>0.52653</td>\n",
       "                    </tr>\n",
       "                    <tr>\n",
       "                        <th>Kurtosis</th>\n",
       "                        <td>-1.0599</td>\n",
       "                    </tr>\n",
       "                    <tr>\n",
       "                        <th>Mean</th>\n",
       "                        <td>15.806</td>\n",
       "                    </tr>\n",
       "                    <tr>\n",
       "                        <th>MAD</th>\n",
       "                        <td>7.0559</td>\n",
       "                    </tr>\n",
       "                    <tr class=\"\">\n",
       "                        <th>Skewness</th>\n",
       "                        <td>0.093079</td>\n",
       "                    </tr>\n",
       "                    <tr>\n",
       "                        <th>Sum</th>\n",
       "                        <td>714624</td>\n",
       "                    </tr>\n",
       "                    <tr>\n",
       "                        <th>Variance</th>\n",
       "                        <td>69.264</td>\n",
       "                    </tr>\n",
       "                    <tr>\n",
       "                        <th>Memory size</th>\n",
       "                        <td>353.3 KiB</td>\n",
       "                    </tr>\n",
       "                </table>\n",
       "            </div>\n",
       "        </div>\n",
       "        <div role=\"tabpanel\" class=\"tab-pane col-md-8 col-md-offset-2\" id=\"histogram-6105935784818957965\">\n",
       "            <img src=\"data:image/png;base64,iVBORw0KGgoAAAANSUhEUgAAAlgAAAGQCAYAAAByNR6YAAAABHNCSVQICAgIfAhkiAAAAAlwSFlzAAAPYQAAD2EBqD%2BnaQAAADh0RVh0U29mdHdhcmUAbWF0cGxvdGxpYiB2ZXJzaW9uMy4yLjIsIGh0dHA6Ly9tYXRwbG90bGliLm9yZy%2BWH4yJAAAgAElEQVR4nO3dfVRVdd7//xchHJHghCIcT5LRjY6GOQldimZYJt5b2Ux2aaSTsXJ5H7qaUdesrGmkzMiK0nIcb9KimYyW15WSXGY4jmJCYmIudcoEFSQLQRkFxP37w6/n5xHvpj6yOfJ8rLXXOmfvz/ns9/60l7z67H328bMsyxIAAACMuc7uAgAAAK41BCwAAADDCFgAAACGEbAAAAAMI2ABAAAYRsACAAAwjIAFAABgGAELAADAMAIWAACAYQQsAAAAwwhYAAAAhhGwAAAADCNgAQAAGEbAAgAAMIyABQAAYBgBCwAAwDACFgAAgGEELAAAAMMIWAAAAIYRsAAAAAwjYAEAABhGwAIAADCMgAUAAGAYAQsAAMAwAhYAAIBhBCwAAADDCFgAAACGEbAAAAAMI2ABAAAYRsACAAAwjIAFAABgGAELAADAMAIWAACAYQQsAAAAwwhYAAAAhhGwAAAADCNgAQAAGEbAAgAAMKyZ3QU0BadPn9ahQ4cUEhIiPz8/u8sBAKBJsCxLx44dk9vt1nXXNeycEgGrARw6dEhRUVF2lwEAQJNUXFystm3bNug%2BCVgNICQkRNKZ/8ChoaE2VwMAQNNQWVmpqKgoz9/hhkTAagBnLwuGhoYSsAAAaGB23J7DTe4AAACGEbAAAAAMI2ABAAAYRsACAAAwjIAFAABgGAELAADAMAIWAACAYQQsAAAAwwhYAAAAhhGwAAAADCNgAQAAGEbAAgAAMIwfewaAa0zczCy7S7hieX/ub3cJwFXBDBYAAIBhBCwAAADDCFgAAACGEbAAAAAMI2ABAAAYRsACAAAwjIAFAABgGAELAADAMAIWAACAYQQsAAAAwwhYAAAAhhGwAAAADCNgAQAAGEbAAgAAMIyABQAAYBgBCwAAwDACFgAAgGEELAAAAMMIWAAAAIYRsAAAAAzz6YB18OBBPf7442rVqpVatGihX//618rPz/dstyxLs2bNktvtVlBQkHr37q2dO3d69VFeXq6kpCQ5nU45nU4lJSXp6NGjXm127NihhIQEBQUF6cYbb9QLL7wgy7Ia5BgBAIDv8dmAVV5erp49eyogIEBr1qzRN998o1dffVU33HCDp82cOXOUlpam9PR0bd26VS6XS3379tWxY8c8bUaMGKGCggJlZWUpKytLBQUFSkpK8myvrKxU37595Xa7tXXrVr355puaO3eu0tLSGvR4AQCA72hmdwE/18svv6yoqCgtXrzYs%2B7mm2/2vLYsS/PmzdPMmTM1bNgwSdLSpUsVGRmp999/X08//bR27dqlrKws5ebmqlu3bpKkhQsXKj4%2BXrt371aHDh20YsUKnTx5UkuWLJHD4VBMTIz27NmjtLQ0paSkyM/Pr0GPGwAANH4%2BO4O1atUqxcXF6be//a0iIiJ01113aeHChZ7t%2B/btU2lpqRITEz3rHA6HEhIStGnTJknS5s2b5XQ6PeFKkrp37y6n0%2BnVJiEhQQ6Hw9OmX79%2BOnTokL7//vsL1lZdXa3KykqvBQAANB0%2BG7C%2B%2B%2B47zZ8/X7fffrs%2B%2B%2BwzjR07VpMmTdKyZcskSaWlpZKkyMhIr89FRkZ6tpWWlioiIqJe3xEREV5tLtTHufs4X2pqqueeLqfTqaioqF9wpAAAwNf4bMA6ffq0unbtqtmzZ%2Buuu%2B7S008/reTkZM2fP9%2Br3fmX8CzL8lp3oUt8l2tz9gb3i10enD59uioqKjxLcXHxf3ZwAADAp/lswGrTpo06derkta5jx44qKiqSJLlcLkn1Z5nKyso8M1Aul0uHDx%2Bu1/cPP/zg1eZCfUj1Z8fOcjgcCg0N9VoAAEDT4bMBq2fPntq9e7fXuj179qhdu3aSpOjoaLlcLmVnZ3u219TUKCcnRz169JAkxcfHq6KiQl9%2B%2BaWnzZYtW1RRUeHVZsOGDaqpqfG0Wbt2rdxut9dN9QAAAGf5bMB65plnlJubq9mzZ%2Btf//qX3n//fb377rsaP368pDOX76ZMmaLZs2crMzNThYWFGj16tFq0aKERI0ZIOjPj1b9/fyUnJys3N1e5ublKTk7W4MGD1aFDB0lnHuPgcDg0evRoFRYWKjMzU7Nnz%2BYbhAAA4KJ89jENd999tzIzMzV9%2BnS98MILio6O1rx58zRy5EhPm2effVYnTpzQuHHjVF5erm7dumnt2rUKCQnxtFmxYoUmTZrk%2Bbbh0KFDlZ6e7tnudDqVnZ2t8ePHKy4uTmFhYUpJSVFKSkrDHSwAAPApfhaPJL/qKisr5XQ6VVFRwf1YAK66uJlZdpdwxfL%2B3N/uEnANs/Pvr89eIgQAAGisCFgAAACGEbAAAAAM89mb3AEAwKVxP559mMECAAAwjIAFAABgGAELAADAMAIWAACAYQQsAAAAw/gWIQBchi99EwtA48AMFgAAgGEELAAAAMMIWAAAAIYRsAAAAAwjYAEAABhGwAIAADCMgAUAAGAYAQsAAMAwAhYAAIBhBCwAAADDCFgAAACGEbAAAAAMI2ABAAAYRsACAAAwjIAFAABgGAELAADAsGZ2F4CmI25mlt0l/Efy/tzf7hIAAD6KGSwAAADDCFgAAACGEbAAAAAM4x4s4CK4ZwwA8HMxgwUAAGAYAQsAAMAwLhECaHC%2BdvkVAP5TzGABAAAY5rMBa9asWfLz8/NaXC6XZ7tlWZo1a5bcbreCgoLUu3dv7dy506uP8vJyJSUlyel0yul0KikpSUePHvVqs2PHDiUkJCgoKEg33nijXnjhBVmW1SDHCAAAfJPPBixJuuOOO1RSUuJZduzY4dk2Z84cpaWlKT09XVu3bpXL5VLfvn117NgxT5sRI0aooKBAWVlZysrKUkFBgZKSkjzbKysr1bdvX7ndbm3dulVvvvmm5s6dq7S0tAY9TgAA4Ft8%2Bh6sZs2aec1anWVZlubNm6eZM2dq2LBhkqSlS5cqMjJS77//vp5%2B%2Bmnt2rVLWVlZys3NVbdu3SRJCxcuVHx8vHbv3q0OHTpoxYoVOnnypJYsWSKHw6GYmBjt2bNHaWlpSklJkZ%2BfX4MeLwAA8A0%2BPYO1d%2B9eud1uRUdH67HHHtN3330nSdq3b59KS0uVmJjoaetwOJSQkKBNmzZJkjZv3iyn0%2BkJV5LUvXt3OZ1OrzYJCQlyOByeNv369dOhQ4f0/fffN8ARAgAAX%2BSzAatbt25atmyZPvvsMy1cuFClpaXq0aOHfvzxR5WWlkqSIiMjvT4TGRnp2VZaWqqIiIh6/UZERHi1uVAfZ7ddTHV1tSorK70WAADQdPjsJcIBAwZ4Xnfu3Fnx8fG69dZbtXTpUnXv3l2S6l3CsyzLa92FLvFdrs3ZG9wvdXkwNTVVzz///H9wNAAA4FriszNY5wsODlbnzp21d%2B9ez31Z588ylZWVeWagXC6XDh8%2BXK%2BfH374wavNhfqQ6s%2BOnWv69OmqqKjwLMXFxT//wAAAgM%2B5ZgJWdXW1du3apTZt2ig6Oloul0vZ2dme7TU1NcrJyVGPHj0kSfHx8aqoqNCXX37pabNlyxZVVFR4tdmwYYNqamo8bdauXSu3262bb775orU4HA6FhoZ6LQAAoOnw2YA1bdo05eTkaN%2B%2BfdqyZYt%2B85vfqLKyUqNGjZKfn5%2BmTJmi2bNnKzMzU4WFhRo9erRatGihESNGSJI6duyo/v37Kzk5Wbm5ucrNzVVycrIGDx6sDh06SDrzGAeHw6HRo0ersLBQmZmZmj17Nt8gBAAAl%2BSz92AdOHBA//3f/60jR46odevW6t69u3Jzc9WuXTtJ0rPPPqsTJ05o3LhxKi8vV7du3bR27VqFhIR4%2BlixYoUmTZrk%2Bbbh0KFDlZ6e7tnudDqVnZ2t8ePHKy4uTmFhYUpJSVFKSkrDHiwAAPApPhuwMjIyLrndz89Ps2bN0qxZsy7apmXLllq%2BfPkl%2B%2BncubM2bNjwc0oEAABNlM9eIgQAAGisCFgAAACGEbAAAAAMI2ABAAAYRsACAAAwjIAFAABgGAELAADAMAIWAACAYQQsAAAAwwhYAAAAhhGwAAAADCNgAQAAGEbAAgAAMIyABQAAYBgBCwAAwDACFgAAgGEELAAAAMMIWAAAAIYRsAAAAAwjYAEAABhGwAIAADCMgAUAAGAYAQsAAMAwAhYAAIBhBCwAAADDCFgAAACGEbAAAAAMI2ABAAAYRsACAAAwjIAFAABgGAELAADAMAIWAACAYQQsAAAAwwhYAAAAhtkSsPbt22fHbgEAABqELQHrtttu03333afly5fr5MmTdpQAAABw1dgSsLZv36677rpLU6dOlcvl0tNPP60vv/zyF/WZmpoqPz8/TZkyxbOuurpaEydOVHh4uIKDgzV06FAdOHDA63NFRUUaMmSIgoODFR4erkmTJqmmpsarTU5OjmJjY9W8eXPdcsstWrBgwS%2BqFQAAXNtsCVgxMTFKS0vTwYMHtXjxYpWWluqee%2B7RHXfcobS0NP3www//UX9bt27Vu%2B%2B%2BqzvvvNNr/ZQpU5SZmamMjAxt3LhRx48f1%2BDBg1VXVydJqqur06BBg1RVVaWNGzcqIyNDK1eu1NSpUz197Nu3TwMHDlSvXr20bds2zZgxQ5MmTdLKlSt/%2BUAAAIBrkq03uTdr1kwPP/yw/va3v%2Bnll1/Wt99%2Bq2nTpqlt27Z64oknVFJSctk%2Bjh8/rpEjR2rhwoUKCwvzrK%2BoqNCiRYv06quv6oEHHtBdd92l5cuXa8eOHfq///s/SdLatWv1zTffaPny5brrrrv0wAMP6NVXX9XChQtVWVkpSVqwYIFuuukmzZs3Tx07dtRTTz2lJ598UnPnzr06gwIAAHyerQErLy9P48aNU5s2bZSWlqZp06bp22%2B/1eeff66DBw/qwQcfvGwf48eP16BBg/TAAw94rc/Pz1dtba0SExM969xut2JiYrRp0yZJ0ubNmxUTEyO32%2B1p069fP1VXVys/P9/T5tw%2BzrbJy8tTbW3tBWuqrq5WZWWl1wIAAJqOZnbsNC0tTYsXL9bu3bs1cOBALVu2TAMHDtR1153Je9HR0XrnnXf0q1/96pL9ZGRkKD8/X3l5efW2lZaWKjAw0GtWS5IiIyNVWlrqaRMZGem1PSwsTIGBgZdsExkZqVOnTunIkSNq06ZNvX2npqbq%2Beefv8woAACAa5UtM1jz58/XiBEjVFRUpE8%2B%2BUSDBw/2hKuzbrrpJi1atOiifRQXF2vy5MlasWKFmjdvfsX7tixLfn5%2Bnvfnvr7SNpZlXfSzkjR9%2BnRVVFR4luLi4iuuDwAA%2BD5bZrD27t172TaBgYEaNWrURbfn5%2BerrKxMsbGxnnV1dXXasGGD0tPT9dlnn6mmpkbl5eVes1hlZWXq0aOHJMnlcmnLli1e/ZaXl6u2ttYza%2BVyuTyzWef20axZM7Vq1eqCtTkcDjkcjsseIwAAuDbZMoO1ePFi/f3vf6%2B3/u9//7uWLl16RX306dNHO3bsUEFBgWeJi4vTyJEjPa8DAgKUnZ3t%2BUxJSYkKCws9ASs%2BPl6FhYVeN9OvXbtWDofDE9zi4%2BO9%2Bjjb5mz/AAAA57MlYL300ksKDw%2Bvtz4iIkKzZ8%2B%2Boj5CQkIUExPjtQQHB6tVq1aKiYmR0%2BnUmDFjNHXqVK1bt07btm3T448/rs6dO3tuiE9MTFSnTp2UlJSkbdu2ad26dZo2bZqSk5MVGhoqSRo7dqz279%2BvlJQU7dq1S3/961%2B1aNEiTZs2zdyAAACAa4otlwj379%2Bv6OjoeuvbtWunoqIiY/t57bXX1KxZMz366KM6ceKE%2BvTpoyVLlsjf31%2BS5O/vr08//VTjxo1Tz549FRQUpBEjRng9giE6OlqrV6/WM888o7feektut1tvvPGGHnnkEWN1AgCAa4stASsiIkJff/21br75Zq/127dvv%2Bh9TVfiiy%2B%2B8HrfvHlzvfnmm3rzzTcv%2BpmbbrpJ//u//3vJfhMSEvTVV1/97LoAAEDTYsslwscee0yTJk3S%2BvXrVVdXp7q6On3%2B%2BeeaPHmyHnvsMTtKAgAAMMaWGawXX3xR%2B/fvV58%2BfdSs2ZkSTp8%2BrSeeeOKK78ECAABorGwJWIGBgfrwww/1pz/9Sdu3b1dQUJA6d%2B6sdu3a2VEOAACAUbYErLPat2%2Bv9u3b21kCAACAcbYErLq6Oi1ZskTr1q1TWVmZTp8%2B7bX9888/t6MsAAAAI2wJWJMnT9aSJUs0aNAgxcTEXPQnZwAAAHyRLQErIyNDf/vb3zRw4EA7dg8AAHBV2fKYhsDAQN1222127BoAAOCqsyVgTZ06Va%2B//rosy7Jj9wAAAFeVLZcIN27cqPXr12vNmjW644476v1o8scff2xHWQAAAEbYErBuuOEGPfzww3bsGgAA4KqzJWAtXrzYjt0CAAA0CNseNHrq1Cl98cUX%2BvbbbzVixAiFhITo0KFDCg0N1fXXX29XWYDPipuZZXcJAID/x5aAtX//fvXv319FRUWqrq5W3759FRISojlz5ujkyZNasGCBHWUBAAAYYcu3CCdPnqy4uDiVl5crKCjIs/7hhx/WunXr7CgJAADAGNu%2BRfjPf/5TgYGBXuvbtWungwcP2lESAACAMbbMYJ0%2BfVp1dXX11h84cEAhISE2VAQAAGCOLQGrb9%2B%2Bmjdvnue9n5%2Bfjh8/rueee46fzwEAAD7PlkuEr732mu677z516tRJJ0%2Be1IgRI7R3716Fh4frgw8%2BsKMkAAAAY2wJWG63WwUFBfrggw/01Vdf6fTp0xozZoxGjhzpddM7AACAL7LtOVhBQUF68skn9eSTT9pVAgAAwFVhS8BatmzZJbc/8cQTDVQJAACAebYErMmTJ3u9r62t1b///W8FBgaqRYsWBCwAAODTbPkWYXl5uddy/Phx7d69W/fccw83uQMAAJ9nS8C6kNtvv10vvfRSvdktAAAAX9NoApYk%2Bfv769ChQ3aXAQAA8IvYcg/WqlWrvN5blqWSkhKlp6erZ8%2BedpQEAABgjC0B66GHHvJ67%2Bfnp9atW%2Bv%2B%2B%2B/Xq6%2B%2BakdJAAAAxtgSsE6fPm3HbgEAABpEo7oHCwAA4FpgywxWSkrKFbdNS0u7ipUAAACYZ0vA2rZtm7766iudOnVKHTp0kCTt2bNH/v7%2B6tq1q6edn5%2BfHeUBAAD8IrYErCFDhigkJERLly5VWFiYpDMPH/3d736nXr16aerUqXaUBQAAYIQt92C9%2BuqrSk1N9YQrSQoLC9OLL77ItwgBAIDPsyVgVVZW6vDhw/XWl5WV6dixYzZUBAAAYI4tAevhhx/W7373O3300Uc6cOCADhw4oI8%2B%2BkhjxozRsGHD7CgJAADAGFsC1oIFCzRo0CA9/vjjateundq1a6eRI0dqwIABevvtt6%2Boj/nz5%2BvOO%2B9UaGioQkNDFR8frzVr1ni2V1dXa%2BLEiQoPD1dwcLCGDh2qAwcOePVRVFSkIUOGKDg4WOHh4Zo0aZJqamq82uTk5Cg2NlbNmzfXLbfcogULFvzyAQAAANc0WwJWixYt9Pbbb%2BvHH3/0fKPwp59%2B0ttvv63g4OAr6qNt27Z66aWXlJeXp7y8PN1///168MEHtXPnTknSlClTlJmZqYyMDG3cuFHHjx/X4MGDVVdXJ0mqq6vToEGDVFVVpY0bNyojI0MrV670usF%2B3759GjhwoHr16qVt27ZpxowZmjRpklauXGl%2BUAAAwDXDz7Isy66d/%2Btf/9K3336re%2B%2B9V0FBQbIs6xc9mqFly5Z65ZVX9Jvf/EatW7fWe%2B%2B9p%2BHDh0uSDh06pKioKK1evVr9%2BvXTmjVrNHjwYBUXF8vtdkuSMjIyNHr0aJWVlSk0NFS///3vtWrVKu3atcuzj7Fjx2r79u3avHnzFddVWVkpp9OpiooKhYaG/uzj83VxM7PsLgFAI5P35/52l3BN86V/d6/GuWDn319bZrB%2B/PFH9enTR%2B3bt9fAgQNVUlIiSXrqqad%2B1iMa6urqlJGRoaqqKsXHxys/P1%2B1tbVKTEz0tHG73YqJidGmTZskSZs3b1ZMTIwnXElSv379VF1drfz8fE%2Bbc/s42yYvL0%2B1tbUXrae6ulqVlZVeCwAAaDpseQ7WM888o4CAABUVFaljx46e9cOHD9czzzxzxY9q2LFjh%2BLj43Xy5Eldf/31yszMVKdOnVRQUKDAwECvx0BIUmRkpEpLSyVJpaWlioyM9NoeFhamwMDAS7aJjIzUqVOndOTIEbVp0%2BaCdaWmpur555%2B/omMAAPgOX5oRgr1sCVhr167VZ599prZt23qtv/3227V///4r7qdDhw4qKCjQ0aNHtXLlSo0aNUo5OTkXbX/%2BJcgLXY68XJuzV1QvdSlz%2BvTpXj8HVFlZqaioqMsfEAAAuCbYErCqqqrUokWLeuuPHDkih8Nxxf0EBgbqtttukyTFxcVp69atev311zV8%2BHDV1NSovLzcaxarrKxMPXr0kCS5XC5t2bLFq7/y8nLV1tZ6Zq1cLpdnNuvcPpo1a6ZWrVpdtC6Hw/EfHQcAALi22HIP1r333qtly5Z53vv5%2Ben06dN65ZVXdN999/3sfi3LUnV1tWJjYxUQEKDs7GzPtpKSEhUWFnoCVnx8vAoLCz33f0lnZtYcDodiY2M9bc7t42ybuLg4BQQE/Ow6AQDAtc2WGaxXXnlFvXv3Vl5enmpqavTss89q586d%2Bumnn/TPf/7zivqYMWOGBgwYoKioKB07dkwZGRn64osvlJWVJafTqTFjxmjq1Klq1aqVWrZsqWnTpqlz58564IEHJEmJiYnq1KmTkpKS9Morr%2Binn37StGnTlJyc7PmmwdixY5Wenq6UlBQlJydr8%2BbNWrRokT744IOrNjYAAMD32RKwOnXqpK%2B//lrz58%2BXv7%2B/qqqqNGzYMI0fP/6iN46f7/Dhw0pKSlJJSYmcTqfuvPNOZWVlqW/fvpKk1157Tc2aNdOjjz6qEydOqE%2BfPlqyZIn8/f0lSf7%2B/vr00081btw49ezZU0FBQRoxYoTmzp3r2Ud0dLRWr16tZ555Rm%2B99ZbcbrfeeOMNPfLII%2BYHBQAAXDMa/DlYZx%2Bf8M4776h9%2B/YNuWvb8BysM/j2DYDz%2BdpzsPh37OrhOVi/UEBAgAoLC3/RA0UBAAAaM1tucn/iiSe0aNEiO3YNAABw1dlyD1ZNTY3%2B8pe/KDs7W3FxcfV%2BfzAtLc2OsgAAAIxo0ID13Xff6eabb1ZhYaG6du0qSdqzZ49XGy4dAgAAX9egAev2229XSUmJ1q9fL%2BnMT%2BO88cYb9X6OBgAAwJc16D1Y539hcc2aNaqqqmrIEgAAAK46W25yP6uBnxABAADQIBr0EqGfn1%2B9e6y45%2BqX4ZksAAA0Pg0asCzL0ujRoz0/hHzy5EmNHTu23rcIP/7444YsCwAAwKgGDVijRo3yev/444835O4BAAAaRIMGrMWLFzfk7gAAAGxh603uAAAA1yICFgAAgGEELAAAAMMIWAAAAIYRsAAAAAwjYAEAABhGwAIAADCMgAUAAGAYAQsAAMAwAhYAAIBhBCwAAADDCFgAAACGEbAAAAAMI2ABAAAYRsACAAAwrJndBQAAmq64mVl2lwBcFcxgAQAAGEbAAgAAMIyABQAAYBgBCwAAwDACFgAAgGEELAAAAMMIWAAAAIYRsAAAAAzz2YCVmpqqu%2B%2B%2BWyEhIYqIiNBDDz2k3bt3e7Wprq7WxIkTFR4eruDgYA0dOlQHDhzwalNUVKQhQ4YoODhY4eHhmjRpkmpqarza5OTkKDY2Vs2bN9ctt9yiBQsWXPXjAwAAvstnA1ZOTo7Gjx%2Bv3NxcZWdn69SpU0pMTFRVVZWnzZQpU5SZmamMjAxt3LhRx48f1%2BDBg1VXVydJqqur06BBg1RVVaWNGzcqIyNDK1eu1NSpUz197Nu3TwMHDlSvXr20bds2zZgxQ5MmTdLKlSsb/JgBAIBv8LMsy7K7CBN%2B%2BOEHRUREKCcnR/fee68qKirUunVrvffeexo%2BfLgk6dChQ4qKitLq1avVr18/rVmzRoMHD1ZxcbHcbrckKSMjQ6NHj1ZZWZlCQ0P1%2B9//XqtWrdKuXbs8%2Bxo7dqy2b9%2BuzZs3X1FtlZWVcjqdqqioUGhoqNHj5mcmAADXgrw/9zfe59X8%2B3s5PjuDdb6KigpJUsuWLSVJ%2Bfn5qq2tVWJioqeN2%2B1WTEyMNm3aJEnavHmzYmJiPOFKkvr166fq6mrl5%2Bd72pzbx9k2eXl5qq2tvarHBAAAfNM18WPPlmUpJSVF99xzj2JiYiRJpaWlCgwMVFhYmFfbyMhIlZaWetpERkZ6bQ8LC1NgYOAl20RGRurUqVM6cuSI2rRpU6%2Be6upqVVdXe95XVlb%2B8oMEAAA%2B45qYwZowYYK%2B/vprffDBB5dta1mW/Pz8PO/PfX2lbc5eVb3QZ6UzN%2BA7nU7PEhUVdUXHAQAArg0%2BH7AmTpyoVatWaf369Wrbtq1nvcvlUk1NjcrLy73al5WVeWakXC6XZ6bqrPLyctXW1l6yTVlZmZo1a6ZWrVpdsKbp06eroqLCsxQXF//i4wQAAL7DZwOWZVmaMGGCPv74Y33%2B%2BeeKjo722h4bG6uAgABlZ2d71pWUlKiwsFA9evSQJMXHx6uwsFAlJSWeNmvXrpXD4VBsbKynzbl9nG0TFxengICAC9bmcDgUGhrqtQAAgKbDZwPW%2BPHjtXz5cr3//vsKCQlRaWmpSktLdeLECUmS0%2BnUmDFjNHXqVK1bt07btm3T448/rs6dO%2BuBBx6QJCUmJqpTp05KSkrStm3btG7dOk2bNk3JycmeUDR27Fjt379fKSkp2rVrl/76179q0aJFmjZtmm3HDgAAGjefDVjz589XRUWFevfurTZt2niWDz/80NPmtdde00MPPaRHH31UPXv2VIsWLfQ///M/8vf3lyT5%2B/vr008/VfPmzdWzZ089%2BuijeuihhzR37lxPH9HR0Vq9erW%2B%2BOIL/frXv9af/vQnvYgnGL0AAA8XSURBVPHGG3rkkUca/JgBAIBvuGaeg9WY8RwsAAAujedgAQAA4JIIWAAAAIYRsAAAAAwjYAEAABhGwAIAADCMgAUAAGAYAQsAAMAwAhYAAIBhBCwAAADDCFgAAACGEbAAAAAMI2ABAAAYRsACAAAwjIAFAABgGAELAADAMAIWAACAYQQsAAAAwwhYAAAAhhGwAAAADCNgAQAAGEbAAgAAMIyABQAAYBgBCwAAwDACFgAAgGEELAAAAMMIWAAAAIYRsAAAAAwjYAEAABhGwAIAADCMgAUAAGAYAQsAAMAwAhYAAIBhBCwAAADDCFgAAACGEbAAAAAMI2ABAAAY5tMBa8OGDRoyZIjcbrf8/Pz0ySefeG23LEuzZs2S2%2B1WUFCQevfurZ07d3q1KS8vV1JSkpxOp5xOp5KSknT06FGvNjt27FBCQoKCgoJ044036oUXXpBlWVf9%2BAAAgG/y6YBVVVWlLl26KD09/YLb58yZo7S0NKWnp2vr1q1yuVzq27evjh075mkzYsQIFRQUKCsrS1lZWSooKFBSUpJne2Vlpfr27Su3262tW7fqzTff1Ny5c5WWlnbVjw8AAPimZnYX8EsMGDBAAwYMuOA2y7I0b948zZw5U8OGDZMkLV26VJGRkXr//ff19NNPa9euXcrKylJubq66desmSVq4cKHi4%2BO1e/dudejQQStWrNDJkye1ZMkSORwOxcTEaM%2BePUpLS1NKSor8/Pwa7HgBAIBv8OkZrEvZt2%2BfSktLlZiY6FnncDiUkJCgTZs2SZI2b94sp9PpCVeS1L17dzmdTq82CQkJcjgcnjb9%2BvXToUOH9P33319w39XV1aqsrPRaAABA03HNBqzS0lJJUmRkpNf6yMhIz7bS0lJFRETU%2B2xERIRXmwv1ce4%2Bzpeamuq5p8vpdCoqKuqXHQwAAPAp12zAOuv8S3iWZXmtu9Alvsu1OXuD%2B8UuD06fPl0VFRWepbi4%2BGfXDwAAfI9P34N1KS6XS9KZWaY2bdp41peVlXlmoFwulw4fPlzvsz/88INXm/NnqsrKyiTVnx07y%2BFweF1SBAAATcs1O4MVHR0tl8ul7Oxsz7qamhrl5OSoR48ekqT4%2BHhVVFToyy%2B/9LTZsmWLKioqvNps2LBBNTU1njZr166V2%2B3WzTff3DAHAwAAfIpPB6zjx4%2BroKBABQUFks7c2F5QUKCioiL5%2BflpypQpmj17tjIzM1VYWKjRo0erRYsWGjFihCSpY8eO6t%2B/v5KTk5Wbm6vc3FwlJydr8ODB6tChg6Qzj3FwOBwaPXq0CgsLlZmZqdmzZ/MNQgAAcFE%2BfYkwLy9P9913n%2Bd9SkqKJGnUqFFasmSJnn32WZ04cULjxo1TeXm5unXrprVr1yokJMTzmRUrVmjSpEmebxsOHTrU67laTqdT2dnZGj9%2BvOLi4hQWFqaUlBTPvgAAAM7nZ/FI8quusrJSTqdTFRUVCg0NNdp33Mwso/0BAGCHvD/3N97n1fz7ezk%2BfYkQAACgMSJgAQAAGEbAAgAAMIyABQAAYBgBCwAAwDACFgAAgGEELAAAAMMIWAAAAIYRsAAAAAwjYAEAABhGwAIAADCMgAUAAGAYAQsAAMAwAhYAAIBhBCwAAADDCFgAAACGEbAAAAAMI2ABAAAYRsACAAAwjIAFAABgGAELAADAMAIWAACAYQQsAAAAwwhYAAAAhhGwAAAADCNgAQAAGEbAAgAAMIyABQAAYBgBCwAAwDACFgAAgGEELAAAAMMIWAAAAIYRsAAAAAwjYAEAABhGwAIAADCMgAUAAGAYAesKvf3224qOjlbz5s0VGxurf/zjH3aXBAAAGikC1hX48MMPNWXKFM2cOVPbtm1Tr169NGDAABUVFdldGgAAaIQIWFcgLS1NY8aM0VNPPaWOHTtq3rx5ioqK0vz58%2B0uDQAANELN7C6gsaupqVF%2Bfr7%2B8Ic/eK1PTEzUpk2bLviZ6upqVVdXe95XVFRIkiorK43XV1ddZbxPAAAa2tX4G3m2T8uyjPd9OQSsyzhy5Ijq6uoUGRnptT4yMlKlpaUX/Exqaqqef/75euujoqKuSo0AAPg656tXr%2B9jx47J6XRevR1cAAHrCvn5%2BXm9tyyr3rqzpk%2BfrpSUFM/706dP66efflKrVq3qfaayslJRUVEqLi5WaGio%2BcKvAYzR5TFGl8b4XB5jdHmM0eU1tjGyLEvHjh2T2%2B1u8H0TsC4jPDxc/v7%2B9WarysrK6s1qneVwOORwOLzW3XDDDZfcT2hoaKM4GRszxujyGKNLY3wujzG6PMbo8hrTGDX0zNVZ3OR%2BGYGBgYqNjVV2drbX%2BuzsbPXo0cOmqgAAQGPGDNYVSElJUVJSkuLi4hQfH693331XRUVFGjt2rN2lAQCARsh/1qxZs%2BwuorGLiYlRq1atNHv2bM2dO1cnTpzQe%2B%2B9py5duhjp39/fX71791azZuTdi2GMLo8xujTG5/IYo8tjjC6PMTrDz7Lju4sAAADXMO7BAgAAMIyABQAAYBgBCwAAwDACFgAAgGEELJu9/fbbio6OVvPmzRUbG6t//OMfdpfUaMyaNUt%2Bfn5ei8vlsrss22zYsEFDhgyR2%2B2Wn5%2BfPvnkE6/tlmVp1qxZcrvdCgoKUu/evbVz506bqrXH5cZo9OjR9c6p7t2721Rtw0tNTdXdd9%2BtkJAQRURE6KGHHtLu3bu92lRXV2vixIkKDw9XcHCwhg4dqgMHDthUccO7kjHq3bt3vfPoscces6nihjd//nzdeeednoeJxsfHa82aNZ7tTf0cOouAZaMPP/xQU6ZM0cyZM7Vt2zb16tVLAwYMUFFRkd2lNRp33HGHSkpKPMuOHTvsLsk2VVVV6tKli9LT0y%2B4fc6cOUpLS1N6erq2bt0ql8ulvn376tixYw1cqX0uN0aS1L9/f69zavXq1Q1Yob1ycnI0fvx45ebmKjs7W6dOnVJiYqKqqv7/H42fMmWKMjMzlZGRoY0bN%2Br48eMaPHiw6urqbKy84VzJGElScnKy13n0zjvv2FRxw2vbtq1eeukl5eXlKS8vT/fff78efPBBz//QNfVzyMOCbf7rv/7LGjt2rNe6X/3qV9Yf/vAHmypqXJ577jmrS5cudpfRKEmyMjMzPe9Pnz5tuVwu66WXXvKsO3nypOV0Oq0FCxbYUaLtzh8jy7KsUaNGWQ8%2B%2BKBNFTU%2BZWVlliQrJyfHsizLOnr0qBUQEGBlZGR42hw8eNC67rrrrKysLLvKtNX5Y2RZlpWQkGBNnjzZxqoan7CwMOsvf/kL59A5mMGySU1NjfLz85WYmOi1PjExUZs2bbKpqsZn7969crvdio6O1mOPPabvvvvO7pIapX379qm0tNTrfHI4HEpISOB8Os8XX3yhiIgItW/fXsnJySorK7O7JNtUVFRIklq2bClJys/PV21trdd55Ha7FRMT02TPo/PH6KwVK1YoPDxcd9xxh6ZNm9akZorPVVdXp4yMDFVVVSk%2BPp5z6BxN%2BzGrNjpy5Ijq6urq/WB0ZGRkvR%2BWbqq6deumZcuWqX379jp8%2BLBefPFF9ejRQzt37lSrVq3sLq9ROXvOXOh82r9/vx0lNUoDBgzQb3/7W7Vr10779u3TH//4R91///3Kz8%2Bv9wPt1zrLspSSkqJ77rlHMTExks6cR4GBgQoLC/Nq21T/XbrQGEnSyJEjFR0dLZfLpcLCQk2fPl3bt2%2Bv95u117IdO3YoPj5eJ0%2Be1PXXX6/MzEx16tRJBQUFnEP/DwHLZn5%2Bfl7vLcuqt66pGjBggOd1586dFR8fr1tvvVVLly5VSkqKjZU1XpxPlzZ8%2BHDP65iYGMXFxaldu3b69NNPNWzYMBsra3gTJkzQ119/rY0bN162bVM9jy42RsnJyZ7XMTExuv322xUXF6evvvpKXbt2begybdGhQwcVFBTo6NGjWrlypUaNGqWcnJyLtm%2BK5xCXCG0SHh4uf3//eom%2BrKys3iwEzggODlbnzp21d%2B9eu0tpdM5%2Bu5Lz6T/Tpk0btWvXrsmdUxMnTtSqVau0fv16tW3b1rPe5XKppqZG5eXlXu2b4nl0sTG6kK5duyogIKBJnUeBgYG67bbbFBcXp9TUVHXp0kWvv/4659A5CFg2CQwMVGxsbL0p5ezsbPXo0cOmqhq36upq7dq1S23atLG7lEbn7OWKc8%2Bnmpoa5eTkcD5dwo8//qji4uImc05ZlqUJEybo448/1ueff67o6Giv7bGxsQoICPA6j0pKSlRYWNhkzqPLjdGF7Ny5U7W1tU3mPLoQy7JUXV3NOXQO/1mzZs2yu4imKjQ0VH/84x914403qnnz5po9e7bWr1%2BvxYsX64YbbrC7PNtNmzZNDodDlmVpz549mjBhgvbs2aN33nmnSY7P8ePH9c0336i0tFTvvPOOunXrpqCgINXU1OiGG25QXV2dUlNT1aFDB9XV1Wnq1Kk6ePCg3n333SZzf9Glxsjf318zZsxQSEiI6urqVFBQoKeeekq1tbVKT09vEmM0fvx4rVixQh999JHcbreOHz%2Bu48ePy9/fXwEBAWrevLkOHTqk9PR0denSRRUVFRo7dqxCQkL08ssv67rrrv3/J7/cGH377bdKT09XcHCwampqtGnTJj311FOKiorSn/70pyYxRjNmzFBgYKAsy1JxcbHeeOMNLV%2B%2BXHPmzFGnTp2a/DnkYdO3F/H/vPXWW1a7du2swMBAq2vXrl5fBW7qhg8fbrVp08YKCAiw3G63NWzYMGvnzp12l2Wb9evXW5LqLaNGjbIs68yjGp577jnL5XJZDofDuvfee60dO3bYW3QDu9QY/fvf/7YSExOt1q1bWwEBAdZNN91kjRo1yioqKrK77AZzobGRZC1evNjT5sSJE9aECROsli1bWkFBQdbgwYMZo3PGqKioyLr33nutli1bWoGBgdatt95qTZo0yfrxxx/tLbwBPfnkk56/W61bt7b69OljrV271rO9qZ9DZ/lZlmU1ZKADAAC41jWhuToAAICGQcACAAAwjIAFAABgGAELAADAMAIWAACAYQQsAAAAwwhYAAAAhhGwAAAADCNgAQAAGEbAAgAAMIyABQAAYBgBCwAAwDACFgAAgGEELAAAAMMIWAAAAIYRsAAAAAwjYAEAABhGwAIAADDs/wO8QDYIUy0LbAAAAABJRU5ErkJggg%3D%3D\"/>\n",
       "        </div>\n",
       "        <div role=\"tabpanel\" class=\"tab-pane col-md-12\" id=\"common-6105935784818957965\">\n",
       "            \n",
       "<table class=\"freq table table-hover\">\n",
       "    <thead>\n",
       "    <tr>\n",
       "        <td class=\"fillremaining\">Value</td>\n",
       "        <td class=\"number\">Count</td>\n",
       "        <td class=\"number\">Frequency (%)</td>\n",
       "        <td style=\"min-width:200px\">&nbsp;</td>\n",
       "    </tr>\n",
       "    </thead>\n",
       "    <tr class=\"\">\n",
       "        <td class=\"fillremaining\">20</td>\n",
       "        <td class=\"number\">2752</td>\n",
       "        <td class=\"number\">6.1%</td>\n",
       "        <td>\n",
       "            <div class=\"bar\" style=\"width:11%\">&nbsp;</div>\n",
       "        </td>\n",
       "</tr><tr class=\"\">\n",
       "        <td class=\"fillremaining\">18</td>\n",
       "        <td class=\"number\">2308</td>\n",
       "        <td class=\"number\">5.1%</td>\n",
       "        <td>\n",
       "            <div class=\"bar\" style=\"width:10%\">&nbsp;</div>\n",
       "        </td>\n",
       "</tr><tr class=\"\">\n",
       "        <td class=\"fillremaining\">21</td>\n",
       "        <td class=\"number\">2026</td>\n",
       "        <td class=\"number\">4.5%</td>\n",
       "        <td>\n",
       "            <div class=\"bar\" style=\"width:9%\">&nbsp;</div>\n",
       "        </td>\n",
       "</tr><tr class=\"\">\n",
       "        <td class=\"fillremaining\">17</td>\n",
       "        <td class=\"number\">1939</td>\n",
       "        <td class=\"number\">4.3%</td>\n",
       "        <td>\n",
       "            <div class=\"bar\" style=\"width:8%\">&nbsp;</div>\n",
       "        </td>\n",
       "</tr><tr class=\"\">\n",
       "        <td class=\"fillremaining\">6</td>\n",
       "        <td class=\"number\">1932</td>\n",
       "        <td class=\"number\">4.3%</td>\n",
       "        <td>\n",
       "            <div class=\"bar\" style=\"width:8%\">&nbsp;</div>\n",
       "        </td>\n",
       "</tr><tr class=\"\">\n",
       "        <td class=\"fillremaining\">5</td>\n",
       "        <td class=\"number\">1910</td>\n",
       "        <td class=\"number\">4.2%</td>\n",
       "        <td>\n",
       "            <div class=\"bar\" style=\"width:8%\">&nbsp;</div>\n",
       "        </td>\n",
       "</tr><tr class=\"\">\n",
       "        <td class=\"fillremaining\">14</td>\n",
       "        <td class=\"number\">1848</td>\n",
       "        <td class=\"number\">4.1%</td>\n",
       "        <td>\n",
       "            <div class=\"bar\" style=\"width:8%\">&nbsp;</div>\n",
       "        </td>\n",
       "</tr><tr class=\"\">\n",
       "        <td class=\"fillremaining\">8</td>\n",
       "        <td class=\"number\">1842</td>\n",
       "        <td class=\"number\">4.1%</td>\n",
       "        <td>\n",
       "            <div class=\"bar\" style=\"width:8%\">&nbsp;</div>\n",
       "        </td>\n",
       "</tr><tr class=\"\">\n",
       "        <td class=\"fillremaining\">28</td>\n",
       "        <td class=\"number\">1830</td>\n",
       "        <td class=\"number\">4.0%</td>\n",
       "        <td>\n",
       "            <div class=\"bar\" style=\"width:8%\">&nbsp;</div>\n",
       "        </td>\n",
       "</tr><tr class=\"\">\n",
       "        <td class=\"fillremaining\">7</td>\n",
       "        <td class=\"number\">1817</td>\n",
       "        <td class=\"number\">4.0%</td>\n",
       "        <td>\n",
       "            <div class=\"bar\" style=\"width:8%\">&nbsp;</div>\n",
       "        </td>\n",
       "</tr><tr class=\"other\">\n",
       "        <td class=\"fillremaining\">Other values (21)</td>\n",
       "        <td class=\"number\">25007</td>\n",
       "        <td class=\"number\">55.3%</td>\n",
       "        <td>\n",
       "            <div class=\"bar\" style=\"width:100%\">&nbsp;</div>\n",
       "        </td>\n",
       "</tr>\n",
       "</table>\n",
       "        </div>\n",
       "        <div role=\"tabpanel\" class=\"tab-pane col-md-12\"  id=\"extreme-6105935784818957965\">\n",
       "            <p class=\"h4\">Minimum 5 values</p>\n",
       "            \n",
       "<table class=\"freq table table-hover\">\n",
       "    <thead>\n",
       "    <tr>\n",
       "        <td class=\"fillremaining\">Value</td>\n",
       "        <td class=\"number\">Count</td>\n",
       "        <td class=\"number\">Frequency (%)</td>\n",
       "        <td style=\"min-width:200px\">&nbsp;</td>\n",
       "    </tr>\n",
       "    </thead>\n",
       "    <tr class=\"\">\n",
       "        <td class=\"fillremaining\">1</td>\n",
       "        <td class=\"number\">322</td>\n",
       "        <td class=\"number\">0.7%</td>\n",
       "        <td>\n",
       "            <div class=\"bar\" style=\"width:17%\">&nbsp;</div>\n",
       "        </td>\n",
       "</tr><tr class=\"\">\n",
       "        <td class=\"fillremaining\">2</td>\n",
       "        <td class=\"number\">1293</td>\n",
       "        <td class=\"number\">2.9%</td>\n",
       "        <td>\n",
       "            <div class=\"bar\" style=\"width:68%\">&nbsp;</div>\n",
       "        </td>\n",
       "</tr><tr class=\"\">\n",
       "        <td class=\"fillremaining\">3</td>\n",
       "        <td class=\"number\">1079</td>\n",
       "        <td class=\"number\">2.4%</td>\n",
       "        <td>\n",
       "            <div class=\"bar\" style=\"width:56%\">&nbsp;</div>\n",
       "        </td>\n",
       "</tr><tr class=\"\">\n",
       "        <td class=\"fillremaining\">4</td>\n",
       "        <td class=\"number\">1445</td>\n",
       "        <td class=\"number\">3.2%</td>\n",
       "        <td>\n",
       "            <div class=\"bar\" style=\"width:75%\">&nbsp;</div>\n",
       "        </td>\n",
       "</tr><tr class=\"\">\n",
       "        <td class=\"fillremaining\">5</td>\n",
       "        <td class=\"number\">1910</td>\n",
       "        <td class=\"number\">4.2%</td>\n",
       "        <td>\n",
       "            <div class=\"bar\" style=\"width:100%\">&nbsp;</div>\n",
       "        </td>\n",
       "</tr>\n",
       "</table>\n",
       "            <p class=\"h4\">Maximum 5 values</p>\n",
       "            \n",
       "<table class=\"freq table table-hover\">\n",
       "    <thead>\n",
       "    <tr>\n",
       "        <td class=\"fillremaining\">Value</td>\n",
       "        <td class=\"number\">Count</td>\n",
       "        <td class=\"number\">Frequency (%)</td>\n",
       "        <td style=\"min-width:200px\">&nbsp;</td>\n",
       "    </tr>\n",
       "    </thead>\n",
       "    <tr class=\"\">\n",
       "        <td class=\"fillremaining\">27</td>\n",
       "        <td class=\"number\">1121</td>\n",
       "        <td class=\"number\">2.5%</td>\n",
       "        <td>\n",
       "            <div class=\"bar\" style=\"width:61%\">&nbsp;</div>\n",
       "        </td>\n",
       "</tr><tr class=\"\">\n",
       "        <td class=\"fillremaining\">28</td>\n",
       "        <td class=\"number\">1830</td>\n",
       "        <td class=\"number\">4.0%</td>\n",
       "        <td>\n",
       "            <div class=\"bar\" style=\"width:100%\">&nbsp;</div>\n",
       "        </td>\n",
       "</tr><tr class=\"\">\n",
       "        <td class=\"fillremaining\">29</td>\n",
       "        <td class=\"number\">1745</td>\n",
       "        <td class=\"number\">3.9%</td>\n",
       "        <td>\n",
       "            <div class=\"bar\" style=\"width:95%\">&nbsp;</div>\n",
       "        </td>\n",
       "</tr><tr class=\"\">\n",
       "        <td class=\"fillremaining\">30</td>\n",
       "        <td class=\"number\">1566</td>\n",
       "        <td class=\"number\">3.5%</td>\n",
       "        <td>\n",
       "            <div class=\"bar\" style=\"width:85%\">&nbsp;</div>\n",
       "        </td>\n",
       "</tr><tr class=\"\">\n",
       "        <td class=\"fillremaining\">31</td>\n",
       "        <td class=\"number\">643</td>\n",
       "        <td class=\"number\">1.4%</td>\n",
       "        <td>\n",
       "            <div class=\"bar\" style=\"width:35%\">&nbsp;</div>\n",
       "        </td>\n",
       "</tr>\n",
       "</table>\n",
       "        </div>\n",
       "    </div>\n",
       "</div>\n",
       "</div><div class=\"row variablerow\">\n",
       "    <div class=\"col-md-3 namecol\">\n",
       "        <p class=\"h4 pp-anchor\" id=\"pp_var_month\">month<br/>\n",
       "            <small>Categorical</small>\n",
       "        </p>\n",
       "    </div><div class=\"col-md-3\">\n",
       "    <table class=\"stats \">\n",
       "        <tr class=\"\">\n",
       "            <th>Distinct count</th>\n",
       "            <td>12</td>\n",
       "        </tr>\n",
       "        <tr>\n",
       "            <th>Unique (%)</th>\n",
       "            <td>0.0%</td>\n",
       "        </tr>\n",
       "        <tr class=\"ignore\">\n",
       "            <th>Missing (%)</th>\n",
       "            <td>0.0%</td>\n",
       "        </tr>\n",
       "        <tr class=\"ignore\">\n",
       "            <th>Missing (n)</th>\n",
       "            <td>0</td>\n",
       "        </tr>\n",
       "    </table>\n",
       "</div>\n",
       "<div class=\"col-md-6 collapse in\" id=\"minifreqtable-4718550169931434258\">\n",
       "    <table class=\"mini freq\">\n",
       "        <tr class=\"\">\n",
       "    <th>may</th>\n",
       "    <td>\n",
       "        <div class=\"bar\" style=\"width:75%\" data-toggle=\"tooltip\" data-placement=\"right\" data-html=\"true\"\n",
       "             data-delay=500 title=\"Percentage: 30.4%\">\n",
       "            13766\n",
       "        </div>\n",
       "        \n",
       "    </td>\n",
       "</tr><tr class=\"\">\n",
       "    <th>jul</th>\n",
       "    <td>\n",
       "        <div class=\"bar\" style=\"width:38%\" data-toggle=\"tooltip\" data-placement=\"right\" data-html=\"true\"\n",
       "             data-delay=500 title=\"Percentage: 15.3%\">\n",
       "            6895\n",
       "        </div>\n",
       "        \n",
       "    </td>\n",
       "</tr><tr class=\"\">\n",
       "    <th>aug</th>\n",
       "    <td>\n",
       "        <div class=\"bar\" style=\"width:34%\" data-toggle=\"tooltip\" data-placement=\"right\" data-html=\"true\"\n",
       "             data-delay=500 title=\"Percentage: 13.8%\">\n",
       "            6247\n",
       "        </div>\n",
       "        \n",
       "    </td>\n",
       "</tr><tr class=\"other\">\n",
       "    <th>Other values (9)</th>\n",
       "    <td>\n",
       "        <div class=\"bar\" style=\"width:100%\" data-toggle=\"tooltip\" data-placement=\"right\" data-html=\"true\"\n",
       "             data-delay=500 title=\"Percentage: 40.5%\">\n",
       "            18303\n",
       "        </div>\n",
       "        \n",
       "    </td>\n",
       "</tr>\n",
       "    </table>\n",
       "</div>\n",
       "<div class=\"col-md-12 text-right\">\n",
       "    <a role=\"button\" data-toggle=\"collapse\" data-target=\"#freqtable-4718550169931434258, #minifreqtable-4718550169931434258\"\n",
       "       aria-expanded=\"true\" aria-controls=\"collapseExample\">\n",
       "        Toggle details\n",
       "    </a>\n",
       "</div>\n",
       "<div class=\"col-md-12 extrapadding collapse\" id=\"freqtable-4718550169931434258\">\n",
       "    \n",
       "<table class=\"freq table table-hover\">\n",
       "    <thead>\n",
       "    <tr>\n",
       "        <td class=\"fillremaining\">Value</td>\n",
       "        <td class=\"number\">Count</td>\n",
       "        <td class=\"number\">Frequency (%)</td>\n",
       "        <td style=\"min-width:200px\">&nbsp;</td>\n",
       "    </tr>\n",
       "    </thead>\n",
       "    <tr class=\"\">\n",
       "        <td class=\"fillremaining\">may</td>\n",
       "        <td class=\"number\">13766</td>\n",
       "        <td class=\"number\">30.4%</td>\n",
       "        <td>\n",
       "            <div class=\"bar\" style=\"width:100%\">&nbsp;</div>\n",
       "        </td>\n",
       "</tr><tr class=\"\">\n",
       "        <td class=\"fillremaining\">jul</td>\n",
       "        <td class=\"number\">6895</td>\n",
       "        <td class=\"number\">15.3%</td>\n",
       "        <td>\n",
       "            <div class=\"bar\" style=\"width:50%\">&nbsp;</div>\n",
       "        </td>\n",
       "</tr><tr class=\"\">\n",
       "        <td class=\"fillremaining\">aug</td>\n",
       "        <td class=\"number\">6247</td>\n",
       "        <td class=\"number\">13.8%</td>\n",
       "        <td>\n",
       "            <div class=\"bar\" style=\"width:45%\">&nbsp;</div>\n",
       "        </td>\n",
       "</tr><tr class=\"\">\n",
       "        <td class=\"fillremaining\">jun</td>\n",
       "        <td class=\"number\">5341</td>\n",
       "        <td class=\"number\">11.8%</td>\n",
       "        <td>\n",
       "            <div class=\"bar\" style=\"width:39%\">&nbsp;</div>\n",
       "        </td>\n",
       "</tr><tr class=\"\">\n",
       "        <td class=\"fillremaining\">nov</td>\n",
       "        <td class=\"number\">3970</td>\n",
       "        <td class=\"number\">8.8%</td>\n",
       "        <td>\n",
       "            <div class=\"bar\" style=\"width:29%\">&nbsp;</div>\n",
       "        </td>\n",
       "</tr><tr class=\"\">\n",
       "        <td class=\"fillremaining\">apr</td>\n",
       "        <td class=\"number\">2932</td>\n",
       "        <td class=\"number\">6.5%</td>\n",
       "        <td>\n",
       "            <div class=\"bar\" style=\"width:22%\">&nbsp;</div>\n",
       "        </td>\n",
       "</tr><tr class=\"\">\n",
       "        <td class=\"fillremaining\">feb</td>\n",
       "        <td class=\"number\">2649</td>\n",
       "        <td class=\"number\">5.9%</td>\n",
       "        <td>\n",
       "            <div class=\"bar\" style=\"width:20%\">&nbsp;</div>\n",
       "        </td>\n",
       "</tr><tr class=\"\">\n",
       "        <td class=\"fillremaining\">jan</td>\n",
       "        <td class=\"number\">1403</td>\n",
       "        <td class=\"number\">3.1%</td>\n",
       "        <td>\n",
       "            <div class=\"bar\" style=\"width:11%\">&nbsp;</div>\n",
       "        </td>\n",
       "</tr><tr class=\"\">\n",
       "        <td class=\"fillremaining\">oct</td>\n",
       "        <td class=\"number\">738</td>\n",
       "        <td class=\"number\">1.6%</td>\n",
       "        <td>\n",
       "            <div class=\"bar\" style=\"width:6%\">&nbsp;</div>\n",
       "        </td>\n",
       "</tr><tr class=\"\">\n",
       "        <td class=\"fillremaining\">sep</td>\n",
       "        <td class=\"number\">579</td>\n",
       "        <td class=\"number\">1.3%</td>\n",
       "        <td>\n",
       "            <div class=\"bar\" style=\"width:5%\">&nbsp;</div>\n",
       "        </td>\n",
       "</tr><tr class=\"other\">\n",
       "        <td class=\"fillremaining\">Other values (2)</td>\n",
       "        <td class=\"number\">691</td>\n",
       "        <td class=\"number\">1.5%</td>\n",
       "        <td>\n",
       "            <div class=\"bar\" style=\"width:5%\">&nbsp;</div>\n",
       "        </td>\n",
       "</tr>\n",
       "</table>\n",
       "</div>\n",
       "</div><div class=\"row variablerow\">\n",
       "    <div class=\"col-md-3 namecol\">\n",
       "        <p class=\"h4 pp-anchor\" id=\"pp_var_duration\">duration<br/>\n",
       "            <small>Numeric</small>\n",
       "        </p>\n",
       "    </div><div class=\"col-md-6\">\n",
       "    <div class=\"row\">\n",
       "        <div class=\"col-sm-6\">\n",
       "            <table class=\"stats \">\n",
       "                <tr>\n",
       "                    <th>Distinct count</th>\n",
       "                    <td>1573</td>\n",
       "                </tr>\n",
       "                <tr>\n",
       "                    <th>Unique (%)</th>\n",
       "                    <td>3.5%</td>\n",
       "                </tr>\n",
       "                <tr class=\"ignore\">\n",
       "                    <th>Missing (%)</th>\n",
       "                    <td>0.0%</td>\n",
       "                </tr>\n",
       "                <tr class=\"ignore\">\n",
       "                    <th>Missing (n)</th>\n",
       "                    <td>0</td>\n",
       "                </tr>\n",
       "                <tr class=\"ignore\">\n",
       "                    <th>Infinite (%)</th>\n",
       "                    <td>0.0%</td>\n",
       "                </tr>\n",
       "                <tr class=\"ignore\">\n",
       "                    <th>Infinite (n)</th>\n",
       "                    <td>0</td>\n",
       "                </tr>\n",
       "            </table>\n",
       "\n",
       "        </div>\n",
       "        <div class=\"col-sm-6\">\n",
       "            <table class=\"stats \">\n",
       "\n",
       "                <tr>\n",
       "                    <th>Mean</th>\n",
       "                    <td>258.16</td>\n",
       "                </tr>\n",
       "                <tr>\n",
       "                    <th>Minimum</th>\n",
       "                    <td>0</td>\n",
       "                </tr>\n",
       "                <tr>\n",
       "                    <th>Maximum</th>\n",
       "                    <td>4918</td>\n",
       "                </tr>\n",
       "                <tr class=\"ignore\">\n",
       "                    <th>Zeros (%)</th>\n",
       "                    <td>0.0%</td>\n",
       "                </tr>\n",
       "            </table>\n",
       "        </div>\n",
       "    </div>\n",
       "</div>\n",
       "<div class=\"col-md-3 collapse in\" id=\"minihistogram1600893519026812479\">\n",
       "    <img src=\"data:image/png;base64,iVBORw0KGgoAAAANSUhEUgAAAMgAAABLCAYAAAA1fMjoAAAABHNCSVQICAgIfAhkiAAAAAlwSFlzAAAPYQAAD2EBqD%2BnaQAAADh0RVh0U29mdHdhcmUAbWF0cGxvdGxpYiB2ZXJzaW9uMy4yLjIsIGh0dHA6Ly9tYXRwbG90bGliLm9yZy%2BWH4yJAAABwElEQVR4nO3XMWobURSG0TvC7Ui90Cwi4C0EvKB0hnQus5T0btN7FxJawAwpUkTjIlEawx8U7DdRck47jO4deB/idfM8z9XY4XCoYRhaj%2BXK7ff72u12TWfeNJ32U9/3VfXjg9fr9RIrcEXGcaxhGH6dm5YWCaTruqqqWq/XLwK5vX%2B8%2BPeeHu5eZS/%2Bbudz09Kq%2BUS4IgKBQCAQCAQCgUAgEAgEAoFAIBAIBAKBQCAQCAQCgUAgEAgEAoFAIBAIBAKBQCAQCAQCgUAgEAgEAoFAIBAIBAKBQCAQCAQCgUAgEAgEAoFAIBAIBAKBQCAQCAQCgUAgEAgEAoFAIBAIBDdLL/Aabu8fL37n6eHuDTbhX%2BMfBAKBQCAQCBa5g8zzXFVV4zi%2BePb929cmO7z78Pnid758fP8Gm/A753NyPjctLRLINE1VVTUMwxLj/9jm09Ib/N%2BmaarNZtN0ZjcvkOXpdKrj8Vh931fXda3Hc2Xmea5pmmq73dZq1fZWsEggcC1c0iEQCAQCgUAgEAgEAoFAIBAIBAKBQCAQCAQCgUAgEAgEAoFAIBAIBAKBQCAQCAQCgUAgEAgEAoFAIBAIngFbRkNz5wtSVwAAAABJRU5ErkJggg%3D%3D\">\n",
       "\n",
       "</div>\n",
       "<div class=\"col-md-12 text-right\">\n",
       "    <a role=\"button\" data-toggle=\"collapse\" data-target=\"#descriptives1600893519026812479,#minihistogram1600893519026812479\"\n",
       "       aria-expanded=\"false\" aria-controls=\"collapseExample\">\n",
       "        Toggle details\n",
       "    </a>\n",
       "</div>\n",
       "<div class=\"row collapse col-md-12\" id=\"descriptives1600893519026812479\">\n",
       "    <ul class=\"nav nav-tabs\" role=\"tablist\">\n",
       "        <li role=\"presentation\" class=\"active\"><a href=\"#quantiles1600893519026812479\"\n",
       "                                                  aria-controls=\"quantiles1600893519026812479\" role=\"tab\"\n",
       "                                                  data-toggle=\"tab\">Statistics</a></li>\n",
       "        <li role=\"presentation\"><a href=\"#histogram1600893519026812479\" aria-controls=\"histogram1600893519026812479\"\n",
       "                                   role=\"tab\" data-toggle=\"tab\">Histogram</a></li>\n",
       "        <li role=\"presentation\"><a href=\"#common1600893519026812479\" aria-controls=\"common1600893519026812479\"\n",
       "                                   role=\"tab\" data-toggle=\"tab\">Common Values</a></li>\n",
       "        <li role=\"presentation\"><a href=\"#extreme1600893519026812479\" aria-controls=\"extreme1600893519026812479\"\n",
       "                                   role=\"tab\" data-toggle=\"tab\">Extreme Values</a></li>\n",
       "\n",
       "    </ul>\n",
       "\n",
       "    <div class=\"tab-content\">\n",
       "        <div role=\"tabpanel\" class=\"tab-pane active row\" id=\"quantiles1600893519026812479\">\n",
       "            <div class=\"col-md-4 col-md-offset-1\">\n",
       "                <p class=\"h4\">Quantile statistics</p>\n",
       "                <table class=\"stats indent\">\n",
       "                    <tr>\n",
       "                        <th>Minimum</th>\n",
       "                        <td>0</td>\n",
       "                    </tr>\n",
       "                    <tr>\n",
       "                        <th>5-th percentile</th>\n",
       "                        <td>35</td>\n",
       "                    </tr>\n",
       "                    <tr>\n",
       "                        <th>Q1</th>\n",
       "                        <td>103</td>\n",
       "                    </tr>\n",
       "                    <tr>\n",
       "                        <th>Median</th>\n",
       "                        <td>180</td>\n",
       "                    </tr>\n",
       "                    <tr>\n",
       "                        <th>Q3</th>\n",
       "                        <td>319</td>\n",
       "                    </tr>\n",
       "                    <tr>\n",
       "                        <th>95-th percentile</th>\n",
       "                        <td>751</td>\n",
       "                    </tr>\n",
       "                    <tr>\n",
       "                        <th>Maximum</th>\n",
       "                        <td>4918</td>\n",
       "                    </tr>\n",
       "                    <tr>\n",
       "                        <th>Range</th>\n",
       "                        <td>4918</td>\n",
       "                    </tr>\n",
       "                    <tr>\n",
       "                        <th>Interquartile range</th>\n",
       "                        <td>216</td>\n",
       "                    </tr>\n",
       "                </table>\n",
       "            </div>\n",
       "            <div class=\"col-md-4 col-md-offset-2\">\n",
       "                <p class=\"h4\">Descriptive statistics</p>\n",
       "                <table class=\"stats indent\">\n",
       "                    <tr>\n",
       "                        <th>Standard deviation</th>\n",
       "                        <td>257.53</td>\n",
       "                    </tr>\n",
       "                    <tr>\n",
       "                        <th>Coef of variation</th>\n",
       "                        <td>0.99754</td>\n",
       "                    </tr>\n",
       "                    <tr>\n",
       "                        <th>Kurtosis</th>\n",
       "                        <td>18.154</td>\n",
       "                    </tr>\n",
       "                    <tr>\n",
       "                        <th>Mean</th>\n",
       "                        <td>258.16</td>\n",
       "                    </tr>\n",
       "                    <tr>\n",
       "                        <th>MAD</th>\n",
       "                        <td>170.97</td>\n",
       "                    </tr>\n",
       "                    <tr class=\"\">\n",
       "                        <th>Skewness</th>\n",
       "                        <td>3.1443</td>\n",
       "                    </tr>\n",
       "                    <tr>\n",
       "                        <th>Sum</th>\n",
       "                        <td>11671811</td>\n",
       "                    </tr>\n",
       "                    <tr>\n",
       "                        <th>Variance</th>\n",
       "                        <td>66321</td>\n",
       "                    </tr>\n",
       "                    <tr>\n",
       "                        <th>Memory size</th>\n",
       "                        <td>353.3 KiB</td>\n",
       "                    </tr>\n",
       "                </table>\n",
       "            </div>\n",
       "        </div>\n",
       "        <div role=\"tabpanel\" class=\"tab-pane col-md-8 col-md-offset-2\" id=\"histogram1600893519026812479\">\n",
       "            <img src=\"data:image/png;base64,iVBORw0KGgoAAAANSUhEUgAAAlgAAAGQCAYAAAByNR6YAAAABHNCSVQICAgIfAhkiAAAAAlwSFlzAAAPYQAAD2EBqD%2BnaQAAADh0RVh0U29mdHdhcmUAbWF0cGxvdGxpYiB2ZXJzaW9uMy4yLjIsIGh0dHA6Ly9tYXRwbG90bGliLm9yZy%2BWH4yJAAAgAElEQVR4nO3de1hVZd7/8c%2BOw5YY2IMS4E5H6WQS2iTMKJZpmeCx44w2Fmk5TIxHQq8a9TdP6TOJpUMnS6vx0WoccWaImZ4rZcBKzBFMUAzUHJ/S0ARRw436KCDevz/8sX5usXRqIRt9v65rXRd7re%2B%2B73vdFXy619prO4wxRgAAALDNFa09AAAAgEsNAQsAAMBmBCwAAACbEbAAAABsRsACAACwGQELAADAZgQsAAAAmxGwAAAAbEbAAgAAsBkBCwAAwGYELAAAAJsRsAAAAGxGwAIAALAZAQsAAMBmBCwAAACbEbAAAABsRsACAACwGQELAADAZgQsAAAAmxGwAAAAbEbAAgAAsBkBCwAAwGYELAAAAJsRsAAAAGxGwAIAALAZAQsAAMBmBCwAAACbEbAAAABsRsACAACwGQELAADAZgQsAAAAmxGwAAAAbEbAAgAAsBkBCwAAwGYELAAAAJsRsAAAAGxGwAIAALAZAQsAAMBm/q09gMvBqVOntG/fPoWEhMjhcLT2cAAAuCwYY3TkyBG53W5dccXFXVMiYF0E%2B/btU%2BfOnVt7GAAAXJb27NmjTp06XdQ%2BCVgXQUhIiKTT/4BDQ0NbeTQAAFweamtr1blzZ%2Bvv8MVEwLoImi4LhoaGErAAALjIWuP2HG5yBwAAsBkBCwAAwGYELAAAAJsRsAAAAGxGwAIAALBZmwhYGRkZcjgcSktLs/bV1dVp0qRJCg8PV3BwsO6%2B%2B27t3bvX630VFRUaMWKEgoODFR4ersmTJ6u%2Bvt6rpqCgQHFxcWrXrp2uueYaLVq0qFn/r732mqKjo9WuXTvFxcXp448/bpkTBQAAlwSfD1gbN27UG2%2B8oZ49e3rtT0tLU05OjrKysrRu3TodPXpUw4cPV2NjoySpsbFRw4YN07Fjx7Ru3TplZWUpOztbU6dOtdrYtWuXhg4dqn79%2Bmnz5s2aMWOGJk%2BerOzsbKtmxYoVSktL08yZM7V582b169dPQ4YMUUVFxcWZAAAA0PYYH3bkyBFz/fXXm/z8fNO/f38zZcoUY4wxhw8fNgEBASYrK8uq/eqrr8wVV1xhcnNzjTHGrFy50lxxxRXmq6%2B%2BsmqWL19unE6n8Xg8xhhjnnzySXPjjTd69fn444%2BbPn36WK9/%2BtOfmtTUVK%2BaG2%2B80fzmN7%2B54PPweDxGktUvAABoea3599enV7AmTJigYcOG6a677vLaX1JSooaGBiUmJlr73G63YmNjtX79eklSYWGhYmNj5Xa7rZqkpCTV1dWppKTEqjmzjaaa4uJiNTQ0qL6%2BXiUlJc1qEhMTrX4AAADO5rNPcs/KylJJSYmKi4ubHauqqlJgYKDCwsK89kdGRqqqqsqqiYyM9DoeFhamwMDAb62JjIzUyZMndfDgQRlj1NjYeM6apjbOpa6uTnV1ddbr2traCzhjAABwqfDJFaw9e/ZoypQpWrZsmdq1a3fB7zPGeD0O/1yPxj9fjTGm2f5z1XzbY/czMjLkcrmsjS96BgDg8uKTAaukpETV1dWKi4uTv7%2B//P39VVBQoJdffln%2B/v6KjIxUfX29ampqvN5XXV1trTZFRUU1W2WqqalRQ0PDt9ZUV1fL399fHTp0UHh4uPz8/M5Zc/aq1pmmT58uj8djbXv27PnOcwEAANoen7xEOHDgQJWVlXnte/TRR3XjjTfqqaeeUufOnRUQEKD8/HyNHDlSklRZWany8nI9//zzkqSEhAQ9%2B%2ByzqqysVMeOHSVJeXl5cjqdiouLs2r%2B%2B7//26ufvLw8xcfHKyAgQJIUFxen/Px83XfffVZNfn6%2B7rnnnm8cv9PplNPp/J6zcGHiZ%2BZelH7sUPzs4NYeAgAAF4VPBqyQkBDFxsZ67QsODlaHDh2s/ePGjdPUqVPVoUMHtW/fXtOmTVOPHj2sG%2BITExMVExOj5ORkzZs3T19//bWmTZumlJQUhYaGSpJSU1O1YMECpaenKyUlRYWFhVq8eLGWL19u9Zuenq7k5GTFx8crISFBb7zxhioqKpSamnqRZgMAALQ1PhmwLsQLL7wgf39/jRw5UsePH9fAgQO1dOlS%2Bfn5SZL8/Pz0/vvva/z48br11lsVFBSk0aNHa/78%2BVYb0dHRWrlypZ544gm9%2Buqrcrvdevnll/XAAw9YNaNGjdKhQ4c0e/ZsVVZWKjY2VitXrlSXLl0u%2BjkDAIC2wWGa7upGi6mtrZXL5ZLH47FWz%2BzCJUIAAM6tJf/%2Bno9P3uQOAADQlhGwAAAAbEbAAgAAsBkBCwAAwGYELAAAAJsRsAAAAGxGwAIAALAZAQsAAMBmBCwAAACbEbAAAABsRsACAACwGQELAADAZgQsAAAAmxGwAAAAbEbAAgAAsBkBCwAAwGYELAAAAJsRsAAAAGxGwAIAALAZAQsAAMBmBCwAAACbEbAAAABsRsACAACwGQELAADAZgQsAAAAmxGwAAAAbEbAAgAAsBkBCwAAwGY%2BGbAWLlyonj17KjQ0VKGhoUpISNCqVaus4wMGDJDD4fDaHnzwQa82ampqlJycLJfLJZfLpeTkZB0%2BfNirpqysTP3791dQUJCuvvpqzZ49W8YYr5rs7GzFxMTI6XQqJiZGOTk5LXfiAADgkuCTAatTp06aO3euiouLVVxcrDvvvFP33HOPtm7datWkpKSosrLS2l5//XWvNkaPHq3S0lLl5uYqNzdXpaWlSk5Oto7X1tZq0KBBcrvd2rhxo1555RXNnz9fmZmZVk1hYaFGjRql5ORkbdmyRcnJyRo5cqQ2bNjQ8pMAAADaLIc5e8nGR7Vv317z5s3TuHHjNGDAAP34xz/Wiy%2B%2BeM7a7du3KyYmRkVFRerdu7ckqaioSAkJCfrss8/UrVs3LVy4UNOnT9f%2B/fvldDolSXPnztUrr7yivXv3yuFwaNSoUaqtrfVaPRs8eLDCwsK0fPnyCx57bW2tXC6XPB6PQkNDv8csNBc/M9fW9lpS8bODW3sIAIDLSEv%2B/T0fn1zBOlNjY6OysrJ07NgxJSQkWPuXLVum8PBw3XTTTZo2bZqOHDliHSssLJTL5bLClST16dNHLpdL69evt2r69%2B9vhStJSkpK0r59%2B7R7926rJjEx0Ws8SUlJVhvfpK6uTrW1tV4bAAC4fPi39gC%2BSVlZmRISEnTixAn94Ac/UE5OjmJiYiRJDz30kKKjoxUVFaXy8nJNnz5dW7ZsUX5%2BviSpqqpKERERzdqMiIhQVVWVVdO1a1ev45GRkdax6OhoVVVVWfvOrGlq45tkZGRo1qxZ3%2Bm8AQBA2%2BezAatbt24qLS3V4cOHlZ2drTFjxqigoEAxMTFKSUmx6mJjY3X99dcrPj5emzZtUq9evSRJDoejWZvGGK/9Z9c0XS09X8252j7T9OnTlZ6ebr2ura1V586dz3fKAADgEuGzASswMFDXXXedJCk%2BPl4bN27USy%2B91Oxmdknq1auXAgICtHPnTvXq1UtRUVHav39/s7oDBw5YK1JRUVHNVqKqq6sl6bw1Z69qnc3pdHpdegQAAJcXn78Hq4kxRnV1dec8tnXrVjU0NKhjx46SpISEBHk8Hn3yySdWzYYNG%2BTxeNS3b1%2BrZu3ataqvr7dq8vLy5Ha7rUuHCQkJ1mXHM2ua2gAAADgXn1zBmjFjhoYMGaLOnTvryJEjysrK0po1a5Sbm6vPP/9cy5Yt09ChQxUeHq5t27Zp6tSpuuWWW3TrrbdKkrp3767BgwcrJSXFWvH61a9%2BpeHDh6tbt26STj/GYdasWRo7dqxmzJihnTt3as6cOfqP//gP6xLglClTdPvtt%2Bu5557TPffco7///e9avXq11q1b1zoTAwAA2gSfXMHav3%2B/kpOT1a1bNw0cOFAbNmxQbm6uBg0apMDAQH3wwQdKSkpSt27dNHnyZCUmJmr16tXy8/Oz2li2bJl69OihxMREJSYmqmfPnnrnnXes4y6XS/n5%2Bdq7d6/i4%2BM1fvx4paene9071bdvX2VlZWnJkiXq2bOnli5dqhUrVnh9OhEAAOBsbeY5WG0Zz8E6jedgAQAuJp6DBQAAcAkhYAEAANiMgAUAAGAzAhYAAIDNCFgAAAA2I2ABAADYjIAFAABgMwIWAACAzQhYAAAANiNgAQAA2IyABQAAYDMCFgAAgM0IWAAAADYjYAEAANiMgAUAAGAzAhYAAIDNCFgAAAA2I2ABAADYjIAFAABgMwIWAACAzQhYAAAANiNgAQAA2IyABQAAYDMCFgAAgM0IWAAAADYjYAEAANiMgAUAAGAznw1YCxcuVM%2BePRUaGqrQ0FAlJCRo1apV1vG6ujpNmjRJ4eHhCg4O1t133629e/d6tVFRUaERI0YoODhY4eHhmjx5surr671qCgoKFBcXp3bt2umaa67RokWLmo3ltddeU3R0tNq1a6e4uDh9/PHHLXPSAADgkuCzAatTp06aO3euiouLVVxcrDvvvFP33HOPtm7dKklKS0tTTk6OsrKytG7dOh09elTDhw9XY2OjJKmxsVHDhg3TsWPHtG7dOmVlZSk7O1tTp061%2Bti1a5eGDh2qfv36afPmzZoxY4YmT56s7Oxsq2bFihVKS0vTzJkztXnzZvXr109DhgxRRUXFxZ0QAADQZjiMMaa1B3Gh2rdvr3nz5ulnP/uZrrrqKr3zzjsaNWqUJGnfvn3q3LmzVq5cqaSkJK1atUrDhw/Xnj175Ha7JUlZWVkaO3asqqurFRoaqqeeekrvvfeetm/fbvWRmpqqLVu2qLCwUJLUu3dv9erVSwsXLrRqunfvrnvvvVcZGRkXNO7a2lq5XC55PB6FhobaNR2SpPiZuba215KKnx3c2kMAAFxGWvLv7/n47ArWmRobG5WVlaVjx44pISFBJSUlamhoUGJiolXjdrsVGxur9evXS5IKCwsVGxtrhStJSkpKUl1dnUpKSqyaM9toqikuLlZDQ4Pq6%2BtVUlLSrCYxMdHqBwAA4Gz%2BrT2Ab1NWVqaEhASdOHFCP/jBD5STk6OYmBiVlpYqMDBQYWFhXvWRkZGqqqqSJFVVVSkyMtLreFhYmAIDA7%2B1JjIyUidPntTBgwdljFFjY%2BM5a5raOJe6ujrV1dVZr2tra//9kwcAAG2WT69gdevWTaWlpSoqKtKvf/1rjRkzRtu2bfvGemOMHA6H9frMny%2B0pumK6flqztV2k4yMDLlcLmvr3LnzN9YCAIBLj08HrMDAQF133XWKj49XRkaGbr75Zr300kuKiopSfX29ampqvOqrq6ut1aaoqKhmq0w1NTVqaGj41prq6mr5%2B/urQ4cOCg8Pl5%2Bf3zlrzl7VOtP06dPl8Xisbc%2BePd95DgAAQNvj0wHrbMYY1dXVKS4uTgEBAcrPz7eOVVZWqry8XH379pUkJSQkqLy8XJWVlVZNXl6enE6n4uLirJoz22iqiY%2BPV0BAgAIDAxUXF9esJj8/3%2BrnXJxOp/V4iaYNAABcPnz2HqwZM2ZoyJAh6ty5s44cOaKsrCytWbNGubm5crlcGjdunKZOnaoOHTqoffv2mjZtmnr06KG77rpL0ukb0WNiYpScnKx58%2Bbp66%2B/1rRp05SSkmIFntTUVC1YsEDp6elKSUlRYWGhFi9erOXLl1vjSE9PV3JysuLj45WQkKA33nhDFRUVSk1NbZV5AQAAvs9nA9b%2B/fuVnJysyspKuVwu9ezZU7m5uRo0aJAk6YUXXpC/v79Gjhyp48ePa%2BDAgVq6dKn8/PwkSX5%2Bfnr//fc1fvx43XrrrQoKCtLo0aM1f/58q4/o6GitXLlSTzzxhF599VW53W69/PLLeuCBB6yaUaNG6dChQ5o9e7YqKysVGxurlStXqkuXLhd3QgAAQJvRpp6D1VbxHKzTeA4WAOBi4jlYAAAAlxACFgAAgM0IWAAAADYjYAEAANiMgAUAAGAzAhYAAIDNCFgAAAA2I2ABAADYjIAFAABgMwIWAACAzQhYAAAANiNgAQAA2IyABQAAYDMCFgAAgM0IWAAAADYjYAEAANiMgAUAAGAzAhYAAIDNCFgAAAA2I2ABAADYjIAFAABgMwIWAACAzQhYAAAANiNgAQAA2IyABQAAYDMCFgAAgM0IWAAAADbzyYCVkZGhn/zkJwoJCVFERITuvfde7dixw6tmwIABcjgcXtuDDz7oVVNTU6Pk5GS5XC65XC4lJyfr8OHDXjVlZWXq37%2B/goKCdPXVV2v27NkyxnjVZGdnKyYmRk6nUzExMcrJyWmZEwcAAJcEnwxYBQUFmjBhgoqKipSfn6%2BTJ08qMTFRx44d86pLSUlRZWWltb3%2B%2Butex0ePHq3S0lLl5uYqNzdXpaWlSk5Oto7X1tZq0KBBcrvd2rhxo1555RXNnz9fmZmZVk1hYaFGjRql5ORkbdmyRcnJyRo5cqQ2bNjQspMAAADaLIc5e7nGBx04cEAREREqKCjQ7bffLun0CtaPf/xjvfjii%2Bd8z/bt2xUTE6OioiL17t1bklRUVKSEhAR99tln6tatmxYuXKjp06dr//79cjqdkqS5c%2BfqlVde0d69e%2BVwODRq1CjV1tZq1apVVtuDBw9WWFiYli9ffkHjr62tlcvlksfjUWho6PeZimbiZ%2Bba2l5LKn52cGsPAQBwGWnJv7/n45MrWGfzeDySpPbt23vtX7ZsmcLDw3XTTTdp2rRpOnLkiHWssLBQLpfLCleS1KdPH7lcLq1fv96q6d%2B/vxWuJCkpKUn79u3T7t27rZrExESvfpOSkqw2AAAAzuZvd4O7du1SdHS0be0ZY5Senq7bbrtNsbGx1v6HHnpI0dHRioqKUnl5uaZPn64tW7YoPz9fklRVVaWIiIhm7UVERKiqqsqq6dq1q9fxyMhI61h0dLSqqqqsfWfWNLVxLnV1daqrq7Ne19bW/nsnDQAA2jTbA9Z1112n22%2B/XePGjdPPfvYztWvX7nu1N3HiRH366adat26d1/6UlBTr59jYWF1//fWKj4/Xpk2b1KtXL0mSw%2BFo1p4xxmv/2TVNV0zPV3OutptkZGRo1qxZ5zs1AABwibL9EuGWLVt0yy23aOrUqYqKitLjjz%2BuTz755Du1NWnSJL333nv66KOP1KlTp2%2Bt7dWrlwICArRz505JUlRUlPbv39%2Bs7sCBA9aKVFRUVLOVqOrqakk6b83Zq1pnmj59ujwej7Xt2bPnPGcKAAAuJbYHrNjYWGVmZuqrr77SkiVLVFVVpdtuu0033XSTMjMzdeDAgfO2YYzRxIkT9e677%2BrDDz%2B8oEuOW7duVUNDgzp27ChJSkhIkMfj8Qp3GzZskMfjUd%2B%2Bfa2atWvXqr6%2B3qrJy8uT2%2B22Lh0mJCRYlx3PrGlq41ycTqdCQ0O9NgAAcPlosZvc/f39dd999%2BnPf/6znnvuOX3%2B%2BeeaNm2aOnXqpEceeUSVlZXf%2BN4JEyboj3/8o/70pz8pJCREVVVVqqqq0vHjxyVJn3/%2BuWbPnq3i4mLt3r1bK1eu1M9//nPdcsstuvXWWyVJ3bt31%2BDBg5WSkqKioiIVFRUpJSVFw4cPV7du3SSdfoyD0%2BnU2LFjVV5erpycHM2ZM0fp6enWJcApU6YoLy9Pzz33nD777DM999xzWr16tdLS0lpq6gAAQBvXYgGruLhY48ePV8eOHZWZmalp06bp888/14cffqivvvpK99xzzze%2Bd%2BHChfJ4PBowYIA6duxobStWrJAkBQYG6oMPPlBSUpK6deumyZMnKzExUatXr5afn5/VzrJly9SjRw8lJiYqMTFRPXv21DvvvGMdd7lcys/P1969exUfH6/x48crPT1d6enpVk3fvn2VlZWlJUuWqGfPnlq6dKlWrFjh9elEAACAM9n%2BHKzMzEwtWbJEO3bs0NChQ/XLX/5SQ4cO1RVX/P8s9z//8z%2B68cYbdfLkSTu79lk8B%2Bs0noMFALiYWvM5WLZ/inDhwoV67LHH9OijjyoqKuqcNT/60Y%2B0ePFiu7sGAADwCbYHrKZP8X2bwMBAjRkzxu6uAQAAfILt92AtWbJEf/nLX5rt/8tf/qK33nrL7u4AAAB8ju0Ba%2B7cuQoPD2%2B2PyIiQnPmzLG7OwAAAJ9je8D68ssvz/ncqi5duqiiosLu7gAAAHyO7QErIiJCn376abP9W7ZsUYcOHezuDgAAwOfYHrAefPBBTZ48WR999JEaGxvV2NioDz/8UFOmTNGDDz5od3cAAAA%2Bx/ZPEf7ud7/Tl19%2BqYEDB8rf/3Tzp06d0iOPPMI9WAAA4LJge8AKDAzUihUr9J//%2BZ/asmWLgoKC1KNHD3Xp0sXurgAAAHyS7QGryQ033KAbbrihpZoHAADwWbYHrMbGRi1dulQffPCBqqurderUKa/jH374od1dAgAA%2BBTbA9aUKVO0dOlSDRs2TLGxsXI4HHZ3AQAA4NNsD1hZWVn685//rKFDh9rdNAAAQJtg%2B2MaAgMDdd1119ndLAAAQJthe8CaOnWqXnrpJRlj7G4aAACgTbD9EuG6dev00UcfadWqVbrpppsUEBDgdfzdd9%2B1u0sAAACfYnvA%2BuEPf6j77rvP7mYBAADaDNsD1pIlS%2BxuEgAAoE2x/R4sSTp58qRWr16t119/XUeOHJEk7du3T0ePHm2J7gAAAHyK7StYX375pQYPHqyKigrV1dVp0KBBCgkJ0fPPP68TJ05o0aJFdncJAADgU2xfwZoyZYri4%2BNVU1OjoKAga/99992nDz74wO7uAAAAfE6LfIrwn//8pwIDA732d%2BnSRV999ZXd3QEAAPgc21ewTp06pcbGxmb79%2B7dq5CQELu7AwAA8Dm2B6xBgwbpxRdftF47HA4dPXpUTz/9NF%2BfAwAALgu2XyJ84YUXdMcddygmJkYnTpzQ6NGjtXPnToWHh2v58uV2dwcAAOBzbA9YbrdbpaWlWr58uTZt2qRTp05p3Lhxeuihh7xuegcAALhU2R6wJCkoKEiPPfaYHnvssZZoHgAAwKfZHrDefvvtbz3%2ByCOP2N0lAACAT2mR52CduY0fP15jx47Vr371K6WlpV1wOxkZGfrJT36ikJAQRURE6N5779WOHTu8aurq6jRp0iSFh4crODhYd999t/bu3etVU1FRoREjRig4OFjh4eGaPHmy6uvrvWoKCgoUFxendu3a6Zprrjnnw1Bfe%2B01RUdHq127doqLi9PHH3/8b8wKAAC4nNgesGpqary2o0ePaseOHbrtttv%2BrZvcCwoKNGHCBBUVFSk/P18nT55UYmKijh07ZtWkpaUpJydHWVlZWrdunY4eParhw4dbj4lobGzUsGHDdOzYMa1bt05ZWVnKzs7W1KlTrTZ27dqloUOHql%2B/ftq8ebNmzJihyZMnKzs726pZsWKF0tLSNHPmTG3evFn9%2BvXTkCFDVFFRYcOMAQCAS43DGGMuRkfFxcV6%2BOGH9dlnn32n9x84cEAREREqKCjQ7bffLo/Ho6uuukrvvPOORo0aJen09x127txZK1euVFJSklatWqXhw4drz549crvdkqSsrCyNHTtW1dXVCg0N1VNPPaX33ntP27dvt/pKTU3Vli1bVFhYKEnq3bu3evXqpYULF1o13bt317333quMjIzzjr22tlYul0sej0ehoaHf6fy/SfzMXFvba0nFzw5u7SEAAC4jLfn393xa5Muez8XPz0/79u37zu/3eDySpPbt20uSSkpK1NDQoMTERKvG7XYrNjZW69evlyQVFhYqNjbWCleSlJSUpLq6OpWUlFg1Z7bRVFNcXKyGhgbV19erpKSkWU1iYqLVz9nq6upUW1vrtQEAgMuH7Te5v/fee16vjTGqrKzUggULdOutt36nNo0xSk9P12233abY2FhJUlVVlQIDAxUWFuZVGxkZqaqqKqsmMjLS63hYWJgCAwO/tSYyMlInT57UwYMHZYxRY2PjOWua2jhbRkaGZs2a9Z3OFQAAtH22B6x7773X67XD4dBVV12lO%2B%2B8U7///e%2B/U5sTJ07Up59%2BqnXr1p231hgjh8Ph1f%2B/W9N01dThcHj9/G1tnGn69OlKT0%2B3XtfW1qpz587nHTsAALg02B6wTp06ZWt7kyZN0nvvvae1a9eqU6dO1v6oqCjV19erpqbGaxWrurpaffv2tWo2bNjg1V5NTY0aGhqsFamoqKhmK1HV1dXy9/dXhw4dZIyRn5/fOWvOXtVq4nQ65XQ6v/tJAwCANu2i3YP17zLGaOLEiXr33Xf14YcfKjo62ut4XFycAgIClJ%2Bfb%2B2rrKxUeXm5FbASEhJUXl6uyspKqyYvL09Op1NxcXFWzZltNNXEx8crICBAgYGBiouLa1aTn59v9QMAAHAm21ewzrw0dj6ZmZnfeGzChAn605/%2BpL///e8KCQmxVpBcLpeCgoLkcrk0btw4TZ06VR06dFD79u01bdo09ejRQ3fddZek0zeix8TEKDk5WfPmzdPXX3%2BtadOmKSUlxfo0QWpqqhYsWKD09HSlpKSosLBQixcv9nqkRHp6upKTkxUfH6%2BEhAS98cYbqqioUGpq6neZIgAAcImzPWBt3rxZmzZt0smTJ9WtWzdJ0r/%2B9S/5%2BfmpV69eVt033b/UpOmRCAMGDPDav2TJEo0dO1bS6S%2BW9vf318iRI3X8%2BHENHDhQS5culZ%2Bfn6TTn1x8//33NX78eN16660KCgrS6NGjNX/%2BfKu96OhorVy5Uk888YReffVVud1uvfzyy3rggQesmlGjRunQoUOaPXu2KisrFRsbq5UrV6pLly7feZ4AAMCly/bnYGVmZmrNmjV66623rHujampq9Oijj6pfv35eD/m8XPAcrNN4DhYA4GK6pJ6D9fvf/14ZGRleN56HhYXpd7/73Xf%2BFCEAAEBbYnvAqq2t1f79%2B5vtr66u1pEjR%2BzuDgAAwOfYHrDuu%2B8%2BPfroo/rrX/%2BqvXv3au/evfrrX/%2BqcePG6f7777e7OwAAAJ9j%2B03uixYt0rRp0/Twww%2BroaHhdDraoX8AABwNSURBVCf%2B/ho3bpzmzZtnd3cAAAA%2Bx/aAdeWVV%2Bq1117TvHnz9Pnnn8sYo%2Buuu07BwcF2dwUAAOCTWuxBo5WVlaqsrNQNN9yg4OBg2fxhRQAAAJ9le8A6dOiQBg4cqBtuuEFDhw61nqL%2By1/%2B8rJ8RAMAALj82B6wnnjiCQUEBKiiokJXXnmltX/UqFHKzW07z2wCAAD4rmy/BysvL0//%2BMc/vL6YWZKuv/56ffnll3Z3BwAA4HNsX8E6duyY18pVk4MHD8rpdNrdHQAAgM%2BxPWDdfvvtevvtt63XDodDp06d0rx583THHXfY3R0AAIDPsf0S4bx58zRgwAAVFxervr5eTz75pLZu3aqvv/5a//znP%2B3uDgAAwOfYvoIVExOjTz/9VD/96U81aNAgHTt2TPfff782b96sa6%2B91u7uAAAAfI6tK1gNDQ1KTEzU66%2B/rlmzZtnZNAAAQJth6wpWQECAysvL5XA47GwWAACgTbH9EuEjjzyixYsX290sAABAm2H7Te719fX6wx/%2BoPz8fMXHxzf7DsLMzEy7uwQAAPAptgWsL774Ql27dlV5ebl69eolSfrXv/7lVcOlQwAAcDmwLWBdf/31qqys1EcffSTp9FfjvPzyy4qMjLSrCwAAgDbBtnuwjDFer1etWqVjx47Z1TwAAECbYftN7k3ODlwAAACXC9sClsPhaHaPFfdcAQCAy5Ft92AZYzR27FjrC51PnDih1NTUZp8ifPfdd%2B3qEgAAwCfZFrDGjBnj9frhhx%2B2q2kAAIA2xbaAtWTJEruaAgAAaNNa7CZ3AACAyxUBCwAAwGY%2BG7DWrl2rESNGyO12y%2BFw6G9/%2B5vX8bFjx1qfXGza%2BvTp41VTV1enSZMmKTw8XMHBwbr77ru1d%2B9er5qKigqNGDFCwcHBCg8P1%2BTJk1VfX%2B9VU1BQoLi4OLVr107XXHONFi1a1DInDQAALgk%2BG7COHTumm2%2B%2BWQsWLPjGmsGDB6uystLaVq5c6XU8LS1NOTk5ysrK0rp163T06FENHz5cjY2NkqTGxkYNGzZMx44d07p165SVlaXs7GxNnTrVamPXrl0aOnSo%2BvXrp82bN2vGjBmaPHmysrOzW%2BbEAQBAm2f7lz3bZciQIRoyZMi31jidTkVFRZ3zmMfj0eLFi/XOO%2B/orrvukiT98Y9/VOfOnbV69WolJSUpLy9P27Zt0549e%2BR2uyVJv//97zV27Fg9%2B%2ByzCg0N1aJFi/SjH/1IL774oiSpe/fuKi4u1vz58/XAAw/YeMYAAOBS4bMrWBdizZo1ioiI0A033KCUlBRVV1dbx0pKStTQ0KDExERrn9vtVmxsrNavXy9JKiwsVGxsrBWuJCkpKUl1dXUqKSmxas5so6mmuLhYDQ0NLXl6AACgjfLZFazzGTJkiH7%2B85%2BrS5cu2rVrl37729/qzjvvVElJiZxOp6qqqhQYGKiwsDCv90VGRqqqqkqSVFVV1ezLqMPCwhQYGPitNZGRkTp58qQOHjyojh07NhtbXV2d6urqrNe1tbW2nDMAAGgb2mzAGjVqlPVzbGys4uPj1aVLF73//vu6//77v/F9xhivr/A519f5nK%2Bm6XsWv%2BmrgDIyMjRr1qwLOxEAAHDJadOXCM/UsWNHdenSRTt37pQkRUVFqb6%2BXjU1NV511dXV1opUVFSUtVLVpKamRg0NDd9aU11dLX9/f3Xo0OGcY5k%2Bfbo8Ho%2B17dmzx5ZzBAAAbcMlE7AOHTqkPXv2WJfs4uLiFBAQoPz8fKumsrJS5eXl6tu3ryQpISFB5eXlqqystGry8vLkdDoVFxdn1ZzZRlNNfHy8AgICzjkWp9Op0NBQrw0AAFw%2BfDZgHT16VKWlpSotLZV0%2BnEJpaWlqqio0NGjRzVt2jQVFhZq9%2B7dWrNmjUaMGKHw8HDdd999kiSXy6Vx48Zp6tSp%2BuCDD7R582Y9/PDD6tGjh/WpwsTERMXExCg5OVmbN2/WBx98oGnTpiklJcUKRampqfryyy%2BVnp6u7du367/%2B67%2B0ePFiTZs2rXUmBgAA%2BDyfvQeruLhYd9xxh/U6PT1d0ukvlV64cKHKysr09ttv6/Dhw%2BrYsaPuuOMOrVixQiEhIdZ7XnjhBfn7%2B2vkyJE6fvy4Bg4cqKVLl8rPz0%2BS5Ofnp/fff1/jx4/XrbfeqqCgII0ePVrz58%2B32oiOjtbKlSv1xBNP6NVXX5Xb7dbLL7/MIxoAAMA3cpimO7bRYmpra%2BVyueTxeGy/XBg/M9fW9lpS8bODW3sIAIDLSEv%2B/T0fn71ECAAA0FYRsAAAAGxGwAIAALAZAQsAAMBmBCwAAACbEbAAAABsRsACAACwGQELAADAZgQsAAAAmxGwAAAAbEbAAgAAsBkBCwAAwGYELAAAAJsRsAAAAGxGwAIAALAZAQsAAMBmBCwAAACbEbAAAABsRsACAACwGQELAADAZgQsAAAAmxGwAAAAbEbAAgAAsBkBCwAAwGYELAAAAJsRsAAAAGxGwAIAALAZAQsAAMBmPhuw1q5dqxEjRsjtdsvhcOhvf/ub13FjjJ555hm53W4FBQVpwIAB2rp1q1dNTU2NkpOT5XK55HK5lJycrMOHD3vVlJWVqX///goKCtLVV1%2Bt2bNnyxjjVZOdna2YmBg5nU7FxMQoJyenZU4aAABcEnw2YB07dkw333yzFixYcM7jzz//vDIzM7VgwQJt3LhRUVFRGjRokI4cOWLVjB49WqWlpcrNzVVubq5KS0uVnJxsHa%2BtrdWgQYPkdru1ceNGvfLKK5o/f74yMzOtmsLCQo0aNUrJycnasmWLkpOTNXLkSG3YsKHlTh4AALRpDnP2co0PcjgcysnJ0b333ivp9OqV2%2B1WWlqannrqKUlSXV2dIiMj9dxzz%2Bnxxx/X9u3bFRMTo6KiIvXu3VuSVFRUpISEBH322Wfq1q2bFi5cqOnTp2v//v1yOp2SpLlz5%2BqVV17R3r175XA4NGrUKNXW1mrVqlXWeAYPHqywsDAtX778gsZfW1srl8slj8ej0NBQO6dG8TNzbW2vJRU/O7i1hwAAuIy05N/f8/HZFaxvs2vXLlVVVSkxMdHa53Q61b9/f61fv17S6ZUnl8tlhStJ6tOnj1wul1dN//79rXAlSUlJSdq3b592795t1ZzZT1NNUxvnUldXp9raWq8NAABcPtpkwKqqqpIkRUZGeu2PjIy0jlVVVSkiIqLZeyMiIrxqztXGmX18U03T8XPJyMiw7vtyuVzq3Lnzv3N6AACgjWuTAauJw%2BHwem2M8dp39vELqWm6Ynq%2BmnO13WT69OnyeDzWtmfPngs4GwAAcKnwb%2B0BfBdRUVGSTq8udezY0dpfXV1trTZFRUVp//79zd574MABr5qzV6Kqq6sl6bw1Z69qncnpdHpddgQAAJeXNrmCFR0draioKOXn51v76uvrVVBQoL59%2B0qSEhIS5PF49Mknn1g1GzZskMfj8apZu3at6uvrrZq8vDy53W517drVqjmzn6aapjYAAADO5rMB6%2BjRoyotLVVpaamk0ze2l5aWqqKiQg6HQ2lpaZozZ45ycnJUXl6usWPH6sorr9To0aMlSd27d9fgwYOVkpKioqIiFRUVKSUlRcOHD1e3bt0knX6Mg9Pp1NixY1VeXq6cnBzNmTNH6enp1iXAKVOmKC8vT88995w%2B%2B%2BwzPffcc1q9erXS0tJaZ2IAAIDP89lLhMXFxbrjjjus1%2Bnp6ZKkMWPGaOnSpXryySd1/PhxjR8/XjU1Nerdu7fy8vIUEhJivWfZsmWaPHmy9SnAu%2B%2B%2B2%2Bu5Wi6XS/n5%2BZowYYLi4%2BMVFham9PR0qy9J6tu3r7KysvR//s//0W9/%2B1tde%2B21WrFihdenEwEAAM7UJp6D1dbxHKzTeA4WAOBi4jlYAAAAlxACFgAAgM0IWAAAADYjYAEAANiMgAUAAGAzAhYAAIDNCFgAAAA2I2ABAADYjIAFAABgMwIWAACAzQhYAAAANiNgAQAA2IyABQAAYDMCFgAAgM0IWAAAADYjYAEAANiMgAUAAGAzAhYAAIDNCFgAAAA2I2ABAADYjIAFAABgMwIWAACAzQhYAAAANiNgAQAA2IyABQAAYDMCFgAAgM0IWAAAADZrswHrmWeekcPh8NqioqKs48YYPfPMM3K73QoKCtKAAQO0detWrzZqamqUnJwsl8sll8ul5ORkHT582KumrKxM/fv3V1BQkK6%2B%2BmrNnj1bxpiLco4AAKBtarMBS5JuuukmVVZWWltZWZl17Pnnn1dmZqYWLFigjRs3KioqSoMGDdKRI0esmtGjR6u0tFS5ubnKzc1VaWmpkpOTreO1tbUaNGiQ3G63Nm7cqFdeeUXz589XZmbmRT1PAADQtvi39gC%2BD39/f69VqybGGL344ouaOXOm7r//fknSW2%2B9pcjISP3pT3/S448/ru3btys3N1dFRUXq3bu3JOnNN99UQkKCduzYoW7dumnZsmU6ceKEli5dKqfTqdjYWP3rX/9SZmam0tPT5XA4Lur5AgCAtqFNr2Dt3LlTbrdb0dHRevDBB/XFF19Iknbt2qWqqiolJiZatU6nU/3799f69eslSYWFhXK5XFa4kqQ%2BffrI5XJ51fTv319Op9OqSUpK0r59%2B7R79%2B6LcIYAAKAtarMBq3fv3nr77bf1j3/8Q2%2B%2B%2BaaqqqrUt29fHTp0SFVVVZKkyMhIr/dERkZax6qqqhQREdGs3YiICK%2Bac7XRdOyb1NXVqba21msDAACXjzZ7iXDIkCHWzz169FBCQoKuvfZavfXWW%2BrTp48kNbuEZ4zx2neuS3znq2m6wf3bLg9mZGRo1qxZ/8bZAACAS0mbXcE6W3BwsHr06KGdO3da92WdvcpUXV1trUBFRUVp//79zdo5cOCAV8252pCar46dafr06fJ4PNa2Z8%2Be735iAACgzblkAlZdXZ22b9%2Bujh07Kjo6WlFRUcrPz7eO19fXq6CgQH379pUkJSQkyOPx6JNPPrFqNmzYII/H41Wzdu1a1dfXWzV5eXlyu93q2rXrN47F6XQqNDTUawMAAJePNhuwpk2bpoKCAu3atUsbNmzQz372M9XW1mrMmDFyOBxKS0vTnDlzlJOTo/Lyco0dO1ZXXnmlRo8eLUnq3r27Bg8erJSUFBUVFamoqEgpKSkaPny4unXrJun0YxycTqfGjh2r8vJy5eTkaM6cOXyCEAAAfKs2ew/W3r179Ytf/EIHDx7UVVddpT59%2BqioqEhdunSRJD355JM6fvy4xo8fr5qaGvXu3Vt5eXkKCQmx2li2bJkmT55sfdrw7rvv1oIFC6zjLpdL%2Bfn5mjBhguLj4xUWFqb09HSlp6df3JO9RMTPzG3tIfxbip8d3NpDAAC0UQ7DY8lbXG1trVwulzwej%2B2XC9taaGlLCFgA0La15N/f82mzlwgBAAB8FQELAADAZgQsAAAAmxGwAAAAbEbAAgAAsBkBCwAAwGYELAAAAJsRsAAAAGxGwAIAALAZAQsAAMBmBCwAAACbEbAAAABsRsACAACwGQELAADAZgQsAAAAmxGwAAAAbEbAAgAAsBkBCwAAwGYELAAAAJsRsAAAAGxGwAIAALAZAQsAAMBmBCwAAACbEbAAAABsRsACAACwmX9rDwDwVfEzc1t7CP%2BW4mcHt/YQAAD/DytYAAAANiNgAQAA2IyAdYFee%2B01RUdHq127doqLi9PHH3/c2kMCAAA%2BioB1AVasWKG0tDTNnDlTmzdvVr9%2B/TRkyBBVVFS09tAAAIAPImBdgMzMTI0bN06//OUv1b17d7344ovq3LmzFi5c2NpDAwAAPohPEZ5HfX29SkpK9Jvf/MZrf2JiotavX3/O99TV1amurs567fF4JEm1tbW2j6%2Bx7pjtbaJtumVadmsP4YIV/Meg1h4CgMtA099dY8xF75uAdR4HDx5UY2OjIiMjvfZHRkaqqqrqnO/JyMjQrFmzmu3v3Llzi4wRaGtcv2/tEQC4nBw5ckQul%2Bui9knAukAOh8PrtTGm2b4m06dPV3p6uvX61KlT%2Bvrrr9WhQ4dvfM93UVtbq86dO2vPnj0KDQ21rV38f8xxy2J%2BWx5z3PKY45b1febXGKMjR47I7Xa30Oi%2BGQHrPMLDw%2BXn59dstaq6urrZqlYTp9Mpp9Ppte%2BHP/xhi40xNDSU/6hbGHPcspjflscctzzmuGV91/m92CtXTbjJ/TwCAwMVFxen/Px8r/35%2Bfnq27dvK40KAAD4MlawLkB6erqSk5MVHx%2BvhIQEvfHGG6qoqFBqamprDw0AAPggv2eeeeaZ1h6Er4uNjVWHDh00Z84czZ8/X8ePH9c777yjm2%2B%2BubWHJj8/Pw0YMED%2B/mTllsIctyzmt%2BUxxy2POW5ZbXF%2BHaY1PrsIAABwCeMeLAAAAJsRsAAAAGxGwAIAALAZAQsAAMBmBKw26rXXXlN0dLTatWunuLg4ffzxx609JJ%2B1du1ajRgxQm63Ww6HQ3/729%2B8jhtj9Mwzz8jtdisoKEgDBgzQ1q1bvWpqamqUnJwsl8sll8ul5ORkHT582KumrKxM/fv3V1BQkK6%2B%2BmrNnj27Vb7/6mLLyMjQT37yE4WEhCgiIkL33nuvduzY4VVTV1enSZMmKTw8XMHBwbr77ru1d%2B9er5qKigqNGDFCwcHBCg8P1%2BTJk1VfX%2B9VU1BQoLi4OLVr107XXHONFi1a1OLn5wsWLlyonj17Wg9aTEhI0KpVq6zjzK%2B9MjIy5HA4lJaWZu1jjr%2BfZ555Rg6Hw2uLioqyjl%2BSv4cN2pysrCwTEBBg3nzzTbNt2zYzZcoUExwcbL788svWHppPWrlypZk5c6bJzs42kkxOTo7X8blz55qQkBCTnZ1tysrKzKhRo0zHjh1NbW2tVTN48GATGxtr1q9fb9avX29iY2PN8OHDreMej8dERkaaBx980JSVlZns7GwTEhJi5s%2Bff9HOs7UkJSWZJUuWmPLyclNaWmqGDRtmfvSjH5mjR49aNampqebqq682%2Bfn5ZtOmTeaOO%2B4wN998szl58qQxxpiTJ0%2Ba2NhYc8cdd5hNmzaZ/Px843a7zcSJE602vvjiC3PllVeaKVOmmG3btpk333zTBAQEmL/%2B9a8X/Zwvtvfee8%2B8//77ZseOHWbHjh1mxowZJiAgwJSXlxtjmF87ffLJJ6Zr166mZ8%2BeZsqUKdZ%2B5vj7efrpp81NN91kKisrra26uto6fin%2BHiZgtUE//elPTWpqqte%2BG2%2B80fzmN79ppRG1HWcHrFOnTpmoqCgzd%2B5ca9%2BJEyeMy%2BUyixYtMsYYs23bNiPJFBUVWTWFhYVGkvnss8%2BMMca89tprxuVymRMnTlg1GRkZxu12m1OnTrX0afmU6upqI8kUFBQYY4w5fPiwCQgIMFlZWVbNV199Za644gqTm5trjDkdgq%2B44grz1VdfWTXLly83TqfTeDweY4wxTz75pLnxxhu9%2Bnr88cdNnz59WvqUfFJYWJj5wx/%2BwPza6MiRI%2Bb66683%2Bfn5pn///lbAYo6/v6efftrcfPPN5zx2qf4e5hJhG1NfX6%2BSkhIlJiZ67U9MTNT69etbaVRt165du1RVVeU1n06nU/3797fms7CwUC6XS71797Zq%2BvTpI5fL5VXTv39/r%2B%2BgTEpK0r59%2B7R79%2B6LczI%2BwuPxSJLat28vSSopKVFDQ4PXHLvdbsXGxnrNX2xsrNcXsiYlJamurk4lJSVWzdn/3iclJam4uFgNDQ0tek6%2BpLGxUVlZWTp27JgSEhKYXxtNmDBBw4YN01133eW1nzm2x86dO%2BV2uxUdHa0HH3xQX3zxhaRL9/cwAauNOXjwoBobG5t90XRkZGSzL6TG%2BTXN2bfNZ1VVlSIiIpq9NyIiwqvmXG2c2cflwBij9PR03XbbbYqNjZV0%2BvwDAwMVFhbmVXv2HJ89f2FhYQoMDDzvHJ88eVIHDx5sqVPyGWVlZfrBD34gp9Op1NRU5eTkKCYmhvm1SVZWlkpKSpSRkdHsGHP8/fXu3Vtvv/22/vGPf%2BjNN99UVVWV%2Bvbtq0OHDl2yv4fbzjPn4cXhcHi9NsY024cLd775PNfcnq/G/L8bKy%2Bnfy4TJ07Up59%2BqnXr1p23ljn%2B93Tr1k2lpaU6fPiwsrOzNWbMGBUUFHxjPfN74fbs2aMpU6YoLy9P7dq1u%2BD3MccXbsiQIdbPPXr0UEJCgq699lq99dZb6tOnj6RL7/cwK1htTHh4uPz8/Jql8erq6mbJHefX9CmWb5vPqKgo7d%2B/v9l7Dxw44FVzrjak5v9XdqmaNGmS3nvvPX300Ufq1KmTtT8qKkr19fWqqanxqj97js%2Bev5qaGjU0NJx3jv39/dWhQ4eWOCWfEhgYqOuuu07x8fHKyMjQzTffrJdeeon5tUFJSYmqq6sVFxcnf39/%2Bfv7q6CgQC%2B//LL8/f0VGRnJHNssODhYPXr00M6dOy/Z38MErDYmMDBQcXFxys/P99qfn5%2Bvvn37ttKo2q7o6GhFRUV5zWd9fb0KCgqs%2BUxISJDH49Enn3xi1WzYsEEej8erZu3atV4fyc7Ly5Pb7VbXrl0vzsm0EmOMJk6cqHfffVcffvihoqOjvY7HxcUpICDAa44rKytVXl7uNX/l5eWqrKy0avLy8uR0OhUXF2fVnP3vfV5enuLj4xUQENBSp%2BezjDGqq6tjfm0wcOBAlZWVqbS01Nri4%2BP10EMPWT8zx/aqq6vT9u3b1bFjx0v39/BFvqkeNmh6TMPixYvNtm3bTFpamgkODja7d%2B9u7aH5pCNHjpjNmzebzZs3G0kmMzPTbN682Xqsxdy5c43L5TLvvvuuKSsrM7/4xS/O%2BfHgnj17msLCQlNYWGh69Ojh9fHgw4cPm8jISPOLX/zClJWVmXfffdeEhoZeFo9p%2BPWvf21cLpdZs2aN10ew//d//9eqSU1NNZ06dTKrV682mzZtMnfeeec5P%2BI%2BcOBAs2nTJrN69WrTqVOnc37E/YknnjDbtm0zixcvvmw%2B4j59%2BnSzdu1as2vXLvPpp5%2BaGTNmmCuuuMLk5eUZY5jflnDmpwiNYY6/r6lTp5o1a9aYL774whQVFZnhw4ebkJAQ6%2B/Wpfh7mIDVRr366qumS5cuJjAw0PTq1cv6SDya%2B%2Bijj4ykZtuYMWOMMac/Ivz000%2BbqKgo43Q6ze23327Kysq82jh06JB56KGHTEhIiAkJCTEPPfSQqamp8ar59NNPTb9%2B/YzT6TRRUVHmmWeeuSwe0XCuuZVklixZYtUcP37cTJw40bRv394EBQWZ4cOHm4qKCq92vvzySzNs2DATFBRk2rdvbyZOnOj1cWtjjFmzZo255ZZbTGBgoOnatatZuHDhxTjFVvfYY49Z/71fddVVZuDAgVa4Mob5bQlnByzm%2BPtpeq5VQECAcbvd5v777zdbt261jl%2BKv4cdxlwGj5oGAAC4iLgHCwAAwGYELAAAAJsRsAAAAGxGwAIAALAZAQsAAMBmBCwAAACbEbAAAABsRsACAACwGQELAADAZgQsAAAAmxGwAAAAbEbAAgAAsBkBCwAAwGYELAAAAJsRsAAAAGxGwAIAALAZAQsAAMBmBCwAAACb/V8d4fpSgexadQAAAABJRU5ErkJggg%3D%3D\"/>\n",
       "        </div>\n",
       "        <div role=\"tabpanel\" class=\"tab-pane col-md-12\" id=\"common1600893519026812479\">\n",
       "            \n",
       "<table class=\"freq table table-hover\">\n",
       "    <thead>\n",
       "    <tr>\n",
       "        <td class=\"fillremaining\">Value</td>\n",
       "        <td class=\"number\">Count</td>\n",
       "        <td class=\"number\">Frequency (%)</td>\n",
       "        <td style=\"min-width:200px\">&nbsp;</td>\n",
       "    </tr>\n",
       "    </thead>\n",
       "    <tr class=\"\">\n",
       "        <td class=\"fillremaining\">124</td>\n",
       "        <td class=\"number\">188</td>\n",
       "        <td class=\"number\">0.4%</td>\n",
       "        <td>\n",
       "            <div class=\"bar\" style=\"width:1%\">&nbsp;</div>\n",
       "        </td>\n",
       "</tr><tr class=\"\">\n",
       "        <td class=\"fillremaining\">90</td>\n",
       "        <td class=\"number\">184</td>\n",
       "        <td class=\"number\">0.4%</td>\n",
       "        <td>\n",
       "            <div class=\"bar\" style=\"width:1%\">&nbsp;</div>\n",
       "        </td>\n",
       "</tr><tr class=\"\">\n",
       "        <td class=\"fillremaining\">89</td>\n",
       "        <td class=\"number\">177</td>\n",
       "        <td class=\"number\">0.4%</td>\n",
       "        <td>\n",
       "            <div class=\"bar\" style=\"width:1%\">&nbsp;</div>\n",
       "        </td>\n",
       "</tr><tr class=\"\">\n",
       "        <td class=\"fillremaining\">122</td>\n",
       "        <td class=\"number\">175</td>\n",
       "        <td class=\"number\">0.4%</td>\n",
       "        <td>\n",
       "            <div class=\"bar\" style=\"width:1%\">&nbsp;</div>\n",
       "        </td>\n",
       "</tr><tr class=\"\">\n",
       "        <td class=\"fillremaining\">104</td>\n",
       "        <td class=\"number\">175</td>\n",
       "        <td class=\"number\">0.4%</td>\n",
       "        <td>\n",
       "            <div class=\"bar\" style=\"width:1%\">&nbsp;</div>\n",
       "        </td>\n",
       "</tr><tr class=\"\">\n",
       "        <td class=\"fillremaining\">114</td>\n",
       "        <td class=\"number\">175</td>\n",
       "        <td class=\"number\">0.4%</td>\n",
       "        <td>\n",
       "            <div class=\"bar\" style=\"width:1%\">&nbsp;</div>\n",
       "        </td>\n",
       "</tr><tr class=\"\">\n",
       "        <td class=\"fillremaining\">136</td>\n",
       "        <td class=\"number\">174</td>\n",
       "        <td class=\"number\">0.4%</td>\n",
       "        <td>\n",
       "            <div class=\"bar\" style=\"width:1%\">&nbsp;</div>\n",
       "        </td>\n",
       "</tr><tr class=\"\">\n",
       "        <td class=\"fillremaining\">112</td>\n",
       "        <td class=\"number\">174</td>\n",
       "        <td class=\"number\">0.4%</td>\n",
       "        <td>\n",
       "            <div class=\"bar\" style=\"width:1%\">&nbsp;</div>\n",
       "        </td>\n",
       "</tr><tr class=\"\">\n",
       "        <td class=\"fillremaining\">139</td>\n",
       "        <td class=\"number\">174</td>\n",
       "        <td class=\"number\">0.4%</td>\n",
       "        <td>\n",
       "            <div class=\"bar\" style=\"width:1%\">&nbsp;</div>\n",
       "        </td>\n",
       "</tr><tr class=\"\">\n",
       "        <td class=\"fillremaining\">121</td>\n",
       "        <td class=\"number\">173</td>\n",
       "        <td class=\"number\">0.4%</td>\n",
       "        <td>\n",
       "            <div class=\"bar\" style=\"width:1%\">&nbsp;</div>\n",
       "        </td>\n",
       "</tr><tr class=\"other\">\n",
       "        <td class=\"fillremaining\">Other values (1563)</td>\n",
       "        <td class=\"number\">43442</td>\n",
       "        <td class=\"number\">96.1%</td>\n",
       "        <td>\n",
       "            <div class=\"bar\" style=\"width:100%\">&nbsp;</div>\n",
       "        </td>\n",
       "</tr>\n",
       "</table>\n",
       "        </div>\n",
       "        <div role=\"tabpanel\" class=\"tab-pane col-md-12\"  id=\"extreme1600893519026812479\">\n",
       "            <p class=\"h4\">Minimum 5 values</p>\n",
       "            \n",
       "<table class=\"freq table table-hover\">\n",
       "    <thead>\n",
       "    <tr>\n",
       "        <td class=\"fillremaining\">Value</td>\n",
       "        <td class=\"number\">Count</td>\n",
       "        <td class=\"number\">Frequency (%)</td>\n",
       "        <td style=\"min-width:200px\">&nbsp;</td>\n",
       "    </tr>\n",
       "    </thead>\n",
       "    <tr class=\"\">\n",
       "        <td class=\"fillremaining\">0</td>\n",
       "        <td class=\"number\">3</td>\n",
       "        <td class=\"number\">0.0%</td>\n",
       "        <td>\n",
       "            <div class=\"bar\" style=\"width:20%\">&nbsp;</div>\n",
       "        </td>\n",
       "</tr><tr class=\"\">\n",
       "        <td class=\"fillremaining\">1</td>\n",
       "        <td class=\"number\">2</td>\n",
       "        <td class=\"number\">0.0%</td>\n",
       "        <td>\n",
       "            <div class=\"bar\" style=\"width:14%\">&nbsp;</div>\n",
       "        </td>\n",
       "</tr><tr class=\"\">\n",
       "        <td class=\"fillremaining\">2</td>\n",
       "        <td class=\"number\">3</td>\n",
       "        <td class=\"number\">0.0%</td>\n",
       "        <td>\n",
       "            <div class=\"bar\" style=\"width:20%\">&nbsp;</div>\n",
       "        </td>\n",
       "</tr><tr class=\"\">\n",
       "        <td class=\"fillremaining\">3</td>\n",
       "        <td class=\"number\">4</td>\n",
       "        <td class=\"number\">0.0%</td>\n",
       "        <td>\n",
       "            <div class=\"bar\" style=\"width:27%\">&nbsp;</div>\n",
       "        </td>\n",
       "</tr><tr class=\"\">\n",
       "        <td class=\"fillremaining\">4</td>\n",
       "        <td class=\"number\">15</td>\n",
       "        <td class=\"number\">0.0%</td>\n",
       "        <td>\n",
       "            <div class=\"bar\" style=\"width:100%\">&nbsp;</div>\n",
       "        </td>\n",
       "</tr>\n",
       "</table>\n",
       "            <p class=\"h4\">Maximum 5 values</p>\n",
       "            \n",
       "<table class=\"freq table table-hover\">\n",
       "    <thead>\n",
       "    <tr>\n",
       "        <td class=\"fillremaining\">Value</td>\n",
       "        <td class=\"number\">Count</td>\n",
       "        <td class=\"number\">Frequency (%)</td>\n",
       "        <td style=\"min-width:200px\">&nbsp;</td>\n",
       "    </tr>\n",
       "    </thead>\n",
       "    <tr class=\"\">\n",
       "        <td class=\"fillremaining\">3366</td>\n",
       "        <td class=\"number\">1</td>\n",
       "        <td class=\"number\">0.0%</td>\n",
       "        <td>\n",
       "            <div class=\"bar\" style=\"width:100%\">&nbsp;</div>\n",
       "        </td>\n",
       "</tr><tr class=\"\">\n",
       "        <td class=\"fillremaining\">3422</td>\n",
       "        <td class=\"number\">1</td>\n",
       "        <td class=\"number\">0.0%</td>\n",
       "        <td>\n",
       "            <div class=\"bar\" style=\"width:100%\">&nbsp;</div>\n",
       "        </td>\n",
       "</tr><tr class=\"\">\n",
       "        <td class=\"fillremaining\">3785</td>\n",
       "        <td class=\"number\">1</td>\n",
       "        <td class=\"number\">0.0%</td>\n",
       "        <td>\n",
       "            <div class=\"bar\" style=\"width:100%\">&nbsp;</div>\n",
       "        </td>\n",
       "</tr><tr class=\"\">\n",
       "        <td class=\"fillremaining\">3881</td>\n",
       "        <td class=\"number\">1</td>\n",
       "        <td class=\"number\">0.0%</td>\n",
       "        <td>\n",
       "            <div class=\"bar\" style=\"width:100%\">&nbsp;</div>\n",
       "        </td>\n",
       "</tr><tr class=\"\">\n",
       "        <td class=\"fillremaining\">4918</td>\n",
       "        <td class=\"number\">1</td>\n",
       "        <td class=\"number\">0.0%</td>\n",
       "        <td>\n",
       "            <div class=\"bar\" style=\"width:100%\">&nbsp;</div>\n",
       "        </td>\n",
       "</tr>\n",
       "</table>\n",
       "        </div>\n",
       "    </div>\n",
       "</div>\n",
       "</div><div class=\"row variablerow\">\n",
       "    <div class=\"col-md-3 namecol\">\n",
       "        <p class=\"h4 pp-anchor\" id=\"pp_var_campaign\">campaign<br/>\n",
       "            <small>Numeric</small>\n",
       "        </p>\n",
       "    </div><div class=\"col-md-6\">\n",
       "    <div class=\"row\">\n",
       "        <div class=\"col-sm-6\">\n",
       "            <table class=\"stats \">\n",
       "                <tr>\n",
       "                    <th>Distinct count</th>\n",
       "                    <td>48</td>\n",
       "                </tr>\n",
       "                <tr>\n",
       "                    <th>Unique (%)</th>\n",
       "                    <td>0.1%</td>\n",
       "                </tr>\n",
       "                <tr class=\"ignore\">\n",
       "                    <th>Missing (%)</th>\n",
       "                    <td>0.0%</td>\n",
       "                </tr>\n",
       "                <tr class=\"ignore\">\n",
       "                    <th>Missing (n)</th>\n",
       "                    <td>0</td>\n",
       "                </tr>\n",
       "                <tr class=\"ignore\">\n",
       "                    <th>Infinite (%)</th>\n",
       "                    <td>0.0%</td>\n",
       "                </tr>\n",
       "                <tr class=\"ignore\">\n",
       "                    <th>Infinite (n)</th>\n",
       "                    <td>0</td>\n",
       "                </tr>\n",
       "            </table>\n",
       "\n",
       "        </div>\n",
       "        <div class=\"col-sm-6\">\n",
       "            <table class=\"stats \">\n",
       "\n",
       "                <tr>\n",
       "                    <th>Mean</th>\n",
       "                    <td>2.7638</td>\n",
       "                </tr>\n",
       "                <tr>\n",
       "                    <th>Minimum</th>\n",
       "                    <td>1</td>\n",
       "                </tr>\n",
       "                <tr>\n",
       "                    <th>Maximum</th>\n",
       "                    <td>63</td>\n",
       "                </tr>\n",
       "                <tr class=\"ignore\">\n",
       "                    <th>Zeros (%)</th>\n",
       "                    <td>0.0%</td>\n",
       "                </tr>\n",
       "            </table>\n",
       "        </div>\n",
       "    </div>\n",
       "</div>\n",
       "<div class=\"col-md-3 collapse in\" id=\"minihistogram-4368270385340371264\">\n",
       "    <img src=\"data:image/png;base64,iVBORw0KGgoAAAANSUhEUgAAAMgAAABLCAYAAAA1fMjoAAAABHNCSVQICAgIfAhkiAAAAAlwSFlzAAAPYQAAD2EBqD%2BnaQAAADh0RVh0U29mdHdhcmUAbWF0cGxvdGxpYiB2ZXJzaW9uMy4yLjIsIGh0dHA6Ly9tYXRwbG90bGliLm9yZy%2BWH4yJAAABvklEQVR4nO3YMW7TYBjH4ddRVyd7FB8CqVdA6oHYKrF15CjsXdl7i0Q5gC0GBuIOEJZKfxTUfibwPKtlv6%2Bl7zfY3TzPczV2OBxqGIbWY7ly%2B/2%2Bdrtd05k3Taf91Pd9Vf144fV6vcQKXJFxHGsYhl/npqVFAum6rqqq1uv1i0Bu7x8vft7Tw92r7MXf7XxuWlo1nwhXRCAQCAQCgUAgEAgEAoFAIBAIBAKBQCAQCAQCgUAgEAgEAoFAIBAIBAKBQCAQCAQCgUAgEAgEAoFAIBAIBAKBQCAQCAQCgUAgEAgEAoFAIBAIBAKBQCAQCAQCgUAgEAgEAoFAIBAIBAKBQCAQCAQCgUBws/QCr%2BH2/vHie54e7t5gE/41iwQyz3NVVY3j%2BOLa929fm%2Bzw7sPni%2B/58vH9G2zC75zPyfnctLRIINM0VVXVMAxLjP9jm09Lb/B/m6apNptN05ndvECWp9Opjsdj9X1fXde1Hs%2BVmee5pmmq7XZbq1Xbz%2BZFAoFr4S8WBAKBQCAQCAQCgUAgEAgEAoFAIBAIBAKBQCAQCAQCgUAgEAgEAoFAIBAIBAKBQCAQCAQCgUAgEAgEAsEzHdxDc76eOQEAAAAASUVORK5CYII%3D\">\n",
       "\n",
       "</div>\n",
       "<div class=\"col-md-12 text-right\">\n",
       "    <a role=\"button\" data-toggle=\"collapse\" data-target=\"#descriptives-4368270385340371264,#minihistogram-4368270385340371264\"\n",
       "       aria-expanded=\"false\" aria-controls=\"collapseExample\">\n",
       "        Toggle details\n",
       "    </a>\n",
       "</div>\n",
       "<div class=\"row collapse col-md-12\" id=\"descriptives-4368270385340371264\">\n",
       "    <ul class=\"nav nav-tabs\" role=\"tablist\">\n",
       "        <li role=\"presentation\" class=\"active\"><a href=\"#quantiles-4368270385340371264\"\n",
       "                                                  aria-controls=\"quantiles-4368270385340371264\" role=\"tab\"\n",
       "                                                  data-toggle=\"tab\">Statistics</a></li>\n",
       "        <li role=\"presentation\"><a href=\"#histogram-4368270385340371264\" aria-controls=\"histogram-4368270385340371264\"\n",
       "                                   role=\"tab\" data-toggle=\"tab\">Histogram</a></li>\n",
       "        <li role=\"presentation\"><a href=\"#common-4368270385340371264\" aria-controls=\"common-4368270385340371264\"\n",
       "                                   role=\"tab\" data-toggle=\"tab\">Common Values</a></li>\n",
       "        <li role=\"presentation\"><a href=\"#extreme-4368270385340371264\" aria-controls=\"extreme-4368270385340371264\"\n",
       "                                   role=\"tab\" data-toggle=\"tab\">Extreme Values</a></li>\n",
       "\n",
       "    </ul>\n",
       "\n",
       "    <div class=\"tab-content\">\n",
       "        <div role=\"tabpanel\" class=\"tab-pane active row\" id=\"quantiles-4368270385340371264\">\n",
       "            <div class=\"col-md-4 col-md-offset-1\">\n",
       "                <p class=\"h4\">Quantile statistics</p>\n",
       "                <table class=\"stats indent\">\n",
       "                    <tr>\n",
       "                        <th>Minimum</th>\n",
       "                        <td>1</td>\n",
       "                    </tr>\n",
       "                    <tr>\n",
       "                        <th>5-th percentile</th>\n",
       "                        <td>1</td>\n",
       "                    </tr>\n",
       "                    <tr>\n",
       "                        <th>Q1</th>\n",
       "                        <td>1</td>\n",
       "                    </tr>\n",
       "                    <tr>\n",
       "                        <th>Median</th>\n",
       "                        <td>2</td>\n",
       "                    </tr>\n",
       "                    <tr>\n",
       "                        <th>Q3</th>\n",
       "                        <td>3</td>\n",
       "                    </tr>\n",
       "                    <tr>\n",
       "                        <th>95-th percentile</th>\n",
       "                        <td>8</td>\n",
       "                    </tr>\n",
       "                    <tr>\n",
       "                        <th>Maximum</th>\n",
       "                        <td>63</td>\n",
       "                    </tr>\n",
       "                    <tr>\n",
       "                        <th>Range</th>\n",
       "                        <td>62</td>\n",
       "                    </tr>\n",
       "                    <tr>\n",
       "                        <th>Interquartile range</th>\n",
       "                        <td>2</td>\n",
       "                    </tr>\n",
       "                </table>\n",
       "            </div>\n",
       "            <div class=\"col-md-4 col-md-offset-2\">\n",
       "                <p class=\"h4\">Descriptive statistics</p>\n",
       "                <table class=\"stats indent\">\n",
       "                    <tr>\n",
       "                        <th>Standard deviation</th>\n",
       "                        <td>3.098</td>\n",
       "                    </tr>\n",
       "                    <tr>\n",
       "                        <th>Coef of variation</th>\n",
       "                        <td>1.1209</td>\n",
       "                    </tr>\n",
       "                    <tr>\n",
       "                        <th>Kurtosis</th>\n",
       "                        <td>39.25</td>\n",
       "                    </tr>\n",
       "                    <tr>\n",
       "                        <th>Mean</th>\n",
       "                        <td>2.7638</td>\n",
       "                    </tr>\n",
       "                    <tr>\n",
       "                        <th>MAD</th>\n",
       "                        <td>1.7915</td>\n",
       "                    </tr>\n",
       "                    <tr class=\"\">\n",
       "                        <th>Skewness</th>\n",
       "                        <td>4.8987</td>\n",
       "                    </tr>\n",
       "                    <tr>\n",
       "                        <th>Sum</th>\n",
       "                        <td>124956</td>\n",
       "                    </tr>\n",
       "                    <tr>\n",
       "                        <th>Variance</th>\n",
       "                        <td>9.5977</td>\n",
       "                    </tr>\n",
       "                    <tr>\n",
       "                        <th>Memory size</th>\n",
       "                        <td>353.3 KiB</td>\n",
       "                    </tr>\n",
       "                </table>\n",
       "            </div>\n",
       "        </div>\n",
       "        <div role=\"tabpanel\" class=\"tab-pane col-md-8 col-md-offset-2\" id=\"histogram-4368270385340371264\">\n",
       "            <img src=\"data:image/png;base64,iVBORw0KGgoAAAANSUhEUgAAAlgAAAGQCAYAAAByNR6YAAAABHNCSVQICAgIfAhkiAAAAAlwSFlzAAAPYQAAD2EBqD%2BnaQAAADh0RVh0U29mdHdhcmUAbWF0cGxvdGxpYiB2ZXJzaW9uMy4yLjIsIGh0dHA6Ly9tYXRwbG90bGliLm9yZy%2BWH4yJAAAgAElEQVR4nO3df1TVVb7/8deJ3zJwBiHBc2UY%2Bi1hTh5mDH%2BkZWIqlk33RtdCnRrXMP4k9I6j3vutaUosi8oxMWdcWk0jzlxjrnelJk1GOeIkBCrmlKucwITIIkBGD4if7x8uPtcjmEyzhYPn%2BVjrsxZnf95n7312dXi1z%2Bd8cFiWZQkAAADGXNbTEwAAALjUELAAAAAMI2ABAAAYRsACAAAwjIAFAABgGAELAADAMAIWAACAYQQsAAAAwwhYAAAAhhGwAAAADCNgAQAAGEbAAgAAMIyABQAAYBgBCwAAwDACFgAAgGEELAAAAMMIWAAAAIYRsAAAAAwjYAEAABhGwAIAADCMgAUAAGAYAQsAAMAwAhYAAIBhBCwAAADDCFgAAACGEbAAAAAMI2ABAAAYRsACAAAwjIAFAABgGAELAADAMAIWAACAYQQsAAAAwwhYAAAAhhGwAAAADCNgAQAAGEbAAgAAMIyABQAAYBgBCwAAwLDAnp6APzh9%2BrSOHj2qiIgIORyOnp4OAAB%2BwbIsNTU1yeVy6bLLundPiYDVDY4ePar4%2BPiengYAAH6purpaAwYM6NYxCVjdICIiQtKZf8CRkZE9PBsAAPxDY2Oj4uPj7d/D3YmA1Q3aPxaMjIwkYAEA0M164vIcLnIHAAAwjIAFAABgGAELAADAMAIWAACAYQQsAAAAwwhYAAAAhhGwAAAADCNgAQAAGEbAAgAAMIyABQAAYBgBCwAAwDACFgAAgGH8sedeLmXJtp6eQpeVPn57T08BAIBuwQ4WAACAYQQsAAAAwwhYAAAAhhGwAAAADCNgAQAAGEbAAgAAMIyABQAAYBgBCwAAwDACFgAAgGEELAAAAMMIWAAAAIYRsAAAAAwjYAEAABhGwAIAADCMgAUAAGBYrwhYubm5cjgcys7Otts8Ho/mzJmjmJgYhYeH64477tCRI0e8nldVVaVJkyYpPDxcMTExmjt3rlpaWrxqiouL5Xa7FRoaqiuuuEKrV6/uMP6qVauUmJio0NBQud1uvfPOOxfnhQIAgEuCzwesPXv2aM2aNbrhhhu82rOzs1VYWKiCggLt3LlTx48fV3p6utra2iRJbW1tmjhxopqbm7Vz504VFBRo06ZNmj9/vt3H4cOHNWHCBI0cOVLl5eVavHix5s6dq02bNtk1GzduVHZ2tpYsWaLy8nKNHDlS48ePV1VVVfcsAAAA6HUclmVZPT2J8zl%2B/LiGDBmiVatW6bHHHtP3vvc9Pfvss2poaNDll1%2Bul19%2BWRkZGZKko0ePKj4%2BXlu2bNG4ceO0detWpaenq7q6Wi6XS5JUUFCg6dOnq66uTpGRkVq4cKE2b96sgwcP2mNmZWVp7969KikpkSQNHTpUQ4YMUX5%2Bvl0zcOBATZ48Wbm5uV16HY2NjXI6nWpoaFBkZKSp5ZEkpSzZZrS/i6n08dt7egoAAD9yMX//XohP72DNmjVLEydO1G233ebVXlZWptbWVqWlpdltLpdLycnJ2rVrlySppKREycnJdriSpHHjxsnj8aisrMyuObuP9prS0lK1traqpaVFZWVlHWrS0tLscQAAAM4V2NMTOJ%2BCggKVlZWptLS0w7na2loFBwcrKirKqz02Nla1tbV2TWxsrNf5qKgoBQcHf21NbGysTp06pWPHjsmyLLW1tXVa095HZzwejzwej/24sbGxC68YAABcKnxyB6u6ulrz5s3TK6%2B8otDQ0C4/z7IsORwO%2B/HZP3e1pv0T0wvVdNZ3u9zcXDmdTvuIj4/v8msAAAC9n08GrLKyMtXV1cntdiswMFCBgYEqLi7WihUrFBgYqNjYWLW0tKi%2Bvt7reXV1dfZuU1xcXIddpvr6erW2tn5tTV1dnQIDAxUdHa2YmBgFBAR0WnPurtbZFi1apIaGBvuorq7%2BxmsBAAB6H58MWGPGjNH%2B/ftVUVFhHykpKbrvvvvsn4OCglRUVGQ/p6amRpWVlRo2bJgkKTU1VZWVlaqpqbFrtm/frpCQELndbrvm7D7aa9r7Dw4Oltvt7lBTVFRkj9OZkJAQRUZGeh0AAMB/%2BOQ1WBEREUpOTvZqCw8PV3R0tN3%2B4IMPav78%2BYqOjlbfvn21YMECDRo0yL4gPi0tTUlJScrMzNTy5cv15ZdfasGCBZoxY4YdeLKysrRy5Url5ORoxowZKikp0dq1a7VhwwZ73JycHGVmZiolJUWpqalas2aNqqqqlJWV1U2rAQAAehufDFhd8cwzzygwMFD33HOPTpw4oTFjxmj9%2BvUKCAiQJAUEBOi1117TzJkzNXz4cIWFhWnKlCl66qmn7D4SExO1ZcsWPfTQQ3r%2B%2Beflcrm0YsUK3X333XZNRkaGvvjiCz366KOqqalRcnKytmzZooSEhG5/zQAAoHfw6ftgXSq4D9YZ3AcLANCduA8WAADAJYSABQAAYBgBCwAAwDACFgAAgGEELAAAAMMIWAAAAIYRsAAAAAwjYAEAABhGwAIAADCMgAUAAGAYAQsAAMAwAhYAAIBhBCwAAADDCFgAAACGEbAAAAAMI2ABAAAYRsACAAAwjIAFAABgGAELAADAMAIWAACAYQQsAAAAwwhYAAAAhhGwAAAADCNgAQAAGEbAAgAAMIyABQAAYBgBCwAAwDACFgAAgGEELAAAAMMIWAAAAIYRsAAAAAwjYAEAABhGwAIAADCMgAUAAGAYAQsAAMAwAhYAAIBhBCwAAADDCFgAAACGEbAAAAAMI2ABAAAYRsACAAAwjIAFAABgGAELAADAMAIWAACAYQQsAAAAwwhYAAAAhhGwAAAADCNgAQAAGEbAAgAAMIyABQAAYBgBCwAAwDACFgAAgGEELAAAAMMIWAAAAIYRsAAAAAwjYAEAABhGwAIAADCMgAUAAGAYAQsAAMAwAhYAAIBhPhuw8vPzdcMNNygyMlKRkZFKTU3V1q1b7fMej0dz5sxRTEyMwsPDdccdd%2BjIkSNefVRVVWnSpEkKDw9XTEyM5s6dq5aWFq%2Ba4uJiud1uhYaG6oorrtDq1as7zGXVqlVKTExUaGio3G633nnnnYvzogEAwCXBZwPWgAEDtGzZMpWWlqq0tFS33nqr7rzzTh04cECSlJ2drcLCQhUUFGjnzp06fvy40tPT1dbWJklqa2vTxIkT1dzcrJ07d6qgoECbNm3S/Pnz7TEOHz6sCRMmaOTIkSovL9fixYs1d%2B5cbdq0ya7ZuHGjsrOztWTJEpWXl2vkyJEaP368qqqqundBAABAr%2BGwLMvq6Ul0Vd%2B%2BfbV8%2BXL967/%2Bqy6//HK9/PLLysjIkCQdPXpU8fHx2rJli8aNG6etW7cqPT1d1dXVcrlckqSCggJNnz5ddXV1ioyM1MKFC7V582YdPHjQHiMrK0t79%2B5VSUmJJGno0KEaMmSI8vPz7ZqBAwdq8uTJys3N7dK8Gxsb5XQ61dDQoMjISFPLIUlKWbLNaH8XU%2Bnjt/f0FAAAfuRi/v69EJ/dwTpbW1ubCgoK1NzcrNTUVJWVlam1tVVpaWl2jcvlUnJysnbt2iVJKikpUXJysh2uJGncuHHyeDwqKyuza87uo72mtLRUra2tamlpUVlZWYeatLQ0exwAAIBzBfb0BL7O/v37lZqaqpMnT%2Bpb3/qWCgsLlZSUpIqKCgUHBysqKsqrPjY2VrW1tZKk2tpaxcbGep2PiopScHDw19bExsbq1KlTOnbsmCzLUltbW6c17X10xuPxyOPx2I8bGxv/8RcPAAB6LZ/ewbr22mtVUVGh3bt366c//ammTZum999//7z1lmXJ4XDYj8/%2Buas17Z%2BYXqims77b5ebmyul02kd8fPx5awEAwKXHpwNWcHCwrrrqKqWkpCg3N1eDBw/Wc889p7i4OLW0tKi%2Bvt6rvq6uzt5tiouL67DLVF9fr9bW1q%2BtqaurU2BgoKKjoxUTE6OAgIBOa87d1TrbokWL1NDQYB/V1dXfeA0AAEDv49MB61yWZcnj8cjtdisoKEhFRUX2uZqaGlVWVmrYsGGSpNTUVFVWVqqmpsau2b59u0JCQuR2u%2B2as/tor0lJSVFQUJCCg4Pldrs71BQVFdnjdCYkJMS%2BvUT7AQAA/IfPXoO1ePFijR8/XvHx8WpqalJBQYHeeustbdu2TU6nUw8%2B%2BKDmz5%2Bv6Oho9e3bVwsWLNCgQYN02223STpzIXpSUpIyMzO1fPlyffnll1qwYIFmzJhhB56srCytXLlSOTk5mjFjhkpKSrR27Vpt2LDBnkdOTo4yMzOVkpKi1NRUrVmzRlVVVcrKyuqRdQEAAL7PZwPWZ599pszMTNXU1MjpdOqGG27Qtm3bNHbsWEnSM888o8DAQN1zzz06ceKExowZo/Xr1ysgIECSFBAQoNdee00zZ87U8OHDFRYWpilTpuipp56yx0hMTNSWLVv00EMP6fnnn5fL5dKKFSt099132zUZGRn64osv9Oijj6qmpkbJycnasmWLEhISundBAABAr9Gr7oPVW3EfrDO4DxYAoDtxHywAAIBLCAELAADAMAIWAACAYQQsAAAAwwhYAAAAhhGwAAAADCNgAQAAGEbAAgAAMIyABQAAYBgBCwAAwDACFgAAgGEELAAAAMMIWAAAAIYRsAAAAAwzHrAOHz5suksAAIBexXjAuuqqq3TLLbfot7/9rU6ePGm6ewAAAJ9nPGDt3btXN954o%2BbPn6%2B4uDj95Cc/0bvvvmt6GAAAAJ9lPGAlJycrLy9Pn376qdatW6fa2lqNGDFC119/vfLy8vT555%2BbHhIAAMCnXLSL3AMDA3XXXXfp97//vZ544gl99NFHWrBggQYMGKCpU6eqpqbmYg0NAADQoy5awCotLdXMmTPVv39/5eXlacGCBfroo4/05ptv6tNPP9Wdd955sYYGAADoUYGmO8zLy9O6dev0wQcfaMKECXrppZc0YcIEXXbZmSyXmJioF154Qdddd53poQEAAHyC8YCVn5%2BvBx54QD/60Y8UFxfXac13vvMdrV271vTQAAAAPsF4wDp06NAFa4KDgzVt2jTTQwMAAPgE49dgrVu3Tn/4wx86tP/hD3/Qiy%2B%2BaHo4AAAAn2M8YC1btkwxMTEd2vv166elS5eaHg4AAMDnGA9Yn3zyiRITEzu0JyQkqKqqyvRwAAAAPsd4wOrXr5/27dvXoX3v3r2Kjo42PRwAAIDPMR6w7r33Xs2dO1c7duxQW1ub2tra9Oabb2revHm69957TQ8HAADgc4x/i/Cxxx7TJ598ojFjxigw8Ez3p0%2Bf1tSpU7kGCwAA%2BAXjASs4OFgbN27UL3/5S%2B3du1dhYWEaNGiQEhISTA8FAADgk4wHrHbXXHONrrnmmovVPQAAgM8yHrDa2tq0fv16/elPf1JdXZ1Onz7tdf7NN980PSQAAIBPMR6w5s2bp/Xr12vixIlKTk6Ww%2BEwPQQAAIBPMx6wCgoK9Pvf/14TJkww3TUAAECvYPw2DcHBwbrqqqtMdwsAANBrGA9Y8%2BfP13PPPSfLskx3DQAA0CsY/4hw586d2rFjh7Zu3arrr79eQUFBXudfffVV00MCAAD4FOMB69vf/rbuuusu090CAAD0GsYD1rp160x3CQAA0KsYvwZLkk6dOqU33nhDL7zwgpqamiRJR48e1fHjxy/GcAAAAD7F%2BA7WJ598ottvv11VVVXyeDwaO3asIiIi9OSTT%2BrkyZNavXq16SEBAAB8ivEdrHnz5iklJUX19fUKCwuz2%2B%2B66y796U9/Mj0cAACAz7ko3yL885//rODgYK/2hIQEffrpp6aHAwAA8DnGd7BOnz6ttra2Du1HjhxRRESE6eEAAAB8jvGANXbsWD377LP2Y4fDoePHj%2Bvhhx/mz%2BcAAAC/YPwjwmeeeUa33HKLkpKSdPLkSU2ZMkWHDh1STEyMNmzYYHo4AAAAn2M8YLlcLlVUVGjDhg167733dPr0aT344IO67777vC56BwAAuFQZD1iSFBYWpgceeEAPPPDAxegeAADApxkPWC%2B99NLXnp86darpIQEAAHyK8YA1b948r8etra36%2B9//ruDgYPXp04eABQAALnnGv0VYX1/vdRw/flwffPCBRowYwUXuAADAL1yUv0V4rquvvlrLli3rsLsFAABwKeqWgCVJAQEBOnr0aHcNBwAA0GOMX4O1efNmr8eWZammpkYrV67U8OHDTQ8HAADgc4wHrMmTJ3s9djgcuvzyy3Xrrbfq6aefNj0cAACAzzEesE6fPm26SwAAgF6l267BAgAA8BfGd7BycnK6XJuXl2d6eAAAgB5nPGCVl5frvffe06lTp3TttddKkj788EMFBARoyJAhdp3D4TA9NAAAgE8wHrAmTZqkiIgIvfjii4qKipJ05uajP/rRjzRy5EjNnz/f9JAAAAA%2Bxfg1WE8//bRyc3PtcCVJUVFReuyxx/6hbxHm5ubq%2B9//viIiItSvXz9NnjxZH3zwgVeNx%2BPRnDlzFBMTo/DwcN1xxx06cuSIV01VVZUmTZqk8PBwxcTEaO7cuWppafGqKS4ultvtVmhoqK644gqtXr26w3xWrVqlxMREhYaGyu1265133unyawEAAP7FeMBqbGzUZ5991qG9rq5OTU1NXe6nuLhYs2bN0u7du1VUVKRTp04pLS1Nzc3Ndk12drYKCwtVUFCgnTt36vjx40pPT1dbW5skqa2tTRMnTlRzc7N27typgoICbdq0yWsX7fDhw5owYYJGjhyp8vJyLV68WHPnztWmTZvsmo0bNyo7O1tLlixReXm5Ro4cqfHjx6uqquqbLBEAALjEOSzLskx2OHXqVBUXF%2Bvpp5/WTTfdJEnavXu3/uM//kM333yzXnzxxW/U7%2Beff65%2B/fqpuLhYN998sxoaGnT55Zfr5ZdfVkZGhiTp6NGjio%2BP15YtWzRu3Dht3bpV6enpqq6ulsvlkiQVFBRo%2BvTpqqurU2RkpBYuXKjNmzfr4MGD9lhZWVnau3evSkpKJElDhw7VkCFDlJ%2Bfb9cMHDhQkydPVm5u7gXn3tjYKKfTqYaGBkVGRn6j138%2BKUu2Ge3vYip9/PaengIAwI9czN%2B/F2J8B2v16tWaOHGi7r//fiUkJCghIUH33Xefxo8fr1WrVn3jfhsaGiRJffv2lSSVlZWptbVVaWlpdo3L5VJycrJ27dolSSopKVFycrIdriRp3Lhx8ng8Kisrs2vO7qO9prS0VK2trWppaVFZWVmHmrS0NHscAACAsxm/yL1Pnz5atWqVli9fro8%2B%2BkiWZemqq65SeHj4N%2B7Tsizl5ORoxIgRSk5OliTV1tYqODjY61ovSYqNjVVtba1dExsb63U%2BKipKwcHBX1sTGxurU6dO6dixY7IsS21tbZ3WtPdxLo/HI4/HYz9ubGz8Bq8aAAD0VhftRqM1NTWqqanRNddco/DwcP0zn0TOnj1b%2B/bt04YNGy5Ya1mW1y0gOrsdxIVq2ud6oZrz3WoiNzdXTqfTPuLj4y84bwAAcOkwHrC%2B%2BOILjRkzRtdcc40mTJigmpoaSdKPf/zjb3SLhjlz5mjz5s3asWOHBgwYYLfHxcWppaVF9fX1XvV1dXX2blNcXFyHXab6%2Bnq1trZ%2BbU1dXZ0CAwMVHR2tmJgYBQQEdFpz7q5Wu0WLFqmhocE%2Bqqur/%2BHXDQAAei/jAeuhhx5SUFCQqqqq1KdPH7s9IyND27Z1/YJsy7I0e/Zsvfrqq3rzzTeVmJjodd7tdisoKEhFRUV2W01NjSorKzVs2DBJUmpqqiorK%2B2QJ0nbt29XSEiI3G63XXN2H%2B01KSkpCgoKUnBwsNxud4eaoqIie5xzhYSEKDIy0usAAAD%2Bw/g1WNu3b9frr7/utdskSVdffbU%2B%2BeSTLvcza9Ys/e53v9P//M//KCIiwt5BcjqdCgsLk9Pp1IMPPqj58%2BcrOjpaffv21YIFCzRo0CDddtttks5ciJ6UlKTMzEwtX75cX375pRYsWKAZM2bYoScrK0srV65UTk6OZsyYoZKSEq1du9br48icnBxlZmYqJSVFqampWrNmjaqqqpSVlfXPLhcAALgEGQ9Yzc3NXjtX7Y4dO6aQkJAu99N%2BS4TRo0d7ta9bt07Tp0%2BXJD3zzDMKDAzUPffcoxMnTmjMmDFav369AgICJEkBAQF67bXXNHPmTA0fPlxhYWGaMmWKnnrqKbu/xMREbdmyRQ899JCef/55uVwurVixQnfffbddk5GRoS%2B%2B%2BEKPPvqoampqlJycrC1btighIaHLrwcAAPgP4/fBmjhxooYMGaJf/vKXioiI0L59%2B5SQkKB7771Xp0%2Bf1n//93%2BbHK5X4D5YZ3AfLABAd%2BrJ%2B2AZ38Favny5Ro8erdLSUrW0tOhnP/uZDhw4oC%2B//FJ//vOfTQ8HAADgc4xf5J6UlKR9%2B/bpBz/4gcaOHavm5mb98Ic/VHl5ua688krTwwEAAPgcoztY7XdWf%2BGFF/SLX/zCZNcAAAC9htEdrKCgIFVWVp73BpwAAAD%2BwPhHhFOnTtXatWtNdwsAANBrGL/IvaWlRb/5zW9UVFSklJSUDn%2BDMC8vz/SQAAAAPsVYwPr444/13e9%2BV5WVlRoyZIgk6cMPP/Sq4aNDAADgD4wFrKuvvlo1NTXasWOHpDM351yxYsV5/14fAADApcrYNVjn3q9069atam5uNtU9AABAr2H8Ivd2hm8QDwAA0GsYC1gOh6PDNVZccwUAAPyRsWuwLMvS9OnT7T/ofPLkSWVlZXX4FuGrr75qakgAAACfZCxgTZs2zevx/fffb6prAACAXsVYwFq3bp2prgAAAHq1i3aROwAAgL8iYAEAABhGwAIAADCMgAUAAGAYAQsAAMAwAhYAAIBhBCwAAADDCFgAAACGEbAAAAAMI2ABAAAYRsACAAAwjIAFAABgGAELAADAMAIWAACAYQQsAAAAwwhYAAAAhhGwAAAADCNgAQAAGEbAAgAAMIyABQAAYBgBCwAAwDACFgAAgGEELAAAAMMIWAAAAIYRsAAAAAwjYAEAABhGwAIAADCMgAUAAGAYAQsAAMAwAhYAAIBhBCwAAADDCFgAAACGEbAAAAAMI2ABAAAYRsACAAAwjIAFAABgGAELAADAMAIWAACAYQQsAAAAwwhYAAAAhhGwAAAADCNgAQAAGEbAAgAAMIyABQAAYBgBCwAAwDACFgAAgGE%2BG7DefvttTZo0SS6XSw6HQ3/84x%2B9zluWpUceeUQul0thYWEaPXq0Dhw44FVTX1%2BvzMxMOZ1OOZ1OZWZm6quvvvKq2b9/v0aNGqWwsDD9y7/8ix599FFZluVVs2nTJiUlJSkkJERJSUkqLCy8OC8aAABcEnw2YDU3N2vw4MFauXJlp%2BeffPJJ5eXlaeXKldqzZ4/i4uI0duxYNTU12TVTpkxRRUWFtm3bpm3btqmiokKZmZn2%2BcbGRo0dO1Yul0t79uzRr371Kz311FPKy8uza0pKSpSRkaHMzEzt3btXmZmZuueee/SXv/zl4r14AADQqzmsc7drfJDD4VBhYaEmT54s6czulcvlUnZ2thYuXChJ8ng8io2N1RNPPKGf/OQnOnjwoJKSkrR7924NHTpUkrR7926lpqbqr3/9q6699lrl5%2Bdr0aJF%2BuyzzxQSEiJJWrZsmX71q1/pyJEjcjgcysjIUGNjo7Zu3WrP5/bbb1dUVJQ2bNjQpfk3NjbK6XSqoaFBkZGRJpdGKUu2Ge3vYip9/PaengIAwI9czN%2B/F%2BKzO1hf5/Dhw6qtrVVaWprdFhISolGjRmnXrl2Szuw8OZ1OO1xJ0k033SSn0%2BlVM2rUKDtcSdK4ceN09OhR/e1vf7Nrzh6nvaa9DwAAgHP1yoBVW1srSYqNjfVqj42Ntc/V1taqX79%2BHZ7br18/r5rO%2Bjh7jPPVtJ/vjMfjUWNjo9cBAAD8R68MWO0cDofXY8uyvNrOPd%2BVmvZPTC9U01nf7XJzc%2B0L651Op%2BLj47vwagAAwKWiVwasuLg4Seqwi1RXV2fvNsXFxemzzz7r8NzPP//cq6azPiRdsObcXa2zLVq0SA0NDfZRXV39j7w8AADQy/XKgJWYmKi4uDgVFRXZbS0tLSouLtawYcMkSampqWpoaNC7775r1/zlL39RQ0ODV83bb7%2BtlpYWu2b79u1yuVz67ne/a9ecPU57TXsfnQkJCVFkZKTXAQAA/IfPBqzjx4%2BroqJCFRUVks5c2F5RUaGqqio5HA5lZ2dr6dKlKiwsVGVlpaZPn64%2BffpoypQpkqSBAwfq9ttv14wZM7R7927t3r1bM2bMUHp6uq699lpJZ27jEBISounTp6uyslKFhYVaunSpcnJy7I8A582bp%2B3bt%2BuJJ57QX//6Vz3xxBN64403lJ2d3TMLAwAAfF5gT0/gfEpLS3XLLbfYj3NyciRJ06ZN0/r16/Wzn/1MJ06c0MyZM1VfX6%2BhQ4dq%2B/btioiIsJ/zyiuvaO7cufa3AO%2B44w6v%2B2o5nU4VFRVp1qxZSklJUVRUlHJycuyxJGnYsGEqKCjQf/7nf%2Bq//uu/dOWVV2rjxo1e304EAAA4W6%2B4D1Zvx32wzuA%2BWACA7sR9sAAAAC4hBCwAAADDCFgAAACGEbAAAAAMI2ABAAAYRsACAAAwjIAFAABgGAELAADAMAIWAACAYQQsAAAAwwhYAAAAhhGwAAAADCNgAQAAGEbAAgAAMIyABQAAYBgBCwAAwDACFgAAgGEELAAAAMMIWAAAAIYRsAAAAAwjYAEAABhGwAIAADCMgAUAAGAYAQsAAMAwAhYAAIBhBCwAAADDCFgAAACGEbAAAAAMI2ABAAAYRsACAAAwjIAFAABgGAELAADAMAIWAACAYQQsAAAAwwhYAAAAhhGwAAAADCNgAQAAGEbAAgAAMIyABQAAYBgBCwAAwDACFgAAgGEELAAAAMMIWAAAAIYRsAAAAAwjYAEAABhGwAIAADCMgAUAAGAYAQsAAMAwAvWx2xwAAAo2SURBVBYAAIBhBCwAAADDCFgAAACGEbAAAAAMI2ABAAAYFtjTE4D/SFmyraen8A8pffz2np4CAKCXYgcLAADAMAIWAACAYQQsAAAAwwhYAAAAhhGwAAAADCNgAQAAGEbAAgAAMIyA1UWrVq1SYmKiQkND5Xa79c477/T0lAAAgI/iRqNdsHHjRmVnZ2vVqlUaPny4XnjhBY0fP17vv/%2B%2BvvOd7/T09HCRcGNUAMA3xQ5WF%2BTl5enBBx/Uj3/8Yw0cOFDPPvus4uPjlZ%2Bf39NTAwAAPogdrAtoaWlRWVmZfv7zn3u1p6WladeuXZ0%2Bx%2BPxyOPx2I8bGhokSY2Njcbn1%2BZpNt4neqcbF2zq6Slcsor/39iengKAb6D9965lWd0%2BNgHrAo4dO6a2tjbFxsZ6tcfGxqq2trbT5%2BTm5uoXv/hFh/b4%2BPiLMkcAF5fz6Z6eAYB/RlNTk5xOZ7eOScDqIofD4fXYsqwObe0WLVqknJwc%2B/Hp06f15ZdfKjo6%2BrzPOZ/GxkbFx8erurpakZGR//jEL1Gsy/mxNp1jXTrHupwfa9O53rQulmWpqalJLper28cmYF1ATEyMAgICOuxW1dXVddjVahcSEqKQkBCvtm9/%2B9v/1DwiIyN9/l/knsC6nB9r0znWpXOsy/mxNp3rLevS3TtX7bjI/QKCg4PldrtVVFTk1V5UVKRhw4b10KwAAIAvYwerC3JycpSZmamUlBSlpqZqzZo1qqqqUlZWVk9PDQAA%2BKCARx555JGenoSvS05OVnR0tJYuXaqnnnpKJ06c0Msvv6zBgwd3y/gBAQEaPXq0AgPJw2djXc6Ptekc69I51uX8WJvOsS4X5rB64ruLAAAAlzCuwQIAADCMgAUAAGAYAQsAAMAwAhYAAIBhBCwftmrVKiUmJio0NFRut1vvvPNOT0%2Bp27399tuaNGmSXC6XHA6H/vjHP3qdtyxLjzzyiFwul8LCwjR69GgdOHCgh2bbfXJzc/X9739fERER6tevnyZPnqwPPvjAq8bj8WjOnDmKiYlReHi47rjjDh05cqSHZtw98vPzdcMNN9g3QExNTdXWrVvt8/64Jp3Jzc2Vw%2BFQdna23eava/PII4/I4XB4HXFxcfZ5f32PkaRPP/1U999/v6Kjo9WnTx9973vfU1lZmX3en9emKwhYPmrjxo3Kzs7WkiVLVF5erpEjR2r8%2BPGqqqrq6al1q%2BbmZg0ePFgrV67s9PyTTz6pvLw8rVy5Unv27FFcXJzGjh2rpqambp5p9youLtasWbO0e/duFRUV6dSpU0pLS1Nz8//98e/s7GwVFhaqoKBAO3fu1PHjx5Wenq62trYenPnFNWDAAC1btkylpaUqLS3VrbfeqjvvvNN%2B0/fHNTnXnj17tGbNGt1www1e7f68Ntdff71qamrsY//%2B/fY5f32Pqa%2Bv1/DhwxUUFKStW7fq/fff19NPP%2B31V0n8dW26zIJP%2BsEPfmBlZWV5tV133XXWz3/%2B8x6aUc%2BTZBUWFtqPT58%2BbcXFxVnLli2z206ePGk5nU5r9erVPTHFHlNXV2dJsoqLiy3LsqyvvvrKCgoKsgoKCuyaTz/91Lrsssusbdu29dQ0e0RUVJT1m9/8hjWxLKupqcm6%2BuqrraKiImvUqFHWvHnzLMvy739fHn74YWvw4MGdnvPn95iFCxdaI0aMOO95f16brmIHywe1tLSorKxMaWlpXu1paWnatWtXD83K9xw%2BfFi1tbVe6xQSEqJRo0b53To1NDRIkvr27StJKisrU2trq9fauFwuJScn%2B83atLW1qaCgQM3NzUpNTWVNJM2aNUsTJ07Ubbfd5tXu72tz6NAhuVwuJSYm6t5779XHH38syb/fYzZv3qyUlBT927/9m/r166cbb7xRv/71r%2B3z/rw2XUXA8kHHjh1TW1tbhz8mHRsb2%2BGPTvuz9rXw93WyLEs5OTkaMWKEkpOTJZ1Zm%2BDgYEVFRXnV%2BsPa7N%2B/X9/61rcUEhKirKwsFRYWKikpya/XRJIKCgpUVlam3NzcDuf8eW2GDh2ql156Sa%2B//rp%2B/etfq7a2VsOGDdMXX3zh1%2B8xH3/8sfLz83X11Vfr9ddfV1ZWlubOnauXXnpJEu%2B/XcE97n2Yw%2BHwemxZVoc2sE6zZ8/Wvn37tHPnzgvW%2BsPaXHvttaqoqNBXX32lTZs2adq0aSouLj5vvT%2BsSXV1tebNm6ft27crNDS0y8/zh7UZP368/fOgQYOUmpqqK6%2B8Ui%2B%2B%2BKJuuukmSf75HnP69GmlpKRo6dKlkqQbb7xRBw4cUH5%2BvqZOnWrX%2BePadBU7WD4oJiZGAQEBHf4voK6ursP/Lfiz9m/6%2BPM6zZkzR5s3b9aOHTs0YMAAuz0uLk4tLS2qr6/3qveHtQkODtZVV12llJQU5ebmavDgwXruuef8ek3KyspUV1cnt9utwMBABQYGqri4WCtWrFBgYKBiY2P9dm3OFR4erkGDBunQoUN%2B/R7Tv39/JSUlebUNHDjQ/qKVP69NVxGwfFBwcLDcbreKioq82ouKijRs2LAempXvSUxMVFxcnNc6tbS0qLi4%2BJJfJ8uyNHv2bL366qt68803lZiY6HXe7XYrKCjIa21qampUWVl5ya/NuSzLksfj8es1GTNmjPbv36%2BKigr7SElJ0X333Wf/7K9rcy6Px6ODBw%2Bqf//%2Bfv0eM3z48A63fvnwww%2BVkJAgyb/ff7usp66ux9crKCiwgoKCrLVr11rvv/%2B%2BlZ2dbYWHh1t/%2B9vfenpq3aqpqckqLy%2B3ysvLLUlWXl6eVV5ebn3yySeWZVnWsmXLLKfTab366qvW/v37rX//93%2B3%2BvfvbzU2NvbwzC%2Bun/70p5bT6bTeeustq6amxj7%2B/ve/2zVZWVnWgAEDrDfeeMN67733rFtvvdUaPHiwderUqR6c%2BcW1aNEi6%2B2337YOHz5s7du3z1q8eLF12WWXWdu3b7csyz/X5HzO/hahZfnv2syfP9966623rI8//tjavXu3lZ6ebkVERNjvtf76HvPuu%2B9agYGB1uOPP24dOnTIeuWVV6w%2BffpYv/3tb%2B0af12briJg%2BbDnn3/eSkhIsIKDg60hQ4bYX8H3Jzt27LAkdTimTZtmWdaZrwo//PDDVlxcnBUSEmLdfPPN1v79%2B3t20t2gszWRZK1bt86uOXHihDV79myrb9%2B%2BVlhYmJWenm5VVVX13KS7wQMPPGD/N3P55ZdbY8aMscOVZfnnmpzPuQHLX9cmIyPD6t%2B/vxUUFGS5XC7rhz/8oXXgwAH7vL%2B%2Bx1iWZf3v//6vlZycbIWEhFjXXXedtWbNGq/z/rw2XeGwLMvqmb0zAACASxPXYAEAABhGwAIAADCMgAUAAGAYAQsAAMAwAhYAAIBhBCwAAADDCFgAAACGEbAAAAAMI2ABAAAYRsACAAAwjIAFAABgGAELAADAMAIWAACAYQQsAAAAwwhYAAAAhhGwAAAADCNgAQAAGEbAAgAAMOz/AzLLO/lHuXLUAAAAAElFTkSuQmCC\"/>\n",
       "        </div>\n",
       "        <div role=\"tabpanel\" class=\"tab-pane col-md-12\" id=\"common-4368270385340371264\">\n",
       "            \n",
       "<table class=\"freq table table-hover\">\n",
       "    <thead>\n",
       "    <tr>\n",
       "        <td class=\"fillremaining\">Value</td>\n",
       "        <td class=\"number\">Count</td>\n",
       "        <td class=\"number\">Frequency (%)</td>\n",
       "        <td style=\"min-width:200px\">&nbsp;</td>\n",
       "    </tr>\n",
       "    </thead>\n",
       "    <tr class=\"\">\n",
       "        <td class=\"fillremaining\">1</td>\n",
       "        <td class=\"number\">17544</td>\n",
       "        <td class=\"number\">38.8%</td>\n",
       "        <td>\n",
       "            <div class=\"bar\" style=\"width:100%\">&nbsp;</div>\n",
       "        </td>\n",
       "</tr><tr class=\"\">\n",
       "        <td class=\"fillremaining\">2</td>\n",
       "        <td class=\"number\">12505</td>\n",
       "        <td class=\"number\">27.7%</td>\n",
       "        <td>\n",
       "            <div class=\"bar\" style=\"width:71%\">&nbsp;</div>\n",
       "        </td>\n",
       "</tr><tr class=\"\">\n",
       "        <td class=\"fillremaining\">3</td>\n",
       "        <td class=\"number\">5521</td>\n",
       "        <td class=\"number\">12.2%</td>\n",
       "        <td>\n",
       "            <div class=\"bar\" style=\"width:32%\">&nbsp;</div>\n",
       "        </td>\n",
       "</tr><tr class=\"\">\n",
       "        <td class=\"fillremaining\">4</td>\n",
       "        <td class=\"number\">3522</td>\n",
       "        <td class=\"number\">7.8%</td>\n",
       "        <td>\n",
       "            <div class=\"bar\" style=\"width:20%\">&nbsp;</div>\n",
       "        </td>\n",
       "</tr><tr class=\"\">\n",
       "        <td class=\"fillremaining\">5</td>\n",
       "        <td class=\"number\">1764</td>\n",
       "        <td class=\"number\">3.9%</td>\n",
       "        <td>\n",
       "            <div class=\"bar\" style=\"width:10%\">&nbsp;</div>\n",
       "        </td>\n",
       "</tr><tr class=\"\">\n",
       "        <td class=\"fillremaining\">6</td>\n",
       "        <td class=\"number\">1291</td>\n",
       "        <td class=\"number\">2.9%</td>\n",
       "        <td>\n",
       "            <div class=\"bar\" style=\"width:8%\">&nbsp;</div>\n",
       "        </td>\n",
       "</tr><tr class=\"\">\n",
       "        <td class=\"fillremaining\">7</td>\n",
       "        <td class=\"number\">735</td>\n",
       "        <td class=\"number\">1.6%</td>\n",
       "        <td>\n",
       "            <div class=\"bar\" style=\"width:5%\">&nbsp;</div>\n",
       "        </td>\n",
       "</tr><tr class=\"\">\n",
       "        <td class=\"fillremaining\">8</td>\n",
       "        <td class=\"number\">540</td>\n",
       "        <td class=\"number\">1.2%</td>\n",
       "        <td>\n",
       "            <div class=\"bar\" style=\"width:4%\">&nbsp;</div>\n",
       "        </td>\n",
       "</tr><tr class=\"\">\n",
       "        <td class=\"fillremaining\">9</td>\n",
       "        <td class=\"number\">327</td>\n",
       "        <td class=\"number\">0.7%</td>\n",
       "        <td>\n",
       "            <div class=\"bar\" style=\"width:2%\">&nbsp;</div>\n",
       "        </td>\n",
       "</tr><tr class=\"\">\n",
       "        <td class=\"fillremaining\">10</td>\n",
       "        <td class=\"number\">266</td>\n",
       "        <td class=\"number\">0.6%</td>\n",
       "        <td>\n",
       "            <div class=\"bar\" style=\"width:2%\">&nbsp;</div>\n",
       "        </td>\n",
       "</tr><tr class=\"other\">\n",
       "        <td class=\"fillremaining\">Other values (38)</td>\n",
       "        <td class=\"number\">1196</td>\n",
       "        <td class=\"number\">2.6%</td>\n",
       "        <td>\n",
       "            <div class=\"bar\" style=\"width:7%\">&nbsp;</div>\n",
       "        </td>\n",
       "</tr>\n",
       "</table>\n",
       "        </div>\n",
       "        <div role=\"tabpanel\" class=\"tab-pane col-md-12\"  id=\"extreme-4368270385340371264\">\n",
       "            <p class=\"h4\">Minimum 5 values</p>\n",
       "            \n",
       "<table class=\"freq table table-hover\">\n",
       "    <thead>\n",
       "    <tr>\n",
       "        <td class=\"fillremaining\">Value</td>\n",
       "        <td class=\"number\">Count</td>\n",
       "        <td class=\"number\">Frequency (%)</td>\n",
       "        <td style=\"min-width:200px\">&nbsp;</td>\n",
       "    </tr>\n",
       "    </thead>\n",
       "    <tr class=\"\">\n",
       "        <td class=\"fillremaining\">1</td>\n",
       "        <td class=\"number\">17544</td>\n",
       "        <td class=\"number\">38.8%</td>\n",
       "        <td>\n",
       "            <div class=\"bar\" style=\"width:100%\">&nbsp;</div>\n",
       "        </td>\n",
       "</tr><tr class=\"\">\n",
       "        <td class=\"fillremaining\">2</td>\n",
       "        <td class=\"number\">12505</td>\n",
       "        <td class=\"number\">27.7%</td>\n",
       "        <td>\n",
       "            <div class=\"bar\" style=\"width:71%\">&nbsp;</div>\n",
       "        </td>\n",
       "</tr><tr class=\"\">\n",
       "        <td class=\"fillremaining\">3</td>\n",
       "        <td class=\"number\">5521</td>\n",
       "        <td class=\"number\">12.2%</td>\n",
       "        <td>\n",
       "            <div class=\"bar\" style=\"width:32%\">&nbsp;</div>\n",
       "        </td>\n",
       "</tr><tr class=\"\">\n",
       "        <td class=\"fillremaining\">4</td>\n",
       "        <td class=\"number\">3522</td>\n",
       "        <td class=\"number\">7.8%</td>\n",
       "        <td>\n",
       "            <div class=\"bar\" style=\"width:20%\">&nbsp;</div>\n",
       "        </td>\n",
       "</tr><tr class=\"\">\n",
       "        <td class=\"fillremaining\">5</td>\n",
       "        <td class=\"number\">1764</td>\n",
       "        <td class=\"number\">3.9%</td>\n",
       "        <td>\n",
       "            <div class=\"bar\" style=\"width:10%\">&nbsp;</div>\n",
       "        </td>\n",
       "</tr>\n",
       "</table>\n",
       "            <p class=\"h4\">Maximum 5 values</p>\n",
       "            \n",
       "<table class=\"freq table table-hover\">\n",
       "    <thead>\n",
       "    <tr>\n",
       "        <td class=\"fillremaining\">Value</td>\n",
       "        <td class=\"number\">Count</td>\n",
       "        <td class=\"number\">Frequency (%)</td>\n",
       "        <td style=\"min-width:200px\">&nbsp;</td>\n",
       "    </tr>\n",
       "    </thead>\n",
       "    <tr class=\"\">\n",
       "        <td class=\"fillremaining\">50</td>\n",
       "        <td class=\"number\">2</td>\n",
       "        <td class=\"number\">0.0%</td>\n",
       "        <td>\n",
       "            <div class=\"bar\" style=\"width:100%\">&nbsp;</div>\n",
       "        </td>\n",
       "</tr><tr class=\"\">\n",
       "        <td class=\"fillremaining\">51</td>\n",
       "        <td class=\"number\">1</td>\n",
       "        <td class=\"number\">0.0%</td>\n",
       "        <td>\n",
       "            <div class=\"bar\" style=\"width:50%\">&nbsp;</div>\n",
       "        </td>\n",
       "</tr><tr class=\"\">\n",
       "        <td class=\"fillremaining\">55</td>\n",
       "        <td class=\"number\">1</td>\n",
       "        <td class=\"number\">0.0%</td>\n",
       "        <td>\n",
       "            <div class=\"bar\" style=\"width:50%\">&nbsp;</div>\n",
       "        </td>\n",
       "</tr><tr class=\"\">\n",
       "        <td class=\"fillremaining\">58</td>\n",
       "        <td class=\"number\">1</td>\n",
       "        <td class=\"number\">0.0%</td>\n",
       "        <td>\n",
       "            <div class=\"bar\" style=\"width:50%\">&nbsp;</div>\n",
       "        </td>\n",
       "</tr><tr class=\"\">\n",
       "        <td class=\"fillremaining\">63</td>\n",
       "        <td class=\"number\">1</td>\n",
       "        <td class=\"number\">0.0%</td>\n",
       "        <td>\n",
       "            <div class=\"bar\" style=\"width:50%\">&nbsp;</div>\n",
       "        </td>\n",
       "</tr>\n",
       "</table>\n",
       "        </div>\n",
       "    </div>\n",
       "</div>\n",
       "</div><div class=\"row variablerow\">\n",
       "    <div class=\"col-md-3 namecol\">\n",
       "        <p class=\"h4 pp-anchor\" id=\"pp_var_pdays\">pdays<br/>\n",
       "            <small>Numeric</small>\n",
       "        </p>\n",
       "    </div><div class=\"col-md-6\">\n",
       "    <div class=\"row\">\n",
       "        <div class=\"col-sm-6\">\n",
       "            <table class=\"stats \">\n",
       "                <tr>\n",
       "                    <th>Distinct count</th>\n",
       "                    <td>559</td>\n",
       "                </tr>\n",
       "                <tr>\n",
       "                    <th>Unique (%)</th>\n",
       "                    <td>1.2%</td>\n",
       "                </tr>\n",
       "                <tr class=\"ignore\">\n",
       "                    <th>Missing (%)</th>\n",
       "                    <td>0.0%</td>\n",
       "                </tr>\n",
       "                <tr class=\"ignore\">\n",
       "                    <th>Missing (n)</th>\n",
       "                    <td>0</td>\n",
       "                </tr>\n",
       "                <tr class=\"ignore\">\n",
       "                    <th>Infinite (%)</th>\n",
       "                    <td>0.0%</td>\n",
       "                </tr>\n",
       "                <tr class=\"ignore\">\n",
       "                    <th>Infinite (n)</th>\n",
       "                    <td>0</td>\n",
       "                </tr>\n",
       "            </table>\n",
       "\n",
       "        </div>\n",
       "        <div class=\"col-sm-6\">\n",
       "            <table class=\"stats \">\n",
       "\n",
       "                <tr>\n",
       "                    <th>Mean</th>\n",
       "                    <td>40.198</td>\n",
       "                </tr>\n",
       "                <tr>\n",
       "                    <th>Minimum</th>\n",
       "                    <td>-1</td>\n",
       "                </tr>\n",
       "                <tr>\n",
       "                    <th>Maximum</th>\n",
       "                    <td>871</td>\n",
       "                </tr>\n",
       "                <tr class=\"ignore\">\n",
       "                    <th>Zeros (%)</th>\n",
       "                    <td>0.0%</td>\n",
       "                </tr>\n",
       "            </table>\n",
       "        </div>\n",
       "    </div>\n",
       "</div>\n",
       "<div class=\"col-md-3 collapse in\" id=\"minihistogram-7952510523872286929\">\n",
       "    <img src=\"data:image/png;base64,iVBORw0KGgoAAAANSUhEUgAAAMgAAABLCAYAAAA1fMjoAAAABHNCSVQICAgIfAhkiAAAAAlwSFlzAAAPYQAAD2EBqD%2BnaQAAADh0RVh0U29mdHdhcmUAbWF0cGxvdGxpYiB2ZXJzaW9uMy4yLjIsIGh0dHA6Ly9tYXRwbG90bGliLm9yZy%2BWH4yJAAABuElEQVR4nO3YsW3bUBSG0UvDLaleELfwEN7Jtcvs4yG8hQQNQCJFiogpErmx8QNJjEcqOaclwHtJvK953bIsSzV2Op1qHMfWY7lxx%2BOxDodD05n3Taf90vd9Vf384GEY1liBGzJNU43j%2BHZuWlolkK7rqqpqGIZ3gTw8vfz2%2B16fHz9lL7btem5aums%2BEW6IQCAQCAQCgUAgEAgEAoFAIBAIBAKBQCAQCAQCgUAgEAgEAoFAIBAIBAKBQCAQCAQCgUAgEAgEAoFAIBAIBAKBQCAQCAQCgUAgEAgEAoFAIBAIBAKBQCAQCAQCgUAgEAgEAoFAIBAIBAKBQCAQCAT3ay/wGR6eXtZe4UOvz49rr8Bf%2BicC2ao/CVdU27JKIMuyVFXVNE3vnn3/9rX1Opvy0T/5313/yfXctLRKIPM8V1XVOI5rjN%2B03Ze1N9iueZ5rt9s1ndktK2R5uVzqfD5X3/fVdV3r8dyYZVlqnufa7/d1d9f2XmmVQOBWuOaFQCAQCAQCgUAgEAgEAoFAIBAIBAKBQCAQCAQCgUAgEAgEAoFAIBAIBAKBQCAQCAQCgUAgEAgEAoFAIPgBb%2BRGdaYWBfUAAAAASUVORK5CYII%3D\">\n",
       "\n",
       "</div>\n",
       "<div class=\"col-md-12 text-right\">\n",
       "    <a role=\"button\" data-toggle=\"collapse\" data-target=\"#descriptives-7952510523872286929,#minihistogram-7952510523872286929\"\n",
       "       aria-expanded=\"false\" aria-controls=\"collapseExample\">\n",
       "        Toggle details\n",
       "    </a>\n",
       "</div>\n",
       "<div class=\"row collapse col-md-12\" id=\"descriptives-7952510523872286929\">\n",
       "    <ul class=\"nav nav-tabs\" role=\"tablist\">\n",
       "        <li role=\"presentation\" class=\"active\"><a href=\"#quantiles-7952510523872286929\"\n",
       "                                                  aria-controls=\"quantiles-7952510523872286929\" role=\"tab\"\n",
       "                                                  data-toggle=\"tab\">Statistics</a></li>\n",
       "        <li role=\"presentation\"><a href=\"#histogram-7952510523872286929\" aria-controls=\"histogram-7952510523872286929\"\n",
       "                                   role=\"tab\" data-toggle=\"tab\">Histogram</a></li>\n",
       "        <li role=\"presentation\"><a href=\"#common-7952510523872286929\" aria-controls=\"common-7952510523872286929\"\n",
       "                                   role=\"tab\" data-toggle=\"tab\">Common Values</a></li>\n",
       "        <li role=\"presentation\"><a href=\"#extreme-7952510523872286929\" aria-controls=\"extreme-7952510523872286929\"\n",
       "                                   role=\"tab\" data-toggle=\"tab\">Extreme Values</a></li>\n",
       "\n",
       "    </ul>\n",
       "\n",
       "    <div class=\"tab-content\">\n",
       "        <div role=\"tabpanel\" class=\"tab-pane active row\" id=\"quantiles-7952510523872286929\">\n",
       "            <div class=\"col-md-4 col-md-offset-1\">\n",
       "                <p class=\"h4\">Quantile statistics</p>\n",
       "                <table class=\"stats indent\">\n",
       "                    <tr>\n",
       "                        <th>Minimum</th>\n",
       "                        <td>-1</td>\n",
       "                    </tr>\n",
       "                    <tr>\n",
       "                        <th>5-th percentile</th>\n",
       "                        <td>-1</td>\n",
       "                    </tr>\n",
       "                    <tr>\n",
       "                        <th>Q1</th>\n",
       "                        <td>-1</td>\n",
       "                    </tr>\n",
       "                    <tr>\n",
       "                        <th>Median</th>\n",
       "                        <td>-1</td>\n",
       "                    </tr>\n",
       "                    <tr>\n",
       "                        <th>Q3</th>\n",
       "                        <td>-1</td>\n",
       "                    </tr>\n",
       "                    <tr>\n",
       "                        <th>95-th percentile</th>\n",
       "                        <td>317</td>\n",
       "                    </tr>\n",
       "                    <tr>\n",
       "                        <th>Maximum</th>\n",
       "                        <td>871</td>\n",
       "                    </tr>\n",
       "                    <tr>\n",
       "                        <th>Range</th>\n",
       "                        <td>872</td>\n",
       "                    </tr>\n",
       "                    <tr>\n",
       "                        <th>Interquartile range</th>\n",
       "                        <td>0</td>\n",
       "                    </tr>\n",
       "                </table>\n",
       "            </div>\n",
       "            <div class=\"col-md-4 col-md-offset-2\">\n",
       "                <p class=\"h4\">Descriptive statistics</p>\n",
       "                <table class=\"stats indent\">\n",
       "                    <tr>\n",
       "                        <th>Standard deviation</th>\n",
       "                        <td>100.13</td>\n",
       "                    </tr>\n",
       "                    <tr>\n",
       "                        <th>Coef of variation</th>\n",
       "                        <td>2.4909</td>\n",
       "                    </tr>\n",
       "                    <tr>\n",
       "                        <th>Kurtosis</th>\n",
       "                        <td>6.9352</td>\n",
       "                    </tr>\n",
       "                    <tr>\n",
       "                        <th>Mean</th>\n",
       "                        <td>40.198</td>\n",
       "                    </tr>\n",
       "                    <tr>\n",
       "                        <th>MAD</th>\n",
       "                        <td>67.607</td>\n",
       "                    </tr>\n",
       "                    <tr class=\"\">\n",
       "                        <th>Skewness</th>\n",
       "                        <td>2.6157</td>\n",
       "                    </tr>\n",
       "                    <tr>\n",
       "                        <th>Sum</th>\n",
       "                        <td>1817384</td>\n",
       "                    </tr>\n",
       "                    <tr>\n",
       "                        <th>Variance</th>\n",
       "                        <td>10026</td>\n",
       "                    </tr>\n",
       "                    <tr>\n",
       "                        <th>Memory size</th>\n",
       "                        <td>353.3 KiB</td>\n",
       "                    </tr>\n",
       "                </table>\n",
       "            </div>\n",
       "        </div>\n",
       "        <div role=\"tabpanel\" class=\"tab-pane col-md-8 col-md-offset-2\" id=\"histogram-7952510523872286929\">\n",
       "            <img src=\"data:image/png;base64,iVBORw0KGgoAAAANSUhEUgAAAlgAAAGQCAYAAAByNR6YAAAABHNCSVQICAgIfAhkiAAAAAlwSFlzAAAPYQAAD2EBqD%2BnaQAAADh0RVh0U29mdHdhcmUAbWF0cGxvdGxpYiB2ZXJzaW9uMy4yLjIsIGh0dHA6Ly9tYXRwbG90bGliLm9yZy%2BWH4yJAAAgAElEQVR4nO3dfXRU1b3/8c%2BYkCHQZArEZBiJGKtGYsBK0kLwARBJeFS0rVh0BEtzpTwbUi3S3616lYAgUqHgw%2BVCVTS0BVp6hTQBNEpJgASCBFG5FghIQkDDDCAkIZzfH6ycxRAUtJtkAu/XWmct5pzv7L3PnGXycZ8zOw7LsiwBAADAmCuaegAAAACXGgIWAACAYQQsAAAAwwhYAAAAhhGwAAAADCNgAQAAGEbAAgAAMIyABQAAYBgBCwAAwDACFgAAgGEELAAAAMMIWAAAAIYRsAAAAAwjYAEAABhGwAIAADCMgAUAAGAYAQsAAMAwAhYAAIBhBCwAAADDCFgAAACGEbAAAAAMI2ABAAAYRsACAAAwjIAFAABgGAELAADAMAIWAACAYQQsAAAAwwhYAAAAhhGwAAAADCNgAQAAGEbAAgAAMIyABQAAYBgBCwAAwDACFgAAgGEELAAAAMMIWAAAAIYRsAAAAAwjYAEAABgW2tQDuBycOnVK%2B/fvV0REhBwOR1MPBwCAy4JlWTpy5Ig8Ho%2BuuKJx55QIWI1g//79io2NbephAABwWdq7d686dOjQqH0SsBpBRESEpNMXODIysolHAwDA5cHv9ys2Ntb%2BPdyYCFiNoP62YGRkJAELAIBG1hSP5/CQOwAAgGEELAAAAMMIWAAAAIYRsAAAAAwjYAEAABhGwAIAADCMgAUAAGAYAQsAAMAwAhYAAIBhBCwAAADDCFgAAACGEbAAAAAM4489N3PJU3KaeggXrOi5fk09BAAAGgUzWAAAAIYRsAAAAAwjYAEAABhGwAIAADCMgAUAAGAYAQsAAMAwAhYAAIBhBCwAAADDCFgAAACGEbAAAAAMI2ABAAAYRsACAAAwjIAFAABgGAELAADAMAIWAACAYUEZsObPn68uXbooMjJSkZGRSklJ0apVq%2BzjvXr1ksPhCNgeeOCBgDaqqqrk9Xrlcrnkcrnk9Xp1%2BPDhgJpt27apZ8%2BeCg8P11VXXaVnnnlGlmUF1CxdulQJCQlyOp1KSEjQ8uXLL96JAwCAS0JQBqwOHTpo2rRpKioqUlFRke68807dc8892r59u12Tnp6u8vJye3vllVcC2hg2bJhKSkqUk5OjnJwclZSUyOv12sf9fr/69u0rj8ejTZs2ac6cOZo5c6ZmzZpl1xQUFGjo0KHyer3aunWrvF6v7r//fm3YsOHifwgAAKDZclhnT9kEqbZt22rGjBkaOXKkevXqpR/%2B8IeaPXv2OWt37NihhIQEFRYWqlu3bpKkwsJCpaSk6OOPP1Z8fLzmz5%2BvyZMn68CBA3I6nZKkadOmac6cOdq3b58cDoeGDh0qv98fMHvWr18/tWnTRm%2B//fYFj93v98vlcsnn8ykyMvLf%2BBQaSp6SY7S9i6nouX5NPQQAwGXkYv7%2BPZ%2BgnME6U11dnbKzs3Xs2DGlpKTY%2BxcvXqyoqCjddNNNyszM1JEjR%2BxjBQUFcrlcdriSpO7du8vlcmn9%2BvV2Tc%2BePe1wJUlpaWnav3%2B/du/ebdekpqYGjCctLc1uAwAA4FxCm3oAX2fbtm1KSUnRiRMn9L3vfU/Lly9XQkKCJOnBBx9UXFyc3G63SktLNXnyZG3dulV5eXmSpIqKCkVHRzdoMzo6WhUVFXbNNddcE3A8JibGPhYXF6eKigp735k19W18nerqalVXV9uv/X7/tzt5AADQrAVtwIqPj1dJSYkOHz6spUuXavjw4crPz1dCQoLS09PtusTERF1//fVKTk7W5s2b1bVrV0mSw%2BFo0KZlWQH7z66pv1t6vppztX2mrKwsPf300xd4pgAA4FITtLcIw8LCdN111yk5OVlZWVm6%2Beab9fvf//6ctV27dlWLFi20c%2BdOSZLb7daBAwca1B08eNCekXK73Q1moiorKyXpvDVnz2qdbfLkyfL5fPa2d%2B/eCzhjAABwqQjagHU2y7ICbrudafv27aqtrVX79u0lSSkpKfL5fNq4caNds2HDBvl8PvXo0cOuef/991VTU2PX5ObmyuPx2LcOU1JS7NuOZ9bUt/F1nE6nvcRE/QYAAC4fQXmL8Mknn1T//v0VGxurI0eOKDs7W%2B%2B9955ycnL02WefafHixRowYICioqL00UcfadKkSbrlllt06623SpI6deqkfv36KT093V6%2B4T/%2B4z80aNAgxcfHSzq9jMPTTz%2BtESNG6Mknn9TOnTs1depU/ed//qd9C3DChAm64447NH36dN1zzz3629/%2BptWrV2vdunVN88EAAIBmIShnsA4cOCCv16v4%2BHj16dNHGzZsUE5Ojvr27auwsDCtWbNGaWlpio%2BP1/jx45WamqrVq1crJCTEbmPx4sXq3LmzUlNTlZqaqi5duuiNN96wj7tcLuXl5Wnfvn1KTk7W6NGjlZGRoYyMDLumR48eys7O1sKFC9WlSxctWrRIS5YsCfh2IgAAwNmazTpYzRnrYJ3GOlgAgMbEOlgAAACXEAIWAACAYQQsAAAAwwhYAAAAhhGwAAAADCNgAQAAGEbAAgAAMIyABQAAYBgBCwAAwDACFgAAgGEELAAAAMMIWAAAAIYRsAAAAAwjYAEAABhGwAIAADCMgAUAAGAYAQsAAMAwAhYAAIBhBCwAAADDCFgAAACGEbAAAAAMI2ABAAAYRsACAAAwjIAFAABgGAELAADAMAIWAACAYQQsAAAAwwhYAAAAhhGwAAAADCNgAQAAGBa0AWv%2B/Pnq0qWLIiMjFRkZqZSUFK1atco%2BXl1drXHjxikqKkqtW7fW3XffrX379gW0UVZWpsGDB6t169aKiorS%2BPHjVVNTE1CTn5%2BvpKQktWzZUtdee61efvnlBmOZN2%2Be4uLi1LJlSyUlJemDDz64OCcNAAAuCUEbsDp06KBp06apqKhIRUVFuvPOO3XPPfdo%2B/btkqSJEydq%2BfLlys7O1rp163T06FENGjRIdXV1kqS6ujoNHDhQx44d07p165Sdna2lS5dq0qRJdh%2B7du3SgAEDdPvtt2vLli168sknNX78eC1dutSuWbJkiSZOnKgpU6Zoy5Ytuv3229W/f3%2BVlZU17gcCAACaDYdlWVZTD%2BJCtW3bVjNmzNBPf/pTXXnllXrjjTc0dOhQSdL%2B/fsVGxurlStXKi0tTatWrdKgQYO0d%2B9eeTweSVJ2drZGjBihyspKRUZG6oknntCKFSu0Y8cOu49Ro0Zp69atKigokCR169ZNXbt21fz58%2B2aTp06aciQIcrKyrqgcfv9frlcLvl8PkVGRpr6OCRJyVNyjLZ3MRU916%2BphwAAuIxczN%2B/5xO0M1hnqqurU3Z2to4dO6aUlBQVFxertrZWqampdo3H41FiYqLWr18vSSooKFBiYqIdriQpLS1N1dXVKi4utmvObKO%2BpqioSLW1taqpqVFxcXGDmtTUVLufc6murpbf7w/YAADA5SOoA9a2bdv0ve99T06nU6NGjdLy5cuVkJCgiooKhYWFqU2bNgH1MTExqqiokCRVVFQoJiYm4HibNm0UFhb2jTUxMTE6efKkDh06pEOHDqmuru6cNfVtnEtWVpZcLpe9xcbGfufPAAAAND9BHbDi4%2BNVUlKiwsJC/epXv9Lw4cP10UcffW29ZVlyOBz26zP/faE19XdMz1dzrrbrTZ48WT6fz9727t37tbUAAODSE9rUA/gmYWFhuu666yRJycnJ2rRpk37/%2B99r6NChqqmpUVVVVcAsVmVlpXr06CFJcrvd2rBhQ0B7VVVVqq2ttWek3G53g5moyspKhYaGql27drIsSyEhIeesOXtW60xOp1NOp/O7nzgAAGjWgnoG62yWZam6ulpJSUlq0aKF8vLy7GPl5eUqLS21A1ZKSopKS0tVXl5u1%2BTm5srpdCopKcmuObON%2Bprk5GS1aNFCYWFhSkpKalCTl5dn9wMAAHC2oJ3BevLJJ9W/f3/FxsbqyJEjys7O1nvvvaecnBy5XC6NHDlSkyZNUrt27dS2bVtlZmaqc%2BfOuuuuuySdfhA9ISFBXq9XM2bM0JdffqnMzEylp6fb3yQYNWqU5s6dq4yMDKWnp6ugoEALFizQ22%2B/bY8jIyNDXq9XycnJSklJ0auvvqqysjKNGjWqST4XAAAQ/II2YB04cEBer1fl5eVyuVzq0qWLcnJy1LdvX0nSiy%2B%2BqNDQUN1///06fvy4%2BvTpo0WLFikkJESSFBISonfeeUejR4/WrbfeqvDwcA0bNkwzZ860%2B4iLi9PKlSv12GOP6Q9/%2BIM8Ho9eeukl/eQnP7Frhg4dqi%2B%2B%2BELPPPOMysvLlZiYqJUrV6pjx46N%2B4EAAIBmo1mtg9VcsQ7WaayDBQBoTKyDBQAAcAkhYAEAABhGwAIAADCMgAUAAGAYAQsAAMAwAhYAAIBhBCwAAADDCFgAAACGEbAAAAAMI2ABAAAYRsACAAAwjIAFAABgGAELAADAMAIWAACAYQQsAAAAwwhYAAAAhhGwAAAADCNgAQAAGEbAAgAAMIyABQAAYBgBCwAAwDACFgAAgGEELAAAAMMIWAAAAIYRsAAAAAwjYAEAABhGwAIAADCMgAUAAGAYAQsAAMCwoAxYWVlZ%2BtGPfqSIiAhFR0dryJAh%2BuSTTwJqevXqJYfDEbA98MADATVVVVXyer1yuVxyuVzyer06fPhwQM22bdvUs2dPhYeH66qrrtIzzzwjy7ICapYuXaqEhAQ5nU4lJCRo%2BfLlF%2BfEAQDAJSEoA1Z%2Bfr7GjBmjwsJC5eXl6eTJk0pNTdWxY8cC6tLT01VeXm5vr7zySsDxYcOGqaSkRDk5OcrJyVFJSYm8Xq993O/3q2/fvvJ4PNq0aZPmzJmjmTNnatasWXZNQUGBhg4dKq/Xq61bt8rr9er%2B%2B%2B/Xhg0bLu6HAAAAmi2HdfZ0TRA6ePCgoqOjlZ%2BfrzvuuEPS6RmsH/7wh5o9e/Y537Njxw4lJCSosLBQ3bp1kyQVFhYqJSVFH3/8seLj4zV//nxNnjxZBw4ckNPplCRNmzZNc%2BbM0b59%2B%2BRwODR06FD5/X6tWrXKbrtfv35q06aN3n777Qsav9/vl8vlks/nU2Rk5L/zUTSQPCXHaHsXU9Fz/Zp6CACAy8jF/P17PkE5g3U2n88nSWrbtm3A/sWLFysqKko33XSTMjMzdeTIEftYQUGBXC6XHa4kqXv37nK5XFq/fr1d07NnTztcSVJaWpr279%2Bv3bt32zWpqakB/aalpdltAAAAnC20qQdwPpZlKSMjQ7fddpsSExPt/Q8%2B%2BKDi4uLkdrtVWlqqyZMna%2BvWrcrLy5MkVVRUKDo6ukF70dHRqqiosGuuueaagOMxMTH2sbi4OFVUVNj7zqypb%2BNcqqurVV1dbb/2%2B/3f7qQBAECzFvQBa%2BzYsfrwww%2B1bt26gP3p6en2vxMTE3X99dcrOTlZmzdvVteuXSVJDoejQXuWZQXsP7um/o7p%2BWrO1Xa9rKwsPf300%2Bc7NQAAcIkK6luE48aN04oVK/Tuu%2B%2BqQ4cO31jbtWtXtWjRQjt37pQkud1uHThwoEHdwYMH7Rkpt9vdYCaqsrJSks5bc/as1pkmT54sn89nb3v37j3PmQIAgEtJUAYsy7I0duxYLVu2TGvXrlVcXNx537N9%2B3bV1taqffv2kqSUlBT5fD5t3LjRrtmwYYN8Pp969Ohh17z//vuqqamxa3Jzc%2BXxeOxbhykpKfZtxzNr6ts4F6fTqcjIyIANAABcPoIyYI0ZM0Zvvvmm3nrrLUVERKiiokIVFRU6fvy4JOmzzz7TM888o6KiIu3evVsrV67Uz372M91yyy269dZbJUmdOnVSv379lJ6ersLCQhUWFio9PV2DBg1SfHy8pNPLODidTo0YMUKlpaVavny5pk6dqoyMDPsW4IQJE5Sbm6vp06fr448/1vTp07V69WpNnDixaT4cAAAQ9IIyYM2fP18%2Bn0%2B9evVS%2B/bt7W3JkiWSpLCwMK1Zs0ZpaWmKj4/X%2BPHjlZqaqtWrVyskJMRuZ/HixercubNSU1OVmpqqLl266I033rCPu1wu5eXlad%2B%2BfUpOTtbo0aOVkZGhjIwMu6ZHjx7Kzs7WwoUL1aVLFy1atEhLliwJ%2BHYiAADAmZrFOljNHetgncY6WACAxsQ6WAAAAJcQAhYAAIBhBCwAAADDCFgAAACGGQ9Yu3btMt0kAABAs2I8YF133XXq3bu33nzzTZ04ccJ08wAAAEHPeMDaunWrbrnlFk2aNElut1uPPvpowGrqAAAAlzrjASsxMVGzZs3S559/roULF6qiokK33XabbrrpJs2aNUsHDx403SUAAEBQuWgPuYeGhuree%2B/Vn/70J02fPl2fffaZMjMz1aFDBz388MMqLy%2B/WF0DAAA0qYsWsIqKijR69Gi1b99es2bNUmZmpj777DOtXbtWn3/%2Bue65556L1TUAAECTCjXd4KxZs7Rw4UJ98sknGjBggF5//XUNGDBAV1xxOsvFxcXplVde0Y033mi6awAAgKBgPGDNnz9fv/jFL/TII4/I7Xafs%2Bbqq6/WggULTHcNAAAQFIwHrJ07d563JiwsTMOHDzfdNQAAQFAw/gzWwoUL9ec//7nB/j//%2Bc/64x//aLo7AACAoGM8YE2bNk1RUVEN9kdHR2vq1KmmuwMAAAg6xgPWnj17FBcX12B/x44dVVZWZro7AACAoGM8YEVHR%2BvDDz9ssH/r1q1q166d6e4AAACCjvGA9cADD2j8%2BPF69913VVdXp7q6Oq1du1YTJkzQAw88YLo7AACAoGP8W4TPPvus9uzZoz59%2Big09HTzp06d0sMPP8wzWAAA4LJgPGCFhYVpyZIl%2Bq//%2Bi9t3bpV4eHh6ty5szp27Gi6KwAAgKBkPGDVu%2BGGG3TDDTdcrOYBAACClvGAVVdXp0WLFmnNmjWqrKzUqVOnAo6vXbvWdJcAAABBxXjAmjBhghYtWqSBAwcqMTFRDofDdBcAAABBzXjAys7O1p/%2B9CcNGDDAdNMAAADNgvFlGsLCwnTdddeZbhYAAKDZMB6wJk2apN///veyLMt00wAAAM2C8VuE69at07vvvqtVq1bppptuUosWLQKOL1u2zHSXAAAAQcV4wPr%2B97%2Bve%2B%2B913SzAAAAzYbxgLVw4ULTTQIAADQrxp/BkqSTJ09q9erVeuWVV3TkyBFJ0v79%2B3X06NGL0R0AAEBQMR6w9uzZo86dO%2Buee%2B7RmDFjdPDgQUnS888/r8zMzAtuJysrSz/60Y8UERGh6OhoDRkyRJ988klATXV1tcaNG6eoqCi1bt1ad999t/bt2xdQU1ZWpsGDB6t169aKiorS%2BPHjVVNTE1CTn5%2BvpKQktWzZUtdee61efvnlBuOZN2%2Be4uLi1LJlSyUlJemDDz644HMBAACXF%2BMBa8KECUpOTlZVVZXCw8Pt/ffee6/WrFlzwe3k5%2BdrzJgxKiwsVF5enk6ePKnU1FQdO3bMrpk4caKWL1%2Bu7OxsrVu3TkePHtWgQYNUV1cn6fSq8gMHDtSxY8e0bt06ZWdna%2BnSpZo0aZLdxq5duzRgwADdfvvt2rJli5588kmNHz9eS5cutWuWLFmiiRMnasqUKdqyZYtuv/129e/fX2VlZf/ORwUAAC5RDsvwegpRUVH65z//qfj4eEVERGjr1q269tprtXv3biUkJOirr776Tu0ePHhQ0dHRys/P1x133CGfz6crr7xSb7zxhoYOHSrp9G3I2NhYrVy5UmlpaVq1apUGDRqkvXv3yuPxSDq9EOqIESNUWVmpyMhIPfHEE1qxYoV27Nhh9zVq1Cht3bpVBQUFkqRu3bqpa9eumj9/vl3TqVMnDRkyRFlZWecdu9/vl8vlks/nU2Rk5Hc6/6%2BTPCXHaHsXU9Fz/Zp6CACAy8jF/P17PsZnsE6dOmXPIJ1p3759ioiI%2BM7t%2Bnw%2BSVLbtm0lScXFxaqtrVVqaqpd4/F4lJiYqPXr10uSCgoKlJiYaIcrSUpLS1N1dbWKi4vtmjPbqK8pKipSbW2tampqVFxc3KAmNTXV7gcAAOBMxgNW3759NXv2bPu1w%2BHQ0aNH9bvf/e47//kcy7KUkZGh2267TYmJiZKkiooKhYWFqU2bNgG1MTExqqiosGtiYmICjrdp00ZhYWHfWBMTE6OTJ0/q0KFDOnTokOrq6s5ZU9/G2aqrq%2BX3%2BwM2AABw%2BTC%2BTMOLL76o3r17KyEhQSdOnNCwYcO0c%2BdORUVF6e233/5ObY4dO1Yffvih1q1bd95ay7IC/sD0uf7Y9Plq6u%2BaOhyOgH9/UxtnysrK0tNPP33esQIAgEuT8Rksj8ejkpISZWZm6tFHH9Utt9yiadOmacuWLYqOjv7W7Y0bN04rVqzQu%2B%2B%2Bqw4dOtj73W63ampqVFVVFVBfWVlpzza53e4Gs0xVVVWqra39xprKykqFhoaqXbt2ioqKUkhIyDlrzp7Vqjd58mT5fD5727t377c%2BbwAA0HxdlHWwwsPD9Ytf/EJz587VvHnz9Mtf/jLgG4UXwrIsjR07VsuWLdPatWsVFxcXcDwpKUktWrRQXl6eva%2B8vFylpaXq0aOHJCklJUWlpaUqLy%2B3a3Jzc%2BV0OpWUlGTXnNlGfU1ycrJatGihsLAwJSUlNajJy8uz%2Bzmb0%2BlUZGRkwAYAAC4fxm8Rvv766994/OGHH76gdsaMGaO33npLf/vb3xQREWHPILlcLoWHh8vlcmnkyJGaNGmS2rVrp7Zt2yozM1OdO3fWXXfdJen0g%2BgJCQnyer2aMWOGvvzyS2VmZio9Pd0OPaNGjdLcuXOVkZGh9PR0FRQUaMGCBQG3MzMyMuT1epWcnKyUlBS9%2BuqrKisr06hRo77LRwQAAC5xxpdpOPuh89raWn311VcKCwtTq1at9OWXX17YwL7m%2BaaFCxdqxIgRkqQTJ07o17/%2Btd566y0dP35cffr00bx58xQbG2vXl5WVafTo0Vq7dq3Cw8M1bNgwzZw5U06n067Jz8/XY489pu3bt8vj8eiJJ55oEJ7mzZun559/XuXl5UpMTNSLL76oO%2B6444LOhWUaTmOZBgBAY2rKZRqMB6xz2blzp371q1/p17/%2BtdLS0i52d0GHgHUaAQsA0JguqXWwzuX666/XtGnTNGHChMboDgAAoEk1SsCSpJCQEO3fv7%2BxugMAAGgyxh9yX7FiRcBry7JUXl6uuXPn6tZbbzXdHQAAQNAxHrCGDBkS8NrhcOjKK6/UnXfeqRdeeMF0dwAAAEHHeMA6deqU6SYBAACalUZ7BgsAAOByYXwGKyMj44JrZ82aZbp7AACAJmc8YG3ZskWbN2/WyZMnFR8fL0n69NNPFRISoq5du9p1X7eQKAAAQHNnPGANHjxYERER%2BuMf/2iv6l5VVaVHHnlEt99%2BuyZNmmS6SwAAgKBi/BmsF154QVlZWQF/MqdNmzZ69tln%2BRYhAAC4LBgPWH6/XwcOHGiwv7KyUkeOHDHdHQAAQNAxHrDuvfdePfLII/rLX/6iffv2ad%2B%2BffrLX/6ikSNH6r777jPdHQAAQNAx/gzWyy%2B/rMzMTD300EOqra093UloqEaOHKkZM2aY7g4AACDoGA9YrVq10rx58zRjxgx99tlnsixL1113nVq3bm26KwAAgKB00RYaLS8vV3l5uW644Qa1bt1almVdrK4AAACCivGA9cUXX6hPnz664YYbNGDAAJWXl0uSfvnLX7JEAwAAuCwYD1iPPfaYWrRoobKyMrVq1creP3ToUOXk5JjuDgAAIOgYfwYrNzdX//jHP9ShQ4eA/ddff7327NljujsAAICgY3wG69ixYwEzV/UOHTokp9NpujsAAICgYzxg3XHHHXr99dft1w6HQ6dOndKMGTPUu3dv090BAAAEHeO3CGfMmKFevXqpqKhINTU1evzxx7V9%2B3Z9%2BeWX%2Buc//2m6OwAAgKBjfAYrISFBH374oX784x%2Brb9%2B%2BOnbsmO677z5t2bJFP/jBD0x3BwAAEHSMzmDV1tYqNTVVr7zyip5%2B%2BmmTTQMAADQbRmewWrRoodLSUjkcDpPNAgAANCvGbxE%2B/PDDWrBggelmAQAAmg3jD7nX1NTov//7v5WXl6fk5OQGf4Nw1qxZprsEAAAIKsYC1r/%2B9S9dc801Ki0tVdeuXSVJn376aUANtw4BAMDlwFjAuv7661VeXq53331X0uk/jfPSSy8pJibGVBcAAADNgrFnsCzLCni9atUqHTt2zFTzAAAAzYbxh9zrnR24AAAALhfGApbD4WjwjNW/88zV%2B%2B%2B/r8GDB8vj8cjhcOivf/1rwPERI0bYfdZv3bt3D6iprq7WuHHjFBUVpdatW%2Bvuu%2B/Wvn37AmrKyso0ePBgtW7dWlFRURo/frxqamoCavLz85WUlKSWLVvq2muv1csvv/ydzwsAAFz6jD2DZVmWRowYYf9B5xMnTmjUqFENvkW4bNmyC2rv2LFjuvnmm/XII4/oJz/5yTlr%2BvXrp4ULF9qvw8LCAo5PnDhRf//735Wdna127dpp0qRJGjRokIqLixUSEqK6ujoNHDhQV155pdatW6cvvvhCw4cPl2VZmjNnjiRp165dGjBggNLT0/Xmm2/qn//8p0aPHq0rr7zya8cFAAAub8YC1vDhwwNeP/TQQ/9We/3791f//v2/scbpdMrtdp/zmM/n04IFC/TGG2/orrvukiS9%2Beabio2N1erVq5WWlqbc3Fx99NFH2rt3rzwejyTphRde0IgRI/Tcc88pMjJSL7/8sq6%2B%2BmrNnj1bktSpUycVFRVp5syZBCwAAHBOxgLWmTNJjeW9995TdHS0vv/976tnz5567rnnFB0dLUkqLi62/3RPPY/Ho8TERK1fv15paWkqKChQYmKiHa4kKS0tTdXV1SouLlbv3r1VUFAQ0EZ9zYIFC1RbW6sWLVo0GFd1dbWqq6vt136/3/SpAwCAIHbRHnK/2Pr376/Fixdr7dq1euGFF7Rp0ybdeeeddrCpqHeW5uMAABbASURBVKhQWFiY2rRpE/C%2BmJgYVVRU2DVnLyPRpk0bhYWFfWNNTEyMTp48qUOHDp1zbFlZWXK5XPYWGxtr5JwBAEDzYHwl98YydOhQ%2B9%2BJiYlKTk5Wx44d9c477%2Bi%2B%2B%2B772vdZlhXw8P25HsQ/X039NyS/7iH%2ByZMnKyMjw37t9/sJWQAAXEaa7QzW2dq3b6%2BOHTtq586dkiS3262amhpVVVUF1FVWVtozUm63256pqldVVaXa2tpvrKmsrFRoaKjatWt3zrE4nU5FRkYGbAAA4PJxyQSsL774Qnv37lX79u0lSUlJSWrRooXy8vLsmvLycpWWlqpHjx6SpJSUFJWWlqq8vNyuyc3NldPpVFJSkl1zZhv1NcnJyed8/goAACBoA9bRo0dVUlKikpISSaeXSygpKVFZWZmOHj2qzMxMFRQUaPfu3Xrvvfc0ePBgRUVF6d5775UkuVwujRw5UpMmTdKaNWu0ZcsWPfTQQ%2BrcubP9rcLU1FQlJCTI6/Vqy5YtWrNmjTIzM5Wenm7POo0aNUp79uxRRkaGduzYof/5n//RggULlJmZ2TQfDAAACHpB%2BwxWUVGRevfubb%2Buf6Zp%2BPDhmj9/vrZt26bXX39dhw8fVvv27dW7d28tWbJEERER9ntefPFFhYaG6v7779fx48fVp08fLVq0SCEhIZKkkJAQvfPOOxo9erRuvfVWhYeHa9iwYZo5c6bdRlxcnFauXKnHHntMf/jDH%2BTxePTSSy%2BxRAMAAPhaDou/aXPR%2Bf1%2BuVwu%2BXw%2B489jJU/JMdrexVT0XL%2BmHgIA4DJyMX//nk/Q3iIEAABorghYAAAAhhGwAAAADCNgAQAAGEbAAgAAMIyABQAAYBgBCwAAwDACFgAAgGEELAAAAMMIWAAAAIYRsAAAAAwjYAEAABhGwAIAADCMgAUAAGAYAQsAAMAwAhYAAIBhBCwAAADDCFgAAACGEbAAAAAMI2ABAAAYRsACAAAwjIAFAABgGAELAADAMAIWAACAYQQsAAAAwwhYAAAAhhGwAAAADCNgAQAAGEbAAgAAMCxoA9b777%2BvwYMHy%2BPxyOFw6K9//WvAccuy9NRTT8nj8Sg8PFy9evXS9u3bA2qqqqrk9Xrlcrnkcrnk9Xp1%2BPDhgJpt27apZ8%2BeCg8P11VXXaVnnnlGlmUF1CxdulQJCQlyOp1KSEjQ8uXLL85JAwCAS0LQBqxjx47p5ptv1ty5c895/Pnnn9esWbM0d%2B5cbdq0SW63W3379tWRI0fsmmHDhqmkpEQ5OTnKyclRSUmJvF6vfdzv96tv377yeDzatGmT5syZo5kzZ2rWrFl2TUFBgYYOHSqv16utW7fK6/Xq/vvv14YNGy7eyQMAgGbNYZ09XROEHA6Hli9friFDhkg6PXvl8Xg0ceJEPfHEE5Kk6upqxcTEaPr06Xr00Ue1Y8cOJSQkqLCwUN26dZMkFRYWKiUlRR9//LHi4%2BM1f/58TZ48WQcOHJDT6ZQkTZs2TXPmzNG%2BffvkcDg0dOhQ%2Bf1%2BrVq1yh5Pv3791KZNG7399tsXNH6/3y%2BXyyWfz6fIyEiTH42Sp%2BQYbe9iKnquX1MPAQBwGbmYv3/PJ2hnsL7Jrl27VFFRodTUVHuf0%2BlUz549tX79ekmnZ55cLpcdriSpe/fucrlcATU9e/a0w5UkpaWlaf/%2B/dq9e7ddc2Y/9TX1bQAAAJytWQasiooKSVJMTEzA/piYGPtYRUWFoqOjG7w3Ojo6oOZcbZzZx9fV1B8/l%2Brqavn9/oANAABcPpplwKrncDgCXluWFbDv7OMXUlN/x/R8Nedqu15WVpb9YL3L5VJsbOwFnA0AALhUNMuA5Xa7JanBLFJlZaU92%2BR2u3XgwIEG7z148GBAzbnakHTemrNntc40efJk%2BXw%2Be9u7d%2B%2B3OT0AANDMNcuAFRcXJ7fbrby8PHtfTU2N8vPz1aNHD0lSSkqKfD6fNm7caNds2LBBPp8voOb9999XTU2NXZObmyuPx6NrrrnGrjmzn/qa%2BjbOxel0KjIyMmADAACXj6ANWEePHlVJSYlKSkoknX6wvaSkRGVlZXI4HJo4caKmTp2q5cuXq7S0VCNGjFCrVq00bNgwSVKnTp3Ur18/paenq7CwUIWFhUpPT9egQYMUHx8v6fQyDk6nUyNGjFBpaamWL1%2BuqVOnKiMjw74FOGHCBOXm5mr69On6%2BOOPNX36dK1evVoTJ05smg8GAAAEvdCmHsDXKSoqUu/eve3XGRkZkqThw4dr0aJFevzxx3X8%2BHGNHj1aVVVV6tatm3JzcxUREWG/Z/HixRo/frz9LcC77747YF0tl8ulvLw8jRkzRsnJyWrTpo0yMjLsviSpR48eys7O1m9/%2B1v9v//3//SDH/xAS5YsCfh2IgAAwJmaxTpYzR3rYJ3GOlgAgMbEOlgAAACXEAIWAACAYQQsAAAAwwhYAAAAhhGwAAAADCNgAQAAGEbAAgAAMIyABQAAYBgBCwAAwDACFgAAgGEELAAAAMMIWAAAAIYRsAAAAAwjYAEAABhGwAIAADCMgAUAAGAYAQsAAMAwAhYAAIBhBCwAAADDCFgAAACGEbAAAAAMI2ABAAAYRsACAAAwjIAFAABgGAELAADAMAIWAACAYQQsAAAAwwhYAAAAhhGwAAAADCNgAQAAGNZsA9ZTTz0lh8MRsLndbvu4ZVl66qmn5PF4FB4erl69emn79u0BbVRVVcnr9crlcsnlcsnr9erw4cMBNdu2bVPPnj0VHh6uq666Ss8884wsy2qUcwQAAM1Tsw1YknTTTTepvLzc3rZt22Yfe/755zVr1izNnTtXmzZtktvtVt%2B%2BfXXkyBG7ZtiwYSopKVFOTo5ycnJUUlIir9drH/f7/erbt688Ho82bdqkOXPmaObMmZo1a1ajnicAAGheQpt6AP%2BO0NDQgFmrepZlafbs2ZoyZYruu%2B8%2BSdIf//hHxcTE6K233tKjjz6qHTt2KCcnR4WFherWrZsk6bXXXlNKSoo%2B%2BeQTxcfHa/HixTpx4oQWLVokp9OpxMREffrpp5o1a5YyMjLkcDga9XwBAEDz0KxnsHbu3CmPx6O4uDg98MAD%2Bte//iVJ2rVrlyoqKpSammrXOp1O9ezZU%2BvXr5ckFRQUyOVy2eFKkrp37y6XyxVQ07NnTzmdTrsmLS1N%2B/fv1%2B7du792XNXV1fL7/QEbAAC4fDTbgNWtWze9/vrr%2Bsc//qHXXntNFRUV6tGjh7744gtVVFRIkmJiYgLeExMTYx%2BrqKhQdHR0g3ajo6MDas7VRv2xr5OVlWU/1%2BVyuRQbG/vdTxQAADQ7zTZg9e/fXz/5yU/UuXNn3XXXXXrnnXcknb4VWO/sW3iWZQXsO9ctvvPV1D/g/k23BydPniyfz2dve/fu/RZnBgAAmrtmG7DO1rp1a3Xu3Fk7d%2B60n8s6e5apsrLSnoFyu906cOBAg3YOHjwYUHOuNqSGs2NncjqdioyMDNgAAMDl45IJWNXV1dqxY4fat2%2BvuLg4ud1u5eXl2cdramqUn5%2BvHj16SJJSUlLk8/m0ceNGu2bDhg3y%2BXwBNe%2B//75qamrsmtzcXHk8Hl1zzTWNc2IAAKDZabYBKzMzU/n5%2Bdq1a5c2bNign/70p/L7/Ro%2BfLgcDocmTpyoqVOnavny5SotLdWIESPUqlUrDRs2TJLUqVMn9evXT%2Bnp6SosLFRhYaHS09M1aNAgxcfHSzq9jIPT6dSIESNUWlqq5cuXa%2BrUqXyDEAAAfKNmu0zDvn379POf/1yHDh3SlVdeqe7du6uwsFAdO3aUJD3%2B%2BOM6fvy4Ro8eraqqKnXr1k25ubmKiIiw21i8eLHGjx9vf9vw7rvv1ty5c%2B3jLpdLeXl5GjNmjJKTk9WmTRtlZGQoIyOjcU8WAAA0Kw6LZckvOr/fL5fLJZ/PZ/x5rOQpOUbbu5iKnuvX1EMAAFxGLubv3/NptrcIAQAAghUBCwAAwDACFgAAgGEELAAAAMMIWAAAAIYRsAAAAAwjYAEAABhGwAIAADCMgAUAAGAYAQsAAMAwAhYAAIBhBCwAAADDCFgAAACGEbAAAAAMI2ABAAAYFtrUA8DlI3lKTlMP4Vspeq5fUw8BANBMMYMFAABgGDNYwNdgxg0A8F0xgwUAAGAYM1jAJaI5zbgx2wbgUscMFgAAgGEELAAAAMMIWAAAAIYRsAAAAAzjIXcAja45PZAv8VA%2BgG%2BPGSwAAADDCFgAAACGEbAAAAAMI2ABAAAYRsACAAAwjIB1gebNm6e4uDi1bNlSSUlJ%2BuCDD5p6SAAAIEgRsC7AkiVLNHHiRE2ZMkVbtmzR7bffrv79%2B6usrKyphwYAAIIQAesCzJo1SyNHjtQvf/lLderUSbNnz1ZsbKzmz5/f1EMDAABBiIVGz6OmpkbFxcX6zW9%2BE7A/NTVV69evP%2Bd7qqurVV1dbb/2%2BXySJL/fb3x8ddXHjLcJINAtmUubegjfSv5/9m3qIQBBof73rmVZjd43Aes8Dh06pLq6OsXExATsj4mJUUVFxTnfk5WVpaeffrrB/tjY2IsyRgA4k%2BuFph4BEFyOHDkil8vVqH0SsC6Qw%2BEIeG1ZVoN99SZPnqyMjAz79alTp/Tll1%2BqXbt2X/ue78Lv9ys2NlZ79%2B5VZGSksXbx3XA9ggvXI/hwTYLL5XA9LMvSkSNH5PF4Gr1vAtZ5REVFKSQkpMFsVWVlZYNZrXpOp1NOpzNg3/e///2LNsbIyMhL9j%2BO5ojrEVy4HsGHaxJcLvXr0dgzV/V4yP08wsLClJSUpLy8vID9eXl56tGjRxONCgAABDNmsC5ARkaGvF6vkpOTlZKSoldffVVlZWUaNWpUUw8NAAAEoZCnnnrqqaYeRLBLTExUu3btNHXqVM2cOVPHjx/XG2%2B8oZtvvrmph6aQkBD16tVLoaFk5WDA9QguXI/gwzUJLlyPi8dhNcV3FwEAAC5hPIMFAABgGAELAADAMAIWAACAYQQsAAAAwwhYzdi8efMUFxenli1bKikpSR988EFTD%2BmSk5WVpR/96EeKiIhQdHS0hgwZok8%2B%2BSSgprq6WuPGjVNUVJRat26tu%2B%2B%2BW/v27QuoKSsr0%2BDBg9W6dWtFRUVp/PjxqqmpacxTuSRlZWXJ4XBo4sSJ9j6uR%2BP6/PPP9dBDD6ldu3Zq1aqVfvjDH6q4uNg%2BblmWnnrqKXk8HoWHh6tXr17avn17QBtVVVXyer1yuVxyuVzyer06fPhwY59Ks3fy5En99re/VVxcnMLDw3XttdfqmWee0alTp%2BwarkcjstAsZWdnWy1atLBee%2B0166OPPrImTJhgtW7d2tqzZ09TD%2B2SkpaWZi1cuNAqLS21SkpKrIEDB1pXX321dfToUbtm1KhR1lVXXWXl5eVZmzdvtnr37m3dfPPN1smTJy3LsqyTJ09aiYmJVu/eva3NmzdbeXl5lsfjscaOHdtUp3VJ2Lhxo3XNNddYXbp0sSZMmGDv53o0ni%2B//NLq2LGjNWLECGvDhg3Wrl27rNWrV1v/93//Z9dMmzbNioiIsJYuXWpt27bNGjp0qNW%2BfXvL7/fbNf369bMSExOt9evXW%2BvXr7cSExOtQYMGNcUpNWvPPvus1a5dO%2Bt///d/rV27dll//vOfre9973vW7Nmz7RquR%2BMhYDVTP/7xj61Ro0YF7Lvxxhut3/zmN000ostDZWWlJcnKz8%2B3LMuyDh8%2BbLVo0cLKzs62az7//HPriiuusHJycizLsqyVK1daV1xxhfX555/bNW%2B//bbldDotn8/XuCdwiThy5Ih1/fXXW3l5eVbPnj3tgMX1aFxPPPGEddttt33t8VOnTllut9uaNm2ave/EiROWy%2BWyXn75ZcuyLOujjz6yJFmFhYV2TUFBgSXJ%2Bvjjjy/e4C9BAwcOtH7xi18E7Lvvvvushx56yLIsrkdj4xZhM1RTU6Pi4mKlpqYG7E9NTdX69eubaFSXB5/PJ0lq27atJKm4uFi1tbUB18Lj8SgxMdG%2BFgUFBUpMTAz4Y6NpaWmqrq4OuJWCCzdmzBgNHDhQd911V8B%2BrkfjWrFihZKTk/Wzn/1M0dHRuuWWW/Taa6/Zx3ft2qWKioqA6%2BF0OtWzZ8%2BA6%2BFyudStWze7pnv37nK5XPw8%2B5Zuu%2B02rVmzRp9%2B%2BqkkaevWrVq3bp0GDBggievR2Fi6tRk6dOiQ6urqGvyx6ZiYmAZ/lBrmWJaljIwM3XbbbUpMTJQkVVRUKCwsTG3atAmoPfNaVFRUNLhWbdq0UVhYGNfrO8jOzlZxcbGKiooaHON6NK5//etfmj9/vjIyMvTkk09q48aNGj9%2BvJxOpx5%2B%2BGH78zzXz6o9e/ZIOn09oqOjG7QdHR3N9fiWnnjiCfl8Pt14440KCQlRXV2dnnvuOf385z%2BXJK5HIyNgNWMOhyPgtWVZDfbBnLFjx%2BrDDz/UunXrzlt79rU413Xhen17e/fu1YQJE5Sbm6uWLVte8Pu4HhfHqVOnlJycrKlTp0qSbrnlFm3fvl3z58/Xww8/bNed72cV18OMJUuW6M0339Rbb72lm266SSUlJZo4caI8Ho%2BGDx9u13E9Gge3CJuhqKgohYSENPi/icrKygb/ZwIzxo0bpxUrVujdd99Vhw4d7P1ut1s1NTWqqqoKqD/zWrjd7gbXqqqqSrW1tVyvb6m4uFiVlZVKSkpSaGioQkNDlZ%2Bfr5deekmhoaGKiYnhejSi9u3bKyEhIWBfp06dVFZWJun0Zy3pG39Wud1uHThwoEHbBw8e5Hp8S7/%2B9a/1m9/8Rg888IA6d%2B4sr9erxx57TFlZWZK4Ho2NgNUMhYWFKSkpSXl5eQH78/Ly1KNHjyYa1aXJsiyNHTtWy5Yt09q1axUXFxdwPCkpSS1atAi4FuXl5SotLbWvRUpKikpLS1VeXm7X5Obmyul0KikpqXFO5BLRp08fbdu2TSUlJfaWnJysBx980P4316Px3HrrrQ2WLfn000/VsWNHSVJcXJzcbnfA9aipqVF%2Bfn7A9fD5fNq4caNds2HDBvl8Pn6efUtfffWVrrgi8Nd6SEiIvUwD16ORNdHD9fg31S/TsGDBAuujjz6yJk6caLVu3dravXt3Uw/tkvKrX/3Kcrlc1nvvvWeVl5fb21dffWXXjBo1yurQoYO1evVqa/Pmzdadd955zmUB%2BvTpY23evNlavXq11aFDB5YFMOTMbxFaFtejMW3cuNEKDQ21nnvuOWvnzp3W4sWLrVatWllvvvmmXTNt2jTL5XJZy5Yts7Zt22b9/Oc/P%2BeyAF26dLEKCgqsgoICq3PnziwL8B0MHz7cuuqqq%2BxlGpYtW2ZFRUVZjz/%2BuF3D9Wg8BKxm7A9/%2BIPVsWNHKywszOratau9dADMkXTObeHChXbN8ePHrbFjx1pt27a1wsPDrUGDBlllZWUB7ezZs8caOHCgFR4ebrVt29YaO3asdeLEiUY%2Bm0vT2QGL69G4/v73v1uJiYmW0%2Bm0brzxRuvVV18NOH7q1Cnrd7/7neV2uy2n02ndcccd1rZt2wJqvvjiC%2BvBBx%2B0IiIirIiICOvBBx%2B0qqqqGvM0Lgl%2Bv9%2BaMGGCdfXVV1stW7a0rr32WmvKlClWdXW1XcP1aDwOy7KsppxBAwAAuNTwDBYAAIBhBCwAAADDCFgAAACGEbAAAAAMI2ABAAAYRsACAAAwjIAFAABgGAELAADAMAIWAACAYQQsAAAAwwhYAAAAhhGwAAAADCNgAQAAGEbAAgAAMIyABQAAYBgBCwAAwDACFgAAgGEELAAAAMP%2BP1Nse/6fIGUSAAAAAElFTkSuQmCC\"/>\n",
       "        </div>\n",
       "        <div role=\"tabpanel\" class=\"tab-pane col-md-12\" id=\"common-7952510523872286929\">\n",
       "            \n",
       "<table class=\"freq table table-hover\">\n",
       "    <thead>\n",
       "    <tr>\n",
       "        <td class=\"fillremaining\">Value</td>\n",
       "        <td class=\"number\">Count</td>\n",
       "        <td class=\"number\">Frequency (%)</td>\n",
       "        <td style=\"min-width:200px\">&nbsp;</td>\n",
       "    </tr>\n",
       "    </thead>\n",
       "    <tr class=\"\">\n",
       "        <td class=\"fillremaining\">-1</td>\n",
       "        <td class=\"number\">36954</td>\n",
       "        <td class=\"number\">81.7%</td>\n",
       "        <td>\n",
       "            <div class=\"bar\" style=\"width:100%\">&nbsp;</div>\n",
       "        </td>\n",
       "</tr><tr class=\"\">\n",
       "        <td class=\"fillremaining\">182</td>\n",
       "        <td class=\"number\">167</td>\n",
       "        <td class=\"number\">0.4%</td>\n",
       "        <td>\n",
       "            <div class=\"bar\" style=\"width:1%\">&nbsp;</div>\n",
       "        </td>\n",
       "</tr><tr class=\"\">\n",
       "        <td class=\"fillremaining\">92</td>\n",
       "        <td class=\"number\">147</td>\n",
       "        <td class=\"number\">0.3%</td>\n",
       "        <td>\n",
       "            <div class=\"bar\" style=\"width:1%\">&nbsp;</div>\n",
       "        </td>\n",
       "</tr><tr class=\"\">\n",
       "        <td class=\"fillremaining\">183</td>\n",
       "        <td class=\"number\">126</td>\n",
       "        <td class=\"number\">0.3%</td>\n",
       "        <td>\n",
       "            <div class=\"bar\" style=\"width:1%\">&nbsp;</div>\n",
       "        </td>\n",
       "</tr><tr class=\"\">\n",
       "        <td class=\"fillremaining\">91</td>\n",
       "        <td class=\"number\">126</td>\n",
       "        <td class=\"number\">0.3%</td>\n",
       "        <td>\n",
       "            <div class=\"bar\" style=\"width:1%\">&nbsp;</div>\n",
       "        </td>\n",
       "</tr><tr class=\"\">\n",
       "        <td class=\"fillremaining\">181</td>\n",
       "        <td class=\"number\">117</td>\n",
       "        <td class=\"number\">0.3%</td>\n",
       "        <td>\n",
       "            <div class=\"bar\" style=\"width:1%\">&nbsp;</div>\n",
       "        </td>\n",
       "</tr><tr class=\"\">\n",
       "        <td class=\"fillremaining\">370</td>\n",
       "        <td class=\"number\">99</td>\n",
       "        <td class=\"number\">0.2%</td>\n",
       "        <td>\n",
       "            <div class=\"bar\" style=\"width:1%\">&nbsp;</div>\n",
       "        </td>\n",
       "</tr><tr class=\"\">\n",
       "        <td class=\"fillremaining\">184</td>\n",
       "        <td class=\"number\">85</td>\n",
       "        <td class=\"number\">0.2%</td>\n",
       "        <td>\n",
       "            <div class=\"bar\" style=\"width:1%\">&nbsp;</div>\n",
       "        </td>\n",
       "</tr><tr class=\"\">\n",
       "        <td class=\"fillremaining\">364</td>\n",
       "        <td class=\"number\">77</td>\n",
       "        <td class=\"number\">0.2%</td>\n",
       "        <td>\n",
       "            <div class=\"bar\" style=\"width:1%\">&nbsp;</div>\n",
       "        </td>\n",
       "</tr><tr class=\"\">\n",
       "        <td class=\"fillremaining\">95</td>\n",
       "        <td class=\"number\">74</td>\n",
       "        <td class=\"number\">0.2%</td>\n",
       "        <td>\n",
       "            <div class=\"bar\" style=\"width:1%\">&nbsp;</div>\n",
       "        </td>\n",
       "</tr><tr class=\"other\">\n",
       "        <td class=\"fillremaining\">Other values (549)</td>\n",
       "        <td class=\"number\">7239</td>\n",
       "        <td class=\"number\">16.0%</td>\n",
       "        <td>\n",
       "            <div class=\"bar\" style=\"width:20%\">&nbsp;</div>\n",
       "        </td>\n",
       "</tr>\n",
       "</table>\n",
       "        </div>\n",
       "        <div role=\"tabpanel\" class=\"tab-pane col-md-12\"  id=\"extreme-7952510523872286929\">\n",
       "            <p class=\"h4\">Minimum 5 values</p>\n",
       "            \n",
       "<table class=\"freq table table-hover\">\n",
       "    <thead>\n",
       "    <tr>\n",
       "        <td class=\"fillremaining\">Value</td>\n",
       "        <td class=\"number\">Count</td>\n",
       "        <td class=\"number\">Frequency (%)</td>\n",
       "        <td style=\"min-width:200px\">&nbsp;</td>\n",
       "    </tr>\n",
       "    </thead>\n",
       "    <tr class=\"\">\n",
       "        <td class=\"fillremaining\">-1</td>\n",
       "        <td class=\"number\">36954</td>\n",
       "        <td class=\"number\">81.7%</td>\n",
       "        <td>\n",
       "            <div class=\"bar\" style=\"width:100%\">&nbsp;</div>\n",
       "        </td>\n",
       "</tr><tr class=\"\">\n",
       "        <td class=\"fillremaining\">1</td>\n",
       "        <td class=\"number\">15</td>\n",
       "        <td class=\"number\">0.0%</td>\n",
       "        <td>\n",
       "            <div class=\"bar\" style=\"width:1%\">&nbsp;</div>\n",
       "        </td>\n",
       "</tr><tr class=\"\">\n",
       "        <td class=\"fillremaining\">2</td>\n",
       "        <td class=\"number\">37</td>\n",
       "        <td class=\"number\">0.1%</td>\n",
       "        <td>\n",
       "            <div class=\"bar\" style=\"width:1%\">&nbsp;</div>\n",
       "        </td>\n",
       "</tr><tr class=\"\">\n",
       "        <td class=\"fillremaining\">3</td>\n",
       "        <td class=\"number\">1</td>\n",
       "        <td class=\"number\">0.0%</td>\n",
       "        <td>\n",
       "            <div class=\"bar\" style=\"width:1%\">&nbsp;</div>\n",
       "        </td>\n",
       "</tr><tr class=\"\">\n",
       "        <td class=\"fillremaining\">4</td>\n",
       "        <td class=\"number\">2</td>\n",
       "        <td class=\"number\">0.0%</td>\n",
       "        <td>\n",
       "            <div class=\"bar\" style=\"width:1%\">&nbsp;</div>\n",
       "        </td>\n",
       "</tr>\n",
       "</table>\n",
       "            <p class=\"h4\">Maximum 5 values</p>\n",
       "            \n",
       "<table class=\"freq table table-hover\">\n",
       "    <thead>\n",
       "    <tr>\n",
       "        <td class=\"fillremaining\">Value</td>\n",
       "        <td class=\"number\">Count</td>\n",
       "        <td class=\"number\">Frequency (%)</td>\n",
       "        <td style=\"min-width:200px\">&nbsp;</td>\n",
       "    </tr>\n",
       "    </thead>\n",
       "    <tr class=\"\">\n",
       "        <td class=\"fillremaining\">838</td>\n",
       "        <td class=\"number\">1</td>\n",
       "        <td class=\"number\">0.0%</td>\n",
       "        <td>\n",
       "            <div class=\"bar\" style=\"width:100%\">&nbsp;</div>\n",
       "        </td>\n",
       "</tr><tr class=\"\">\n",
       "        <td class=\"fillremaining\">842</td>\n",
       "        <td class=\"number\">1</td>\n",
       "        <td class=\"number\">0.0%</td>\n",
       "        <td>\n",
       "            <div class=\"bar\" style=\"width:100%\">&nbsp;</div>\n",
       "        </td>\n",
       "</tr><tr class=\"\">\n",
       "        <td class=\"fillremaining\">850</td>\n",
       "        <td class=\"number\">1</td>\n",
       "        <td class=\"number\">0.0%</td>\n",
       "        <td>\n",
       "            <div class=\"bar\" style=\"width:100%\">&nbsp;</div>\n",
       "        </td>\n",
       "</tr><tr class=\"\">\n",
       "        <td class=\"fillremaining\">854</td>\n",
       "        <td class=\"number\">1</td>\n",
       "        <td class=\"number\">0.0%</td>\n",
       "        <td>\n",
       "            <div class=\"bar\" style=\"width:100%\">&nbsp;</div>\n",
       "        </td>\n",
       "</tr><tr class=\"\">\n",
       "        <td class=\"fillremaining\">871</td>\n",
       "        <td class=\"number\">1</td>\n",
       "        <td class=\"number\">0.0%</td>\n",
       "        <td>\n",
       "            <div class=\"bar\" style=\"width:100%\">&nbsp;</div>\n",
       "        </td>\n",
       "</tr>\n",
       "</table>\n",
       "        </div>\n",
       "    </div>\n",
       "</div>\n",
       "</div><div class=\"row variablerow\">\n",
       "    <div class=\"col-md-3 namecol\">\n",
       "        <p class=\"h4 pp-anchor\" id=\"pp_var_previous\">previous<br/>\n",
       "            <small>Numeric</small>\n",
       "        </p>\n",
       "    </div><div class=\"col-md-6\">\n",
       "    <div class=\"row\">\n",
       "        <div class=\"col-sm-6\">\n",
       "            <table class=\"stats \">\n",
       "                <tr>\n",
       "                    <th>Distinct count</th>\n",
       "                    <td>41</td>\n",
       "                </tr>\n",
       "                <tr>\n",
       "                    <th>Unique (%)</th>\n",
       "                    <td>0.1%</td>\n",
       "                </tr>\n",
       "                <tr class=\"ignore\">\n",
       "                    <th>Missing (%)</th>\n",
       "                    <td>0.0%</td>\n",
       "                </tr>\n",
       "                <tr class=\"ignore\">\n",
       "                    <th>Missing (n)</th>\n",
       "                    <td>0</td>\n",
       "                </tr>\n",
       "                <tr class=\"ignore\">\n",
       "                    <th>Infinite (%)</th>\n",
       "                    <td>0.0%</td>\n",
       "                </tr>\n",
       "                <tr class=\"ignore\">\n",
       "                    <th>Infinite (n)</th>\n",
       "                    <td>0</td>\n",
       "                </tr>\n",
       "            </table>\n",
       "\n",
       "        </div>\n",
       "        <div class=\"col-sm-6\">\n",
       "            <table class=\"stats \">\n",
       "\n",
       "                <tr>\n",
       "                    <th>Mean</th>\n",
       "                    <td>0.58032</td>\n",
       "                </tr>\n",
       "                <tr>\n",
       "                    <th>Minimum</th>\n",
       "                    <td>0</td>\n",
       "                </tr>\n",
       "                <tr>\n",
       "                    <th>Maximum</th>\n",
       "                    <td>275</td>\n",
       "                </tr>\n",
       "                <tr class=\"alert\">\n",
       "                    <th>Zeros (%)</th>\n",
       "                    <td>81.7%</td>\n",
       "                </tr>\n",
       "            </table>\n",
       "        </div>\n",
       "    </div>\n",
       "</div>\n",
       "<div class=\"col-md-3 collapse in\" id=\"minihistogram254699984954132822\">\n",
       "    <img src=\"data:image/png;base64,iVBORw0KGgoAAAANSUhEUgAAAMgAAABLCAYAAAA1fMjoAAAABHNCSVQICAgIfAhkiAAAAAlwSFlzAAAPYQAAD2EBqD%2BnaQAAADh0RVh0U29mdHdhcmUAbWF0cGxvdGxpYiB2ZXJzaW9uMy4yLjIsIGh0dHA6Ly9tYXRwbG90bGliLm9yZy%2BWH4yJAAABnElEQVR4nO3XMY7TUBSG0etoWjt9FO%2BCRbAnakr2wyLYRaIswBYFBXkUEJpBvzRS9DxG57SW7n2W31d4aK216ux6vdY8z73XsnOXy6XO53PXnS9dt/0xjmNV/X7haZq2OAI7sixLzfP89970tEkgwzBUVdU0Ta8C%2BfDp65vnffv88Snn4n173JueDt03wo4IBAKBQCAQCAQCgUAgEAgEAoFAIBAIBAKBQCAQCAQCgUAgEAgEAoFAIBAIBAKBQCAQCAQCgUAgEAgEAoFAIBAIBAKBQCAQCAQCgUAgEAgEAoFAIBAIBAKBQCAQCAQCgUAgEAgEAoFAIBAIBAKBQCAQCAQCwcsWS1trVVW1LMurZz9/fH/zvH/N4f/x%2BL6Pe9PTJoGs61pVVfM8P2Xe8ctTxvDOretax%2BOx686hbZDl/X6v2%2B1W4zjWMAy917MzrbVa17VOp1MdDn3/CjYJBPbCTzoEAoFAIBAIBAKBQCAQCAQCgUAgEAgEAoFAIBAIBAKBQCAQCAQCgUAgEAgEAoFAIBAIBAKBQCAQCAQCwS9SJEBx8iY19AAAAABJRU5ErkJggg%3D%3D\">\n",
       "\n",
       "</div>\n",
       "<div class=\"col-md-12 text-right\">\n",
       "    <a role=\"button\" data-toggle=\"collapse\" data-target=\"#descriptives254699984954132822,#minihistogram254699984954132822\"\n",
       "       aria-expanded=\"false\" aria-controls=\"collapseExample\">\n",
       "        Toggle details\n",
       "    </a>\n",
       "</div>\n",
       "<div class=\"row collapse col-md-12\" id=\"descriptives254699984954132822\">\n",
       "    <ul class=\"nav nav-tabs\" role=\"tablist\">\n",
       "        <li role=\"presentation\" class=\"active\"><a href=\"#quantiles254699984954132822\"\n",
       "                                                  aria-controls=\"quantiles254699984954132822\" role=\"tab\"\n",
       "                                                  data-toggle=\"tab\">Statistics</a></li>\n",
       "        <li role=\"presentation\"><a href=\"#histogram254699984954132822\" aria-controls=\"histogram254699984954132822\"\n",
       "                                   role=\"tab\" data-toggle=\"tab\">Histogram</a></li>\n",
       "        <li role=\"presentation\"><a href=\"#common254699984954132822\" aria-controls=\"common254699984954132822\"\n",
       "                                   role=\"tab\" data-toggle=\"tab\">Common Values</a></li>\n",
       "        <li role=\"presentation\"><a href=\"#extreme254699984954132822\" aria-controls=\"extreme254699984954132822\"\n",
       "                                   role=\"tab\" data-toggle=\"tab\">Extreme Values</a></li>\n",
       "\n",
       "    </ul>\n",
       "\n",
       "    <div class=\"tab-content\">\n",
       "        <div role=\"tabpanel\" class=\"tab-pane active row\" id=\"quantiles254699984954132822\">\n",
       "            <div class=\"col-md-4 col-md-offset-1\">\n",
       "                <p class=\"h4\">Quantile statistics</p>\n",
       "                <table class=\"stats indent\">\n",
       "                    <tr>\n",
       "                        <th>Minimum</th>\n",
       "                        <td>0</td>\n",
       "                    </tr>\n",
       "                    <tr>\n",
       "                        <th>5-th percentile</th>\n",
       "                        <td>0</td>\n",
       "                    </tr>\n",
       "                    <tr>\n",
       "                        <th>Q1</th>\n",
       "                        <td>0</td>\n",
       "                    </tr>\n",
       "                    <tr>\n",
       "                        <th>Median</th>\n",
       "                        <td>0</td>\n",
       "                    </tr>\n",
       "                    <tr>\n",
       "                        <th>Q3</th>\n",
       "                        <td>0</td>\n",
       "                    </tr>\n",
       "                    <tr>\n",
       "                        <th>95-th percentile</th>\n",
       "                        <td>3</td>\n",
       "                    </tr>\n",
       "                    <tr>\n",
       "                        <th>Maximum</th>\n",
       "                        <td>275</td>\n",
       "                    </tr>\n",
       "                    <tr>\n",
       "                        <th>Range</th>\n",
       "                        <td>275</td>\n",
       "                    </tr>\n",
       "                    <tr>\n",
       "                        <th>Interquartile range</th>\n",
       "                        <td>0</td>\n",
       "                    </tr>\n",
       "                </table>\n",
       "            </div>\n",
       "            <div class=\"col-md-4 col-md-offset-2\">\n",
       "                <p class=\"h4\">Descriptive statistics</p>\n",
       "                <table class=\"stats indent\">\n",
       "                    <tr>\n",
       "                        <th>Standard deviation</th>\n",
       "                        <td>2.3034</td>\n",
       "                    </tr>\n",
       "                    <tr>\n",
       "                        <th>Coef of variation</th>\n",
       "                        <td>3.9692</td>\n",
       "                    </tr>\n",
       "                    <tr>\n",
       "                        <th>Kurtosis</th>\n",
       "                        <td>4506.9</td>\n",
       "                    </tr>\n",
       "                    <tr>\n",
       "                        <th>Mean</th>\n",
       "                        <td>0.58032</td>\n",
       "                    </tr>\n",
       "                    <tr>\n",
       "                        <th>MAD</th>\n",
       "                        <td>0.94867</td>\n",
       "                    </tr>\n",
       "                    <tr class=\"alert\">\n",
       "                        <th>Skewness</th>\n",
       "                        <td>41.846</td>\n",
       "                    </tr>\n",
       "                    <tr>\n",
       "                        <th>Sum</th>\n",
       "                        <td>26237</td>\n",
       "                    </tr>\n",
       "                    <tr>\n",
       "                        <th>Variance</th>\n",
       "                        <td>5.3058</td>\n",
       "                    </tr>\n",
       "                    <tr>\n",
       "                        <th>Memory size</th>\n",
       "                        <td>353.3 KiB</td>\n",
       "                    </tr>\n",
       "                </table>\n",
       "            </div>\n",
       "        </div>\n",
       "        <div role=\"tabpanel\" class=\"tab-pane col-md-8 col-md-offset-2\" id=\"histogram254699984954132822\">\n",
       "            <img src=\"data:image/png;base64,iVBORw0KGgoAAAANSUhEUgAAAlgAAAGQCAYAAAByNR6YAAAABHNCSVQICAgIfAhkiAAAAAlwSFlzAAAPYQAAD2EBqD%2BnaQAAADh0RVh0U29mdHdhcmUAbWF0cGxvdGxpYiB2ZXJzaW9uMy4yLjIsIGh0dHA6Ly9tYXRwbG90bGliLm9yZy%2BWH4yJAAAgAElEQVR4nO3df1RVdb7/8dcJOEhcOIMi4BkZhn5Y2jHveJgxLNMy8ReW1b3R1SEthzWMPwlc05h3Vj%2BmCU2jxjF/rXFpdbviTOZc1xJd0mQWV6wkMDFrvOWIJkgagZIC4v7%2B4WJ/PYLJ1AfOQZ6Ptc5anL3f5/P57HeH5at9Nvs4LMuyBAAAAGOu8vcCAAAArjQELAAAAMMIWAAAAIYRsAAAAAwjYAEAABhGwAIAADCMgAUAAGAYAQsAAMAwAhYAAIBhBCwAAADDCFgAAACGEbAAAAAMI2ABAAAYRsACAAAwjIAFAABgGAELAADAMAIWAACAYQQsAAAAwwhYAAAAhhGwAAAADCNgAQAAGEbAAgAAMIyABQAAYBgBCwAAwDACFgAAgGEELAAAAMMIWAAAAIYRsAAAAAwjYAEAABhGwAIAADCMgAUAAGAYAQsAAMAwAhYAAIBhBCwAAADDCFgAAACGEbAAAAAMI2ABAAAYRsACAAAwLNjfC%2BgOzp07p6NHjyoiIkIOh8PfywEAoFuwLEsnT56U2%2B3WVVd17jklAlYnOHr0qOLj4/29DAAAuqXDhw%2Brb9%2B%2BnTonAasTRERESDr/HzgyMtLPqwEAoHuoq6tTfHy8/e9wZyJgdYKWjwUjIyMJWAAAdDJ/XJ7DRe4AAACGEbAAAAAMI2ABAAAYRsACAAAwjIAFAABgGAELAADAMAIWAACAYQQsAAAAwwhYAAAAhhGwAAAADCNgAQAAGEbAAgAAMIwve%2B7ikuZv9fcS2m3378f4ewkAAHQKzmABAAAYRsACAAAwjIAFAABgGAELAADAMAIWAACAYQQsAAAAwwhYAAAAhhGwAAAADCNgAQAAGEbAAgAAMIyABQAAYBgBCwAAwDACFgAAgGEELAAAAMMIWAAAAIYRsAAAAAwjYAEAABhGwAIAADCMgAUAAGAYAQsAAMAwAhYAAIBhBCwAAADDCFgAAACGEbAAAAAMI2ABAAAYRsACAAAwjIAFAABgGAELAADAMAIWAACAYQQsAAAAw7pEwMrNzZXD4VBWVpa9raGhQbNmzVJ0dLTCw8N1991368iRIz6vq6io0IQJExQeHq7o6GjNnj1bjY2NPjU7duyQ1%2BtVjx49dM0112jFihWt5l%2B2bJkSExPVo0cPeb1evfvuux1zoAAA4IoQ8AHrgw8%2B0KpVq3TzzTf7bM/KytLGjRuVn5%2BvoqIinTp1SqmpqWpubpYkNTc3a/z48aqvr1dRUZHy8/O1YcMG5eTk2GMcPHhQ48aN07Bhw1RaWqrHH39cs2fP1oYNG%2Bya9evXKysrS/Pnz1dpaamGDRumsWPHqqKionMaAAAAuhyHZVmWvxdxKadOndLgwYO1bNkyPfPMM/rXf/1Xvfjii6qtrVXv3r316quvKi0tTZJ09OhRxcfHq6CgQKNHj9aWLVuUmpqqw4cPy%2B12S5Ly8/M1depUVVdXKzIyUo899pg2bdqk/fv323NmZmZqz549Ki4uliQNGTJEgwcP1vLly%2B2a/v37a%2BLEicrNzW3XcdTV1cnlcqm2tlaRkZGm2iNJSpq/1eh4HWn378f4ewkAgG6kI//9vZyAPoM1Y8YMjR8/XnfddZfP9pKSEjU1NSklJcXe5na75fF4tHPnTklScXGxPB6PHa4kafTo0WpoaFBJSYldc%2BEYLTW7d%2B9WU1OTGhsbVVJS0qomJSXFnqctDQ0Nqqur83kAAIDuI9jfC7iU/Px8lZSUaPfu3a32VVVVyel0Kioqymd7bGysqqqq7JrY2Fif/VFRUXI6nd9aExsbq7Nnz%2Br48eOyLEvNzc1t1rSM0Zbc3Fw99dRT7T9YAABwRQnIM1iHDx/WnDlz9Nprr6lHjx7tfp1lWXI4HPbzC39ub03LJ6aXq2lr7Bbz5s1TbW2t/Th8%2BHC7jwEAAHR9ARmwSkpKVF1dLa/Xq%2BDgYAUHB2vHjh1asmSJgoODFRsbq8bGRtXU1Pi8rrq62j7bFBcX1%2BosU01NjZqamr61prq6WsHBwerVq5eio6MVFBTUZs3FZ7UuFBoaqsjISJ8HAADoPgIyYI0cOVJ79%2B5VWVmZ/UhKStLkyZPtn0NCQlRYWGi/prKyUuXl5Ro6dKgkKTk5WeXl5aqsrLRrtm3bptDQUHm9XrvmwjFaalrGdzqd8nq9rWoKCwvteQAAAC4WkNdgRUREyOPx%2BGwLDw9Xr1697O3Tpk1TTk6OevXqpZ49e2ru3LkaOHCgfUF8SkqKBgwYoPT0dC1atEhfffWV5s6dq4yMDPuMUmZmppYuXars7GxlZGSouLhYq1ev1rp16%2Bx5s7OzlZ6erqSkJCUnJ2vVqlWqqKhQZmZmJ3UDAAB0NQEZsNrjhRdeUHBwsB544AGdPn1aI0eO1Nq1axUUFCRJCgoK0ubNmzV9%2BnTdeuutCgsL06RJk7R48WJ7jMTERBUUFOjRRx/VSy%2B9JLfbrSVLluj%2B%2B%2B%2B3a9LS0nTixAk9/fTTqqyslMfjUUFBgRISEjr9mAEAQNcQ0PfBulJwH6zzuA8WAKAzcR8sAACAKwgBCwAAwDACFgAAgGEELAAAAMMIWAAAAIYRsAAAAAwjYAEAABhGwAIAADCMgAUAAGAYAQsAAMAwAhYAAIBhBCwAAADDCFgAAACGEbAAAAAMI2ABAAAYRsACAAAwjIAFAABgGAELAADAMAIWAACAYQQsAAAAwwhYAAAAhhGwAAAADCNgAQAAGEbAAgAAMIyABQAAYBgBCwAAwDACFgAAgGEELAAAAMMIWAAAAIYRsAAAAAwjYAEAABhGwAIAADCMgAUAAGAYAQsAAMAwAhYAAIBhBCwAAADDCFgAAACGEbAAAAAMI2ABAAAYRsACAAAwjIAFAABgGAELAADAMAIWAACAYQQsAAAAwwhYAAAAhhGwAAAADCNgAQAAGEbAAgAAMIyABQAAYBgBCwAAwDACFgAAgGEELAAAAMMIWAAAAIYRsAAAAAwjYAEAABhGwAIAADAsYAPW8uXLdfPNNysyMlKRkZFKTk7Wli1b7P0NDQ2aNWuWoqOjFR4errvvvltHjhzxGaOiokITJkxQeHi4oqOjNXv2bDU2NvrU7NixQ16vVz169NA111yjFStWtFrLsmXLlJiYqB49esjr9erdd9/tmIMGAABXhIANWH379tWCBQu0e/du7d69W3feeafuuece7du3T5KUlZWljRs3Kj8/X0VFRTp16pRSU1PV3NwsSWpubtb48eNVX1%2BvoqIi5efna8OGDcrJybHnOHjwoMaNG6dhw4aptLRUjz/%2BuGbPnq0NGzbYNevXr1dWVpbmz5%2Bv0tJSDRs2TGPHjlVFRUXnNgQAAHQZDsuyLH8vor169uypRYsW6d/%2B7d/Uu3dvvfrqq0pLS5MkHT16VPHx8SooKNDo0aO1ZcsWpaam6vDhw3K73ZKk/Px8TZ06VdXV1YqMjNRjjz2mTZs2af/%2B/fYcmZmZ2rNnj4qLiyVJQ4YM0eDBg7V8%2BXK7pn///po4caJyc3Pbte66ujq5XC7V1tYqMjLSVDskSUnztxodryPt/v0Yfy8BANCNdOS/v5cTsGewLtTc3Kz8/HzV19crOTlZJSUlampqUkpKil3jdrvl8Xi0c%2BdOSVJxcbE8Ho8driRp9OjRamhoUElJiV1z4RgtNbt371ZTU5MaGxtVUlLSqiYlJcWeBwAA4GLB/l7At9m7d6%2BSk5N15swZ/cu//Is2btyoAQMGqKysTE6nU1FRUT71sbGxqqqqkiRVVVUpNjbWZ39UVJScTue31sTGxurs2bM6fvy4LMtSc3NzmzUtY7SloaFBDQ0N9vO6urp//uABAECXFdBnsG644QaVlZVp165d%2BtWvfqUpU6bo448/vmS9ZVlyOBz28wt/bm9Nyyeml6tpa%2BwWubm5crlc9iM%2BPv6StQAA4MoT0AHL6XTquuuuU1JSknJzczVo0CD94Q9/UFxcnBobG1VTU%2BNTX11dbZ9tiouLa3WWqaamRk1NTd9aU11dreDgYPXq1UvR0dEKCgpqs%2Bbis1oXmjdvnmpra%2B3H4cOHv3MPAABA1xPQAetilmWpoaFBXq9XISEhKiwstPdVVlaqvLxcQ4cOlSQlJyervLxclZWVds22bdsUGhoqr9dr11w4RktNUlKSQkJC5HQ65fV6W9UUFhba87QlNDTUvr1EywMAAHQfAXsN1uOPP66xY8cqPj5eJ0%2BeVH5%2Bvt5%2B%2B21t3bpVLpdL06ZNU05Ojnr16qWePXtq7ty5GjhwoO666y5J5y9EHzBggNLT07Vo0SJ99dVXmjt3rjIyMuzAk5mZqaVLlyo7O1sZGRkqLi7W6tWrtW7dOnsd2dnZSk9PV1JSkpKTk7Vq1SpVVFQoMzPTL30BAACBL2AD1rFjx5Senq7Kykq5XC7dfPPN2rp1q0aNGiVJeuGFFxQcHKwHHnhAp0%2Bf1siRI7V27VoFBQVJkoKCgrR582ZNnz5dt956q8LCwjRp0iQtXrzYniMxMVEFBQV69NFH9dJLL8ntdmvJkiW6//777Zq0tDSdOHFCTz/9tCorK%2BXxeFRQUKCEhITObQgAAOgyutR9sLoq7oN1HvfBAgB0Ju6DBQAAcAUhYAEAABhGwAIAADDMeMA6ePCg6SEBAAC6FOMB67rrrtMdd9yh//qv/9KZM2dMDw8AABDwjAesPXv26Cc/%2BYlycnIUFxenX/7yl3r//fdNTwMAABCwjAcsj8ejvLw8ffHFF1qzZo2qqqp022236aabblJeXp6%2B/PJL01MCAAAElA67yD04OFj33nuv/vznP2vhwoX67LPPNHfuXPXt21cPPfSQz1fYAAAAXEk6LGDt3r1b06dPV58%2BfZSXl6e5c%2Bfqs88%2B01tvvaUvvvhC99xzT0dNDQAA4FfGvyonLy9Pa9as0aeffqpx48bplVde0bhx43TVVeezXGJiolauXKkbb7zR9NQAAAABwXjAWr58uR555BE9/PDDiouLa7PmRz/6kVavXm16agAAgIBgPGAdOHDgsjVOp1NTpkwxPTUAAEBAMH4N1po1a/SXv/yl1fa//OUvevnll01PBwAAEHCMB6wFCxYoOjq61faYmBg9%2B%2ByzpqcDAAAIOMYD1qFDh5SYmNhqe0JCgioqKkxPBwAAEHCMB6yYmBh99NFHrbbv2bNHvXr1Mj0dAABAwDEesB588EHNnj1b27dvV3Nzs5qbm/XWW29pzpw5evDBB01PBwAAEHCM/xXhM888o0OHDmnkyJEKDj4//Llz5/TQQw9xDRYAAOgWjAcsp9Op9evX63e/%2B5327NmjsLAwDRw4UAkJCaanAgAACEjGA1aLfv36qV%2B/fh01PAAAQMAyHrCam5u1du1a/e1vf1N1dbXOnTvns/%2Btt94yPSUAAEBAMR6w5syZo7Vr12r8%2BPHyeDxyOBympwAAAAhoxgNWfn6%2B/vznP2vcuHGmhwYAAOgSjN%2Bmwel06rrrrjM9LAAAQJdhPGDl5OToD3/4gyzLMj00AABAl2D8I8KioiJt375dW7Zs0U033aSQkBCf/W%2B88YbpKQEAAAKK8YD1gx/8QPfee6/pYQEAALoM4wFrzZo1pocEAADoUoxfgyVJZ8%2Be1ZtvvqmVK1fq5MmTkqSjR4/q1KlTHTEdAABAQDF%2BBuvQoUMaM2aMKioq1NDQoFGjRikiIkLPPfeczpw5oxUrVpieEgAAIKAYP4M1Z84cJSUlqaamRmFhYfb2e%2B%2B9V3/7299MTwcAABBwOuSvCP/3f/9XTqfTZ3tCQoK%2B%2BOIL09MBAAAEHONnsM6dO6fm5uZW248cOaKIiAjT0wEAAAQc4wFr1KhRevHFF%2B3nDodDp06d0hNPPMHX5wAAgG7B%2BEeEL7zwgu644w4NGDBAZ86c0aRJk3TgwAFFR0dr3bp1pqcDAAAIOMYDltvtVllZmdatW6cPP/xQ586d07Rp0zR58mSfi94BAACuVMYDliSFhYXpkUce0SOPPNIRwwMAAAQ04wHrlVde%2Bdb9Dz30kOkpAQAAAorxgDVnzhyf501NTfrmm2/kdDp19dVXE7AAAMAVz/hfEdbU1Pg8Tp06pU8//VS33XYbF7kDAIBuoUO%2Bi/Bi119/vRYsWNDq7BYAAMCVqFMCliQFBQXp6NGjnTUdAACA3xi/BmvTpk0%2Bzy3LUmVlpZYuXapbb73V9HQAAAABx3jAmjhxos9zh8Oh3r17684779Tzzz9vejoAAICAYzxgnTt3zvSQAAAAXUqnXYMFAADQXRg/g5Wdnd3u2ry8PNPTAwAA%2BJ3xgFVaWqoPP/xQZ8%2Be1Q033CBJ%2Bvvf/66goCANHjzYrnM4HKanBgAACAjGA9aECRMUERGhl19%2BWVFRUZLO33z04Ycf1rBhw5STk2N6SgAAgIBi/Bqs559/Xrm5uXa4kqSoqCg988wz/BUhAADoFowHrLq6Oh07dqzV9urqap08edL0dAAAAAHHeMC699579fDDD%2Bv111/XkSNHdOTIEb3%2B%2BuuaNm2a7rvvPtPTAQAABBzj12CtWLFCc%2BfO1c9//nM1NTWdnyQ4WNOmTdOiRYtMTwcAABBwjAesq6%2B%2BWsuWLdOiRYv02WefybIsXXfddQoPDzc9FQAAQEDqsBuNVlZWqrKyUv369VN4eLgsy%2BqoqQAAAAKK8YB14sQJjRw5Uv369dO4ceNUWVkpSfrFL37BLRoAAEC3YDxgPfroowoJCVFFRYWuvvpqe3taWpq2bt1qejoAAICAYzxgbdu2TQsXLlTfvn19tl9//fU6dOhQu8fJzc3VT3/6U0VERCgmJkYTJ07Up59%2B6lPT0NCgWbNmKTo6WuHh4br77rt15MgRn5qKigpNmDBB4eHhio6O1uzZs9XY2OhTs2PHDnm9XvXo0UPXXHONVqxY0Wo9y5YtU2Jionr06CGv16t333233ccCAAC6F%2BMBq76%2B3ufMVYvjx48rNDS03ePs2LFDM2bM0K5du1RYWKizZ88qJSVF9fX1dk1WVpY2btyo/Px8FRUV6dSpU0pNTVVzc7Mkqbm5WePHj1d9fb2KioqUn5%2BvDRs2%2BHxUefDgQY0bN07Dhg1TaWmpHn/8cc2ePVsbNmywa9avX6%2BsrCzNnz9fpaWlGjZsmMaOHauKiorv0iIAAHCFc1iGrz4fP368Bg8erN/97neKiIjQRx99pISEBD344IM6d%2B6cXn/99e807pdffqmYmBjt2LFDt99%2Bu2pra9W7d2%2B9%2BuqrSktLkyQdPXpU8fHxKigo0OjRo7Vlyxalpqbq8OHDcrvdkqT8/HxNnTpV1dXVioyM1GOPPaZNmzZp//799lyZmZnas2ePiouLJUlDhgzR4MGDtXz5crumf//%2BmjhxonJzcy%2B79rq6OrlcLtXW1ioyMvI7Hf%2BlJM3vOh%2B77v79GH8vAQDQjXTkv7%2BXY/wM1qJFi7Ry5UqNHTtWjY2N%2BvWvfy2Px6N33nlHCxcu/M7j1tbWSpJ69uwpSSopKVFTU5NSUlLsGrfbLY/Ho507d0qSiouL5fF47HAlSaNHj1ZDQ4NKSkrsmgvHaKnZvXu3mpqa1NjYqJKSklY1KSkp9jwXa2hoUF1dnc8DAAB0H8YD1oABA/TRRx/pZz/7mUaNGqX6%2Bnrdd999Ki0t1bXXXvudxrQsS9nZ2brtttvk8XgkSVVVVXI6nT7feShJsbGxqqqqsmtiY2N99kdFRcnpdH5rTWxsrM6ePavjx4/r%2BPHjam5ubrOmZYyL5ebmyuVy2Y/4%2BPjvdNwAAKBrMnqj0ZYzSitXrtRTTz1lbNyZM2fqo48%2BUlFR0WVrLcuSw%2BGwn1/4c3trWj41dTgcPj9/2xgXmjdvnrKzs%2B3ndXV1hCwAALoRo2ewQkJCVF5efsng8V3MmjVLmzZt0vbt233%2BMjEuLk6NjY2qqanxqa%2BurrbPNsXFxbU6y1RTU6OmpqZvramurlZwcLB69eql6OhoBQUFtVlz8VmtFqGhoYqMjPR5AACA7sP4R4QPPfSQVq9e/b3HsSxLM2fO1BtvvKG33npLiYmJPvu9Xq9CQkJUWFhob6usrFR5ebmGDh0qSUpOTlZ5ebl9s1Pp/G0kQkND5fV67ZoLx2ipSUpKUkhIiJxOp7xeb6uawsJCex4AAIALGf8uwsbGRv3pT39SYWGhkpKSWn0HYV5eXrvGmTFjhv77v/9b//M//6OIiAj7DJLL5VJYWJhcLpemTZumnJwc9erVSz179tTcuXM1cOBA3XXXXZLOX4g%2BYMAApaena9GiRfrqq680d%2B5cZWRk2GeVMjMztXTpUmVnZysjI0PFxcVavXq11q1bZ68lOztb6enpSkpKUnJyslatWqWKigplZmaaaBkAALjCGAtYn3/%2BuX784x%2BrvLxcgwcPliT9/e9/96n5Zz46bLklwogRI3y2r1mzRlOnTpUkvfDCCwoODtYDDzyg06dPa%2BTIkVq7dq2CgoIkSUFBQdq8ebOmT5%2BuW2%2B9VWFhYZo0aZIWL15sj5eYmKiCggI9%2Buijeumll%2BR2u7VkyRLdf//9dk1aWppOnDihp59%2BWpWVlfJ4PCooKFBCQkK7jwcAAHQfxu6DFRQUpMrKSsXExEg6H0qWLFlyyeuUuhPug3Ue98ECAHSmK%2BI%2BWBfntC1btvjcdR0AAKC7MH6RewvDN4gHAADoMowFLIfD0eoaK5O3awAAAOgqjF3kblmWpk6dan%2Bh85kzZ5SZmdnqrwjfeOMNU1MCAAAEJGMBa8qUKT7Pf/7zn5saGgAAoEsxFrDWrFljaigAAIAurcMucgcAAOiuCFgAAACGEbAAAAAMI2ABAAAYRsACAAAwjIAFAABgGAELAADAMAIWAACAYQQsAAAAwwhYAAAAhhGwAAAADCNgAQAAGEbAAgAAMIyABQAAYBgBCwAAwDACFgAAgGEELAAAAMMIWAAAAIYRsAAAAAwjYAEAABhGwAIAADCMgAUAAGAYAQsAAMAwAhYAAIBhBCwAAADDCFgAAACGEbAAAAAMI2ABAAAYRsACAAAwjIAFAABgGAELAADAMAIWAACAYQQsAAAAwwhYAAAAhhGwAAAADCNgAQAAGEbAAgAAMIyABQAAYBgBCwAAwDACFgAAgGEELAAAAMMIWAAAAIYRsAAAAAwjYAEAABhGwAIAADCMgAUAAGAYAQsAAMAwAhYAAIBhBCwAAADDCFgAAACGBWzAeueddzRhwgS53W45HA799a9/9dlvWZaefPJJud1uhYWFacSIEdq3b59PTU1NjdLT0%2BVyueRyuZSenq6vv/7ap2bv3r0aPny4wsLC9MMf/lBPP/20LMvyqdmwYYMGDBig0NBQDRgwQBs3buyYgwYAAFeEgA1Y9fX1GjRokJYuXdrm/ueee055eXlaunSpPvjgA8XFxWnUqFE6efKkXTNp0iSVlZVp69at2rp1q8rKypSenm7vr6ur06hRo%2BR2u/XBBx/oj3/8oxYvXqy8vDy7pri4WGlpaUpPT9eePXuUnp6uBx54QO%2B9917HHTwAAOjSHNbFp2sCkMPh0MaNGzVx4kRJ589eud1uZWVl6bHHHpMkNTQ0KDY2VgsXLtQvf/lL7d%2B/XwMGDNCuXbs0ZMgQSdKuXbuUnJysTz75RDfccIOWL1%2BuefPm6dixYwoNDZUkLViwQH/84x915MgRORwOpaWlqa6uTlu2bLHXM2bMGEVFRWndunXtWn9dXZ1cLpdqa2sVGRlpsjVKmr/V6Hgdaffvx/h7CQCAbqQj//29nIA9g/VtDh48qKqqKqWkpNjbQkNDNXz4cO3cuVPS%2BTNPLpfLDleSdMstt8jlcvnUDB8%2B3A5XkjR69GgdPXpU//jHP%2ByaC%2BdpqWkZAwAA4GJdMmBVVVVJkmJjY322x8bG2vuqqqoUExPT6rUxMTE%2BNW2NceEcl6pp2d%2BWhoYG1dXV%2BTwAAED30SUDVguHw%2BHz3LIsn20X729PTcsnpperaWvsFrm5ufaF9S6XS/Hx8e04GgAAcKXokgErLi5OklqdRaqurrbPNsXFxenYsWOtXvvll1/61LQ1hqTL1lx8VutC8%2BbNU21trf04fPjwP3N4AACgi%2BuSASsxMVFxcXEqLCy0tzU2NmrHjh0aOnSoJCk5OVm1tbV6//337Zr33ntPtbW1PjXvvPOOGhsb7Zpt27bJ7Xbrxz/%2BsV1z4TwtNS1jtCU0NFSRkZE%2BDwAA0H0EbMA6deqUysrKVFZWJun8he1lZWWqqKiQw%2BFQVlaWnn32WW3cuFHl5eWaOnWqrr76ak2aNEmS1L9/f40ZM0YZGRnatWuXdu3apYyMDKWmpuqGG26QdP42DqGhoZo6darKy8u1ceNGPfvss8rOzrY/ApwzZ462bdumhQsX6pNPPtHChQv15ptvKisryz%2BNAQAAAS/Y3wu4lN27d%2BuOO%2B6wn2dnZ0uSpkyZorVr1%2BrXv/61Tp8%2BrenTp6umpkZDhgzRtm3bFBERYb/mtdde0%2BzZs%2B2/Arz77rt97qvlcrlUWFioGTNmKCkpSVFRUcrOzrbnkqShQ4cqPz9f//mf/6nf/va3uvbaa7V%2B/Xqfv04EAAC4UJe4D1ZXx32wzuM%2BWACAzsR9sAAAAK4gBCwAAADDCFgAAACGEbAAAAAMI2ABAAAYRsACAAAwjIAFAABgGAELAADAMAIWAACAYQQsAAAAwwhYAAAAhhGwAAAADCNgAQAAGEbAAgAAMIyABQAAYBgBCwAAwDACFgAAgGEELAAAAMMIWAAAAIYRsAAAAAwjYAEAABhGwAIAADCMgAUAAGAYAQsAAMAwAhYAAIBhBCwAAADDCFgAAACGEbAAAAAMI2ABAAAYRsACAAAwjIAFAABgGAELAADAMAIWAACAYQQsAAAAwwhYAAAAhhGwAAAADCNgAQAAGEbAAgAAMIyABQAAYBgBCwAAwDACFgAAgGEELAAAAMMIWAAAAIYRsAAAAAwjYAEAABhGwAIAADCMgAUAAGAYAQsAAI1n8ToAAAroSURBVMAwAhYAAIBhBCwAAADDCFgAAACGEbAAAAAMI2ABAAAYRsACAAAwjIAFAABgGAELAADAMAIWAACAYQSsdlq2bJkSExPVo0cPeb1evfvuu/5eEgAACFAErHZYv369srKyNH/%2BfJWWlmrYsGEaO3asKioq/L00AAAQgAhY7ZCXl6dp06bpF7/4hfr3768XX3xR8fHxWr58ub%2BXBgAAAlCwvxcQ6BobG1VSUqLf/OY3PttTUlK0c%2BfONl/T0NCghoYG%2B3ltba0kqa6uzvj6mhvqjY/ZUTri%2BAEAuJSWf3csy%2Br0uQlYl3H8%2BHE1NzcrNjbWZ3tsbKyqqqrafE1ubq6eeuqpVtvj4%2BM7ZI1dhet5f68AANAdnTx5Ui6Xq1PnJGC1k8Ph8HluWVarbS3mzZun7Oxs%2B/m5c%2Bf01VdfqVevXpd8zXdRV1en%2BPh4HT58WJGRkcbG7Q7o3XdH774f%2Bvfd0bvvpzv2z7IsnTx5Um63u9PnJmBdRnR0tIKCglqdraqurm51VqtFaGioQkNDfbb94Ac/6LA1RkZGdptfFtPo3XdH774f%2Bvfd0bvvp7v1r7PPXLXgIvfLcDqd8nq9Kiws9NleWFiooUOH%2BmlVAAAgkHEGqx2ys7OVnp6upKQkJScna9WqVaqoqFBmZqa/lwYAAAJQ0JNPPvmkvxcR6Dwej3r16qVnn31Wixcv1unTp/Xqq69q0KBB/l6agoKCNGLECAUHk5X/WfTuu6N33w/9%2B%2B7o3fdD/zqPw/LH3y4CAABcwbgGCwAAwDACFgAAgGEELAAAAMMIWAAAAIYRsLqoZcuWKTExUT169JDX69W7777r7yUFnCeffFIOh8PnERcXZ%2B%2B3LEtPPvmk3G63wsLCNGLECO3bt8%2BPK/avd955RxMmTJDb7ZbD4dBf//pXn/3t6VdNTY3S09PlcrnkcrmUnp6ur7/%2BujMPwy8u17upU6e2ei/ecsstPjUNDQ2aNWuWoqOjFR4errvvvltHjhzpzMPwi9zcXP30pz9VRESEYmJiNHHiRH366ac%2BNe3pTUVFhSZMmKDw8HBFR0dr9uzZamxs7MxD6XTt6d2IESNavfcefPBBn5ru%2Bnvb0QhYXdD69euVlZWl%2BfPnq7S0VMOGDdPYsWNVUVHh76UFnJtuukmVlZX2Y%2B/evfa%2B5557Tnl5eVq6dKk%2B%2BOADxcXFadSoUTp58qQfV%2Bw/9fX1GjRokJYuXdrm/vb0a9KkSSorK9PWrVu1detWlZWVKT09vbMOwW8u1ztJGjNmjM97saCgwGd/VlaWNm7cqPz8fBUVFenUqVNKTU1Vc3NzRy/fr3bs2KEZM2Zo165dKiws1NmzZ5WSkqL6%2Bv//RfaX601zc7PGjx%2Bv%2Bvp6FRUVKT8/Xxs2bFBOTo6/DqtTtKd3kpSRkeHz3lu5cqXP/u76e9vhLHQ5P/vZz6zMzEyfbTfeeKP1m9/8xk8rCkxPPPGENWjQoDb3nTt3zoqLi7MWLFhgbztz5ozlcrmsFStWdNYSA5Yka%2BPGjfbz9vTr448/tiRZu3btsmuKi4stSdYnn3zSeYv3s4t7Z1mWNWXKFOuee%2B655Gu%2B/vprKyQkxMrPz7e3ffHFF9ZVV11lbd26tcPWGoiqq6stSdaOHTssy2pfbwoKCqyrrrrK%2BuKLL%2ByadevWWaGhoVZtbW3nHoAfXdw7y7Ks4cOHW3PmzLnka/i97TicwepiGhsbVVJSopSUFJ/tKSkp2rlzp59WFbgOHDggt9utxMREPfjgg/r8888lSQcPHlRVVZVPH0NDQzV8%2BHD62Ib29Ku4uFgul0tDhgyxa2655Ra5XC56Kuntt99WTEyM%2BvXrp4yMDFVXV9v7SkpK1NTU5NNft9stj8fT7XpXW1srSerZs6ek9vWmuLhYHo/H5wt9R48erYaGBpWUlHTi6v3r4t61eO211xQdHa2bbrpJc%2BfO9TnrzO9tx%2BFWrl3M8ePH1dzc3OqLpmNjY1t9IXV3N2TIEL3yyivq16%2Bfjh07pmeeeUZDhw7Vvn377F611cdDhw75Y7kBrT39qqqqUkxMTKvXxsTEdPv35tixY/Xv//7vSkhI0MGDB/Xb3/5Wd955p0pKShQaGqqqqio5nU5FRUX5vK67/V5blqXs7Gzddttt8ng8ktSu3lRVVbV6b0ZFRcnpdHab/rXVO0maPHmyEhMTFRcXp/Lycs2bN0979uyxv1%2BX39uOQ8DqohwOh89zy7Jabevuxo4da/88cOBAJScn69prr9XLL79sX2BMH/85l%2BtXW72jp1JaWpr9s8fjUVJSkhISErR582bdd999l3xdd%2BvdzJkz9dFHH6moqOiytbz3fF2qdxkZGfbPHo9H119/vZKSkvThhx9q8ODBkuhdR%2BEjwi4mOjpaQUFBrf7Porq6utX/wcFXeHi4Bg4cqAMHDth/TUgf26c9/YqLi9OxY8davfbLL7%2Bkpxfp06ePEhISdODAAUnne9fY2Kiamhqfuu70fpw1a5Y2bdqk7du3q2/fvvb29vQmLi6u1XuzpqZGTU1N3aJ/l%2BpdWwYPHqyQkBCf9x6/tx2DgNXFOJ1Oeb1e%2B/Rui8LCQg0dOtRPq%2BoaGhoatH//fvXp08c%2BZX5hHxsbG7Vjxw762Ib29Cs5OVm1tbV6//337Zr33ntPtbW19PQiJ06c0OHDh9WnTx9JktfrVUhIiE9/KysrVV5efsX3zrIszZw5U2%2B88YbeeustJSYm%2BuxvT2%2BSk5NVXl6uyspKu2bbtm0KDQ2V1%2BvtnAPxg8v1ri379u1TU1OT/d7j97YD%2Befaenwf%2Bfn5VkhIiLV69Wrr448/trKysqzw8HDrH//4h7%2BXFlBycnKst99%2B2/r888%2BtXbt2WampqVZERITdpwULFlgul8t64403rL1791r/8R//YfXp08eqq6vz88r94%2BTJk1ZpaalVWlpqSbLy8vKs0tJS69ChQ5Zlta9fY8aMsW6%2B%2BWaruLjYKi4utgYOHGilpqb665A6zbf17uTJk1ZOTo61c%2BdO6%2BDBg9b27dut5ORk64c//KFP7zIzM62%2Bfftab775pvXhhx9ad955pzVo0CDr7NmzfjyyjverX/3Kcrlc1ttvv21VVlbaj2%2B%2B%2BcauuVxvzp49a3k8HmvkyJHWhx9%2BaL355ptW3759rZkzZ/rrsDrF5Xr3f//3f9ZTTz1lffDBB9bBgwetzZs3WzfeeKP1k5/8xOd91V1/bzsaAauLeumll6yEhATL6XRagwcP9vmzXJyXlpZm9enTxwoJCbHcbrd13333Wfv27bP3nzt3znriiSesuLg4KzQ01Lr99tutvXv3%2BnHF/rV9%2B3ZLUqvHlClTLMtqX79OnDhhTZ482YqIiLAiIiKsyZMnWzU1NX44ms71bb375ptvrJSUFKt3795WSEiI9aMf/ciaMmWKVVFR4TPG6dOnrZkzZ1o9e/a0wsLCrNTU1FY1V6K2%2BibJWrNmjV3Tnt4cOnTIGj9%2BvBUWFmb17NnTmjlzpnXmzJlOPprOdbneVVRUWLfffrvVs2dPy%2Bl0Wtdee601e/Zs68SJEz7jdNff247msCzL6rzzZQAAAFc%2BrsECAAAwjIAFAABgGAELAADAMAIWAACAYQQsAAAAwwhYAAAAhhGwAAAADCNgAQAAGEbAAgAAMIyABQAAYBgBCwAAwDACFgAAgGEELAAAAMMIWAAAAIYRsAAAAAwjYAEAABhGwAIAADCMgAUAAGDY/wOhIRegrFuYyAAAAABJRU5ErkJggg%3D%3D\"/>\n",
       "        </div>\n",
       "        <div role=\"tabpanel\" class=\"tab-pane col-md-12\" id=\"common254699984954132822\">\n",
       "            \n",
       "<table class=\"freq table table-hover\">\n",
       "    <thead>\n",
       "    <tr>\n",
       "        <td class=\"fillremaining\">Value</td>\n",
       "        <td class=\"number\">Count</td>\n",
       "        <td class=\"number\">Frequency (%)</td>\n",
       "        <td style=\"min-width:200px\">&nbsp;</td>\n",
       "    </tr>\n",
       "    </thead>\n",
       "    <tr class=\"\">\n",
       "        <td class=\"fillremaining\">0</td>\n",
       "        <td class=\"number\">36954</td>\n",
       "        <td class=\"number\">81.7%</td>\n",
       "        <td>\n",
       "            <div class=\"bar\" style=\"width:100%\">&nbsp;</div>\n",
       "        </td>\n",
       "</tr><tr class=\"\">\n",
       "        <td class=\"fillremaining\">1</td>\n",
       "        <td class=\"number\">2772</td>\n",
       "        <td class=\"number\">6.1%</td>\n",
       "        <td>\n",
       "            <div class=\"bar\" style=\"width:8%\">&nbsp;</div>\n",
       "        </td>\n",
       "</tr><tr class=\"\">\n",
       "        <td class=\"fillremaining\">2</td>\n",
       "        <td class=\"number\">2106</td>\n",
       "        <td class=\"number\">4.7%</td>\n",
       "        <td>\n",
       "            <div class=\"bar\" style=\"width:6%\">&nbsp;</div>\n",
       "        </td>\n",
       "</tr><tr class=\"\">\n",
       "        <td class=\"fillremaining\">3</td>\n",
       "        <td class=\"number\">1142</td>\n",
       "        <td class=\"number\">2.5%</td>\n",
       "        <td>\n",
       "            <div class=\"bar\" style=\"width:4%\">&nbsp;</div>\n",
       "        </td>\n",
       "</tr><tr class=\"\">\n",
       "        <td class=\"fillremaining\">4</td>\n",
       "        <td class=\"number\">714</td>\n",
       "        <td class=\"number\">1.6%</td>\n",
       "        <td>\n",
       "            <div class=\"bar\" style=\"width:2%\">&nbsp;</div>\n",
       "        </td>\n",
       "</tr><tr class=\"\">\n",
       "        <td class=\"fillremaining\">5</td>\n",
       "        <td class=\"number\">459</td>\n",
       "        <td class=\"number\">1.0%</td>\n",
       "        <td>\n",
       "            <div class=\"bar\" style=\"width:2%\">&nbsp;</div>\n",
       "        </td>\n",
       "</tr><tr class=\"\">\n",
       "        <td class=\"fillremaining\">6</td>\n",
       "        <td class=\"number\">277</td>\n",
       "        <td class=\"number\">0.6%</td>\n",
       "        <td>\n",
       "            <div class=\"bar\" style=\"width:1%\">&nbsp;</div>\n",
       "        </td>\n",
       "</tr><tr class=\"\">\n",
       "        <td class=\"fillremaining\">7</td>\n",
       "        <td class=\"number\">205</td>\n",
       "        <td class=\"number\">0.5%</td>\n",
       "        <td>\n",
       "            <div class=\"bar\" style=\"width:1%\">&nbsp;</div>\n",
       "        </td>\n",
       "</tr><tr class=\"\">\n",
       "        <td class=\"fillremaining\">8</td>\n",
       "        <td class=\"number\">129</td>\n",
       "        <td class=\"number\">0.3%</td>\n",
       "        <td>\n",
       "            <div class=\"bar\" style=\"width:1%\">&nbsp;</div>\n",
       "        </td>\n",
       "</tr><tr class=\"\">\n",
       "        <td class=\"fillremaining\">9</td>\n",
       "        <td class=\"number\">92</td>\n",
       "        <td class=\"number\">0.2%</td>\n",
       "        <td>\n",
       "            <div class=\"bar\" style=\"width:1%\">&nbsp;</div>\n",
       "        </td>\n",
       "</tr><tr class=\"other\">\n",
       "        <td class=\"fillremaining\">Other values (31)</td>\n",
       "        <td class=\"number\">361</td>\n",
       "        <td class=\"number\">0.8%</td>\n",
       "        <td>\n",
       "            <div class=\"bar\" style=\"width:1%\">&nbsp;</div>\n",
       "        </td>\n",
       "</tr>\n",
       "</table>\n",
       "        </div>\n",
       "        <div role=\"tabpanel\" class=\"tab-pane col-md-12\"  id=\"extreme254699984954132822\">\n",
       "            <p class=\"h4\">Minimum 5 values</p>\n",
       "            \n",
       "<table class=\"freq table table-hover\">\n",
       "    <thead>\n",
       "    <tr>\n",
       "        <td class=\"fillremaining\">Value</td>\n",
       "        <td class=\"number\">Count</td>\n",
       "        <td class=\"number\">Frequency (%)</td>\n",
       "        <td style=\"min-width:200px\">&nbsp;</td>\n",
       "    </tr>\n",
       "    </thead>\n",
       "    <tr class=\"\">\n",
       "        <td class=\"fillremaining\">0</td>\n",
       "        <td class=\"number\">36954</td>\n",
       "        <td class=\"number\">81.7%</td>\n",
       "        <td>\n",
       "            <div class=\"bar\" style=\"width:100%\">&nbsp;</div>\n",
       "        </td>\n",
       "</tr><tr class=\"\">\n",
       "        <td class=\"fillremaining\">1</td>\n",
       "        <td class=\"number\">2772</td>\n",
       "        <td class=\"number\">6.1%</td>\n",
       "        <td>\n",
       "            <div class=\"bar\" style=\"width:8%\">&nbsp;</div>\n",
       "        </td>\n",
       "</tr><tr class=\"\">\n",
       "        <td class=\"fillremaining\">2</td>\n",
       "        <td class=\"number\">2106</td>\n",
       "        <td class=\"number\">4.7%</td>\n",
       "        <td>\n",
       "            <div class=\"bar\" style=\"width:6%\">&nbsp;</div>\n",
       "        </td>\n",
       "</tr><tr class=\"\">\n",
       "        <td class=\"fillremaining\">3</td>\n",
       "        <td class=\"number\">1142</td>\n",
       "        <td class=\"number\">2.5%</td>\n",
       "        <td>\n",
       "            <div class=\"bar\" style=\"width:4%\">&nbsp;</div>\n",
       "        </td>\n",
       "</tr><tr class=\"\">\n",
       "        <td class=\"fillremaining\">4</td>\n",
       "        <td class=\"number\">714</td>\n",
       "        <td class=\"number\">1.6%</td>\n",
       "        <td>\n",
       "            <div class=\"bar\" style=\"width:2%\">&nbsp;</div>\n",
       "        </td>\n",
       "</tr>\n",
       "</table>\n",
       "            <p class=\"h4\">Maximum 5 values</p>\n",
       "            \n",
       "<table class=\"freq table table-hover\">\n",
       "    <thead>\n",
       "    <tr>\n",
       "        <td class=\"fillremaining\">Value</td>\n",
       "        <td class=\"number\">Count</td>\n",
       "        <td class=\"number\">Frequency (%)</td>\n",
       "        <td style=\"min-width:200px\">&nbsp;</td>\n",
       "    </tr>\n",
       "    </thead>\n",
       "    <tr class=\"\">\n",
       "        <td class=\"fillremaining\">41</td>\n",
       "        <td class=\"number\">1</td>\n",
       "        <td class=\"number\">0.0%</td>\n",
       "        <td>\n",
       "            <div class=\"bar\" style=\"width:100%\">&nbsp;</div>\n",
       "        </td>\n",
       "</tr><tr class=\"\">\n",
       "        <td class=\"fillremaining\">51</td>\n",
       "        <td class=\"number\">1</td>\n",
       "        <td class=\"number\">0.0%</td>\n",
       "        <td>\n",
       "            <div class=\"bar\" style=\"width:100%\">&nbsp;</div>\n",
       "        </td>\n",
       "</tr><tr class=\"\">\n",
       "        <td class=\"fillremaining\">55</td>\n",
       "        <td class=\"number\">1</td>\n",
       "        <td class=\"number\">0.0%</td>\n",
       "        <td>\n",
       "            <div class=\"bar\" style=\"width:100%\">&nbsp;</div>\n",
       "        </td>\n",
       "</tr><tr class=\"\">\n",
       "        <td class=\"fillremaining\">58</td>\n",
       "        <td class=\"number\">1</td>\n",
       "        <td class=\"number\">0.0%</td>\n",
       "        <td>\n",
       "            <div class=\"bar\" style=\"width:100%\">&nbsp;</div>\n",
       "        </td>\n",
       "</tr><tr class=\"\">\n",
       "        <td class=\"fillremaining\">275</td>\n",
       "        <td class=\"number\">1</td>\n",
       "        <td class=\"number\">0.0%</td>\n",
       "        <td>\n",
       "            <div class=\"bar\" style=\"width:100%\">&nbsp;</div>\n",
       "        </td>\n",
       "</tr>\n",
       "</table>\n",
       "        </div>\n",
       "    </div>\n",
       "</div>\n",
       "</div><div class=\"row variablerow\">\n",
       "    <div class=\"col-md-3 namecol\">\n",
       "        <p class=\"h4 pp-anchor\" id=\"pp_var_poutcome\">poutcome<br/>\n",
       "            <small>Categorical</small>\n",
       "        </p>\n",
       "    </div><div class=\"col-md-3\">\n",
       "    <table class=\"stats \">\n",
       "        <tr class=\"\">\n",
       "            <th>Distinct count</th>\n",
       "            <td>4</td>\n",
       "        </tr>\n",
       "        <tr>\n",
       "            <th>Unique (%)</th>\n",
       "            <td>0.0%</td>\n",
       "        </tr>\n",
       "        <tr class=\"ignore\">\n",
       "            <th>Missing (%)</th>\n",
       "            <td>0.0%</td>\n",
       "        </tr>\n",
       "        <tr class=\"ignore\">\n",
       "            <th>Missing (n)</th>\n",
       "            <td>0</td>\n",
       "        </tr>\n",
       "    </table>\n",
       "</div>\n",
       "<div class=\"col-md-6 collapse in\" id=\"minifreqtable1091234366041139103\">\n",
       "    <table class=\"mini freq\">\n",
       "        <tr class=\"\">\n",
       "    <th>unknown</th>\n",
       "    <td>\n",
       "        <div class=\"bar\" style=\"width:100%\" data-toggle=\"tooltip\" data-placement=\"right\" data-html=\"true\"\n",
       "             data-delay=500 title=\"Percentage: 81.7%\">\n",
       "            36959\n",
       "        </div>\n",
       "        \n",
       "    </td>\n",
       "</tr><tr class=\"\">\n",
       "    <th>failure</th>\n",
       "    <td>\n",
       "        <div class=\"bar\" style=\"width:14%\" data-toggle=\"tooltip\" data-placement=\"right\" data-html=\"true\"\n",
       "             data-delay=500 title=\"Percentage: 10.8%\">\n",
       "            &nbsp;\n",
       "        </div>\n",
       "        4901\n",
       "    </td>\n",
       "</tr><tr class=\"\">\n",
       "    <th>other</th>\n",
       "    <td>\n",
       "        <div class=\"bar\" style=\"width:5%\" data-toggle=\"tooltip\" data-placement=\"right\" data-html=\"true\"\n",
       "             data-delay=500 title=\"Percentage: 4.1%\">\n",
       "            &nbsp;\n",
       "        </div>\n",
       "        1840\n",
       "    </td>\n",
       "</tr>\n",
       "    </table>\n",
       "</div>\n",
       "<div class=\"col-md-12 text-right\">\n",
       "    <a role=\"button\" data-toggle=\"collapse\" data-target=\"#freqtable1091234366041139103, #minifreqtable1091234366041139103\"\n",
       "       aria-expanded=\"true\" aria-controls=\"collapseExample\">\n",
       "        Toggle details\n",
       "    </a>\n",
       "</div>\n",
       "<div class=\"col-md-12 extrapadding collapse\" id=\"freqtable1091234366041139103\">\n",
       "    \n",
       "<table class=\"freq table table-hover\">\n",
       "    <thead>\n",
       "    <tr>\n",
       "        <td class=\"fillremaining\">Value</td>\n",
       "        <td class=\"number\">Count</td>\n",
       "        <td class=\"number\">Frequency (%)</td>\n",
       "        <td style=\"min-width:200px\">&nbsp;</td>\n",
       "    </tr>\n",
       "    </thead>\n",
       "    <tr class=\"\">\n",
       "        <td class=\"fillremaining\">unknown</td>\n",
       "        <td class=\"number\">36959</td>\n",
       "        <td class=\"number\">81.7%</td>\n",
       "        <td>\n",
       "            <div class=\"bar\" style=\"width:100%\">&nbsp;</div>\n",
       "        </td>\n",
       "</tr><tr class=\"\">\n",
       "        <td class=\"fillremaining\">failure</td>\n",
       "        <td class=\"number\">4901</td>\n",
       "        <td class=\"number\">10.8%</td>\n",
       "        <td>\n",
       "            <div class=\"bar\" style=\"width:14%\">&nbsp;</div>\n",
       "        </td>\n",
       "</tr><tr class=\"\">\n",
       "        <td class=\"fillremaining\">other</td>\n",
       "        <td class=\"number\">1840</td>\n",
       "        <td class=\"number\">4.1%</td>\n",
       "        <td>\n",
       "            <div class=\"bar\" style=\"width:5%\">&nbsp;</div>\n",
       "        </td>\n",
       "</tr><tr class=\"\">\n",
       "        <td class=\"fillremaining\">success</td>\n",
       "        <td class=\"number\">1511</td>\n",
       "        <td class=\"number\">3.3%</td>\n",
       "        <td>\n",
       "            <div class=\"bar\" style=\"width:5%\">&nbsp;</div>\n",
       "        </td>\n",
       "</tr>\n",
       "</table>\n",
       "</div>\n",
       "</div><div class=\"row variablerow\">\n",
       "    <div class=\"col-md-3 namecol\">\n",
       "        <p class=\"h4 pp-anchor\" id=\"pp_var_y\">y<br/>\n",
       "            <small>Categorical</small>\n",
       "        </p>\n",
       "    </div><div class=\"col-md-3\">\n",
       "    <table class=\"stats \">\n",
       "        <tr class=\"\">\n",
       "            <th>Distinct count</th>\n",
       "            <td>2</td>\n",
       "        </tr>\n",
       "        <tr>\n",
       "            <th>Unique (%)</th>\n",
       "            <td>0.0%</td>\n",
       "        </tr>\n",
       "        <tr class=\"ignore\">\n",
       "            <th>Missing (%)</th>\n",
       "            <td>0.0%</td>\n",
       "        </tr>\n",
       "        <tr class=\"ignore\">\n",
       "            <th>Missing (n)</th>\n",
       "            <td>0</td>\n",
       "        </tr>\n",
       "    </table>\n",
       "</div>\n",
       "<div class=\"col-md-6 collapse in\" id=\"minifreqtable-326162181461062074\">\n",
       "    <table class=\"mini freq\">\n",
       "        <tr class=\"\">\n",
       "    <th>no</th>\n",
       "    <td>\n",
       "        <div class=\"bar\" style=\"width:100%\" data-toggle=\"tooltip\" data-placement=\"right\" data-html=\"true\"\n",
       "             data-delay=500 title=\"Percentage: 88.3%\">\n",
       "            39922\n",
       "        </div>\n",
       "        \n",
       "    </td>\n",
       "</tr><tr class=\"\">\n",
       "    <th>yes</th>\n",
       "    <td>\n",
       "        <div class=\"bar\" style=\"width:14%\" data-toggle=\"tooltip\" data-placement=\"right\" data-html=\"true\"\n",
       "             data-delay=500 title=\"Percentage: 11.7%\">\n",
       "            &nbsp;\n",
       "        </div>\n",
       "        5289\n",
       "    </td>\n",
       "</tr>\n",
       "    </table>\n",
       "</div>\n",
       "<div class=\"col-md-12 text-right\">\n",
       "    <a role=\"button\" data-toggle=\"collapse\" data-target=\"#freqtable-326162181461062074, #minifreqtable-326162181461062074\"\n",
       "       aria-expanded=\"true\" aria-controls=\"collapseExample\">\n",
       "        Toggle details\n",
       "    </a>\n",
       "</div>\n",
       "<div class=\"col-md-12 extrapadding collapse\" id=\"freqtable-326162181461062074\">\n",
       "    \n",
       "<table class=\"freq table table-hover\">\n",
       "    <thead>\n",
       "    <tr>\n",
       "        <td class=\"fillremaining\">Value</td>\n",
       "        <td class=\"number\">Count</td>\n",
       "        <td class=\"number\">Frequency (%)</td>\n",
       "        <td style=\"min-width:200px\">&nbsp;</td>\n",
       "    </tr>\n",
       "    </thead>\n",
       "    <tr class=\"\">\n",
       "        <td class=\"fillremaining\">no</td>\n",
       "        <td class=\"number\">39922</td>\n",
       "        <td class=\"number\">88.3%</td>\n",
       "        <td>\n",
       "            <div class=\"bar\" style=\"width:100%\">&nbsp;</div>\n",
       "        </td>\n",
       "</tr><tr class=\"\">\n",
       "        <td class=\"fillremaining\">yes</td>\n",
       "        <td class=\"number\">5289</td>\n",
       "        <td class=\"number\">11.7%</td>\n",
       "        <td>\n",
       "            <div class=\"bar\" style=\"width:14%\">&nbsp;</div>\n",
       "        </td>\n",
       "</tr>\n",
       "</table>\n",
       "</div>\n",
       "</div>\n",
       "    <div class=\"row headerrow highlight\">\n",
       "        <h1>Correlations</h1>\n",
       "    </div>\n",
       "    <div class=\"row variablerow\">\n",
       "    <img src=\"data:image/png;base64,iVBORw0KGgoAAAANSUhEUgAAAmwAAAIgCAYAAAA4DzUyAAAABHNCSVQICAgIfAhkiAAAAAlwSFlzAAAPYQAAD2EBqD%2BnaQAAADh0RVh0U29mdHdhcmUAbWF0cGxvdGxpYiB2ZXJzaW9uMy4yLjIsIGh0dHA6Ly9tYXRwbG90bGliLm9yZy%2BWH4yJAAAgAElEQVR4nOzdeXyM5/7/8ddkXyxBEkFpbKFomxDSUk6F/hRFW1tPUF2krZDg6L5pqwvn6GbroqpVFKVaWq1uqs45RVu0tpRYQyIrJZtkkvn9kWO%2BpqKNTu65J/J%2BPh7ziFz38rnuayYzH5/rvu%2Bx2Gw2GyIiIiLitjzM7oCIiIiI/DElbCIiIiJuTgmbiIiIiJtTwiYiIiLi5pSwiYiIiLg5JWwiIiIibk4Jm4iIiIibU8ImIiIi4uaUsImIiIi4OS%2BzOyAirnP06FF69ep1weXe3t7UqlWL8PBwrr/%2BekaOHEmtWrVc2EMREamIRV9NJVJznJuwRUREnJeMlZSUkJuby7FjxwBo3Lgx77zzDpdffrnL%2ByoiIv9HCZtIDXJuwrZw4UJiYmIqXG/z5s0kJCSQl5dHVFQUS5cudWU3RUTkd3QOm4icJyYmhn/84x8AbNu2jZ07d5rcIxGRmk0Jm4hU6IYbbrD/%2B%2BeffzaxJyIioosORKRCtWvXtv87Pz/fYdkPP/zAe%2B%2B9x9atWzl58iR16tQhMjKSUaNGce2111a4v1OnTrF06VI2bNhASkoKeXl5%2BPv706xZM3r27Mntt99O3bp1HbZp06YNAP/5z3%2BYNm0aX3/9NR4eHrRv3563334bLy8vfv75Z9555x12795Neno6vr6%2BNG/enN69exMXF1fhRRNFRUUsXbqUtWvXkpKSQklJCQ0bNqRr167cddddhIeHO6y/efNmbr/9dq6%2B%2BmoWL17Me%2B%2B9x0cffcThw4fx9vamffv2jBo1it69e/%2BVoRYR%2BVNK2ESkQocPH7b/OywszP7vGTNmMG/ePADq1q1LREQEmZmZfP3113z99deMGTOGBx54wGFfhw4d4o477iA9PR0vLy%2BaNWtGkyZNOHbsGLt27WLXrl18%2BumnrFy5ksDAwPP6kpiYyLZt24iIiCA3N5eQkBC8vLz44osvmDRpElarlXr16tGqVSvy8/P55Zdf%2BPnnn1m9ejVLly51SNqOHz/OnXfeyYEDBwAIDw8nMDCQ/fv3s2zZMj766COmTZtGv379zutHSUkJ8fHxfP/999SrV4%2BWLVty8OBBNm3axKZNm3jqqaf4%2B9//7tzAi4hUxCYiNUZqaqotIiLCFhERYdu0adMfrvvggw/aIiIibO3bt7dlZWXZbDab7f3337dFRETYoqOjbR9//LF93bKyMtunn35qi4yMtEVERNiWL1/usK%2BRI0faIiIibMOGDbNlZGQ4bLdq1Spb27ZtbREREbZFixY5bHe2rx06dLBt2bLFZrPZbKWlpbYTJ07YSktLbd26dbNFRETY5s2bZ7Narfbtdu7cabvmmmtsERERtjfeeMPebrVabYMGDbJFRETY%2BvTpY9uzZ4992enTp22PPfaY/Zi3b99uX7Zp0yZ7XyIjI22rV6%2B2Lzt16pRt9OjRtoiICFuXLl1sJSUlfziuIiJ/hc5hExG7oqIidu/ezZQpU/joo48AuOOOOwgODqa4uJhZs2YB8PzzzzNw4ED7dhaLhX79%2Btkra7NmzcJqtQKQk5PDvn37AJg6dSqhoaEO291888106dIFgF9//bXCfvXt25fOnTsD4OHhQVBQELm5uWRlZQEwbNgwPD097eu3b9%2BeSZMm0bt3b4KCguztn3/%2BOXv27MHX15d58%2BbRtm1b%2B7JatWrx7LPP0r17d0pKSnj55Zcr7EtSUhIDBgyw/167dm37cZ88eZKDBw9eYHRFRP46TYmK1FC33377n64zdOhQJkyYAJRfLZqdnU1gYOAFb747cOBApk6dSkZGBrt37%2Baqq66iQYMGbNq0iaKiIvz8/M7bprS01D5lWVRUVOF%2BO3XqdF5bvXr1qFu3Lr/99hv3338/Y8eO5eqrr8bDo/z/ocOGDWPYsGEO23zzzTcAxMbG0rRp0wpj3XnnnWzcuJEtW7Zw%2BvRph3P5AHr27HneNi1btrT/%2B9SpUxXuV0TEGUrYRGqo398412Kx4OvrS1BQEG3atKF37960atXKvvxslaykpIQRI0ZccL%2Benp6UlZVx4MABrrrqKnu7n58f6enp/Pzzzxw5coTU1FT279/Pnj17KCgoAKCsrKzCfYaEhFQY5/777%2BeJJ55gw4YNbNiwgbp16xITE0O3bt24/vrrHc69A%2BzVr/bt21%2Bw/2eXlZaWcvjwYTp06OCwvGHDhudtc24iWlpaesF9i4j8VUrYRGqoxx9//II3zq3I6dOnASguLmbr1q1/uv65laYDBw7wz3/%2Bkw0bNjgkZbVq1SI6OprMzEySk5MvuK%2BKKnNQXkW7/PLLWbBgAf/973/57bff%2BOKLL/jiiy%2BwWCxcf/31PPXUU/bELS8vD%2BC8qtm5zk1if391LJR/fdcfsele5CJiACVsIlIp/v7%2BQHkF6sMPP6z0djk5OYwcOZKcnBwaN27MsGHDaNeuHS1atOCyyy7DYrEwefLkP0zY/khMTAwxMTEUFRXx448/8sMPP7Bx40Z27drF%2BvXrSU9P56OPPsJisdivQD2bfFbk3ESzoitWRUTMoIRNRCqlefPmQPktOqxWK15e57992Gw2Nm/eTFhYGI0bN8bHx4eVK1eSk5NDUFAQK1eupH79%2Budtl5GRcdH9KS4uJjU1lby8PK6%2B%2Bmr8/Py47rrruO6665g0aRKffvop//jHP0hOTubXX3%2Blbdu2tGjRgt27d7Nr164L7nfHjh1A%2BRRxs2bNLrpfIiJG0FWiIlIpnTt3pnbt2uTn51%2BwwrZmzRpGjx5N3759OX78OFD%2B/aVQ/kXyFSVrKSkpbN%2B%2BHbi487%2B%2B%2B%2B47%2BvXrxz333ENxcfF5y7t27Wr/99n9nr1g4JtvviE1NbXC/S5cuBCAyMhI6tSpU%2Bn%2BiIgYSQmbiFRKQEAA99xzDwDPPfccK1eudDgf7auvvmLKlClA%2BW04zlanWrRoAUBycjLr1q2zr2%2Bz2fjuu%2B8YM2YMJSUlABQWFla6Pz169KBevXqcPHmShx56iJMnT9qX5efnM336dAAaNWpE69atAbjxxhtp06YNZ86cIT4%2B3mEaNi8vjyeeeIJ///vfeHl5cf/991d%2BcEREDKYpURGptPj4eFJTU1m%2BfDmPPvoo//rXv7jsssvIyMggMzMTgI4dO/Lss8/atxkyZAhLlizh8OHDJCUl0aRJE%2BrVq0d6ejo5OTl4e3vTpUsXtmzZclFToz4%2BPrz66qvcfffdrF27lq%2B//ppmzZrh4eFBamoqBQUF%2BPv7M23aNHx8fADw8vJi7ty5xMfHc%2BDAAQYNGuTwTQdnbz3y9NNPEx0dXbWDJyLiBCVsIlJpFouFqVOn0qdPH5YuXcr27dvtN6KNjIzkpptuYvjw4fYECcqvulyxYgXz5s1j/fr1HD16lOzsbMLCwrj%2B%2BusZPXo0AQEB9O7dm%2BTkZNLS0mjcuHGl%2BhMTE8MHH3zAggUL%2BOmnnzh06BBeXl6EhYVx3XXXcdddd523r8suu4yVK1fy/vvv8/nnn7N//36OHz9Oo0aN6N69OyNGjDjvu0RFRMxmsekadBERERG3pnPYRERERNycEjYRERERN6eETURERMTNKWETERGRGi03N5cbbriBzZs3X3CdDRs2MGDAACIjI%2Bnbty/r1693WD5v3jx69OhBZGQko0aN4sCBA1XaRyVsIiIiUmP99NNPDB8%2BnCNHjlxwnUOHDpGYmMiECRP48ccfSUxMZOLEifZbEa1atYr33nuP%2BfPns3nzZtq3b09SUlKVfrewEjYRERGpkVatWsX999/PpEmT/nS96OhoevfujZeXF/369aNz584sW7YMgOXLlxMXF0fr1q3x9fVl8uTJpKWl/WHF7mIpYRMREZFqJzMzk127djk8zt7Au7Kuu%2B46vvzyS/r16/eH66WkpBAREeHQ1qpVK/u3pfx%2Bube3N%2BHh4Q7fpuIs3TjXCBaL62M2bw779kHr1nDwoOvjp6W5Np6nJ4SEQFYWXMT3T1aV0tBGLo8J4OEB53wblMtj1yQWat4tKs8Uu/69y8cHKvgqWJfw9al5z7Epn08GxV02cyazZ892aBs/fjyJiYmV3kdISEil1svPz8ff39%2Bhzc/Pj4KCgkotrwpK2C4VQUHlSUxQkNk9cQ2L5f8eNUgNO1wsFqhxt/auQQd97p9xDTnkcjXugI0xfPhwYmNjHdoqm4BdLH9/f4qKihzaioqKCAwMrNTyqqCETURERIxlQIk%2BNDSU0NDQKt9vRSIiIti1a5dDW0pKCh06dACgdevW7Nu3j549ewJQUlLCoUOHzptGdUYNm%2BQQERERuTgDBw5ky5YtrF27FqvVytq1a9myZQuDBg0CYPDgwSxatIjk5GTOnDnDiy%2B%2BSHBwMNHR0VXWB1XYRERExFjV8CTYqKgonn76aQYOHEjLli2ZM2cOM2bM4LHHHqNJkybMmjWL5s2bAzBkyBBOnz7NuHHjyM3N5corr%2BSNN97A29u7yvqjL383ghknGkVFwdat0LEjbNvm%2BviuvujAy%2Bv/LjqwWl0bG/MuOvD0NOUaC8Cc91szT/Ux7aIDEw/a1RcdWCz/d9GBGYds2kUHpr6wTToR1te36vd55kzV79ONVb%2BUV0RERKSG0ZSoiIiIGKsaTom6G42giIiIiJtThU1ERESMpQqb05SwiYiIiLGUsDlNIygiIiLi5lRhExEREWOpwuY0jaCIiIiIm1OFTURERIylCpvTlLCJiIiIsZSwOU0jKCIiIuLmVGETERERY6nC5jQlbCIiImIsJWxO0wiKiIiIuDlV2ERERMRYqrA5TSMoIiIi4uZUYRMRERFjqcLmNCVsIiIiYiwlbE7TCIqIiIi4OVXYRERExFiqsDlNIygiIiLi5lRhExEREWOpwua0ap%2BwffPNN7z55pscPnyYgoICrrzySp599lnCw8P59NNPmTlzJjk5OVx99dU0btyYkpISpk2bhs1m47333mPx4sXk5OQQERHBo48%2BSocOHcw%2BJBERkUuLEjanVeuE7fjx40yYMIFXX32V2NhYTpw4wfjx45kzZw5xcXE89NBDzJw5kx49erB%2B/XomTpzIgAEDAFiyZAkLFizgtddeo2XLlnz88cfceeedfPbZZwQHB1e6D5mZmWRlZTm0hTRvTmhQUJUe659q29bxp6t5ufildDaeq%2BOKXMIsFnPiuTquSHVksdlsNrM78VcVFxdz/PhxmjVrRl5eHqmpqcyZM4dTp07RrFkzCgoKeOmll%2BzrT5gwAX9/f6ZNm0a/fv24/fbbue222%2BzLb7vtNv7f//t/3HXXXZXuw6xZs5g9e7ZD2/iEBBInTHD%2BAEVERKqKzWZedty6ddXvc9%2B%2Bqt%2BnG6vW5Qlvb28%2B%2BeQTli5disViISIigry8PLy8vEhPT6ddu3YO6zdt2pTs7GwAjh07xvTp05kxY4Z9udVqvegp0eHDhxMbG%2BvQFjJgALz77l88qr%2BobVtYsgTi4iA52bWxAdatc208Ly%2BoVw9OnACr1bWxgdL6IS6PCeDpCaWlpoQ2ZUbDYin/jDGDBbMCm3fQxSWu/TC3WMDbG0pKzDlkH%2B%2Ba9xxL9VWtE7bPPvuMRYsW8f7773P55ZcDMHXqVPbu3UuTJk1IS0tzWD8tLQ0fHx8AwsLCSEpKon///vblR44cIegipzJDQ0MJDQ11bDx48C8cTRVJToZt21wf14SkyR7XrNgilxizcgibTfnLJU/nsDmtWo/g6dOn8fDwwM/PD5vNxnfffcdHH31ESUkJQ4cO5csvv2Tjxo2UlpayYcMGvvjiC/u2w4YN47XXXmP//v0AbNy4kf79%2B/PDDz%2BYdTgiIiKXJg%2BPqn/UMNW6wnbLLbfw008/0b9/fzw9PWnRogWjR49m8eLFtGnThqeffpqnnnqKEydOEB0dzbXXXou3tzcAd9xxBzabjYSEBDIzM2nYsCFPPvkkvXr1MvmoRERERBxV64sO/sjBgwcpKyujZcuW9rbExERatGjBpEmTjA1uxkmdUVGwdSt07GjOlOjvpp8N5%2BUFISGQlWXOOWyhjVweE3QOm0tj18Bz2M4Uu/4cNh8fKC4255B9fWrec2zaRQft21f9Pnftqvp9urFLtqaYkpLC6NGjOXLkCACbN29m48aN/O1vfzO5ZyIiIiIXp1pPif6RG264gZSUFG6//XZ%2B%2B%2B03mjRpwtSpU%2BnYsaPZXRMREalZauA5Z1Xtkk3YAMaOHcvYsWPN7oaIiEjNpoTNaRpBERERETd3SVfYRERExA2owuY0jaCIiIiIm1OFTURERIylCpvTlLCJiIiIsZSwOU0jKCIiIuLmVGETERERY6nC5jSNoIiIiIibU4VNREREjKUKm9OUsImIiIixlLA5TQmbiIiI1Eg5OTk88cQTbNmyBU9PTwYOHMhDDz2El5djejRmzBh%2B%2Buknh7aCggKGDx/OM888Q3Z2Nt26dSMgIMC%2BvF69enzzzTdV1lclbCIiImIsN62wTZw4kYYNG7Jx40ays7MZO3Ys77zzDmPGjHFY76233nL4fcWKFcyePZvx48cDsGPHDpo0aVKlCdrvuecIioiIiBjo8OHDbNmyhQceeAB/f3%2BaNm1KQkICixcv/sPtDhw4wNSpU5kxYwahoaFAecLWoUMHQ/urCpuIiIgYy4AKW2ZmJllZWQ5tISEh9iTqz%2Bzbt4%2BgoCAaNmxob2vZsiVpaWmcOnWKOnXqVLjd008/zc0330x0dLS9bceOHfz222/cdNNNZGdnc%2BWVV/LQQw/RqlWrv3BkFVPCJiIiIsYyIGFbtmwZs2fPdmgbP348iYmJldo%2BPz8ff39/h7azvxcUFFSYsP3444/8/PPPzJgxw6G9Tp06tGrVivj4eHx8fHj11Ve58847Wbt2LbVr176Yw7ogJWwiIiJS7QwfPpzY2FiHtpCQkEpvHxAQQGFhoUPb2d8DAwMr3GbZsmX07dv3vDgvvviiw%2B%2BPPPIIK1eu5Mcff6Rnz56V7tMfUcImIiIixjKgwhYaGlrp6c%2BKtG7dmpMnT5KdnU1wcDAA%2B/fvJywsrMKqmNVq5euvv2bOnDkO7Xl5ecyZM4eRI0fSpEkTAEpLS7Farfj5%2Bf3l/v2eLjoQERGRGic8PJxOnTrx/PPPk5eXR2pqKnPnzmXIkCEVrv/rr79y5swZOnbs6NBeq1Yt/vvf/zJ9%2BnROnz5Nfn4%2BU6dO5bLLLnM4z81ZSthERETEWB4eVf%2BoAjNnzsRqtdKrVy%2BGDRtG9%2B7dSUhIACAqKorVq1fb101NTaVu3br4%2Bvqet5%2B5c%2BdSVlZG79696d69O1lZWcybNw9vb%2B8q6SeAxWaz2apsb1LOYnF9zKgo2LoVOnaEbdtcHz8tzbXxvLwgJASyssBqdW1soDS0kctjAnh6QmmpKaFNuY2SxQJmvUNZMCuweQd9pti1710WC/j4QHGxOYfs61PznmNTPp8A%2BvSp%2Bn2uW1f1%2B3RjOofNCK5OXqA8gYHyF7AJCQyNG7s23tkEtU8fUxJUz7Iyl8csZ8HTw6Q3ejNeV97eWKwlro8LlHpU3f%2BML4anJ5SWmfOhak4CY8HHuwa9pgG8vc2NLdWSEjYRERExlpt%2B00F1ooRNREREjKWEzWkaQRERERE3pwqbiIiIGEsVNqdpBEVERETcnCpsIiIiYixV2JymhE1ERESMpYTNaRpBERERETenCpuIiIgYSxU2p2kERURERNycKmwiIiJiLFXYnKaETURERIylhM1pGkERERERN6cKm4iIiBhLFTanaQRFRERE3JwqbCIiImIsVdicpoRNREREjKWEzWkaQRERERE3pwqbiIiIGEsVNqdpBEVERETcnCpsIiIiYixV2JymhE1ERESMpYTNaRpBERERETenCpuIiIgYSxU2p2kERURERNycKmwiIiJiLFXYnKaETURERIylhM1pho3g0aNHadOmDUePHr3obR9%2B%2BGEefvhhA3olIiIiUv2owiYiIiLGUoXNaYaP4EcffUTv3r3p2rUrjz/%2BOHl5edhsNt58800GDBhAdHQ0nTt3ZvLkyRQVFZ23fXFxMdOnT6dv375ERUVx7bXXMnXqVGw2GwCjRo3ixRdfZMSIEURFRdG3b1/Wrl1r3z41NZX77ruPTp06ce211/LUU09RXFwMwJEjR7jvvvuIiYmhZ8%2BevPzyy/ZlIiIiIu7C8Arbjz/%2ByPLlyykrKyMhIYHnn3%2Be6667joULF7Jo0SLCw8PZv38/cXFxrFmzhqFDhzps/%2B6777Jx40beffddQkND2bZtGyNHjqR3795ce%2B21ACxfvpwFCxbQqlUr5syZw5NPPkmvXr3w9PTk7rvvJiYmhu%2B%2B%2B46ioiLuvvtuZs2axdixY7njjjvo378/r776Krm5uSQlJVFWVsbkyZMrfXyZmZlkZWU5tIVYLISGhDg/eBfDy8vxp6tFRbk2Xtu2jj9FRMR9qcLmNMM/3R9%2B%2BGHq168PQFJSEmPHjuWRRx5hxYoVhIWFkZuby4kTJwgKCiIjI%2BO87YcNG8Ytt9xCgwYNyMzMpKioiMDAQId1%2B/TpQ7t27QC45ZZbeP3118nJyeHo0aMcO3aMRx99FH9/fwIDA5k9ezZlZWV8%2B%2B23FBcX849//AOLxUKjRo2YMGECSUlJF5WwLVu2jNmzZzu0jR83jsSkpL8yXM6rV8%2BcuFu3mhN3yRJz4prJYjEnrrd3jYrraUrU/8U2LbhJr62a9po2K3ZJietjnqWEzWmGJ2yXXXaZ/d%2BNGjWiuLiYU6dOMXPmTNavX0/9%2BvW54oorKCkpsU9znquwsJBnnnmGH374gbCwMNq1a4fNZqOsrMy%2BTsg51Syv/1WYysrKyMrKol69evj7%2B5/Xn3Xr1pGbm0vnzp3ty2w2GyUlJeTk5NCgQYNKHd/w4cOJjY11aAuxWOB3VTfDeXmVJ2snToDV6trYAH36uDZe27blyVpcHCQnuzY2wE8/uT4mlH%2BwVfB34hJmvK68vU37kCn1MClR9ITSUlNC4%2Blhwmurpr2mwdTXtVRfhidsGRkZ1KpVCyi/cjQgIIA333yTtLQ0vvnmG/uyAQMGVLj9448/Tt26dfn3v/%2BNr68vZWVlDknWHwkLC%2BPEiRMUFhbak7Yff/yRnTt3EhYWRrNmzfj888/t6%2Bfl5ZGTk2OvCFZGaGgooaGhjo3p6ea9EVit5sTets31MaE8WTMrtoiIVI4qbE4zfAT/9a9/8dtvv3H8%2BHFeffVVhg8fTl5eHr6%2Bvnh6enLmzBnefvtt9u7dS0kF/%2BM4u66Hhwd5eXn885//JC8vr8J1f%2B%2Bqq64iPDyc6dOnU1hYSHZ2Ni%2B88AK5ubn07NmT/Px83nrrLXvV76GHHmLSpElYzCrPi4iIiFTA8IQtKiqKG2%2B8kcGDB9O5c2cmTZrExIkTKSoqomvXrsTGxrJ9%2B3YGDRrE3r17z9v%2B8ccfJzk5mS5dunDjjTeSl5dH9%2B7dK1z397y9vXn99dfJyMjg%2BuuvZ9CgQXTu3JmkpCRq1arFO%2B%2B8w%2BbNm%2BnRowe9e/fGw8OD1157zYhhEBERqbk8PKr%2BUcNYbBWdOCbOSU93fUwvLwgJKT93zowp0caNXRsvKqr8QoeOHc2ZEj3nHEqXqmnn%2B%2BgcNtfG1jlsrmHmOWxmXWjxwANVv89//avq9%2BnGal6KKiIiIlLN6JsORERExFg1cAqzqmkERURERNycKmwiIiJiLFXYnKaETURERIylhM1pGkERERGpkXJyckhISCA6OpqYmBiee%2B45rBe4enjMmDFceeWVREVF2R/fffcdAKWlpUyfPp2uXbsSFRXF2LFjyczMrNK%2BKmETERERY7npfdgmTpxIQEAAGzduZMWKFXz//fe88847Fa67c%2BdO5s%2Bfz7Zt2%2ByPHj16APDaa6/xn//8h5UrV7Jx40b8/Px4/PHHq6SPZylhExERkRrn8OHDbNmyhQceeAB/f3%2BaNm1KQkICixcvPm/d1NRUfvvtN9q1a1fhvj744APi4%2BNp1KgRtWrV4rHHHuO7774jNTW1yvqrc9hERETEWAacw5aZmUlWVpZDW0hIyPnf730B%2B/btIygoiIYNG9rbWrZsSVpaGqdOnaJOnTr29h07dhAYGMikSZPYsWMHwcHB3HHHHQwZMoTTp09z/PhxIiIi7OsHBwdTt25dfv31V5o2berkkZZTwiYiIiLGMiBhW7ZsGbNnz3ZoGz9%2BPImJiZXaPj8/H39/f4e2s78XFBQ4JGzFxcVERkYyadIkWrduzebNm0lMTCQwMJCoqCgAAgICHPbl5%2BdHfn7%2BRR/XhShhExERkWpn%2BPDhxMbGOrSFhIRUevuAgAAKCwsd2s7%2BHhgY6NB%2B8803c/PNN9t/v%2B6667j55pv57LPP6Nq1q8O2ZxUVFZ23H2coYRMRERFjGVBhCw0NrfT0Z0Vat27NyZMnyc7OJjg4GID9%2B/cTFhZG7dq1HdZdsWIFgYGB9O3b195WXFyMr68vdevWpWHDhqSkpNinRbOysjh58qTDNKmzdNGBiIiIGMsNrxINDw%2BnU6dOPP/88%2BTl5ZGamsrcuXMZMmTIeevm5eUxdepUdu/eTVlZGd9%2B%2By2ffPIJw4cPB%2BDWW2/ltddeIzU1lby8PJ5//nm6dOlCs2bNnO7nWaqwiYiISI00c%2BZMnnnmGXr16oWHhwc333wzCQkJAERFRfH0008zcOBARo8eTUFBAePHjycnJ4emTZsyffp0oqOjARg3bhxWq5URI0aQn59PTEwMr7zySpX21WKz2WxVukeB9HTXx/TygpAQyMqCC9z0z1CNG7s2XlQUbN0KHTvCtm2ujQ1QVub6mAAWC5j1J2vG68rbG0pKXB8XKPXwNiWupyeUlpoSGk8PE15bNe01Daa%2BrvE253XNCy9U/T4feaTq9%2BnGNCUqIiIi4uY0JSoiIiLG0neJOk0Jm4iIiBhLCZvTNIIiIiIibk4VNhERETGWKmxO0wiKiIiIuDlV2ERERMRYqrA5TQmbiIiIGFrmrIEAACAASURBVEsJm9OUsBmgNLSRKXE9gdL6lf/i2yqNbdaNZH/6yZy4Zrz5nL1ZcKdOptws%2BEyRa29uarGAD1Bs8zblvqq%2BKXtcH9TPD5o3x/PIQSgqcnn4jPpXuDSelxc0aAA5uRZT7mEbEOD6m8h6eECgN%2BQXe5ty/%2B3aJt03V5ynhE1ERESMpQqb0zSCIiIiIm5OFTYRERExlipsTlPCJiIiIsZSwuY0jaCIiIiIm1OFTURERIylCpvTNIIiIiIibk4VNhERETGWKmxOU8ImIiIixlLC5jSNoIiIiIibU4VNREREjKUKm9M0giIiIiJuThU2ERERMZYqbE5TwiYiIiLGUsLmNI2giIiIiJtThU1ERESMpQqb0zSCIiIiIm5OFTYRERExlipsTlPCJiIiIsZSwuY0jaCIiIiIm1OFTURERIylCpvTNIIiIiIibk4VNhERETGWKmxOU8ImIiIixlLC5jSNoIiIiIibU4VNREREjKUKm9MuyRGcNWsWo0aNMrsbIiIiIlVCFTYRERExlipsTrskRnDr1q0MHjyYyMhIbrvtNo4ePQqAzWbjzTffZMCAAURHR9O5c2cmT55MUVERGRkZtGvXjq1bt9r3k52dTfv27Tly5IhZhyIiInLp8fCo%2BkcNU%2B0rbCdOnODee%2B8lPj6eO%2B%2B8k19%2B%2BYV77rmHdu3a8dlnn7Fw4UIWLVpEeHg4%2B/fvJy4ujjVr1jB06FC6devGxx9/TMeOHQFYvXo1UVFRNGvWrNLxMzMzycrKcmhr0CCEkJDQKj1OcTNRUa6P2bat408Xs1jMiefquHZ%2Bfq6P6ePj%2BNPFvFz8ieDp6fjT1cz4zD8b04zYZWWujylVp9onbN9%2B%2By3%2B/v7Ex8djsVjo1KkTgwcPZs%2BePfTo0YOOHTsSFhZGbm4uJ06cICgoiIyMDAAGDx7MlClTeOyxx/Dx8WHVqlXcddddFxV/2bJlzJ4926Ft3LjxJCUlVtkxXgyz3vjApE9Vsz7Nz6nMutySJaaENSeFAG9vkwI3b25SYKBJE1PCNjAlKgQFmRTYRP7%2Bro95%2BrTrY9rVwIpYVav2CVtGRgaNGjXCcs4Hd7NmzdizZw82m42XX36Z9evXU79%2Bfa644gpKSkqw2WwAxMbGMmXKFDZs2EDjxo05duwYffr0uaj4w4cPJzY21qGtQYMQSkudP7aL5emJKXEBPD1srg9qsYDNhLgAnTq5PmbbtuXJWlwcJCe7PHzxJtcmqRZLebJWUmLO0%2Bxz7KAJQX3Kk7Vjx6C42OXhc%2Bq4Nkn19CxP1k6eNOe9y4wiqodHebJWWFjDKl5K2JxW7RO2sLAwjh07RllZGR7/e0EcP34cgBkzZpCWlsY333xDrVq1ABgwYIB9Wx8fHwYMGMCnn35K48aN6du3LwEBARcVPzQ0lNBQx%2BlPs5ImcaFt28yLnZxsSnyzcmObzaTYRUUmBP2f4mJT4lsv7u2vypSWgtXq%2BrhmJkxlZTUsYROnVfuUNzY2FpvNxqxZsyguLmbnzp188MEHAOTl5eHr64unpydnzpzh7bffZu/evZSUlNi3HzJkCBs3buTLL7/k1ltvNeswRERELl266MBp1f6I69Spw/z58/n%2B%2B%2B/p0qULjz32mH1ac%2BLEiRQVFdG1a1diY2PZvn07gwYNYu/evfbt27ZtS7NmzfDw8KCTGdNcIiIiYoqcnBwSEhKIjo4mJiaG5557DusFyr3vv/8%2Bffr0ISoqij59%2BrB48WL7srKyMqKiooiMjCQqKsr%2BKCgoqLK%2BVvspUShPupYuXVrhskWLFv3p9k2aNOGqq66q6m6JiIgIuG1FbOLEiTRs2JCNGzeSnZ3N2LFjeeeddxgzZozDel999RUvvfQS8%2BbN4%2Bqrr2b79u3cc889BAcH06dPH1JSUigpKWHr1q34GHSVt3uOoIukpqby5Zdf8t///lfToSIiIkZxwynRw4cPs2XLFh544AH8/f1p2rQpCQkJDpWzszIyMoiPjycyMhKLxUJUVBQxMTH88MMPAOzYsYM2bdoYlqzBJVJh%2B6tmz57N119/zaOPPkpwcLDZ3REREZFKqug%2BqCEhIeddCHgh%2B/btIygoiIYNG9rbWrZsSVpaGqdOnaJOnTr29hEjRjhsm5OTww8//MAjjzwClCdsZ86cYfDgwRw7doyWLVsyefJk%2B31eq0KNTtimT59udhdEREQufQZMiVZ0H9Tx48eTmFi5%2B6Dm5%2Bfj/7sb4p39vaCgwCFhO1dWVhb33nsvHTp04KabbgLAz8%2BPq666igkTJlC3bl0WL17M3XffzerVq2natOnFHlqFanTCJiIiItVTRfdBDQkJqfT2AQEBFBYWOrSd/T0wMLDCbbZv386ECROIjo7mhRdewOt/Xw/y8MMPO6x399138%2BGHH7JhwwZGjhxZ6T79ESVsIiIiYiwDKmwV3Qf1YrRu3ZqTJ0%2BSnZ1tPy1q//79hIWFUbt27fPWX7FiBc8%2B%2ByxJSUnnfSvSyy%2B/TJ8%2BfWjXrp29rbi4GF9f37/cv9%2Br0RcdiIiIiAu44UUH4eHhdOrUieeff568vDxSU1OZO3cuQ4YMOW/ddevW8dRTTzFr1qwKv8Jy7969PPfcc2RlZVFcXMzs2bPJy8vjhhtucLqfZylhExERkRpp5syZWK1WevXqxbBhw%2BjevTsJCQkAREVFsXr1aqD8IsXS0lKSkpIc7rP25JNPAvDCCy/QrFkzBg0aRExMDFu2bGHBggUEVeEX5WpKVERERIzlpvdhCw4OZubMmRUu23bOVwCuWbPmD/cTFBTECy%2B8UKV9%2Bz33HEERERERsVOFTURERIzlphW26kQJm4iIiBhLCZvTNIIiIiIibk4VNhERETGWKmxO0wiKiIiIuDlV2ERERMRYqrA5TQmbiIiIGEsJm9M0giIiIiJuThU2ERERMZYqbE7TCIqIiIi4OVXYRERExFiqsDlNCZuIiIgYSwmb0zSCIiIiIm5OFTYRERExlipsTtMIioiIiLg5i81ms5ndiUuNWSNqsZgY21ri%2BqDe3lBiQlzgTJm3y2NaLODjA8XF5jzPvn4W1waMioKtW6FjR9i2zbWxgaxM1w%2BylxfUqwcnToDV6vLwBAe7Pqap71vUxDdrF/8dn7VvX9Xvs3Xrqt%2BnG9OUqIiIiBhLU6JO0wiKiIiIuDlV2ERERMRYqrA5TSMoIiIi4uZUYRMRERFjqcLmNCVsIiIiYiwlbE7TCIqIiIi4OVXYRERExFiqsDlNIygiIiLi5lRhExEREWOpwuY0JWwiIiJiLCVsTtMIioiIiLg5VdhERETEWKqwOU0Jm4iIiBhLCZvTNIIiIiIibk4VNhERETGWKmxO0wiKiIiIuDlV2ERERMRYqrA5TQmbiIiIGEsJm9M0giIiIiJuThU2ERERMZYqbE7TCIqIiIi4OVXYRERExFiqsDlNCZuIiIgYSwmb0zSCIiIiIm6u2lfYTp8%2BTUlJCfXr1ze7KyIiIlIRVdic5pIRnDVrFqNGjTJk3zfccAP79u0DYPXq1fTv39%2BQOCIiInJpycnJISEhgejoaGJiYnjuueewWq0VrrthwwYGDBhAZGQkffv2Zf369Q7L582bR48ePYiMjGTUqFEcOHCgSvta7VPeEydO2P89cOBAPv30UxN7IyIiIufx8Kj6RxWYOHEiAQEBbNy4kRUrVvD999/zzjvvnLfeoUOHSExMZMKECfz4448kJiYyceJEMjIyAFi1ahXvvfce8%2BfPZ/PmzbRv356kpCRsNluV9BMMSti2bt3K4MGDiYyM5LbbbuPo0aMAfPjhh8TGxjqsO2rUKGbNmgXAww8/TFJSEn379uWaa67hyJEjbN26ldtvv53rrruOK6%2B8kltvvZXt27cD0KdPHwDi4%2BOZN2/eefv/8ccfGTFiBNHR0cTGxvLKK69QXFwMlFf9kpKSuP/%2B%2B4mOjqZHjx68%2BOKLRgyHiIhIzeaGCdvhw4fZsmULDzzwAP7%2B/jRt2pSEhAQWL1583rqrVq0iOjqa3r174%2BXlRb9%2B/ejcuTPLli0DYPny5cTFxdG6dWt8fX2ZPHkyaWlpbN682el%2BnlXl57CdOHGCe%2B%2B9l/j4eO68805%2B%2BeUX7rnnHtq1a1ep7Tdu3MiyZcsICwvDx8eHoUOHkpSUxN///neKiop49NFH%2Bec//8mSJUtYt24dbdq0Yd68ecTExPDhhx/a93PgwAHuvPNO7r//fhYsWEB6ejqJiYnk5eXx%2BOOPA/DFF18wbdo0pk%2Bfzr///W/uvfdeevXqRWRkZKWPNzMzk6ysLIe24OAQQkNDK70PqX4sFvNimhEbgKgo18Zr29bxp4t5mXCGr6en408RubCKPn9DQir/%2Bbtv3z6CgoJo2LChva1ly5akpaVx6tQp6tSpY29PSUkhIiLCYftWrVqRnJxsXx4fH29f5u3tTXh4OMnJyVxzzTUXfWwVqfK3pG%2B//RZ/f3/i4%2BOxWCx06tSJwYMHs2fPnkptHxkZaR%2BU0tJSli1bxuWXX86ZM2c4duwYQUFB7Nix40/3s2bNGtq0acPo0aMBuPzyy5k8eTJJSUk8%2BuijAISHh3PzzTcD8Le//Y2QkBAOHTp0UQnbsmXLmD17tkPbuHHjSUpKrPQ%2BqpJpH%2Bbe3jUqro8pUcuZNdRs3WpO3CVLTAlbz5So5c75nKgRTHvfwrTA5hx0FU7PXXRoA8a6os/f8ePHk5hYuc/f/Px8/P39HdrO/l5QUOCQsFW0rp%2BfHwUFBZVaXhWqPGHLyMigUaNGWM55MTZr1qzSCdu5mbGnpyebN28mPj6egoICWrVqhZeXV6XmhHNycmjatKlD22WXXUZRURE5OTlAeSZ%2BLm9vb8rKyirVz7OGDx9%2B3jRvcHCIKX8XFot5f48Wa4nrg3p7Q4kJcYFim%2BuzJovl/w7ZjOfZ55qOrg3Ytm15shYXB//7X6wrnfja9Qmqp2d5snbqFJSWujw8QUGuj2nq%2BxZmBTbxoC8hFX3%2B/v5z/Y8EBARQWFjo0Hb298DAQId2f39/ioqKHNqKiors6/3Z8qpQ5QlbWFgYx44do6ysDI//zTEfP34cAA8PD/s5ZGede9EA4JDo/fzzz0ydOpWlS5fSoUMHAN5%2B%2B20OHjz4p/1o0qQJX3zxhUPbkSNH8PHxoW7duhd/YBcQGhp6XvlVf4eXPjOfY5vNpPjbtpkQlPJkzYTYF7hQzCVKS82NL1LVLrIWUikVff5ejNatW3Py5Emys7MJDg4GYP/%2B/YSFhVG7dm2HdSMiIti1a5dDW0pKij03ad26Nfv27aNnz54AlJSUcOjQofOmUZ1R5RcdxMbGYrPZmDVrFsXFxezcuZMPPvgAKJ8bzs7OZtOmTdhsNj7%2B%2BGP2799/wX2dPn0aDw8P/Pz8ANi%2BfTsLFy50SPp8fHw4ffr0edv279%2Bf/fv38%2B6771JcXMyRI0d46aWXGDBgAD4%2BZk5oiYiI1CxlZVX/cFZ4eDidOnXi%2BeefJy8vj9TUVObOncuQIUPOW3fgwIFs2bKFtWvXYrVaWbt2LVu2bGHQoEEADB48mEWLFpGcnMyZM2d48cUXCQ4OJjo62vmO/k%2BVJ2x16tRh/vz5fP/993Tp0oXHHnvMfjXnlVdeydixY3n44Yfp0qULmzZtsi%2BrSLdu3YiLi2PEiBF07tyZp59%2BmlGjRpGbm0t2djZQXhKdPHkyL7/8ssO2l112GW%2B99Rbr1q2ja9euxMXF0a1bN5588smqPmQRERGphmbOnInVaqVXr14MGzaM7t27k5CQAEBUVBSrV68GygtOc%2BbM4Y033qBz587MnTuXWbNm0bx5cwCGDBnCHXfcwbhx47jmmmvYvXs3b7zxBt5VeNKxxVaVNwkRwMTzMXQOm8ucKTPnHDYfHyguNud59vVz8UnSUVHlFzp07GjKlGhWpusH2csL6tWDEyfMmRL936yQS%2BkcNhNim%2BDMmarfp69v1e/TnVX7G%2BeKiIiIXOqq/XeJioiIiHsz4qKDmkYJm4iIiBhKCZvzNCUqIiIi4uZUYRMRERFDqcLmPFXYRERERNycKmwiIiJiKFXYnKeETURERAylhM15mhIVERERcXOqsImIiIihVGFznipsIiIiIm5OFTYRERExlCpszlPCJiIiIoZSwuY8TYmKiIiIuDlV2ERERMRQqrA5TxU2ERERETenCpuIiIgYShU25ylhExEREUMpYXOepkRFRERE3JwqbCIiImIoVdicpwqbiIiIiJtThU1EREQMpQqb85SwiYiIiKGUsDlPCZsBLNhMi2xW7FIPb5fH9DQpLoBvyh7XB/Xzg%2BbN8Tl2EIqKXB4%2BK9O1ry0vL6gHnPh6K1arS0MDEBJqcX3QqCjYupV6vTrCtm0uD59x3PXPcYMGkJuLKc9xnTquf44tlvI/5aIzFmwmvF37%2B7s%2BplQNJWwiIiJiKFXYnKeETURERAylhM15ukpURERExM2pwiYiIiKGUoXNeaqwiYiIiLg5VdhERETEUKqwOU8Jm4iIiBhKCZvzNCUqIiIi4uZUYRMRERFDqcLmPFXYRERERNycKmwiIiJiKFXYnKeETURERAylhM15mhIVERERcXOqsImIiIihVGFznipsIiIiIm5OFTYRERExlCpszlPCJiIiIoZSwuY8TYmKiIiIuDlV2ERERMRQqrA5TwmbiIiIyO8UFBQwdepUvvnmG6xWK7169WLKlCkEBgZWuP66deuYO3cuqampBAUFceutt5KQkICHR/lkZt%2B%2BfUlLS7P/DrBixQpatmxZqf4oYRMRERFDVccK29SpU0lPT2fdunWUlpYyceJEZsyYwZQpU85bd%2BfOnTz44IO88sor/O1vf%2BPgwYPEx8cTEBDAXXfdRV5eHgcPHuTrr7%2BmSZMmf6k/OodNREREDFVWVvWPzMxMdu3a5fDIzMyskv4WFhayZs0akpKSCAoKokGDBtx///18%2BOGHFBYWnrf%2BsWPHuO222%2BjZsyceHh60bNmSG264gR9%2B%2BAEoT%2BiCgoL%2BcrIGqrCJiIhINbRs2TJmz57t0DZ%2B/HgSExMrtX1RUREZGRkVLissLKSkpISIiAh7W8uWLSkqKuLQoUNcccUVDuv36dOHPn36OOz722%2B/ZcCAAQDs2LEDf39/Ro4cyb59%2B2jSpAmJiYn07NmzUn0FJWwiIiJiMCOmRIcPH05sbKxDW0hISKW3//nnn7n99tsrXDZhwgQAAgIC7G3%2B/v4A5Ofn/%2BF%2B8/LymDBhAn5%2Bftxxxx0AWCwWrrzySv7xj3/QuHFjPv/8cxITE1m0aBGRkZGV6q8SNhEREal2QkNDCQ0N/cvbx8TE8Ouvv1a4bPfu3bz66qsUFhbaLzI4OxVaq1atC%2B7zwIEDJCUl0aBBAxYuXGhfd8yYMQ7rDRw4kE8%2B%2BYR169ZVOmHTOWwiIiJiKCPOYTNS8%2BbN8fb2JiUlxd62f/9%2BvL29CQ8Pr3CbDRs2MHToULp37878%2BfOpW7eufdn8%2BfP5/vvvHdYvLi7G19e30n26pBK2J598kieffNLsboiIiMg5qlvC5u/vT9%2B%2BfZkxYwa5ubnk5uYyY8YMbrrpJvz8/M5bf/v27YwbN45HHnmEhx56CC8vxwnM9PR0nn76aVJTU7FaraxYsYJt27Zxyy23VLpPl9SU6DPPPGN2F0REROQSMGXKFKZPn86AAQMoKSmhV69ePPHEE/bl/fv3Z8CAAdx33328/vrrWK1WnnvuOZ577jn7Op06deKtt97iwQcfxMPDg7i4OE6fPk2rVq148803ufzyyyvdH4vNZrNVduVdu3Yxbdo0du7cSWBgIEOHDiUpKYmVK1eyZMkSjh07RnFxMV26dOGFF16gfv36zJo1i5SUFPz8/Pjyyy%2BpVasWjzzyCAcOHGDx4sVYrVbuuOMOEhISAGjTpg0PPPAAixYt4rfffqNLly4888wzNGzYEJvNxrx581izZg3p6elYLBZ69OjBc889h5%2BfHw8//DAA06ZNA2DhwoUsWLCAgoICunbtitVqJSIigsTEREaNGkVkZCRbt25l9%2B7dhIWFkZiYSL9%2B/So9eBdU%2BSGtWhaLabFLyywuj%2BnpCaWlLg9bHnvvHtcH9fOD5s3h4EEoKnJ5%2BKzgK/58pSrk5QX16sGJE2C1ujQ0ACGhrn9NExUFW7dCx46wbZvLw2ccd%2B37h5cXNGgAOTnmPMd16rg%2BpsVS/qdcVGTO2/X/zpt3uXXrqn6f51yUWSNUusJ28uRJ7rrrLkaNGsX8%2BfM5fvw4o0aNwt/fn7lz57Jw4UKuuuoqjh8/zujRo1m4cCETJ04Eyu/%2B%2B8orrzBt2jRefPFFJk%2BezOjRo9mwYQMbNmxg3LhxDBo0yH5/ko8%2B%2Boj33nuPoKAgHnzwQSZNmsSSJUv47LPPWLhwIYsWLSI8PJz9%2B/cTFxfHmjVrGDp0qEN/P/30U2bPns3rr7/OlVdeyfLly3nmmWccLtFdvnw5CxYsoFWrVsyZM4cnn3ySXr16XdSccmZmJllZWQ5tIcHBTp0IKdVABSVxw/n4OP50MS8X1%2BM9PR1/ulxUlOtjtm3r%2BNPFatpzbDEhJz8b04zYZtUSpGpU%2Bs9z/fr1%2BPr6Mm7cOCwWC82aNWPBggX4%2B/vTr18/LrvsMn777TcyMzOpX7%2B%2Bw71NWrVqxY033ghAt27dmDdvHvfddx/e3t72S3LT0tLsCduECRNo2rQpAA8%2B%2BCA33ngjR48epUePHnTs2JGwsDByc3M5ceIEQUFBFd5HZcWKFQwfPpyOHTsCMGLECFatWuWwTp8%2BfWjXrh0At9xyC6%2B//jo5OTk0bty40gNY4X1gxo0jMSmp0vuoUma8C2DeG65pH%2BbNm5sUGHDixovOqGdKVHOqIEB5pcssS5aYEraBKVEhKMikwCa6iLpAlangfq8uUx2/6cDdVDphy8rKolGjRljOSQhatGhBcXExM2bMYM2aNQQEBNCmTRvy8vI4d6Y16Jy/xrPfoXX26omzv5ed82yeO6d7NnnKysqibt26vPzyy6xfv5769etzxRVXUFJSQkWzuunp6Q43sQPsSeBZ596v5ewJgmUX%2Baqq8D4wwcHm/FdGU6Kui33koOuD%2BviUJ2vHjkFxscvDnwhybZLq6VmerJ06Zc7zXK9XR9cHbdu2PFmLi4PkZJeHz/nStUmqp2d5snbypDnP8QW%2BEtJQFkt5snbmTM2qeClhc16lE7awsDDS09Ox2Wz2pO2rr74iOTmZ//znP6xZs4bg4GAA7rvvPodtLRdZ9cnIyLBPXR49ehQoT9xmzJhBWloa33zzjf3eJmfvIvx7TZo0IS0tzaEtLS2NFi1aXFRf/kyF94GpSX%2BFNZUJ55DZFRebEt%2BMc4yg/IPclNgmnENml5xsSvya9hyb%2BVZts%2BmjQi5OpW/rcf3112O1Wnn99dcpLi7myJEjPP/88yxduhQvLy%2B8vb2xWq18/PHHbNy4kZKSkr/cqTlz5pCVlcWpU6eYPn063bt3p2HDhuTl5eHr64unpydnzpzh7bffZu/evRXGGjZsGMuXL%2BeXX37BarWycuVKtm/f/pf7JCIiIn9NdbuthzuqdMJWp04d%2B43frrvuOkaNGsVtt93GJ598QqNGjejZsyfdu3dn9erVxMXFsXfv3r/cqfbt2xMXF0dsbCx16tRhxowZAEycOJGioiK6du1KbGws27dvZ9CgQRXG6tOnD3fffTcJCQl07dqV77//ng4dOuDt7f2X%2ByUiIiJihou6rYcrtGnThoULFxITE%2BPUfpKTk6ldu7b9QgaAW2%2B9ldtuu41hw4Y5280/ptt6uIRu6%2BFauq2HC%2Bi2Hi6l23q4zscfV/0%2BBw2q%2Bn26s0vqmw7OtWnTJu677z6ysrKw2WysXbuWlJQUrr32WrO7JiIiUqNoStR5l9Q3HZxr5MiRHDt2jFtuuYX8/HxatGjBa6%2B9dt6VoiIiIiLuzu0Stl9//bVK9uPl5cVjjz3GY489ViX7ExERkb%2BmJlbEqtolOyUqIiIicqlwuwqbiIiIXFpUYXOeEjYRERExlBI252lKVERERMTNqcImIiIihlKFzXlK2ERERMRQSticpylRERERETenCpuIiIgYShU256nCJiIiIuLmVGETERERQ6nC5jwlbCIiImIoJWzO05SoiIiIiJtThU1EREQMpQqb81RhExEREXFzqrCJiIiIoVRhc54SNhERETGUEjbnaUpURERExM2pwiYiIiKGUoXNeaqwiYiIiLg5VdhERETEUKqwOU8Jm4iIiBhKCZvzlLAZ4EyxxeUxLRbw8YHiEgs2m8vD4%2BtjQlAseHqYERcy6l/h8pheXtAAyKnTHGuAy8MTGuz6mABBQebEzTju%2BteW/Tn%2BcitWq8vD0zDMxe9dUVGwdSsNbugI27a5NjbAP//p%2BpihoTB6NH7L3oXMTNfHf%2BAB18eUKqGETURERAylCpvzdNGBiIiIiJtThU1EREQMpQqb85SwiYiIiKGUsDlPU6IiIiIibk4VNhERETGUKmzOU4VNRERExM2pwiYiIiKGUoXNeUrYRERExFBK2JynKVERERERN6eETURERAxVVlb1D6MVFBTwyCOPEBMTQ6dOnXjwwQfJz8%2B/4PpTpkyhQ4cOREVF2R/Lli2zL583bx49evQgMjKSUaNGceDAgYvqjxI2ERERkd%2BZOnUq6enprFu3ji%2B%2B%2BIL09HRmzJhxwfV37NjB1KlT2bZtm/0xfPhwAFatWsV7773H/Pnz2bx5M%2B3btycpKQnbRXz5txI2ERERMVR1q7AVFhayZs0akpKSCAoKokGDBtx///18%2BOGHFBYWnrd%2BcXExe/fupUOHDhXub/ny5cTFxdG6dWt8fX2ZPHkyaWlpbN68udJ90kUHIiIiYigjEqzMzEyysrIc2kJCQggNDa3U9kVFRWRkZFS4rLCwkJKSEiIiIuxtLVu2pKioiEOHDnHFFVc4rJ%2BcnIzVamXmzJn89NNP1K5dm8GDSI%2BkcwAAIABJREFUBzNmzBg8PDxISUkhPj7evr63tzfh4eEkJydzzTXXVKq/SthERESk2lm2bBmzZ892aBs/fjyJiYmV2v7nn3/m9ttvr3DZhAkTAAgICLC3%2Bfv7A1R4Htvp06fp0qULo0aN4qWXXmLPnj2MGzcODw8PxowZQ35%2Bvn37s/z8/CgoKKhUX0EJm4iIiBjMiArb8OHDiY2NdWgLCQmp9PYxMTH8%2BuuvFS7bvXs3r776KoWFhQQGBgLYp0Jr1ap13vrdunWjW7du9t%2BvuuoqRo8ezdq1axkzZgz%2B/v4UFRU5bFNUVGTfd2UoYRMREZFqJzQ0tNLTnxerefPmeHt7k5KSwtVXXw3A/v377VOZv/fVV1%2BRnZ3NbbfdZm8rLi7Gz88PgNatW7Nv3z569uwJQElJCYcOHXKYcv0zuuhAREREDFXdLjrw9/enb9%2B%2BzJgxg9zcXHJzc5kxYwY33XSTPQk7l81m44UXXuD777/HZrOxbds2Fi5caL9KdPDgwSxatIjk5GTOnDnDiy%2B%2BSHBwMNHR0ZXukypsIiIiYqjq%2BE0HU6ZMYfr06QwYMICSkhJ69erFE088YV/ev39/BgwYwH333ccNN9zAI488wlP/v707D4uq/PsH/h5lFVRAQUBBU0v6uoIKoSWGG6QICkqPiJr0lD0i7huRomia5kJiuOeSS%2B6KhFG5pCml5pKaC/VVWWRQhggQZID5/UHOrwktijlzzwzv13VxIWeW%2B31kGD587vucExsLuVyOpk2bYsKECQgMDAQAhISEoLCwEOPHj4dCoUDHjh2xdu1amJqa1jgPCzYiIiKiP7G2tkZcXBzi4uKeentycrLG16%2B//rrGlOgfyWQyjB07FmPHjv3XeViwERERkaQMscOmb7iGjYiIiEjPscNGREREkmKHrfZYsBEREZGkWLDVHqdEiYiIiPQcO2xEREQkKXbYas9gO2y%2Bvr7Yv3%2B/6BhERET0NwztxLn6yGALNiIiIqK6Qm8KtszMTLRr1w7btm1Dz5490bVrV0yfPh1FRUVQqVRYs2YNXn75ZXTr1g0ffPABKioq1I%2BVy%2BWYNGkSfH190blzZ/Tp0wd79%2B4FAKxbtw4DBgzQGGvjxo0ICwsDAOzYsQN9%2B/ZFt27dEBAQgD179uhup4mIiOoAdthqT%2B/WsKWmpiIpKQkVFRUYP3485s2bBy8vL2zZsgUbNmzA888/j4SEBOTk5KgfExMTAxsbGyQnJ8PMzAxbt25FXFwc/P39ERQUhJUrV%2BLy5cvqC7gePHgQY8aMQUZGBhYtWoRDhw6hdevWOHXqFMaPHw8fH58aX1A2NzcXDx480NjWuLG9ZBekfRaZTPMzSctEwE9O/fqan0ladfJ77O6u2/Hc3DQ/65qO36cBAHZ2mp91KTdX92OS1uhdwTZ79mzY/f5CjoqKwjvvvIOcnBwMHz4c7du3BwBMnDgRu3fvVj9mwYIFsLKygqmpKbKzs2FlZYXS0lIUFBTA2dkZr7zyCg4dOoTOnTvj2rVryMzMhJ%2BfHwoKCqBSqbBr1y4MGDAA3t7euHTpEurVq3nj8bPPPkNCQoLGtvHjIxEVNUEL/xv/3D%2B4LJmWCaoUBVWoTZoIGRYAYGMjbmwRRP0RUie/xz/8IGbcHTvEjCtSQIDux1y6VPdj/q4udsS0Te8KtpYtW6r/7eTkhLKyMsjlcjg5Oam3169fH87OzuqvMzIysGTJEty5cwetWrVSP0fl76%2BQoUOHYu7cuZg9ezYOHDgAPz8/WFlZwcrKCtu2bcOGDRswbtw4VFRUYOjQoZg%2BfTrMzc1rlDc0NBS%2Bvr4a2xo3tkdZ2b/%2BL/hXZLKqYk2pBFQq3Y4NAGamAgaVycTsLIA8he6riPr1q36R//or8IcVATojoiEg8FsMhUL3Y4r%2BHjfp56HbAd3cqoq1ESOAGzd0OzYATJyo%2BzHt7KqKtaQkMS8yQViw1Z7eFWxyuRytW7cGULWuzdLSEk5OTsjIyFDfR6VSIff31q5SqcTbb7%2BNKVOmYMSIEZDJZLh69SoOHz6svr%2Bvry/mzp2Lb7/9FikpKYiPjwcA5OXloaKiAqtXr0ZlZSV%2B%2BOEHREVF4bnnnlOvcfs7Dg4O1aY/Hz8W90tGpRI3dl1SXi5u7IoKsePXFXXye3zxooBBUVWsiRhb5BShQsEpSvpH9OaggyeWLVuGoqIiyOVyfPTRRwgMDMSwYcOwe/duXLx4EUqlEomJiep1Y0qlEqWlpbCwsIBMJkN2djaW/t72VSqVAABTU1MMHjwY8fHxsLa2Rrdu3QAA2dnZGDt2LM6ePYt69eqhWbNmAABbW1sBe05ERGSceNBB7eldh83V1RWDBg1CSUkJAgIC1NOT%2Bfn5mDx5MgoKCuDn54d27doBABo0aID3338f8fHxWLBgAZo0aYLhw4cjPT0dt27dwnPPPQegalp0y5YtmDJlinqsjh07Ys6cOYiNjUVubi4aNmyIESNGwN/fX8i%2BExERET2N3hVsYWFhmDlzZrXt4eHhCA8Pf%2BpjAgMDERgYqLHtrbfe0vja0dERZmZmCAoK0tgeEhKCkJCQWqYmIiKiZ6mLHTFt07uCTdvKyspw9%2B5dbN26FT4%2BPuppTyIiItINFmy1VycKttdffx1OTk5Ys2aN6DhERERE/5jeFGwtWrTAzZs3tf681tbWuHDhgtafl4iIiGqGHbba07ujRImIiIhIk9502IiIiMg4scNWeyzYiIiISFIs2GqPU6JEREREeo4dNiIiIpIUO2y1xw4bERERkZ5jh42IiIgkxQ5b7bFgIyIiIkmxYKs9TokSERER6Tl22IiIiEhS7LDVHjtsRERERHqOHTYiIiKSFDtstceCjYiIiCTFgq32OCVKREREpOfYYSMiIiJJscNWe%2BywEREREek5dtiIiIhIUuyw1R4LNiIiIpIUC7ba45QoERERkZ5jh42IiIgkxQ5b7bFgk4C5mUrQyDKYmQoau7xc92OamooZF0CDBqY6H7Pe7/1wCwsxb34yiHhtyQSNCzRqJNP5mLLfh7SyAlQidnvJEt2O5%2BBQ9XniRCA3V7djA8CMGbof090dGD0aiI8HLl7U/fjTp%2Bt%2BTNIKFmxEREQkKXbYao8FGxEREUmKBVvt8aADIiIiIj3HDhsRERFJyhA7bI8ePUJcXByOHTuG8vJy9OnTB3PnzoWVlVW1%2B86ZMwdJSUka20pLS9GjRw9s3LgRlZWV6Nq1K1QqFWSy/78%2B9ttvv0WDBg1qlIcdNiIiIqI/iYuLw/379/HFF18gNTUV9%2B/fx4cffvjU%2B86fPx8XL15Uf6xatQqNGjXCrFmzAADp6elQKpX4/vvvNe5X02INYMFGREREEqus1P6HlEpKSpCUlISoqCjY2NigSZMmmDZtGvbv34%2BSkpK/fKxCocC0adPw7rvv4vnnnwcA/Pjjj2jXrh3MzMz%2BdSZOiRIREZGkpCiwcnNz8eDBA41t9vb2cHhyupi/UVpaCrlc/tTbSkpKoFQq8cILL6i3tWnTBqWlpbhz5w5efPHFZz7vhx9%2BiA4dOmDw4MHqbT/%2B%2BCMeP36M4OBgZGVloU2bNpg6dSo8PDxqlBVgwUZEREQG6LPPPkNCQoLGtsjISEyYMKFGj798%2BTJGjRr11NsmTpwIABpTlpaWlgCA4uLiZz5nRkYGDh8%2BjD179mhst7CwQKdOnTBx4kQ0btwY27dvR0REBA4fPgwXF5ca5WXBRkRERJKSosMWGhoKX19fjW329vY1fryXlxdu3rz51NuuX7%2BO%2BPh4lJSUqA8yeDIVam1t/czn3LdvH9zd3at14J6sZXsiIiIC%2B/fvx8mTJzFy5Mga5WXBRkRERAbHwcGhxtOf/9Rzzz0HU1NTpKeno3PnzgCAn3/%2BGaampmjVqtUzH5eamoqxY8dW275ixQoMGDAA//nPf9TbysrKYG5uXuNMPOiAiIiIJGVoBx1YWlrC398fH374IRQKBRQKBT788EMMGjQIFhYWT31Mfn4%2Bfv75Z3Tv3r3abbdu3cLChQvx4MEDlJWVISEhAUVFRejXr1%2BNM7FgIyIiIkkZWsEGAHPnzkWrVq0QEBAAPz8/tGjRAnPmzFHfPnDgQKxZs0b9dWZmJgCgWbNm1Z5r0aJFcHV1RWBgILy8vPD999/jk08%2BgY2NTY3zcEqUiIiI6E%2Bsra0RFxeHuLi4p96enJys8XXHjh2fuSbOxsYGixYtqlUeFmxEREQkKUO80oG%2BYcFGREREkmLBVntcw0ZERESk59hhIyIiIkmxw1Z77LARERER6Tl22IiIiEhS7LDVHgs2IiIikhQLttrjlCgRERGRnmOHjYiIiCTFDlvtscNGREREpOfYYSMiIiJJscNWeyzYiIiISFIs2GqPU6JEREREes7gCrbs7Gy4u7sjOztbdBQiIiKqgcpK7X/UNQY3Jers7IyLFy%2BKjkFERESkM1rrsGVmZqJdu3bYtm0bevbsia5du2L69OkoKirCqlWrMHbsWAQHB8PT0xPnzp1DUVER5s%2BfDx8fH3h7e2Py5Ml4%2BPAhAGDGjBmYOnWqxvNPmjQJ8%2BbNU4%2BTmZkJAMjKysKkSZPg7e2Nnj17YurUqcjNzQUAfPfdd2jXrp3G88yaNQuzZs0CAMjlcrz55pvw9PREr169EBkZqX4sERERaQc7bLWn9Q5bamoqkpKSUFFRgfHjx2PevHlwdXXF2bNnsWnTJnTq1Anm5uaYMmUKiouLsX//flhYWGDx4sWIjIzEzp07MXz4cERERKCoqAjW1tb47bffcOzYMezcuVNjLKVSibFjx6JDhw5ITU2FSqXCvHnzMG7cOOzevftvsy5fvhyOjo5ITEzE48ePERUVhXXr1iEmJqbG%2B5ubm4sHDx5obLNv2hQODg41fg4yPPUELCZ4MqaIsesimUzcmCLGBgDo%2Bn3Lzk7zs665u%2Bt%2BTDc3zc%2B6JHB2qi4WWNqm9YJt9uzZsPv9hy8qKgrvvPMOxowZAxcXF3h7ewMA8vLy8MUXXyAlJQVNmjQBAERHR6Nbt264du0aunXrBicnJ6SkpGDYsGE4cuQIWrdujfbt26s7awBw/vx5ZGRkYN%2B%2BfbC2tgYAzJs3D56enrh69erfZjU3N8e5c%2BeQnJwMb29vbNiwAfX%2B4W/Dzz77DAkJCRrbIsePx4SoqH/0PFoj6p3e1LROjWslaHcBwNJS1MiCXluCXtMWFkKGBQCYmwsaePRoMeMGBIgZV9T%2BAsCOHbofU9hfAqQNWi/YWrZsqf63k5MTysrKUFBQoNFxysrKAgAMHz5c47H169dHZmYmOnTogGHDhuHQoUMYNmwYDhw4gGHDhlUbKy8vD7a2tupiDQCsra1hY2ODrKwsNG3a9C%2BzxsTEYO3atdi4cSNmzZoFNzc3xMTEoFu3bjXe39DQUPj6%2Bmpss2/aFFCpavwcWiOTiRkXAMrLdT%2BmqSmgVOp%2BXADFZbqv2OrVqyrWSkrE/LVq1aBuvaZLH%2Bv%2Bl5tMVlWsPX4sZrctPtui2wHt7KqKtaQkQKHQ7dgAEB%2Bv%2BzHd3KqKtREjgBs3dD%2B%2BIOyw1Z7WCza5XI7WrVsDqFrXZmlpCVtbW8j%2BUNk3a9YMAJCSkgJ7e3v19vT0dLi4uAAAhgwZgpUrV%2BLMmTO4efMmBg0aVG2s5s2bIz8/Xz11CgCFhYXIz8%2BHvb29ultWVlYGMzMzAEB%2Bfj5sbW0BANevX0doaCgmTJgAhUKB1atXIzIyEmlpaTXeXwcHh%2BrTn6KKJtIZkW8%2BdXX9hq6J/DFWqQSNL2oNr0IhZmyRB7DduCF2fDI4Wl8Ns2zZMhQVFUEul%2BOjjz5CYGAgTEw068JmzZqhd%2B/eWLhwIfLz86FUKpGYmIiQkBD89ttvAAA7Ozu8%2BuqriImJQf/%2B/dG4ceNqY3Xs2BFt27bF3LlzUVhYiMLCQsTGxsLV1RUeHh5wdXWFiYkJkpOTAQBnzpzRKMbWrFmDuLg4FBUVoVGjRurikoiIiLSHBx3UntYLNldXVwwaNAiDBw%2BGu7s7oqOjn3q/JUuWoFGjRggKCsJLL72EkydPYsOGDRodt%2BHDhyMrKwshISFPfQ4TExOsXbsW5eXlGDBgAF599VUolUp88sknMDExgYODA6Kjo/Hxxx/Dw8MDn376KYYOHap%2B/Pz581FZWYk%2Bffqge/fuuHz5MuJFtMiJiIiMGAu22pOpVNppvGdmZqJPnz74%2Buuv0aJFC208peESNZfCNWw6U1gqZg2blRVQXCzmzaqhdd1aw1ZSKmYNm4UFUFoqZrctE5bqdkAHh6qF/1u2iJkSnTFD92O6uwM//AB4eIiZEhX08/SH5e1ac/eu9p9TnxnciXOJiIjIsNTFjpi28YxORERERHpOax22Fi1a4ObNm9p6OiIiIjIS7LDVHqdEiYiISFIs2GqPU6JEREREeo4dNiIiIpIUO2y1xw4bERERkZ5jh42IiIgkxQ5b7bFgIyIiIkmxYKs9TokSERER6Tl22IiIiEhS7LDVHjtsRERERHqOHTYiIiKSFDtstceCjYiIiCTFgq32OCVKREREpOfYYSMiIiJJscNWe%2BywEREREek5dtiIiIhIUuyw1R4LNiIiIpIUC7ba45QoERERkZ5jwUZERESSqqzU/oeulJSUIDQ0FPv37//L%2B12%2BfBnDhg2Du7s7fH19sWfPHo3bDxw4gH79%2BqFLly4YOnQoLl68%2BI9ysGAjIiIiSRlqwXb79m2EhYXh0qVLf3m/goICvPXWWwgKCsK5c%2BewcOFCLFq0CFeuXAEAfPfdd4iLi8PixYtx7tw5DB48GO%2B88w5KSkpqnIUFGxEREdGfnD17FqNHj8aQIUPg7Oz8l/dNTU2FjY0NwsLCYGJiAm9vbwQEBGD79u0AgD179mDgwIHo2rUrTE1NMWbMGNja2uLzzz%2BvcR4edEBERESSkqIjlpubiwcPHmhss7e3h4ODQ40eX1paCrlc/tTb7O3t4ebmhuPHj8Pc3ByffPLJXz7X7du38cILL2hsa9u2Lfbu3QsASE9PR3BwcLXbb9y4UaOsAAs2achkOh8yNzcXn332GUJDQ2v8YtUqU1OdDid6fxvqdncBVO3zpk0Cv8fQ7eta9PfY0lLnQyI3Nxfr1wv8Hk%2BfrtPhcnNz8dmqVXVmf4E/7PPRo4J%2BjsVQqbT/nKtWfYaEhASNbZGRkZgwYUKNHn/58mWMGjXqqbetXr0affv2rXGW4uJiWP7pTcPCwgKPHj2q0e01wYLNSDx48AAJCQnw9fWtE28CdW1/gbq3z3Vtf4G6t891bX%2BBurnPUgkNDYWvr6/GNnt7%2Bxo/3svLCzdv3tRKFktLSxQWFmpsKy0thZWVlfr20tLSarfb2trWeAwWbERERGRwHBwc9KbofeGFF/Dtt99qbEtPT8fzzz8PAHj%2B%2Bedx%2B/btarf36tWrxmPwoAMiIiKiWujXrx8ePnyIzZs3Q6lUIi0tDUlJSep1ayEhIUhKSkJaWhqUSiU2b96MvLw89OvXr8ZjsGAjIiIi%2BocGDhyINWvWAABsbW2xadMmHD16FF5eXoiJiUFMTAxeeuklAIC3tzfmzp2L2NhYeHp6Ijk5GevXr4eNjU2Nx%2BOUqJGwt7dHZGTkP5q/N2R1bX%2BBurfPdW1/gbq3z3Vtf4G6uc/G4NixY9W2JScna3zdsWNH7Nq165nPERgYiMDAwH%2BdQaZSSXHsBhERERFpC6dEiYiIiPQcCzYiIiIiPceCjYiIiEjPsWAjIiIi0nMs2IiIiIj0HAs2IiIiIj3Hgo2IiIhIz7FgIyIiItJzLNiIiIiI9BwLNiIiIiI9x4KNDJJCoRAdQXIZGRmiIxBJ4uHDhwCAsrIy7NixAykpKYITEek/FmwGTKFQYPPmzVi4cCGKiopw/Phx0ZEkVV5ejhUrVqBr167w9fVFRkYGgoODkZubKzqaJPz9/REeHo5Dhw6htLRUdByduXLlCg4dOoSDBw9qfBirsrIy5OTkIDs7W%2BPDWO3Zswd9%2B/YFACxduhSrV6/GwoUL8fHHHwtOJp0HDx7g/fffBwCcP38e3t7eGDhwINLT0wUnI0PCi78bqGvXruGNN95A69atcfPmTRw%2BfBgDBw7E3LlzERwcLDqeJFasWIG0tDRMmDABkydPxsmTJzF9%2BnSYmJggPj5edDyty8vLUxcu2dnZ8Pf3x9ChQ%2BHu7i46mmSWL1%2BO9evXw97eHiYmJurtMpkMX3/9tcBk0khJScHcuXNRWFio3qZSqSCTyfDTTz8JTCadwMBAzJgxAy%2B99BI8PT3V3%2B/w8HCcOHFCdDxJTJgwAY8ePcKGDRsQHBwMDw8PWFpa4sqVK9iyZYvoeGQoVGSQwsLCVPv27VOpVCpVt27dVCqVSvXNN9%2Bo/P39RcaS1KuvvqrKyclRqVQqVffu3VUqlUpVUFCg8vT0FBlLJ65du6ZasmSJqn///io/Pz/V%2BvXrVXl5eaJjaZ2Pj4/qxIkTomPojL%2B/v2rFihWqO3fuqDIzMzU%2BjNWTn90LFy5o/Oy6u7uLiiQ5Hx8fVXFxsUoul6vc3NxUCoVCpVQqVR4eHqKjkQHhlKiBunXrFgIDAwFUdR8A4JVXXoFcLhcZS1KPHj2CnZ0dgKouBABYWFigXj3jfhmXl5erp8ny8vJgaWmJy5cvo3///jhw4IDoeFpVXFyMXr16iY6hM/fv30dkZCRatmyJ5s2ba3wYq8aNG%2BPu3bv44osv4OnpCQBIS0uDvb294GTSKSkpgYWFBc6ePYsXXngBtra2KC0t1egiE/0dvloMlJ2dHX755Rc8//zz6m2//PILmjZtKjCVtLp06YKEhARMnjxZXaRu27YNHTt2FJxMGpcuXcKhQ4eQkpICmUyGgIAAfPrpp3BzcwMAfPnll3j33XcxZMgQwUm1p3fv3khKSsLgwYNFR9GJ9u3bIz09Xf09rQveeOMNBAQEAKj6%2Bb1w4QLefvttzJ07V3Ay6XTq1AmxsbG4cOEC/P398fDhQ8yfP19dsBLVBNewGaitW7di8%2BbNGDduHBYvXowFCxYgMTERQ4YMwdixY0XHk0RGRgZGjx6N8vJy5OXloWXLliguLsYnn3yC1q1bi46nde3bt0fPnj0RHBwMX19fmJqaatyemZmJhIQELF68WFBC7YuKisJXX32FVq1aVfvjY%2BvWrYJSSWf58uXYvXs3/Pz8qu1vZGSkoFTSy8jIgImJCZycnKBQKJCdnY0OHTqIjiWZ3NxcLF%2B%2BHObm5oiJicH169eRmJiIBQsWGPUf2aRdLNgM2Pbt27Fjxw5kZWWhWbNmCA0NxZgxY4x6irCkpAQnTpxAVlYWHB0d0bt3b1hbW4uOJYnc3Fw4ODiIjqFTCQkJz7zNGAuY8PDwp26XyWRGWaACVfscHByMAQMGwNLSUnQcIoPBgo0MRllZGVavXo2QkBC4uLhgy5YtyM/PR1RUlFEWqWVlZUhKSoJcLkdlZSUAQKlU4tatW0hMTBScTnp5eXlo3Lgx1/kYmY0bN6qPfPbz81MfNWnMZs%2Be/czbFi1apMMkZMj4TmignvUGYGpqCjs7O/Tu3RtdunTRcSppLVq0CJcuXUJoaCiAqinDxYsXo6ysDDNmzBCcTvuio6Nx6tQp2NraQqlUokGDBrh9%2BzaCgoJER5OMUqnE0qVLsWfPHpSWlsLMzAyDBw/Ge%2B%2B9BzMzM9HxtO5ZHUUzMzPY2tqiR48eRncAQkREBCIiInDt2jUcOHAAUVFRsLa2RnBwMAIDA%2BtEVzk/Px9paWlGewomkgY7bAZqzpw52L9/P/r27QsXFxdkZ2cjNTUVPXr0gLm5OU6dOoWFCxfitddeEx1Va3r27ImkpCT1kaJA1RnTg4KCcPr0aYHJpOHl5YWdO3dCoVBg586dWLZsGTZt2oQrV65g5cqVouNJIj4%2BHseOHcOUKVPQokUL3Lt3DytWrMDLL79slEV5VFQUUlNT0bFjR/XP8aVLl9CxY0dUVFTgl19%2BQWJiIry9vUVHlURFRQVOnz6N%2BPh4XL9%2BHebm5vDx8cGsWbPg7OwsOp6kzpw5gx07dvzlMgAiDcJOKEK18uabb6q%2B/PJLjW0nTpxQvf322yqVSqVKS0tTDRo0SEQ0yXTt2lVVUlKisa2kpETl5eUlKJG0npxfLy8vT31%2BvdLSUlXPnj1FxpJUnz59VPfu3dPYdvfuXdXLL78sKJG0Jk%2BerNq%2BfbvGtr1796qmT5%2BuUqlUquTkZFVISIiIaJK6fPmyKi4uTuXt7a3y9vZWvf/%2B%2B6obN26o8vPzVTExMaqAgADREXWia9euoiOQATG%2BhT91xOXLl%2BHr66ux7ZVXXsH58%2BcBVHVnsrKyRESTTLdu3bBo0SKUlZUBAB4/fowlS5YY7foXR0dHZGRkwM7ODnl5eXj06BFUKhWKi4tFR5NMQUEBnJycNLY5OTkZ7aW5zpw5o57ifyIoKAgnT54EUHV5sl9%2B%2BUVENMn4%2BflhxIgRyMzMRGxsLL755hvMnj0b7dq1g42NDUaNGmXUl%2BYCqs6tePDgQY3ZAqK/wzVsBsrOzg6nTp2Cj4%2BPetvZs2dhY2MDoOqw%2BcaNG4uKJ4l3330Xb775Jjw8PGBra4v8/Hw899xzWLNmjehokggICMCIESOwd%2B9e9O7dG%2B%2B88w7Mzc2N%2BvQH7dq1w65duzBy5Ej1tl27duGFF14QmEo6DRo0wNWrV9G5c2f1tuvXr6vX6z05UbIxGTp0KIYMGfLME%2BW2bNnS6C5R5ebmpj535BP169fHu%2B%2B%2BKygRGSKuYTNQycnJmDVrFvr3748WLVogMzMTX331FebNm4dOnTph9OjRGDlyJN5%2B%2B23RUbWqoqICFy5cwMOHD%2BHo6IhOnToZ9VGEKSkp8PHxQWVlJT788EMUFRVh0qRJaNGihehokjh//jzGjh0LNzc3uLi44N69e0hPT8fGjRuNspO6detWrF69Gq%2B//jqaN2%2BOrKws7NmzBxEREfDpB532AAAQp0lEQVT398e4cePg7e39l0cZGqKSkhIUFBRUO/q5X79%2BgpNJ4/vvv9f4ul69emjZsqVRX92BtI8FmwG7dOkS9u3bh5ycHDg7O2P48OFo164dMjMzkZ6ejr59%2B4qOqHVlZWVQKBTqN/onjGmBcnh4eLW/xv/MWM/RBVRdsSMpKQl5eXlo0aIFBg4caHRHSv5RcnIy9u3bh/v378PZ2RmhoaHo378/bty4gbS0NISHh6N%2B/fqiY2rNvn37EBcXh8ePH2tsb9KkiVEePPREZWUlrl69iszMTDg4OMDDw8MoT0dE0mHBZqDu3buH1atXVztH13//%2B1%2BkpaUJTieNlJQUzJkzB0VFReptKpUKMpkMP/30k8Bk2vXkqLEnXdPg4GC4uroiJydHfVb8efPmCU5J9O/069cPYWFhsLKywrlz5zB69GgsXboUPXv2xP/%2B7/%2BKjieJBw8eYNy4cbhx4wZsbGyQn5%2BPVq1aYdOmTXB0dBQdjwwECzYDFR4eDpVKBVtbWygUCrz44os4ePAgxowZY5RnhAeA1157Df3798eQIUOqTYMaYwdmxIgRmDZtmsZU4NWrV/Hee%2B8Z3UXfAwICkJSUBF9f32d2F7/%2B%2Bmsdp5JObGwsYmNj6%2BQJVbt06YKLFy8iKysL06ZNw65du5CdnY0xY8YgNTVVdDxJTJs2DSqVCvPnz4eVlRUKCwsRGxuL8vJyxMfHi45HBsJ4F/8YuatXr%2BLEiRPIzs7GypUrERMTg169emHt2rVGW7Ddv38fkZGRRr1m7Y9%2B%2BuknjcXoQNWi/Dt37ogJJKG33noLADBhwgTBSXSjLv%2Bd3KRJEyiVSjg5OeG///0vgKolDXl5eYKTSSctLQ1Hjx6FlZUVAKBhw4aIjY1Fnz59BCcjQ1I3fvMZIUtLS/Vle27dugUA6NWrF2bOnCk4mXTat2%2BP9PR0uLm5iY6iE23atMHmzZsRERGh3rZmzRqj3P%2BAgAAAgEKh0NjfJ4ztRMFPprSNtYv2Vzp16oQ5c%2BbgvffeQ6tWrbBz505YWFioj3A3RpWVldU6xzKZDKampoISkSFiwWagXF1dcfLkSfURhBkZGTAzM0N5ebnoaJLx8PDAmDFj4Ofnh6ZNm2rcZoxdxejoaIwbNw7btm2Do6MjsrOzUVlZiY0bN4qOplUKhQI///wzAGDVqlXo3LmzRgeqsLAQW7ZswaRJk0RFlExdvF7s7NmzERMTg%2BLiYkyfPh3jxo1DaWmpURevXl5eiI2Nxbx589CgQQMUFxcjNjYWnp6eoqORAeEaNgN17NgxTJ48GUeOHEFSUhK2b9%2BO%2BvXro0ePHli8eLHoeJIIDw9/6naZTGa0R03%2B%2BuuvOHHiBORyORwdHeHr64uGDRuKjqVVRUVF6NevH/Lz8596u5mZGUJDQ43ynFXTpk175vVijfXn%2BM/Ky8uhVCqN7nxzf5SdnY033ngDWVlZsLGxwa%2B//oq2bdti7dq1aNasmeh4ZCBYsBkwuVyOJk2awMTEBJ9//jmKiooQFBRklBfJprrBz88PR48eFR1DZ%2BrS9WIPHjz4t/cJCgrSQRIxysvLce7cOSgUCjRv3hwdO3Y0qtO1kPRYsJFBSUtLg1wuV0%2BZKZVK3Lx5EzExMYKTkZQUCoVRXsane/fu6l/iI0eOxOeff47Hjx%2BjT58%2BRndOsieX0qusrIRcLoeNjQ2cnZ2Rm5uLBw8ewM3NrUZFnSHJyclRL2d4FmM6hyRJi2vYyGAsWLAAu3btUh9pVVFRgeLiYrzyyiuCk5G2XLlyBUuWLKm2pkuhUODq1auC02nfk%2BvFuri4qK8XW69ePaO8XuyxY8cAAB988AHMzMwwceJE9YljP/74Y2RmZoqMJ4nXXnsNP/zww1NPV2OM55AkabHDRgajZ8%2BeWL16NUpKSnD48GG8//77%2BOCDD/Do0SPMnz9fdDzSgpCQELi4uMDGxgYZGRno2bMntm7dilGjRuGNN94QHU/r1q1bh23btmHv3r1Yvnw5cnJyYG5ujpKSEmzbtk10PEl4enri22%2B/1ThCsry8HF5eXrhw4YLAZNp3//59ODk5ISsr65n3McZzSJI0eF0MMhglJSXo0qUL2rZti2vXrkEmkyEyMtLoLhRdl92%2BfRuLFi1CWFgYKioq8MYbb2DFihVISkoSHU0Sb731FqKjo9GwYUP1aS4aNmyI999/X3Q0yZibm6uPCn7i6tWraNSokaBE0nFycgIAbNq0CYWFhWjevHm1D6Ka4pQoGQxHR0fk5eXB3t4eOTk5UCqVsLCw0LhUFRm2Ro0awcLCAi4uLrh9%2BzaAqjPj/1WHwtD5%2B/sjOzsbDx48wPjx4%2BHg4CA6kqTCwsIQERGBYcOGwdnZGRkZGdi9ezeioqJER5NMXl4eQkND0aZNGwwbNgyDBg0yuqO9SXos2Mhg%2BPj4YMyYMdiyZQu6d%2B%2BO6OhomJubo1WrVqKjkZa0bt0aO3fuxP/8z/%2BgQYMG%2BOmnn2BmZvbMy1UZutzcXEyZMgXnz58HUHWKml69emHp0qVG2XECgHHjxsHe3h6HDx9GSkoKnJ2dMXfuXLz22muio0lm5cqVKCwsRFJSEg4cOIAPPvgA/fv3x7Bhw9C9e3fR8chAcEqUDMaUKVMQGBgIU1NTzJkzB/n5%2BUhPT0dcXJzoaKQlEydOxMqVK3Hv3j1ERERg%2BPDhCA4OxpAhQ0RHk8ScOXPQqFEjHD16FFeuXMGRI0cAAAsXLhScTDrFxcX47rvvcPHiRdy9exeXLl3C%2BfPnUVZWJjqapBo2bIgRI0Zg9%2B7dSExMxPnz5zFq1CjRsciA8KADItIbGRkZcHBwgKmpKerVq4crV66gsLAQPXv2FB1NEl27dsXJkydhbW2t3vbbb7%2Bhb9%2B%2B%2BP777wUmk86MGTNw9%2B5dREVFwcnJCRkZGVi1ahU8PDwQHR0tOp5kiouLcfToURw8eBBXrlxB7969MXz4cKN9bZP2cUqU9N7s2bP/9j7GfFmbuiQ0NBSpqakwNzcHUHXdSWPWqFEj/PbbbxoFW1lZmVFfV/P48eM4evQomjRpAqBqGtzNzQ2BgYFGW7BNnToVx44dg6OjI4YNG4b4%2BHijPK8gSYsFGxHpDRsbG8jlco0CxpiNHDkSb7/9NiZNmoSWLVtCLpcjISEBvXr1wrlz59T3M6Z1Tubm5tXO8G9lZWXUl6YyMTHB%2BvXr0a1bN9FRyIBxSpSI9MbEiRNx%2BvRpdOnSpdrRksbYRXVzc/vb%2BxjbyVU//fRTpKamIjo6Wl2kLlu2DK6urggLC1PfzxivAHD9%2BnVkZmaid%2B/eKCwsVHcZiWqCBRsZjLKyMiQlJVU7C/6tW7eQmJgoOB1pw19NfxtjwVYX/bFIlclk%2BOOvoCdfG1uRqlAo8H//93%2B4evUqTE1NsXfvXoSEhGDTpk1wd3cXHY8MBAs2MhjTpk3DqVOnYGtrC6VSiQYNGuD27dsICgrC4sWLRccj%2Blfu37%2BPrKysaoWLsU6f1fScesZ0UtkpU6bA2toas2fPVk93JyYm4ptvvsHOnTtFxyMDwTVsZDBOnTqFnTt3QqFQYOfOnVi2bBk2bdqEK1euiI5GWpKQkPDM2yIjI3WYRDcSExMRHx9fbbuxdZj%2ByJgKsZr67rvv8NVXX8HS0lJ9TsE333wTmzZtEpyMDAkLNjIYlZWVaN26NWxsbNS/zMLCwvimZ0S%2B%2B%2B47ja9//fVX/Pzzz/Dz8xOUSFqbN2/G6tWrn3pxcDIepqamKC0thaWlpbqTWlxcDCsrK8HJyJCwYCOD4ejoiIyMDLi4uCAvLw%2BPHj1CvXr1UFxcLDoaacnTLnh%2B6NChaoWcsTAxMUHv3r1ZrBk5X19fTJ8%2BHTExMZDJZMjLy8OCBQvg4%2BMjOhoZEK5hI4Oxbt06bNu2DXv37sXy5cuRk5MDc3NzlJSUPPUXPRkPLy8voyzaPv74Yzx69Ajjxo2rM6cyqYuKi4sxe/ZspKamAqia8vbx8cHSpUt5TVGqMRZsZFBSUlLwyiuvoLCwEGvXrkVRUREmTpwIFxcX0dFIIt9//z1mzpyJ48ePi46idUePHsXUqVPVRz3/kbGuYauLzp8/D3d3dxQUFCAzMxOOjo7VTltD9Hc4JUoGo7i4GKdPn8asWbNQVlYGS0tLhIaGolmzZqKjkZb8eS2XUqnEw4cP8c477whMJZ3Fixdj7Nix6NGjR7WTyZLxGD9%2BPE6cOAE7Ozte4YD%2BNRZsZDAWL16M9PR0fPzxx%2BprEMbHx2PFihWYOXOm6HikBRMmTND4ul69emjTpg06dOggKJG0CgsLMXXqVNExSGIuLi748ccf4enpKToKGTBOiZLBePnll3H48GGNv1BzcnIQEhKC06dPC0xGtRUeHv63C%2B%2B3bt2qozS6M2vWLPTp0wf9%2BvUTHYUkFBERgbS0NLRo0QIODg4ar3VjfF2TNNhhI4NhaWlZbdqoQYMGT13/Q4bFy8sLAJCZmYmvvvoKwcHBcHV1RU5ODnbv3m20p/UoLS3FxIkT0aZNG9jY2PAXuZFyd3eHu7s7ysrKUFBQAFtbW5iY8Ncv/TN8xZDey87OBgAEBQVh8uTJmDVrFpo3b47c3FwsXboUY8aMERuQau3JSXFHjBiBdevWwcPDQ33bgAED8N5774mKJqm2bduibdu2omOQxMaMGYP58%2Bfj6NGj6vW3QUFBf3kpNqI/45Qo6T03N7enXnMQgFFed7Auc3d3x/nz5zU6qUqlEp6enrh48aLAZET/3syZM3Hnzh1ERUWp19%2BuWrUKHh4eiI6OFh2PDAQLNtJ7Nbn2YF283I0xCgkJgb%2B/PyIiItTbVq1ahTNnzhjlNRfz8/Oxbds2yOVy9dS%2BUqnErVu3cPjwYcHpSFu6d%2B%2BOo0ePokmTJuptcrkcgYGBSEtLE5iMDAmnREnvsRirO6KjozFu3Dhs27YNjo6OyM7ORmVlJTZu3Cg6miRmz56NO3fuwM7ODkVFRXB2dsbp06cRFhYmOhppkbm5ebX1t1ZWVrC0tBSUiAwRO2xEpFd%2B/fVXnDhxAnK5HI6OjvD19TXas8F37doVn3/%2BOeRyOdatW4eEhAQcOnQIR44cwfr160XHIy359NNPkZqaiujoaLRs2RJyuRzLli2Dq6urRnHu7OwsMCXpOxZsRESCPLnk1m%2B//Ybg4GB8%2BeWXKC8vh4%2BPD7799lvR8UhL3Nzc1P9%2B2npcrsWlmuCUKBGRIM2bN8fVq1fRoUMHFBcXQ6FQwMTEBKWlpaKjkRZ9/fXXoiOQEWDBRkQkyIgRIxAeHo7k5GQMGjQIo0ePhomJCbp37y46GmkR1%2BGSNnBKlIhIoPXr12Pw4MGws7PD2rVrsXv3bhw5cgSNGjUSHY2I9Eg90QGIiOqqjz76CDt27EBJSQlMTU3x4osvwtTUFLt37xYdjYj0DDtsRESC9OrVC9u3b4eLi4t627179zB69GgcP35cYDIi0jfssBERCVJUVAQnJyeNbU5OTnj06JGgRESkr1iwEREJ0r59e6xbt05j26ZNmzROA0FEBHBKlIhImGvXrmHs2LGwtLSEo6MjcnJyUF5ejg0bNrBoIyINLNiIiAQqKCjA8ePHkZubCycnJ/Tu3dtor%2BxARP8eCzYiIiIiPcc1bERERER6jgUbERERkZ5jwUZERESk51iwEREREek5FmxEREREeo4FGxEREZGeY8FGREREpOf%2BH4VOP6nyJ1YNAAAAAElFTkSuQmCC\" class=\"center-img\">\n",
       "    <img src=\"data:image/png;base64,iVBORw0KGgoAAAANSUhEUgAAAmwAAAIgCAYAAAA4DzUyAAAABHNCSVQICAgIfAhkiAAAAAlwSFlzAAAPYQAAD2EBqD%2BnaQAAADh0RVh0U29mdHdhcmUAbWF0cGxvdGxpYiB2ZXJzaW9uMy4yLjIsIGh0dHA6Ly9tYXRwbG90bGliLm9yZy%2BWH4yJAAAgAElEQVR4nOzdd3hUZfr/8fekT2ihpNBiFAhI0QQCKE0J%2BENQmlQpAioqgQT8YgF0dRVB2AVRuiIWBFYQREVxsSHiroIYYiUCASQQSKOG9GR%2Bf8TMMhI0ODlzJuTzuq5ckNPu5zyTzNy5n3OeY7HZbDZERERExG15mN0AEREREfljSthERERE3JwSNhERERE3p4RNRERExM0pYRMRERFxc0rYRERERNycEjYRERERN6eETURERMTNKWETERERcXNeZjdARCpGYmIiGzZs4KuvviI1NZW8vDzq1KlDs2bNuPnmmxk8eDB%2Bfn5mN1NERP4Cix5NJVL5LVy4kGXLllFcXEz16tUJDQ3F29ub9PR0UlJSAKhfvz5LliyhVatWJrdWREQulxI2kUpu48aNzJgxA39/f5599lluueUWPD097euTkpKYMWMGCQkJ1K5dmy1btlCnTh0TWywiIpdL17CJVHLLly8H4JFHHuHWW291SNYAmjRpwrJly6hbty6nTp1i1apVZjRTREScoIRNpBI7e/YsR44cAeD666%2B/5HZ16tShZ8%2BeAHz//fcuaZuIiFQc3XQgUol5ef3vV3jbtm20bNnyktvGxsZy1113UbduXfuyadOmsWnTJqZPn07Xrl1ZsGAB33zzDfn5%2BVx11VUMHDiQ4cOH4%2BvrW%2BYxv/nmG9544w3i4%2BM5ffo0NWvWJCIigtGjR3PjjTeWuc/Zs2d588032b59OwcOHCArKwur1UpoaCjdu3fnrrvuolatWg77NG/eHID//Oc/zJkzh08//RQPDw9atWrFK6%2B8wuOPP86mTZt45plnaN%2B%2BPYsWLeLrr7/m3LlzNGrUiCFDhjB27FgsFgsfffQRr7/%2BOnv37qW4uJgWLVowYcIEbrrppovampuby8aNG/nkk0/45ZdfOHv2LD4%2BPjRo0IAuXbowbtw4goODHfaJjo7m2LFjbNmyhczMTF5%2B%2BWW%2B%2B%2B47srOzadSoEb179%2Baee%2B6hWrVql3ytRER%2BT9ewiVRyd955J/Hx8VgsFvr378/gwYNp27btRUOjZSlN2O644w62bt1KdnY2zZo1o7CwkIMHDwLQrl07XnzxRWrUqOGw77x581ixYgUAtWrVolGjRqSlpZGeng7Avffey8MPP%2Bywz%2BHDhxk7dizHjx/Hy8uL0NBQrFYrx44d4/Tp0wBcffXVbNy40SGhKU3Y2rZty549ewgPD%2BfkyZN07NiR%2BfPnO5zHhx9%2BSGFhIU2aNCEzM9Penvvuuw%2BLxcKLL75IzZo1ady4MYcOHSI7OxuLxcJLL71Et27d7DFPnjzJmDFj2LdvHxaLhdDQUGrUqEFqaqr9mHXr1uXtt98mJCTEvl9pwjZu3Dhee%2B01fHx8CAsL48yZM5w4cQKAyMhI1qxZU67XSEQEAJuIVGo//fSTLSIiwhYeHm7/atu2rW38%2BPG2F1980ZaQkGArKioqc99HH33Uvk/37t1tP//8s31dfHy8rVOnTrbw8HDb3/72N4f9/vWvf9nCw8NtUVFRtnfffde%2BvLi42PbBBx/Y27N%2B/XqH/UaNGmULDw%2B3DR061Jaamuqw36ZNm2wtWrSwhYeH21avXu2wX2kbW7dubdu1a5fNZrPZioqKbKdOnbroPO68805bWlqafZtp06bZwsPDbS1atLA1b97ctnLlSnt/nDx50jZgwABbeHi4bdSoUWX2zS233GI7dOiQw7ovvvjCdv3119vCw8Ntc%2BbMcVjXvXt3e1umTZtmO3v2rP0cV69ebV/38ccfl/maiIiURdewiVRyLVu25K233qJdu3b2ZVlZWWzfvp358%2BczdOhQunTpwoIFC8jJySnzGB4eHixdupRrr73WviwyMpK5c%2BcC8NZbb5GamgpAfn4%2BixYtAmD27Nn069fPvo/FYqFPnz72ytqiRYsoLCwEIDMzk/379wMwc%2BZMgoKCHPYbMGAAHTp0AOCXX34ps529e/emffv29jYHBAQ4rPfy8uK5554jMDDQvs19990HQHFxMf379%2Bfuu%2B/Gw6Pkra927drcddddAPz888/24xQWFrJ7924sFgvTp08nLCzMIU7Xrl3p06cPAPv27SuzrS1atGD27Nn2yqTFYmHkyJH2auG3335b5n4iImVRwiZyBWjatClr167lnXfeYdKkSURGRuLt7W1fn5mZyfLly%2BnXr599WO5CN9xwAy1atLhoeZcuXWjUqBHFxcVs27YNgD179pCRkUG1atXo0aNHme3p168fHh4epKam2hOhunXr8vXXX/Pdd98RHh5%2B0T5FRUVUr14dKLl2rCwXJqVlad68ucPwJEDDhg3t/y/rOrXSxDErK8u%2BzMvLi08%2B%2BYTvvvuOm2%2B%2B%2BaJ9bDYb/v7%2Bf9jWm2%2B%2BGYvFctHya665BoBz58794bmIiFxINx2IXEGuvfZarr32WmJjY8nJySE%2BPp4vv/ySd999l8zMTI4cOcLkyZNZt26dw37XXXfdJY/ZvHlzjh49yuHDhwHsVbKCggJGjhx5yf08PT0pLi7m4MGDDsf38/Pj%2BPHjfPfddxw5coTk5GSSkpLYu3cv2dnZQEk1rCyllbNLqV%2B//kXLfHx87P%2BvXbv2ResvvHHj93x9fcnMzCQhIYHDhw9z9OhRDh48yN69ezlz5swftvXCCuKFSp82UVRUdOkTERH5HSVsIlcoq9VK586d6dy5M5MnT2bGjBl88MEHJCQk8NNPPzk88eD3d2VeqLSSdPbsWeB/laH8/Hzi4%2BP/tB2l%2BwEcPHiQf/zjH2zfvt0h0alevTpRUVGkpaWRmJh4yWP92aO1rFbrH64vHQotj/T0dObOncu///1vCgoKHGK0adOGoqKiPxzWvDBRLItN93uJyGVQwiZSiT3xxBN8/fXXDBw4kAkTJlxyOz8/P55%2B%2Bmk%2B%2BugjCgoKOHTokEPCVlrZKkvpUGHpdCClSVGrVq14%2B%2B23y93WzMxMRo0aRWZmJg0aNGDo0KG0bNmSa665hkaNGmGxWJg6deofJmyukpeXx5gxY0hKSiIgIIA777yT1q1b06RJE0JDQ/H09GTBggW6Dk1EXEYJm0gllpeXx6%2B//sonn3zyhwkblFSxqlWrxunTpy96NFXpMGdZShOopk2bAiXTbkDJFB2FhYVlDinabDZ27txJSEgIDRo0wMfHh40bN5KZmUlAQAAbN24s8/FYpTc2mO2TTz4hKSkJLy8v1q1bd9FNB0CZ1wKKiBhFNx2IVGKld2j%2B%2BOOPf1rt%2BvLLLzl9%2BjQBAQEXPRXhiy%2B%2BsM8tdqFt27Zx/PhxfHx8iI6OBqB9%2B/bUqFGD8%2BfPXzLm5s2bGTNmDL1797YnNkePHgWgQYMGZSZrBw4cICEhATD/%2Bq7StlarVq3MZC0jI4PPP/8cML%2BtIlI1KGETqcQ6d%2B5Mr169AHj88ceZNWuWPdkolZeXx8aNG5kyZQoAkydPvmiW/ezsbGJiYjh%2B/Lh92c6dO5k%2BfTpQMuls6fQU/v7%2B9qkyZs2axcaNGx2uR/vkk0948skngZJpOEJDQ4H/3R2ZmJjI1q1b7dvbbDa%2B%2BOIL7r33Xvu1YpeafsRVStt65swZXn/9dYfrzRISEhg3bpx9ol%2Bz2yoiVYOGREUquXnz5uHv788777zDqlWrWLVqFQ0aNKBu3brk5eVx%2BPBh8vPz8fb2ZurUqYwYMeKiY4SFhbF371569uxJeHg42dnZ9rtCb7/9du6//36H7cePH09ycjLr169nxowZ/POf/6RRo0akpqaSlpYGlDyV4JlnnrHvM3jwYNauXcuvv/5KXFwcDRs2pHbt2hw/fpzMzEy8vb3p0KEDu3btMn1oNDo6msjISPbs2cPs2bNZsWIFwcHBpKenk5qaisVioVOnTvz3v/8lLS0Nm81W5hQeIiIVRQmbSCXn4%2BPDnDlzGDlyJFu2bGHnzp2kpqaSmJiI1Wrl6quvpkuXLgwePNheOfq9Nm3aMG/ePBYuXMi3336Ll5cXHTp04M4777RPEHshi8XCzJkz6dWrF2%2B%2B%2BSYJCQns3bsXX19fIiIiuP322xk2bJjDnZLVq1dnw4YNrFixgm3btnH06FEyMjIICQnh5ptvZsyYMfj7%2B9OzZ08SExNJSUmhQYMGhvXbH/H09OS1117jjTfe4IMPPiA5OZl9%2B/YRGBhInz59GDlyJK1ataJjx46cPn2a%2BPj4P50jTkTEGXqWqEgVVvoMzr59%2BzJv3jyzmyMiIpega9hERERE3JwSNhERERE3p4RNRERExM0pYRMREZEq7eTJk9xyyy3s3Lnzktts376dvn37EhERQe/evdm2bZvD%2BhUrVtCtWzciIiIYPXo0Bw8erNA2KmETqcLmzJnDL7/8ohsORKTK%2Bvbbbxk2bBhHjhy55DaHDx8mNjaWyZMns3v3bmJjY5kyZYp9CqJNmzbxxhtvsHLlSnbu3EmrVq2Ii4ur0GcGK2ETERGRKmnTpk089NBDPPjgg3%2B6XVRUFD179sTLy4s%2BffrQvn171q1bB8D69esZMWIEzZo1w9fXl6lTp5KSkvKHFbvLpYRNREREKp20tDR%2B%2Buknh6/SibvLq0uXLnz88cdlzjd5oQMHDhAeHu6wrGnTpvZnLf9%2Bvbe3N2FhYfb1FUET5xrBjBnPr74a9u%2BHZs3g0CHXx09JcW08T08IDIT0dDDhWY5FQfVdHhPAwwMueAqUS%2BXnuzaexQK%2BvpCXB2bMFmnFhEdOmXzSBV5Wl8f08oLCQpeHBUp%2Bn8yKa9bvsaenOXGN%2BFxct3Ahixcvdlg2adIkYmNjy32MwMDAcm13/vx5rFbH3w8/Pz%2Bys7PLtb4iKGG7UgQElPwmBgSY3RLXsFj%2B91WFVLHTrXLnC1S5k65ipwtUzXM2wrBhw4iOjnZYVt4E7HJZrVZyc3MdluXm5tqfy/xn6yuCEjYRERExlgHlzKCgIIKCgir8uGUJDw/np59%2Bclh24MABWrduDUCzZs3Yv38/3bt3B6CgoIDDhw9fNIzqDF3DJiIiIvIH%2BvXrx65du9iyZQuFhYVs2bKFXbt20b9/fwAGDRrE6tWrSUxMJC8vj/nz51OvXj2ioqIqrA2qsImIiIixzLpg0AmRkZE89dRT9OvXjyZNmrBkyRLmzZvHY489RsOGDVm0aBFXX301AIMHD%2BbcuXNMnDiRkydP0qZNG1588UW8vb0rrD16%2BLsRzLhAITIS4uOhbVvYs8f18V1904GX1/9uOjDhimWzbjrw9DTlHgvAnJsO/PwgN7eK3XRg4kmbcdOBtzcUFLg8LGBeDmHm77FpNx34%2Blb8MfPyKv6YbqzypbwiIiIiVYyGREVERMRYlXBI1N2oB0VERETcnCpsIiIiYixV2JymhE1ERESMpYTNaepBERERETenCpuIiIgYSxU2p6kHRURERNycKmwiIiJiLFXYnKaETURERIylhM1p6kERERERN6cKm4iIiBhLFTanKWETERERYylhc5p6UERERMTNqcImIiIixlKFzWnqQRERERE3pwqbiIiIGEsVNqcpYRMRERFjKWFzmnpQRERExM2pwiYiIiLGUoXNaepBERERETenCpuIiIgYSxU2p1X6hO2zzz7jpZde4tdffyU7O5s2bdrwzDPPEBYWxgcffMDChQvJzMzk%2Buuvp0GDBhQUFDBnzhxsNhtvvPEGa9asITMzk/DwcGbMmEHr1q3NPiUREZErixI2p1XqhO3EiRNMnjyZF154gejoaE6dOsWkSZNYsmQJI0aM4NFHH2XhwoV069aNbdu2MWXKFPr27QvA2rVrefXVV1m2bBlNmjTh3XffZdy4cXz44YfUq1ev3G1IS0sjPT3dYVng1VcTFBBQoef6p1q0cPzX1bxc/KNUGs/Vcaswi8WceK6Oe0ELTAhp%2BkmLiJuy2Gw2m9mN%2BKvy8/M5ceIEoaGhZGVlkZyczJIlSzh79iyhoaFkZ2fz3HPP2befPHkyVquVOXPm0KdPH%2B666y6GDx9uXz98%2BHD%2B3//7f9x9993lbsOiRYtYvHixw7JJMTHETp7s/AmKiIhUkKIi8PQ0KXizZhV/zP37K/6YbqxSlye8vb15//33efPNN7FYLISHh5OVlYWXlxfHjx%2BnZcuWDts3btyYjIwMAI4dO8bcuXOZN2%2BefX1hYeFlD4kOGzaM6Ohoh2WBffvC66//xbP6i1q0gLVrYcQISEx0bWyArVtdG8/LC2rXhlOnoLDQtbGBojqBLo8JJW%2B2RUWmhKagwLXxLBbw9YW8PDDjz0o/cl0f1OSTLvD0c3lMb2/X/2yVMmuUzszfY6m8KnXC9uGHH7J69Wr%2B9a9/cdVVVwEwc%2BZM9u3bR8OGDUlJSXHYPiUlBR8fHwBCQkKIi4vjtttus68/cuQIAZc5lBkUFERQUJDjwkOH/sLZVJDERNizx/VxTUia7HHNil3FmFWLt9nMim3i4IN5Jy1iDF3D5rRK3YPnzp3Dw8MDPz8/bDYbX3zxBe%2B88w4FBQUMGTKEjz/%2BmB07dlBUVMT27dv56KOP7PsOHTqUZcuWkZSUBMCOHTu47bbb%2BOabb8w6HRERkSuTh0fFf1UxlbrCNnDgQL799ltuu%2B02PD09ueaaaxgzZgxr1qyhefPmPPXUU/z973/n1KlTREVFceONN%2BLt7Q3A2LFjsdlsxMTEkJaWRnBwME888QQ9evQw%2BaxEREREHFXqmw7%2ByKFDhyguLqZJkyb2ZbGxsVxzzTU8%2BOCDxgY34w6vyEiIj4e2bc0ZEv3d8LPhvLwgMBDS0825hi2ovstjgrnXvuTnuzaexQJ%2BfpCba87ooJUc1wc1%2BaQLvKwuj6lr2Fwf2xStWlX8MX/6qeKP6cau2JrigQMHGDNmDEeOHAFg586d7Nixg5tuusnklomIiIhcnko9JPpHbrnlFg4cOMBdd93FmTNnaNiwITNnzqRt27ZmN01ERKRqqYLXnFW0KzZhA5gwYQITJkwwuxkiIiJVmxI2p6kHRURERNzcFV1hExERETegCpvT1IMiIiIibk4VNhERETGWKmxOU8ImIiIixlLC5jT1oIiIiIibU4VNREREjKUKm9PUgyIiIiJuThU2ERERMZYqbE5TwiYiIiLGUsLmNCVsIiIiUiVlZmbyt7/9jV27duHp6Um/fv149NFH8fJyTI/uvfdevv32W4dl2dnZDBs2jKeffpqMjAw6d%2B6Mv7%2B/fX3t2rX57LPPKqytSthERETEWG5aYZsyZQrBwcHs2LGDjIwMJkyYwGuvvca9997rsN3LL7/s8P2GDRtYvHgxkyZNAuCHH36gYcOGFZqg/Z579qCIiIiIgX799Vd27drFww8/jNVqpXHjxsTExLBmzZo/3O/gwYPMnDmTefPmERQUBJQkbK1btza0vaqwiYiIiLEMqLClpaWRnp7usCwwMNCeRP2Z/fv3ExAQQHBwsH1ZkyZNSElJ4ezZs9SsWbPM/Z566ikGDBhAVFSUfdkPP/zAmTNnuP3228nIyKBNmzY8%2BuijNG3a9C%2BcWdmUsImIiIixDEjY1q1bx%2BLFix2WTZo0idjY2HLtf/78eaxWq8Oy0u%2Bzs7PLTNh2797Nd999x7x58xyW16xZk6ZNmzJ%2B/Hh8fHx44YUXGDduHFu2bKFGjRqXc1qXpIRNREREKp1hw4YRHR3tsCwwMLDc%2B/v7%2B5OTk%2BOwrPT7atWqlbnPunXr6N2790Vx5s%2Bf7/D99OnT2bhxI7t376Z79%2B7lbtMfUcImIiIixjKgwhYUFFTu4c%2ByNGvWjNOnT5ORkUG9evUASEpKIiQkpMyqWGFhIZ9%2B%2BilLlixxWJ6VlcWSJUsYNWoUDRs2BKCoqIjCwkL8/Pz%2Bcvt%2BTzcdiIiISJUTFhZGu3btmD17NllZWSQnJ7N06VIGDx5c5va//PILeXl5tG3b1mF59erV%2Be9//8vcuXM5d%2B4c58%2BfZ%2BbMmTRq1MjhOjdnKWETERERY3l4VPxXBVi4cCGFhYX06NGDoUOH0rVrV2JiYgCIjIzkvffes2%2BbnJxMrVq18PX1veg4S5cupbi4mJ49e9K1a1fS09NZsWIF3t7eFdJOAIvNZrNV2NGkhMXi%2BpiRkRAfD23bwp49ro%2BfkuLaeF5eEBgI6elQWOja2EBRUH2XxwTw9ISiIlNCk5/v2ngWC/j5QW4umPEuZSXnzzeqaCafdIGX9c83qmDe3lBQ4PKwgHlTg5n5e%2BzpaU5cevWq%2BGNu3Vrxx3RjuobNCK5OXqAkgYGSH2ATEhgaNHBtvNIEtVcvUxJUz%2BJil8csYcHTw5y/sazF2a4N6OEBWPGz5YAJ/Z3nVfZFx0ayWMAHyPfwMyVJ9c065dqAnp7gXRPvnLPmZDBmvFd6eUHt2niePWVO/Mu4KF/cixI2ERERMZabPumgMlHCJiIiIsZSwuY09aCIiIiIm1OFTURERIylCpvT1IMiIiIibk4VNhERETGWKmxOU8ImIiIixlLC5jT1oIiIiIibU4VNREREjKUKm9PUgyIiIiJuThU2ERERMZYqbE5TwiYiIiLGUsLmNPWgiIiIiJtThU1ERESMpQqb09SDIiIiIm5OFTYRERExlipsTlPCJiIiIsZSwuY09aCIiIiIm1OFTURERIylCpvT1IMiIiIibk4VNhERETGWKmxOU8ImIiIixlLC5jT1oIiIiIibU4VNREREjKUKm9PUgyIiIiJuThU2ERERMZYqbE5TwiYiIiLGUsLmNMN68OjRozRv3pyjR49e9r7Tpk1j2rRpBrRKREREpPJRhU1ERESMpQqb0wzvwXfeeYeePXvSqVMnHn/8cbKysrDZbLz00kv07duXqKgo2rdvz9SpU8nNzb1o//z8fObOnUvv3r2JjIzkxhtvZObMmdhsNgBGjx7N/PnzGTlyJJGRkfTu3ZstW7bY909OTuaBBx6gXbt23Hjjjfz9738nPz8fgCNHjvDAAw/QsWNHunfvzoIFC%2BzrRERERNyF4RW23bt3s379eoqLi4mJiWH27Nl06dKFVatWsXr1asLCwkhKSmLEiBFs3ryZIUOGOOz/%2Buuvs2PHDl5//XWCgoLYs2cPo0aNomfPntx4440ArF%2B/nldffZWmTZuyZMkSnnjiCXr06IGnpyf33HMPHTt25IsvviA3N5d77rmHRYsWMWHCBMaOHcttt93GCy%2B8wMmTJ4mLi6O4uJipU6eW%2B/zS0tJIT093WBZosRAUGOh8510OLy/Hf10tMtK18Vq0cPxXjOfqv5Atlv/9a8Jf56XhzYhpRmwAPD1dG6/0da1K1ZfSPnZ1XwMUFro%2BZqmq9BobxPBP92nTplGnTh0A4uLimDBhAtOnT2fDhg2EhIRw8uRJTp06RUBAAKmpqRftP3ToUAYOHEjdunVJS0sjNzeXatWqOWzbq1cvWrZsCcDAgQNZvnw5mZmZHD16lGPHjjFjxgysVivVqlVj8eLFFBcX8/nnn5Ofn8///d//YbFYqF%2B/PpMnTyYuLu6yErZ169axePFih2WTJk4kNi7ur3SX82rXNidufLw5cdeuNSeumcz6NLdazYnr52dKWB9Topbw9jYpsE9Nc%2BJWr25OXDPVNKGvf1dccCklbE4zPGFr1KiR/f/169cnPz%2Bfs2fPsnDhQrZt20adOnW49tprKSgosA9zXignJ4enn36ab775hpCQEFq2bInNZqO4uNi%2BTeAF1Syv3ypMxcXFpKenU7t2bawXfNCUtmfr1q2cPHmS9u3b29fZbDYKCgrIzMykbt265Tq/YcOGER0d7bAs0GJx/S%2BGl1dJsnbqlDl/RfXq5dp4LVqUJGsjRkBiomtjA3z7retjQkmyVsbviUuUccmCoSyWkmQtN9eUc873dH2CarGUJGsFBea8zD65Z10b0MOjJFnLyoIL3tNdpqjI9TE9PUuStbNnzYkvlZbhCVtqairVf/vr6ejRo/j7%2B/PSSy%2BRkpLCZ599Zl/Xt2/fMvd//PHHqVWrFl9%2B%2BSW%2Bvr4UFxc7JFl/JCQkhFOnTpGTk2NP2nbv3s2PP/5ISEgIoaGh/Pvf/7Zvn5WVRWZmpr0iWB5BQUEEBQU5Ljx%2B3LzSc2GhObH37HF9TChJ1syKXdW4%2BgO19C9ym82UD3ObiQUBm82kvNysBKK42JzYZg4RFhWZG9/VVGFzmuE9%2BM9//pMzZ85w4sQJXnjhBYYNG0ZWVha%2Bvr54enqSl5fHK6%2B8wr59%2BygoKLho/9JtPTw8yMrK4h//%2BAdZWVllbvt71113HWFhYcydO5ecnBwyMjJ49tlnOXnyJN27d%2Bf8%2BfO8/PLL9qrfo48%2ByoMPPojFtAtIRERERC5meMIWGRnJrbfeyqBBg2jfvj0PPvggU6ZMITc3l06dOhEdHU1CQgL9%2B/dn3759F%2B3/%2BOOPk5iYSIcOHbj11lvJysqia9euZW77e97e3ixfvpzU1FRuvvlm%2BvfvT/v27YmLi6N69eq89tpr7Ny5k27dutGzZ088PDxYtmyZEd0gIiJSdXl4VPxXFWOxlXXhmDjn%2BHHXx/TygsDAkmvnzCizN2jg2niRkSU3OrRta86QqBnX24C517BlZ7s2nodHyY0OOTmm9HeeVzWXx7RYwMcH8vPNeZl9s0%2B5NqDZ13OZ8V5p9vXGrp7BoNTDD1f8Mf/5z4o/phureimqiIiISCWjJx2IiIiIsargEGZFUw%2BKiIiIuDlV2ERERMRYqrA5TQmbiIiIGEsJm9PUgyIiIlIlZWZmEhMTQ1RUFB07dmTWrFkUXuLu3XvvvZc2bdoQGRlp//riiy8AKCoqYu7cuXTq1InIyEgmTJhAWlpahbZVCZuIiIgYy03nYZsyZQr%2B/v7s2LGDDRs28NVXX/Haa6%2BVue2PP/7IypUr2bNnj/2rW7duACxbtoz//Oc/bNy4kR07duDn58fjjz9eIW0spYRNREREqpxff/2VXbt28fDDD2O1WmncuDExMTGsWbPmom2Tk5M5c%2BYMLVu2LPNYb731FuPHj6d%2B/fpUr16dxx57jGdN8u4AACAASURBVC%2B%2B%2BILk5OQKa6%2BuYRMRERFjGXANW1paGunp6Q7LAgMDL36%2B9yXs37%2BfgIAAgoOD7cuaNGlCSkoKZ8%2BepWbNmvblP/zwA9WqVePBBx/khx9%2BoF69eowdO5bBgwdz7tw5Tpw4QXh4uH37evXqUatWLX755RcaN27s5JmWUMImIiIixjIgYVu3bh2LFy92WDZp0iRiY2PLtf/58%2BexWq0Oy0q/z87OdkjY8vPziYiI4MEHH6RZs2bs3LmT2NhYqlWrRmRkJAD%2B/v4Ox/Lz8%2BP8%2BfOXfV6XooRNREREKp1hw4YRHR3tsCzwMh695e/vT05OjsOy0u%2BrVXN8NN2AAQMYMGCA/fsuXbowYMAAPvzwQzp16uSwb6nc3NyLjuMMJWwiIiJiLAMqbEFBQeUe/ixLs2bNOH36NBkZGdSrVw%2BApKQkQkJCqFGjhsO2GzZsoFq1avTu3du%2BLD8/H19fX2rVqkVwcDAHDhywD4ump6dz%2BvRph2FSZ%2BmmAxERETGWG94lGhYWRrt27Zg9ezZZWVkkJyezdOlSBg8efNG2WVlZzJw5k59//pni4mI%2B//xz3n//fYYNGwbAHXfcwbJly0hOTiYrK4vZs2fToUMHQkNDnW5nKVXYREREpEpauHAhTz/9ND169MDDw4MBAwYQExMDQGRkJE899RT9%2BvVjzJgxZGdnM2nSJDIzM2ncuDFz584lKioKgIkTJ1JYWMjIkSM5f/48HTt25Pnnn6/QtlpsNputQo8ocPy462N6eUFgIKSnwyUm/TNUgwaujRcZCfHx0LYt7Nnj2tgAxcWujwlgsYBZv7LZ2a6N5%2BEBVivk5JjS33leFXftSXlZLODjA/n55rzMvtmnXBvQ0xNq1oSzZ6GoyLWxwZz3Si8vqF0bTp0yJ/5lXONVoZ59tuKPOX16xR/TjWlIVERERMTNaUhUREREjKVniTpNCZuIiIgYSwmb09SDIiIiIm5OFTYRERExlipsTlMPioiIiLg5VdhERETEWKqwOU0Jm4iIiBhLCZvTlLAZoCiovilxPYGiOuZMiuhp1kSy335rTlwz3nxKJwtu186UyYLPnHbtTK4eHlADOFdoNWWe4lonklwf1McHGjfGJzW5ZPZcF0ut3sSl8by8oC6QWVDTlDlkzeBV/Ns5F9em0ISf62DXh5QKooRNREREjKUKm9PUgyIiIiJuThU2ERERMZYqbE5TwiYiIiLGUsLmNPWgiIiIiJtThU1ERESMpQqb09SDIiIiIm5OFTYRERExlipsTlPCJiIiIsZSwuY09aCIiIiIm1OFTURERIylCpvT1IMiIiIibk4VNhERETGWKmxOU8ImIiIixlLC5jT1oIiIiIibU4VNREREjKUKm9PUgyIiIiJuThU2ERERMZYqbE5TwiYiIiLGUsLmNPWgiIiIiJtThU1ERESMpQqb09SDIiIiIm5OFTYRERExlipsTlPCJiIiIsZSwuY09aCIiIiIm1OFTURERIylCpvTrsgeXLRoEaNHjza7GSIiIiIVQhU2ERERMZYqbE67InowPj6eQYMGERERwfDhwzl69CgANpuNl156ib59%2BxIVFUX79u2ZOnUqubm5pKam0rJlS%2BLj4%2B3HycjIoFWrVhw5csSsUxEREbnyeHhU/FcVU%2BkrbKdOneL%2B%2B%2B9n/PjxjBs3ju%2B//5777ruPli1b8uGHH7Jq1SpWr15NWFgYSUlJjBgxgs2bNzNkyBA6d%2B7Mu%2B%2B%2BS9u2bQF47733iIyMJDQ0tNzx09LSSE9Pd1hWt24ggYFBFXqe4mYiI10fs0ULx39dzNXvj6XxTHtf9vFxfUxvb8d/XczLxZ8Inp6O/1YFZp5zYaHrY0rFqfQJ2%2Beff47VamX8%2BPFYLBbatWvHoEGD2Lt3L926daNt27aEhIRw8uRJTp06RUBAAKmpqQAMGjSIJ598ksceewwfHx82bdrE3XfffVnx161bx%2BLFix2WTZw4ibi42Ao7x8th3hufxaSwJsW9oDLrcmvXmhK2hilRoVo1kwLXaGxSYCAkxJSwdU2JCgEBJgU2kRnn/NtHnzmqYEWsolX6hC01NZX69etjueCDOzQ0lL1792Kz2ViwYAHbtm2jTp06XHvttRQUFGCz2QCIjo7mySefZPv27TRo0IBjx47Rq1evy4o/bNgwoqOjHZbVrRtIUZHz53a5PD0xJS6Ap4fN9UEtFrCZEBegXTvXx2zRoiRZGzECEhNdHv7cdtcmqR4eJcna%2BfNQXOzS0ADUOJ3s%2BqDe3iXJ2okTUFDg8vCZ/q5NUj09SxKX06fNe%2B9ytap4zoAStgpQ6RO2kJAQjh07RnFxMR6//UCcOHECgHnz5pGSksJnn31G9erVAejbt699Xx8fH/r27csHH3xAgwYN6N27N/7%2B/pcVPygoiKAgx%2BHPKvVLWFXt2WNe7MREU%2BKbkTSVxjUldn6%2BCUF/U1BgSvxCE0aBoeQ9s6oN11XFcxbnVPqUNzo6GpvNxqJFi8jPz%2BfHH3/krbfeAiArKwtfX188PT3Jy8vjlVdeYd%2B%2BfRRc8Jfr4MGD2bFjBx9//DF33HGHWachIiJy5dJNB06r9Gdcs2ZNVq5cyVdffUWHDh147LHH7MOaU6ZMITc3l06dOhEdHU1CQgL9%2B/dn37599v1btGhBaGgoHh4etDNjmEtERERMkZmZSUxMDFFRUXTs2JFZs2ZReInS57/%2B9S969epFZGQkvXr1Ys2aNfZ1xcXFREZGEhERQWRkpP0rOzu7wtpa6YdEoSTpevPNN8tct3r16j/dv2HDhlx33XUV3SwREREBt62ITZkyheDgYHbs2EFGRgYTJkzgtdde495773XY7pNPPuG5555jxYoVXH/99SQkJHDfffdRr149evXqxYEDBygoKCA%2BPh4fg%2B4wd88edJHk5GQ%2B/vhj/vvf/2o4VERExChuOCT666%2B/smvXLh5%2B%2BGGsViuNGzcmJibGoXJWKjU1lfHjxxMREYHFYiEyMpKOHTvyzTffAPDDDz/QvHlzw5I1uEIqbH/V4sWL%2BfTTT5kxYwb16tUzuzkiIiJSTmXNgxoYGHjRjYCXsn//fgICAggODrYva9KkCSkpKZw9e5aaNWval48cOdJh38zMTL755humT58OlCRseXl5DBo0iGPHjtGkSROmTp1qn%2Be1IlTphG3u3LlmN0FEROTKZ8CQaFnzoE6aNInY2PLNg3r%2B/HmsVqvDstLvs7OzHRK2C6Wnp3P//ffTunVrbr/9dgD8/Py47rrrmDx5MrVq1WLNmjXcc889vPfeezRuXDHT5VTphE1EREQqp7LmQQ0MDCz3/v7%2B/uTk5DgsK/2%2B2iVm7E5ISGDy5MlERUXx7LPP4vXb40GmTZvmsN0999zD22%2B/zfbt2xk1alS52/RHlLCJiIiIsQyosJU1D%2BrlaNasGadPnyYjI8N%2BWVRSUhIhISHUqHHxs102bNjAM888Q1xc3EVPRVqwYAG9evWiZcuW9mX5%2Bfn4%2Bvr%2B5fb9XpW%2B6UBERERcwA1vOggLC6Ndu3bMnj2brKwskpOTWbp0KYMHD75o261bt/L3v/%2BdRYsWlfkIy3379jFr1izS09PJz89n8eLFZGVlccsttzjdzlJK2ERERKRKWrhwIYWFhfTo0YOhQ4fStWtXYmJiAIiMjOS9994DSm5SLCoqIi4uzmGetSeeeAKAZ599ltDQUPr370/Hjh3ZtWsXr776KgEV%2BNBYDYmKiIiIsdx0HrZ69eqxcOHCMtftueARgJs3b/7D4wQEBPDss89WaNt%2Bzz17UERERETsVGETERERY7lpha0yUcImIiIixlLC5jT1oIiIiIibU4VNREREjKUKm9PUgyIiIiJuThU2ERERMZYqbE5TwiYiIiLGUsLmNPWgiIiIiJtThU1ERESMpQqb09SDIiIiIm5OFTYRERExlipsTlPCJiIiIsZSwuY09aCIiIiIm1OFTURERIylCpvT1IMiIiIibk4VNgPk57s%2BpsUCnp5QUAA2m%2BvjW4uzXRvQwwOsVsjNheJi18YGzpx2fSd7eEAN4Nz2eDNOmVoBFtcGjIyE%2BHhq3NQW9uxxbWzgaLLrX2NvbwgGUn0aU%2BDi7gZoFJDn2oAWC%2BBD3Rr55rxxmcH0c/Y1ISaqsFUAJWwiIiJiLCVsTlMPioiIiLg5VdhERETEWKqwOU09KCIiIuLmVGETERERY6nC5jQlbCIiImIsJWxOUw%2BKiIiIuDlV2ERERMRYqrA5TT0oIiIi4uZUYRMRERFjqcLmNCVsIiIiYiwlbE5TD4qIiIi4OVXYRERExFiqsDlNCZuIiIgYSwmb09SDIiIiIm5OFTYRERExlipsTlMPioiIiLg5VdhERETEWKqwOU0Jm4iIiBhLCZvT1IMiIiIibk4VNhERETGWKmxOUw%2BKiIiIuDlV2ERERMRYqrA5TQmbiIiIGEsJm9PUgyIiIiJurtJX2M6dO0dBQQF16tQxuykiIiJSFlXYnOaSHly0aBGjR4825Ni33HIL%2B/fvB%2BC9997jtttuMySOiIiIXFkyMzOJiYkhKiqKjh07MmvWLAoLC8vcdvv27fTt25eIiAh69%2B7Ntm3bHNavWLGCbt26ERERwejRozl48GCFtrXSp7ynTp2y/79fv3588MEHJrZGRERELuLhUfFfFWDKlCn4%2B/uzY8cONmzYwFdffcVrr7120XaHDx8mNjaWyZMns3v3bmJjY5kyZQqpqakAbNq0iTfeeIOVK1eyc%2BdOWrVqRVxcHDabrULaCQYlbPHx8QwaNIiIiAiGDx/O0aNHAXj77beJjo522Hb06NEsWrQIgGnTphEXF0fv3r254YYbOHLkCPHx8dx111106dKFNm3acMcdd5CQkABAr169ABg/fjwrVqy46Pi7d%2B9m5MiRREVFER0dzfPPP09%2Bfj5QUvWLi4vjoYceIioqim7dujF//nwjukNERKRqc8OE7ddff2XXrl08/PDDWK1WGjduTExMDGvWrLlo202bNhEVFUXPnj3x8vKiT58%2BtG/fnnXr1gGwfv16RowYQbNmzfD19WXq1KmkpKSwc%2BdOp9tZqsKvYTt16hT3338/48ePZ9y4cXz//ffcd999tGzZslz779ixg3Xr1hESEoKPjw9DhgwhLi6OO%2B%2B8k9zcXGbMmME//vEP1q5dy9atW2nevDkrVqygY8eOvP322/bjHDx4kHHjxvHQQw/x6quvcvz4cWJjY8nKyuLxxx8H4KOPPmLOnDnMnTuXL7/8kvvvv58ePXoQERFR7vNNS0sjPT3dYVnNmoEEBgaV%2BxgVwWJx/NflXH19woUnbMK1EWZcjlEa07RLQSIjXRuvRQvHf13M29v1Mb28HP91OVe/gZj%2BxmUCM8%2B5Aqs97qCsz9/AwECCgsr3%2Bbt//34CAgIIDg62L2vSpAkpKSmcPXuWmjVr2pcfOHCA8PBwh/2bNm1KYmKiff348ePt67y9vQkLCyMxMZEbbrjhss%2BtLBX%2BtvD5559jtVoZP348FouFdu3aMWjQIPbu3Vuu/SMiIuydUlRUxLp167jqqqvIy8vj2LFjBAQE8MMPP/zpcTZv3kzz5s0ZM2YMAFdddRVTp04lLi6OGTNmABAWFsaAAQMAuOmmmwgMDOTw4cOXlbCtW7eOxYsXOyybOHEScXGx5T5GRfL1NSUsYDUnrJ%2BfKWFrmBK1RLVqJgWOjzcn7tq1poQN/vNNDFO3rlmRfcwJa0Z2bDYzzjkvz/Uxf2Oj4hPUsj5/J02aRGxs%2BT5/z58/j9Xq%2BNlV%2Bn12drZDwlbWtn5%2BfmRnZ5drfUWo8IQtNTWV%2BvXrY7ngr4fQ0NByJ2wXZsaenp7s3LmT8ePHk52dTdOmTfHy8irXmHBmZiaNGzd2WNaoUSNyc3PJzMwESjLxC3l7e1NcXFyudpYaNmzYRcO8NWsGkpt7WYdxmsVSkqzl5ZnzR5SfLce1AS2WkmQtN9eUEz5X6PoE1cOjJFk7fx4u88e0QtS4qa1rA7ZoUZKsjRgBv/0V60qpH7o%2BQfXyKknWMjPhEtc9Gyq4dr5rA1osJYlLQcEVV/25pKp4zgYp6/P395/rf8Tf35%2BcHMfPrtLvq/3uL2Or1Uru7z7Yc3Nz7dv92fqKUOEJW0hICMeOHaO4uBiP38ZuTpw4AYCHh4f9GrJSF940ADgket999x0zZ87kzTffpHXr1gC88sorHDp06E/b0bBhQz766COHZUeOHMHHx4datWpd/oldQlBQ0EXl15wc834PbTaTYrs6gygdF7TZTMlezEiYLoxtSvw9e0wISkmyZkLsggKXh7QrLDQpfpV74zJRFTtnI96zyvr8vRzNmjXj9OnTZGRkUK9ePQCSkpIICQmhRg3HcZTw8HB%2B%2Buknh2UHDhyw5ybNmjVj//79dO/eHYCCggIOHz580TCqMyr8apjo6GhsNhuLFi0iPz%2BfH3/8kbfeegsoGRvOyMjg66%2B/xmaz8e6775KUlHTJY507dw4PDw/8fhv2SkhIYNWqVQ5Jn4%2BPD%2BfOnbto39tuu42kpCRef/118vPzOXLkCM899xx9%2B/bFx8eksr%2BIiEgVVPqHZkV%2BOSssLIx27doxe/ZssrKySE5OZunSpQwePPiibfv168euXbvYsmULhYWFbNmyhV27dtG/f38ABg0axOrVq0lMTCQvL4/58%2BdTr149oqKinG/obyo8YatZsyYrV67kq6%2B%2BokOHDjz22GP2uznbtGnDhAkTmDZtGh06dODrr7%2B2rytL586dGTFiBCNHjqR9%2B/Y89dRTjB49mpMnT5KRkQGUlESnTp3KggULHPZt1KgRL7/8Mlu3bqVTp06MGDGCzp0788QTT1T0KYuIiEgltHDhQgoLC%2BnRowdDhw6la9euxMTEABAZGcl7770HlBSclixZwosvvkj79u1ZunQpixYt4uqrrwZg8ODBjB07lokTJ3LDDTfw888/8%2BKLL%2BJdgdcqWmwVOUmIACVDoq5m8iVdWIvPuzaghwdYrSWdbcL44JlC11/57%2BEBNWrAuXPmDInWCnDxXW2RkSU3OrRta8qQ6NFk1/8ieXtDcDCkppozJNoo0MUXpVss4OMD%2BflVZ3jQ7HM26c40I%2B53MO8mO3NU%2BolzRURERK50lf5ZoiIiIuLezLxR60qhhE1EREQMpYTNeRoSFREREXFzqrCJiIiIoVRhc54qbCIiIiJuThU2ERERMZQqbM5TwiYiIiKGUsLmPA2JioiIiLg5VdhERETEUKqwOU8VNhERERE3pwqbiIiIGEoVNucpYRMRERFDKWFznoZERURERNycKmwiIiJiKFXYnKcKm4iIiIibU4VNREREDKUKm/OUsImIiIihlLA5T0OiIiIiIm5OFTYRERExlCpszlOFTURERMTNqcImIiIihlKFzXlK2ERERMRQSticp4TNAFZyTIhqAfzwIxewuTx6nlc1l8azWMAHyPe0YjNhYL/WiSTXB/XxgRqNqXE6GfLzXR7%2BaLJrf668vSEYSP0wnoICl4YGoFFji%2BuDRkZCfDzBvdvCnj0uD598xPWvcUgInDjpY8prbDHhJfb2huBgSD1lzjk3auT6mFIxlLCJiIiIoVRhc54SNhERETGUEjbn6S5RERERETenCpuIiIgYShU256nCJiIiIuLmVGETERERQ6nC5jwlbCIiImIoJWzO05CoiIiIiJtThU1EREQMpQqb81RhExEREXFzqrCJiIiIoVRhc54SNhERETGUEjbnaUhURERExM2pwiYiIiKGUoXNeaqwiYiIiLg5VdhERETEUKqwOU8Jm4iIiBhKCZvzNCQqIiIi4uZUYRMRERFDqcLmPCVsIiIiIr%2BTnZ3NzJkz%2BeyzzygsLKRHjx48%2BeSTVKtWrcztt27dytKlS0lOTiYgIIA77riDmJgYPDxKBjN79%2B5NSkqK/XuADRs20KRJk3K1RwmbiIiIGKoyVthmzpzJ8ePH2bp1K0VFRUyZMoV58%2Bbx5JNPXrTtjz/%2ByCOPPMLzzz/PTTfdxKFDhxg/fjz%2B/v7cfffdZGVlcejQIT799FMaNmz4l9qja9hERETEUMXFFf%2BVlpbGTz/95PCVlpZWIe3Nyclh8%2BbNxMXFERAQQN26dXnooYd4%2B%2B23ycnJuWj7Y8eOMXz4cLp3746HhwdNmjThlltu4ZtvvgFKErqAgIC/nKyBKmwiIiJSCa1bt47Fixc7LJs0aRKxsbHl2j83N5fU1NQy1%2BXk5FBQUEB4eLh9WZMmTcjNzeXw4cNce%2B21Dtv36tWLXr16ORz7888/p2/fvgD88MMPWK1WRo0axf79%2B2nYsCGxsbF07969XG0FJWwiIiJiMCOGRIcNG0Z0dLTDssDAwHLv/91333HXXXeVuW7y5MkA%2BPv725dZrVYAzp8//4fHzcrKYvLkyfj5%2BTF27FgALBYLbdq04f/%2B7/9o0KAB//73v4mNjWX16tVERESUq71K2ERERKTSCQoKIigo6C/v37FjR3755Zcy1/3888%2B88MIL5OTk2G8yKB0KrV69%2BiWPefDgQeLi4qhbty6rVq2yb3vvvfc6bNevXz/ef/99tm7dWu6ETdewiYiIiKGMuIbNSFdffTXe3t4cOHDAviwpKQlvb2/CwsLK3Gf79u0MGTKErl27snLlSmrVqmVft3LlSr766iuH7fPz8/H19S13m66ohO2JJ57giSeeMLsZIiIicoHKlrBZrVZ69%2B7NvHnzOHnyJCdPnmTevHncfvvt%2BPn5XbR9QkICEydOZPr06Tz66KN4eTkOYB4/fpynnnqK5ORkCgsL2bBhA3v27GHgwIHlbtMVNST69NNPm90EERERuQI8%2BeSTzJ07l759%2B1JQUECPHj3429/%2BZl9/22230bdvXx544AGWL19OYWEhs2bNYtasWfZt2rVrx8svv8wjjzyCh4cHI0aM4Ny5czRt2pSXXnqJq666qtztsdhsNlt5N/7pp5%2BYM2cOP/74I9WqVWPIkCHExcWxceNG1q5dy7Fjx8jPz6dDhw48%2B%2Byz1KlTh0WLFnHgwAH8/Pz4%2BOOPqV69OtOnT%2BfgwYOsWbOGwsJCxo4dS0xMDADNmzfn4YcfZvXq1Zw5c4YOHTrw9NNPExwcjM1mY8WKFWzevJnjx49jsVjo1q0bs2bNws/Pj2nTpgEwZ84cAFatWsWrr75KdnY2nTp1orCwkPDwcGJjYxk9ejQRERHEx8fz888/ExISQmxsLH369Cl3511SGbf8Gs5iAT8/yM2F8r%2BkFSbPw%2BrSeBYL%2BPhAfr4pp4vv0STXB/XxgcaNITm55MRd7Khv%2BSZ3rCje3hAcDKmpUFDg0tAANGpscX3QyEiIj4e2bWHPHpeHTz7i2l8mb28ICYETJ8x5jS0mvMSm/1w3cn1MgK1bK/6YF9yUWSWUu8J2%2BvRp7r77bkaPHs3KlSs5ceIEo0ePxmq1snTpUlatWsV1113HiRMnGDNmDKtWrWLKlClAyey/zz//PHPmzGH%2B/PlMnTqVMWPGsH37drZv387EiRPp37%2B/fX6Sd955hzfeeIOAgAAeeeQRHnzwQdauXcuHH37IqlWrWL16NWFhYSQlJTFixAg2b97MkCFDHNr7wQcfsHjxYpYvX06bNm1Yv349Tz/9tMMtuuvXr%2BfVV1%2BladOmLFmyhCeeeIIePXpc1phyWloa6enpDssCa9Yk6DLuVKkQpe88ZrwDmRDW5NMtSZ5czdvb8V%2BTwrtK6YiCl1njAJGRro/ZooXjvy5W1V5jM94/zDxnMxJEqTjl/pHZtm0bvr6%2BTJw4EYvFQmhoKK%2B%2B%2BipWq5U%2BffrQqFEjzpw5Q1paGnXq1HGY26Rp06bceuutAHTu3JkVK1bwwAMP4O3tbb8lNyUlxZ6wTZ48mcaNGwPwyCOPcOutt3L06FG6detG27ZtCQkJ4eTJk5w6dYqAgIAy51HZsGEDw4YNo23btgCMHDmSTZs2OWzTq1cvWrZsCcDAgQNZvnw5mZmZNGjQoNwdWOY8MBMnEhsXV%2B5jVKjLSDYrkgnpC2Ba7lJS6TJLSIgpYYNNiQp165oUOD7epMDA2rWmhDXnJwvq1TMpsInM%2BLk%2BetT1MUtVxicduJtyJ2zp6enUr18fywV/klxzzTXk5%2Bczb948Nm/ejL%2B/P82bNycrK4sLR1oDAgLs/y99hlbp3ROl3xdf8GpeOKZbmjylp6dTq1YtFixYwLZt26hTpw7XXnstBQUFlDWqe/z4cYdJ7AB7EljqwvlaSi8QLL7Mn6oy54GpWbNkaNKVLJaSZC0vz5QxwnyPiy/CNJLFUpKsFRSYMyTqk5rs%2BqAmjx%2Bl%2Brg2SfXyKvlQy8yEwkKXhgYguHdb1wdt0aIkWRsxAhITXR7%2BxBbXJqleXiXJWkaGOa%2BxWRU2M3%2BuzaKEzXnlTthCQkI4fvw4NpvNnrR98sknJCYm8p///IfNmzdT77c/kx544AGHfS2X%2BVuRmppqH7o8%2BtufBA0aNGDevHmkpKTw2Wef2ec2KZ1F%2BPcaNmxISkqKw7KUlBSuueaay2rLnylzHpicHHOyCCiJa0LsKna6plxDZldQYEr8ApOGnwsLTRrKMeEaMrvERFPimzVkZtZrbNolFZj4cy2VVrmn9bj55pspLCxk%2BfLl5Ofnc%2BTIEWbPns2bb76Jl5cX3t7eFBYW8u6777Jjxw4KnPhJXLJkCenp6Zw9e5a5c%2BfStWtXgoODycrKwtfXF09PT/Ly8njllVfYt29fmbGGDh3K%2BvXr%2Bf777yksLGTjxo0kJCT85TaJiIjIX1PZpvVwR%2BVO2GrWrGmf%2BK1Lly6MHj2a4cOH8/7771O/fn26d%2B9O165dee%2B99xgxYgT79u37y41q1aoVI0aMIDo6mpo1azJv3jwApkyZQm5uLp06dSI6OpqEhAT69%2B9fZqxevXpxzz33EBMTQ6dOnfjqq69o3bo13qZd9CQiIiLy11zWtB6u0Lx5c1atWkXHjh2dOk5iYiI1ZJIN%2BAAAIABJREFUatSw38gAcMcddzB8%2BHCGDh3qbDP/mKb1MJym9dC0HkbTtB7G07Qero9v1rQe775b8cfs37/ij%2BnOrqgnHVzo66%2B/5oEHHiA9PR2bzcaWLVs4cOAAN954o9lNExERqVI0JOq8K%2BpJBxcaNWoUx44dY%2BDAgZw/f55rrrmGZcuWXXSnqIiIiIi7c7uE7ZdffqmQ43h5efHYY4/x2GOPVcjxRERE5K%2BpihWxinbFDomKiIiIXCncrsImIiIiVxZV2JynhE1EREQMpYTNeRoSFREREXFzqrCJiIiIoVRhc54SNhERETGUEjbnaUhURERExM2pwiYiIiKGUoXNeaqwiYiIiLg5VdhERETEUKqwOU8Jm4iIiBhKCZvzNCQqIiIi4uZUYRMRERFDqcLmPFXYRERERNycKmwiIiJiKFXYnKeETURERAylhM15GhIVERERcXOqsImIiIihVGFznipsIiIiIm5OFTYRERExlCpszlPCJiIiIoZSwuY8JWwGKPCymhLXGyjw9DMltm/WKdcG9PQEn5r45J6FoiLXxgZSqzdxeUwvL6gLZPo3ptDH5eFpFJDn2oAWC%2BBDcO18sNlcGxtIPuL6mN7eEAKc2BJPQYHLw9M41OLagJGREB9PSJ%2B2sGePa2PDbz9jLhYZCd9%2BS3CfduacszKnSksJm4iIiBhKeaLzdNOBiIiIiJtThU1EREQMpQqb85SwiYiIiKGUsDlPQ6IiIiIibk4VNhERETGUKmzOU4VNRERExM2pwiYiIiKGUoXNeUrYRERExFBK2JynIVERERERN6eETf5/e3ceF2XV/g/8A7IKGoggoKC50tcVUIgoMVxJERSUvhJq6lP2FXEvIRLc0nIlMXdzyX2XDKNySU1MzSU1F%2BpRWWRABhUQnAHm9weP82tCix7mnjMzfN6vFy/l3DP3uW4YhovrnPscIiIiSVVWav9Dao8fP0ZsbCx8fX3h7e2N999/HyUlJc99fEJCAjp06ABPT0/1x44dO9TH16xZg%2B7du6NLly6IiorC77///o/iYcJGRERE9CezZ8/GvXv38M033yAtLQ337t3DwoULn/v4X375BbNnz8aFCxfUHxEREQCAffv2YfPmzVi3bh3OnDmD9u3bIyYmBqp/sE8yEzYiIiKSlKFV2EpLS5GSkoKYmBjY2dnBwcEBU6dOxd69e1FaWlrt8QqFAjdv3kSHDh2eeb6dO3di2LBhaNOmDSwtLTFlyhTk5OTgzJkzNY6JNx0QERGRpKRIsPLy8pCfn6/R5ujoCCcnpxo9v6ysDDKZ7JnHSktLoVQq0bZtW3Vbq1atUFZWhtu3b%2BOll17SePz169dRXl6Ozz77DOfPn0eDBg0QFhaGMWPGwNTUFBkZGfjXv/6lfry5uTlatGiB69ev4%2BWXX65RvEzYiIiIyODs2LEDycnJGm3R0dEYP358jZ5/6dIlDB8%2B/JnHJkyYAACoX7%2B%2Bus3a2hoAnjmPraioCD4%2BPoiKisLixYvx66%2B/Yty4cTA1NcWYMWNQUlKifv5TVlZWePz4cY1iBZiwERERkcSkqLBFREQgMDBQo83R0bHGz/f19cWNGzeeeezatWtISkpCaWkpbGxsAEA9FGpra1vt8f7%2B/vD391d/3qlTJ4wYMQJff/01xowZA2tra5SVlWk8p6ysTH3ummDCRkRERAbHycmpxsOf/9SLL74Ic3NzZGRkoHPnzgCA3377TT2U%2BWffffcd7t%2B/jzfffFPdplAoYGVlBQBo06YNbt26hddffx0AoFQqcfv2bY0h17/Dmw6IiIhIUoZ204G1tTWCgoKwcOFCyOVyyOVyLFy4EAMGDFAnYX%2BkUqkwb948nD59GiqVChcuXMCmTZvUd4mGhYXhyy%2B/xPXr1/HkyRMsWrQIjRs3RteuXWscEytsREREJClD3OkgISEBn3zyCYKDg6FUKtGzZ0989NFH6uP9%2B/dHcHAwxo4di969eyM2NhaJiYmQyWRo3Lgxxo8fj5CQEABAeHg4ioqKMG7cOMjlcnTs2BGrVq2Cubl5jeMxUf2TRUCoRpRKMf2amwvsu7hQtx3Wqwc0bAg8egRUVOi2bwAyhb3O%2BzQzAxwcgIICoLxc592jid0T3XZoYgJYWAAKBSDgbSozz1LnfZqbA87OQG6umJ9lN3cT3Xbo6Qn8/DPg5QVcuKDbvoGq15iueXoC588D3t5irllQ5vThh9o/59y52j%2BnPmOFjYiIiCRliBU2fcM5bERERER6jhU2IiIikhQrbLXHhI2IiIgkxYSt9jgkSkRERKTnWGEjIiIiSbHCVnsGW2ELDAzE3r17RYdBREREf8PQFs7VRwabsBERERHVFXqTsGVlZaFdu3bYvHkz/P394e3tjWnTpqG4uBgqlQorV67Eq6%2B%2Biq5du%2BKTTz5BxR8WS5XJZJg4cSICAwPRuXNn9OzZE7t37wYArF69Gn379tXoa926dYiMjAQAbN26Fb169ULXrl0RHByMXbt26e6iiYiI6gBW2GpP7%2BawpaWlISUlBRUVFRg3bhxmzpwJX19fbNy4EWvXrkWbNm2QnJyM3Nxc9XPi4%2BNhZ2eHQ4cOwcLCAps2bcLs2bMRFBSE0NBQLF26FJcuXVJv4Lp//36MHDkSmZmZmDdvHg4cOICWLVvixIkTGDduHAICAmq8oWxeXh7y8/M12uztHeHoKM2GtHqrXj3d9mdqqvmvjpkJ%2BMl5%2BiXW9ZdaTderwj/tT8Rq9KjadUDXnr6uRLy%2BAFStwq9LHh6a/%2BqaiNeWyGsWsbMCaY3eJWyxsbFo1KgRACAmJgbvvfcecnNzMXToULRv3x4AMGHCBOzcuVP9nDlz5sDGxgbm5ubIycmBjY0NysrK8PDhQ7i6uuK1117DgQMH0LlzZ1y9ehVZWVno168fHj58CJVKhe3bt6Nv377w8/PDxYsXYfoPkoAdO3YgOTlZo23cuGjExIzXwlfjnxPxS6aq44Zi%2BrW1FdKtg5Beq9jZierZQky3gl7Uzs5CugUANG4sqOOffxbT79atYvoVacsW3fcp6A9coG5WxLRN7xK25s2bq//v4uIChUIBmUwGFxcXdXu9evXg6uqq/jwzMxOffvopbt%2B%2BjRYtWqjPUfmfV8jgwYORkJCA2NhY7Nu3D/369YONjQ1sbGywefNmrF27FmPHjkVFRQUGDx6MadOmwdKyZvsIRkREIDAwUKPN3t5RyD6AQvcSLX2k2w5NTauSteJiIe8EBUrdJ6j16lUlaw8eCNk%2BFQ4NFLrt0MTk/7%2BoBewlmivXfYJqZlaVrN2/L2a/WOc3vHTboYdHVbI2bBhw/bpu%2BwbEVdi2bAEiI8VcsyBM2GpP7xI2mUyGli1bAqia12ZtbQ0XFxdkZmaqH6NSqZCXlwcAUCqVePfddzF58mQMGzYMJiYmuHLlCg4ePKh%2BfGBgIBISEnDq1CmkpqYiKSkJAFBQUICKigosX74clZWV%2BPnnnxETE4MXX3xRPcft7zg5OVUbPhWVNAklIoMAqt4FBPQt4pfpUxUVgvoXkDSp%2BxXQt8if4/JyQf2LGjK7fr3ubP7%2BlKhrJoOlNzcdPLVo0SIUFxdDJpPhs88%2BQ0hICIYMGYKdO3fiwoULUCqVWLFihXremFKpRFlZGaysrGBiYoKcnBwsWLBAfQwAzM3NMXDgQCQlJcHW1hZdu3YFAOTk5GDUqFE4ffo0TE1N0aRJEwCAvb29gCsnIiIyTrzpoPb0rsLm7u6OAQMGoLS0FMHBwerhycLCQkyaNAkPHz5Ev3790K5dOwBA/fr18fHHHyMpKQlz5syBg4MDhg4dioyMDNy8eRMvvvgigKph0Y0bN2Ly5Mnqvjp27IgZM2YgMTEReXl5aNCgAYYNG4agoCAh105ERET0LHqXsEVGRuKDDz6o1h4VFYWoqKhnPickJAQhISEabe%2B8847G587OzrCwsEBoaKhGe3h4OMLDw2sZNRERET1PXayIaZveJWzaplAocOfOHWzatAkBAQHqYU8iIiLSDSZstVcnErY333wTLi4uWLlypehwiIiIiP4xvUnYmjVrhhs3bmj9vLa2tjh//rzWz0tEREQ1wwpb7endXaJEREREpElvKmxERERknFhhqz0mbERERCQpJmy1xyFRIiIiIj3HChsRERFJihW22mOFjYiIiEjPscJGREREkmKFrfaYsBEREZGkmLDVHodEiYiIiPQcK2xEREQkKVbYao8VNiIiIiI9xwobERERSYoVttpjwkZERESSYsJWexwSJSIiItJzrLARERGRpFhhqz1W2IiIiIj0HCtsREREJClW2GqPCRsRERFJiglb7XFIlIiIiEjPscJGREREkmKFrfaYsEnAVGDdUljf5eVi%2Bq2oENc3GTUTE3F9mpiI6V/nnYq%2BYJVKXJ8qlZj%2ByWAxYSMiIiJJscJWe0zYiIiISFJM2GqPNx0QERER6TlW2IiIiEhShlhhe/z4MWbPno0jR46gvLwcPXv2REJCAmxsbKo9dsaMGUhJSdFoKysrwyuvvIJ169ahsrIS3t7eUKlUMPnDfM1Tp06hfv36NYqHFTYiIiKiP5k9ezbu3buHb775Bmlpabh37x4WLlz4zMfOmjULFy5cUH8sW7YMDRs2xPTp0wEAGRkZUCqV%2BOmnnzQeV9NkDWDCRkRERBKrrNT%2Bh5RKS0uRkpKCmJgY2NnZwcHBAVOnTsXevXtRWlr6l8%2BVy%2BWYOnUqPvzwQ7Rp0wYA8Msvv6Bdu3awsLD4r2PikCgRERFJSooEKy8vD/n5%2BRptjo6OcHJyqtHzy8rKIJPJnnmstLQUSqUSbdu2Vbe1atUKZWVluH37Nl566aXnnnfhwoXo0KEDBg4cqG775Zdf8OTJE4SFhSE7OxutWrXClClT4OXlVaNYASZsREREZIB27NiB5ORkjbbo6GiMHz%2B%2BRs%2B/dOkShg8f/sxjEyZMAACNIUtra2sAQElJyXPPmZmZiYMHD2LXrl0a7VZWVujUqRMmTJiAF154AVu2bMHo0aNx8OBBuLm51SheJmxEREQkKSkqbBEREQgMDNRoc3R0rPHzfX19cePGjWceu3btGpKSklBaWqq%2ByeDpUKitre1zz7lnzx54enpWq8A9ncv21OjRo7F3714cP34cb731Vo3iZcJGREREBsfJyanGw5//1Isvvghzc3NkZGSgc%2BfOAIDffvsN5ubmaNGixXOfl5aWhlGjRlVrX7JkCfr27Yv/%2BZ//UbcpFApYWlrWOCbedEBERESSMrSbDqytrREUFISFCxdCLpdDLpdj4cKFGDBgAKysrJ75nMLCQvz222/o1q1btWM3b97E3LlzkZ%2BfD4VCgeTkZBQXF6N37941jokJGxEREUnK0BI2AEhISECLFi0QHByMfv36oVmzZpgxY4b6eP/%2B/bFy5Ur151lZWQCAJk2aVDvXvHnz4O7ujpCQEPj6%2BuKnn37CF198ATs7uxrHY6JScfdZbauoENNvvXoC%2B5bn//2DtMnMDLC3BwoLhWz%2BLqus%2BTwJbTEzAxwcgIICMfvdN7F7otsOTUwACwtAoRCySXZWfs2HKrTF3Bxo0gSQyQClUufdo5m7jv%2BG9/QEzp8HvL2BCxd02zcgZvN1T0/g558BL6%2B6c80A/P21f85Tp7R/Tn3GOWxEREQkKUPc6UDfMGEjIiIiSTFhqz3OYSMiIiLSc6ywERERkaRYYas9VtiIiIiI9BwrbERERCQpVthqjwkbERERSYoJW%2B1xSJSIiIhIz7HCRkRERJJiha32WGEjIiIi0nOssBEREZGkWGGrPSZsREREJCkmbLXHIVEiIiIiPWdwCVtOTg48PT2Rk5MjOhQiIiKqgcpK7X/UNQY3JOrq6ooLFy6IDoOIiIhIZ7RWYcvKykK7du2wefNm%2BPv7w9vbG9OmTUNxcTGWLVuGUaNGISwsDD4%2BPjh79iyKi4sxa9YsBAQEwM/PD5MmTcL9%2B/cBAO%2B//z6mTJmicf6JEydi5syZ6n6ysrIAANnZ2Zg4cSL8/Pzg7%2B%2BPKVOmIC8vDwBw5swZtGvXTuM806dPx/Tp0wEAMpkMY8aMgY%2BPD7p3747o6Gj1c4mIiEg7WGGrPa1X2NLS0pCSkoKKigqMGzcOM2fOhLu7O06fPo3169ejU6dOsLS0xOTJk1FSUoK9e/fCysoK8%2BfPR3R0NLZt24ahQ4di9OjRKC4uhq2tLR49eoQjR45g27ZtGn0plUqMGjUKHTp0QFpaGlQqFWbOnImxY8di586dfxvr4sWL4ezsjBUrVuDJkyeIiYnB6tWrER8fX%2BPrzcvLQ35%2Bvkabg4MjHB2danwOo2Cm42JtvXqa/%2BqYmYA3C8GXDJiYiOlP1/3%2Bh7m57vt8%2BmOk6x8nNU9P3fbn4aH5r66pVLrvU%2BQ1CxydqosJlrZp/W0hNjYWjRo1AgDExMTgvffew8iRI%2BHm5gY/Pz8AQEFBAb755hukpqbCwcEBABAXF4euXbvi6tWr6Nq1K1xcXJCamoohQ4bgq6%2B%2BQsuWLdG%2BfXt1ZQ0Azp07h8zMTOzZswe2trYAgJkzZ8LHxwdXrlz521gtLS1x9uxZHDp0CH5%2Bfli7di1MTf9Z0XHHjh1ITk7WaBs3LhoxMeP/0Xm0Rdgvc3t7Mf02bCikWwchvVaxsxPVs4WYbkVkTgCaNBHSLQDAQdQL7Px5Mf1u2SKmX5G2btV9n4L%2B%2BCHt0HrC1rx5c/X/XVxcoFAo8PDhQzg5/f%2BKU3Z2NgBg6NChGs%2BtV68esrKy0KFDBwwZMgQHDhzAkCFDsG/fPgwZMqRaXwUFBbC3t1cnawBga2sLOzs7ZGdno3Hjxn8Za3x8PFatWoV169Zh%2BvTp8PDwQHx8PLp27Vrj642IiEBgYKBGm4ODIyoqanwKralXD0L6BYB6jwp13GG9qmTt0SMhF11QqfsEtV69qmTtwQMx32eHBgrddmhiUpWsKZVCKiGyQt0nqGZmVclaQQFQXq7z7tHkDW/ddujhUZWsRUYC16/rtm9AXIVt61Zg2DAx1ywIK2y1p/WETSaToWXLlgCq5rVZW1vD3t4eJn/I7Jv850/X1NRUODo6qtszMjLg5uYGABg0aBCWLl2KH3/8ETdu3MCAAQOq9dW0aVMUFhaqh04BoKioCIWFhXB0dFRXyxQKBSwsqt58CwsLYf%2BfatC1a9cQERGB8ePHQy6XY/ny5YiOjkZ6enqNr9fJyUkjGQXEJU1CifjtAlR9sQX0XS7wzUfQJYv55fa0XwF9K5U671KtvFxQ/6KGzK5fF9O3qNc0IO6ayWBpfVmPRYsWobi4GDKZDJ999hlCQkJg9qcJGU2aNEGPHj0wd%2B5cFBYWQqlUYsWKFQgPD8ejR48AAI0aNcLrr7%2BO%2BPh49OnTBy%2B88EK1vjp27IjWrVsjISEBRUVFKCoqQmJiItzd3eHl5QV3d3eYmZnh0KFDAIAff/xRIxlbuXIlZs%2BejeLiYjRs2FCdXBIREZH28KaD2tN6wubu7o4BAwZg4MCB8PT0RFxc3DMf9%2Bmnn6Jhw4YIDQ3Fyy%2B/jOPHj2Pt2rUaFbehQ4ciOzsb4eHhzzyHmZkZVq1ahfLycvTt2xevv/46lEolvvjiC5iZmcHJyQlxcXH4/PPP4eXlhS%2B//BKDBw9WP3/WrFmorKxEz5490a1bN1y6dAlJSUna/YIQERHVcUzYas9EpdJOTTgrKws9e/bE999/j2bNmmnjlAZL2DwykXPY5Pl//yBtMjOrutGhsFDI%2BKCs0vHvH6Rlwuc32T3RbYcmJoCFBaBQCBm6ysq31Hmf5uZVNzvIZGKGRJu563gtdU/PqhsdvL3rzpCopyfw88%2BAl1fduWYAf5jerjV37mj/nPrM4BbOJSIiIsNSFyti2mZwW1MRERER1TVaq7A1a9YMN27c0NbpiIiIyEiwwlZ7HBIlIiIiSTFhqz0OiRIRERHpOVbYiIiISFKssNUeK2xEREREeo4VNiIiIpIUK2y1x4SNiIiIJMWErfY4JEpERESk51hhIyIiIkmxwlZ7rLARERER6TlW2IiIiEhSrLDVHhM2IiIikhQTttrjkCgRERGRnmOFjYiIiCTFClvtscJGREREpOdYYSMiIiJJscJWe0zYiIiISFJM2GqPQ6JEREREeo4JGxEREUmqslL7H7pSWlqKiIgI7N279y8fd%2BnSJQwZMgSenp4IDAzErl27NI7v27cPvXv3RpcuXTB48GBcuHDhH8XBhI2IiIgkZagJ261btxAZGYmLFy/%2B5eMePnyId955B6GhoTh79izmzp2LefPm4fLlywCAM2fOYPbs2Zg/fz7Onj2LgQMH4r333kNpaWmNY2HCRkRERPQnp0%2BfxogRIzBo0CC4urr%2B5WPT0tJgZ2eHyMhImJmZwc/PD8HBwdiyZQsAYNeuXejfvz%2B8vb1hbm6OkSNHwt7eHl9//XWN4%2BFNB0RERCQpKSpieXl5yM/P12hzdHSEk5NTjZ5fVlYGmUz2zGOOjo7w8PDA0aNHYWlpiS%2B%2B%2BOIvz3Xr1i20bdtWo61169bYvXs3ACAjIwNhYWHVjl%2B/fr1GsQJM2CRRr57u%2B8zLy8OOHTsQERFR4xerVjk66rS7vLw87Fi2TNj1NtF5j1XXvGxZ1fe4SRMB32NY6rQ30a/pZs103qXG97hZMwHfYx3fyqf%2BOU5NFfO%2BJYD6mg8frjPXDAAqlfbPuWzZDiQnJ2u0RUdHY/z48TV6/qVLlzB8%2BPBnHlu%2BfDl69epV41hKSkpgbW2t0WZlZYXHjx/X6HhNMGEzEvn5%2BUhOTkZgYGCdeBOoa9cL1L1rrmvXC9S9a65r1wvUzWuWSkREBAIDAzXaHP9B8cDX1xc3btzQSizW1tYoKirSaCsrK4ONjY36eFlZWbXj9vb2Ne6DCRsREREZHCcnJ71Jetu2bYtTp05ptGVkZKBNmzYAgDZt2uDWrVvVjnfv3r3GffCmAyIiIqJa6N27N%2B7fv48NGzZAqVQiPT0dKSkp6nlr4eHhSElJQXp6OpRKJTZs2ICCggL07t27xn0wYSMiIiL6h/r374%2BVK1cCAOzt7bF%2B/XocPnwYvr6%2BiI%2BPR3x8PF5%2B%2BWUAgJ%2BfHxISEpCYmAgfHx8cOnQIa9asgZ2dXY3745CokXB0dER0dPQ/Gr83ZHXteoG6d8117XqBunfNde16gbp5zcbgyJEj1doOHTqk8XnHjh2xffv2554jJCQEISEh/3UMJiqVFPduEBEREZG2cEiUiIiISM8xYSMiIiLSc0zYiIiIiPQcEzYiIiIiPceEjYiIiEjPMWEjIiIi0nNM2IiIiIj0HBM2IiIiIj3HhI2IiIhIzzFhIyIiItJzTNjIIMnlctEhSC4zM1N0CESSuH//PgBAoVBg69atSE1NFRwRkf5jwmbA5HI5NmzYgLlz56K4uBhHjx4VHZKkysvLsWTJEnh7eyMwMBCZmZkICwtDXl6e6NAkERQUhKioKBw4cABlZWWiw9GZy5cv48CBA9i/f7/Gh7FSKBTIzc1FTk6Oxoex2rVrF3r16gUAWLBgAZYvX465c%2Bfi888/FxyZdPLz8/Hxxx8DAM6dOwc/Pz/0798fGRkZgiMjQ8LN3w3U1atX8fbbb6Nly5a4ceMGDh48iP79%2ByMhIQFhYWGiw5PEkiVLkJ6ejvHjx2PSpEk4fvw4pk2bBjMzMyQlJYkOT%2BsKCgrUiUtOTg6CgoIwePBgeHp6ig5NMosXL8aaNWvg6OgIMzMzdbuJiQm%2B//57gZFJIzU1FQkJCSgqKlK3qVQqmJiY4NdffxUYmXRCQkLw/vvv4%2BWXX4aPj4/6%2Bx0VFYVjx46JDk8S48ePx%2BPHj7F27VqEhYXBy8sL1tbWuHz5MjZu3Cg6PDIUKjJIkZGRqj179qhUKpWqa9euKpVKpfrhhx9UQUFBIsOS1Ouvv67Kzc1VqVQqVbdu3VQqlUr18OFDlY%2BPj8iwdOLq1auqTz/9VNWnTx9Vv379VGvWrFEVFBSIDkvrAgICVMeOHRMdhs4EBQWplixZorp9%2B7YqKytL48NYPf3ZPX/%2BvMbPrqenp6iQJBcQEKAqKSlRyWQylYeHh0oul6uUSqXKy8tLdGhkQDgkaqBu3ryJkJAQAFXVBwB47bXXIJPJRIYlqcePH6NRo0YAqqoQAGBlZQVTU%2BN%2BGZeXl6uHyQoKCmBtbY1Lly6hT58%2B2Ldvn%2BjwtKqkpATdu3cXHYbO3Lt3D9HR0WjevDmaNm2q8WGsXnjhBdy5cwfffPMNfHx8AADp6elwdHQUHJl0SktLYWVlhdOnT6Nt27awt7dHWVmZRhWZ6O/w1WKgGjVqhN9//x1t2rRRt/3%2B%2B%2B9o3LixwKik1aVLFyQnJ2PSpEnqJHXz5s3o2LGj4MikcfHiRRw4cACpqakwMTFBcHAwvvzyS3h4eAAAvv32W3z44YcYNGiQ4Ei1p0ePHkhJScHAgQNFh6IT7du3R0ZGhvp7Whe8/fbbCA4OBlD183v%2B/Hm8%2B%2B67SEhIEByZdDp16oTExEScP38eQUFBuH//PmbNmqVOWIlqgnPYDNSmTZuwYcMGjB07FvPnz8ecOXOwYsUKDBo0CKNGjRIdniQyMzMxYsQIlJeXo6CgAM2bN0dJSQm%2B%2BOILtGzZUnR4Wte%2BfXv4%2B/sjLCwMgYGBMDc31zielZWF5ORkzJ8/X1CE2hcTE4PvvvsOLVq0qPbHx6ZNmwRFJZ3Fixdj586d6NevX7XrjY6OFhSV9DIzM2FmZgYXFxfI5XLk5OSgQ4cOosOSTF5eHhYvXgxLS0vEx8fj2rVrWLFiBebMmWPUf2STdjFhM2BbtmzB1q1bkZ2djSZNmiAiIgIjR4406iHC0tJSHDt2DNnZ2XB2dkaPHj1ga2srOixJ5OXlwcnJSXQYOpWcnPzcY8aYwERFRT2z3cTExCgTVKDqmsPCwtC3b19YW1uLDofIYDBhI4OhUCiwfPlyhIeHw83NDRs3bkQAuE1yAAAVKUlEQVRhYSFiYmKMMklVKBRISUmBTCZDZWUlAECpVOLmzZtYsWKF4OikV1BQgBdeeIHzfIzMunXr1Hc%2B9%2BvXT33XpDGLjY197rF58%2BbpMBIyZHwnNFDPewMwNzdHo0aN0KNHD3Tp0kXHUUlr3rx5uHjxIiIiIgBUDRnOnz8fCoUC77//vuDotC8uLg4nTpyAvb09lEol6tevj1u3biE0NFR0aJJRKpVYsGABdu3ahbKyMlhYWGDgwIH46KOPYGFhITo8rXteRdHCwgL29vZ45ZVXjO4GhNGjR2P06NG4evUq9u3bh5iYGNja2iIsLAwhISF1oqpcWFiI9PR0o12CiaTBCpuBmjFjBvbu3YtevXrBzc0NOTk5SEtLwyuvvAJLS0ucOHECc%2BfOxRtvvCE6VK3x9/dHSkqK%2Bk5RoGrF9NDQUJw8eVJgZNLw9fXFtm3bIJfLsW3bNixatAjr16/H5cuXsXTpUtHhSSIpKQlHjhzB5MmT0axZM9y9exdLlizBq6%2B%2BapRJeUxMDNLS0tCxY0f1z/HFixfRsWNHVFRU4Pfff8eKFSvg5%2BcnOlRJVFRU4OTJk0hKSsK1a9dgaWmJgIAATJ8%2BHa6urqLDk9SPP/6IrVu3/uU0ACINwhYUoVoZM2aM6ttvv9VoO3bsmOrdd99VqVQqVXp6umrAgAEiQpOMt7e3qrS0VKOttLRU5evrKygiaT1dX6%2BgoEC9vl5ZWZnK399fZFiS6tmzp%2Bru3bsabXfu3FG9%2BuqrgiKS1qRJk1RbtmzRaNu9e7dq2rRpKpVKpTp06JAqPDxcRGiSunTpkmr27NkqPz8/lZ%2Bfn%2Brjjz9WXb9%2BXVVYWKiKj49XBQcHiw5RJ7y9vUWHQAbE%2BCb%2B1BGXLl1CYGCgRttrr72Gc%2BfOAaiqzmRnZ4sITTJdu3bFvHnzoFAoAABPnjzBp59%2BarTzX5ydnZGZmYlGjRqhoKAAjx8/hkqlQklJiejQJPPw4UO4uLhotLm4uBjt1lw//vijeoj/qdDQUBw/fhxA1fZkv//%2Bu4jQJNOvXz8MGzYMWVlZSExMxA8//IDY2Fi0a9cOdnZ2GD58uFFvzQVUra24f/9%2BjdECor/DOWwGqlGjRjhx4gQCAgLUbadPn4adnR2AqtvmX3jhBVHhSeLDDz/EmDFj4OXlBXt7exQWFuLFF1/EypUrRYcmieDgYAwbNgy7d%2B9Gjx498N5778HS0tKolz9o164dtm/fjrfeekvdtn37drRt21ZgVNKpX78%2Brly5gs6dO6vbrl27pp6v93ShZGMyePBgDBo06LkL5TZv3tzotqjy8PBQrx35VL169fDhhx8KiogMEeewGahDhw5h%2BvTp6NOnD5o1a4asrCx89913mDlzJjp16oQRI0bgrbfewrvvvis6VK2qqKjA%2BfPncf/%2BfTg7O6NTp05GfRdhamoqAgICUFlZiYULF6K4uBgTJ05Es2bNRIcmiXPnzmHUqFHw8PCAm5sb7t69i4yMDKxbt84oK6mbNm3C8uXL8eabb6Jp06bIzs7Grl27MHr0aAQFBWHs2LHw8/P7y7sMDVFpaSkePnxY7e7n3r17C45MGj/99JPG56ampmjevLlR7%2B5A2seEzYBdvHgRe/bsQW5uLlxdXTF06FC0a9cOWVlZyMjIQK9evUSHqHUKhQJyuVz9Rv%2BUMU1QjoqKqvbX%2BJ8Z6xpdQNWOHSkpKSgoKECzZs3Qv39/o7tT8o8OHTqEPXv24N69e3B1dUVERAT69OmD69evIz09HVFRUahXr57oMLVmz549mD17Np48eaLR7uDgYJQ3Dz1VWVmJK1euICsrC05OTvDy8jLK5YhIOkzYDNTdu3exfPnyamt0/fvf/0Z6errg6KSRmpqKGTNmoLi4WN2mUqlgYmKCX3/9VWBk2vX0rrGnVdOwsDC4u7sjNzdXvSr%2BzJkzBUdJ9N/p3bs3IiMjYWNjg7Nnz2LEiBFYsGAB/P398a9//Ut0eJLIz8/H2LFjcf36ddjZ2aGwsBAtWrTA%2BvXr4ezsLDo8MhBM2AxUVFQUVCoV7O3tIZfL8dJLL2H//v0YOXKkUa4IDwBvvPEG%2BvTpg0GDBlUbBjXGCsywYcMwdepUjaHAK1eu4KOPPjK6Td%2BDg4ORkpKCwMDA51YXv//%2Bex1HJZ3ExEQkJibWyQVVu3TpggsXLiA7OxtTp07F9u3bkZOTg5EjRyItLU10eJKYOnUqVCoVZs2aBRsbGxQVFSExMRHl5eVISkoSHR4ZCOOd/GPkrly5gmPHjiEnJwdLly5FfHw8unfvjlWrVhltwnbv3j1ER0cb9Zy1P/r11181JqMDVZPyb9%2B%2BLSYgCb3zzjsAgPHjxwuORDfq8t/JDg4OUCqVcHFxwb///W8AVVMaCgoKBEcmnfT0dBw%2BfBg2NjYAgAYNGiAxMRE9e/YUHBkZkrrxm88IWVtbq7ftuXnzJgCge/fu%2BOCDDwRHJp327dsjIyMDHh4eokPRiVatWmHDhg0YPXq0um3lypVGef3BwcEAALlcrnG9TxnbQsFPh7SNtYr2Vzp16oQZM2bgo48%2BQosWLbBt2zZYWVmp73A3RpWVldUqxyYmJjA3NxcUERkiJmwGyt3dHcePH1ffQZiZmQkLCwuUl5eLDk0yXl5eGDlyJPr164fGjRtrHDPGqmJcXBzGjh2LzZs3w9nZGTk5OaisrMS6detEh6ZVcrkcv/32GwBg2bJl6Ny5s0YFqqioCBs3bsTEiRNFhSiZurhfbGxsLOLj41FSUoJp06Zh7NixKCsrM%2Brk1dfXF4mJiZg5cybq16%2BPkpISJCYmwsfHR3RoZEA4h81AHTlyBJMmTcJXX32FlJQUbNmyBfXq1cMrr7yC%2BfPniw5PElFRUc9sNzExMdq7Jh88eIBjx45BJpPB2dkZgYGBaNCggeiwtKq4uBi9e/dGYWHhM49bWFggIiLCKNesmjp16nP3izXWn%2BM/Ky8vh1KpNLr15v4oJycHb7/9NrKzs2FnZ4cHDx6gdevWWLVqFZo0aSI6PDIQTNgMmEwmg4ODA8zMzPD111%2BjuLgYoaGhRrlJNtUN/fr1w%2BHDh0WHoTN1ab/Y/fv3/%2B1jQkNDdRCJGOXl5Th79izkcjmaNm2Kjh07GtVyLSQ9JmxkUNLT0yGTydRDZkqlEjdu3EB8fLzgyEhKcrncKLfx6datm/qX%2BFtvvYWvv/4aT548Qc%2BePY1uTbKnW%2BlVVlZCJpPBzs4Orq6uyMvLQ35%2BPjw8PGqU1BmS3Nxc9XSG5zGmNSRJWpzDRgZjzpw52L59u/pOq4qKCpSUlOC1114THBlpy%2BXLl/Hpp59Wm9Mll8tx5coVwdFp39P9Yt3c3NT7xZqamhrlfrFHjhwBAHzyySewsLDAhAkT1AvHfv7558jKyhIZniTeeOMN/Pzzz89crsYY15AkabHCRgbD398fy5cvR2lpKQ4ePIiPP/4Yn3zyCR4/foxZs2aJDo%2B0IDw8HG5ubrCzs0NmZib8/f2xadMmDB8%2BHG%2B//bbo8LRu9erV2Lx5M3bv3o3FixcjNzcXlpaWKC0txebNm0WHJwkfHx%2BcOnVK4w7J8vJy%2BPr64vz58wIj07579%2B7BxcUF2dnZz32MMa4hSdLgvhhkMEpLS9GlSxe0bt0aV69ehYmJCaKjo41uo%2Bi67NatW5g3bx4iIyNRUVGBt99%2BG0uWLEFKSoro0CTxzjvvIC4uDg0aNFAvc9GgQQN8/PHHokOTjKWlpfqu4KeuXLmChg0bCopIOi4uLgCA9evXo6ioCE2bNq32QVRTHBIlg%2BHs7IyCggI4OjoiNzcXSqUSVlZWGltVkWFr2LAhrKys4Obmhlu3bgGoWhn/ryoUhi4oKAg5OTnIz8/HuHHj4OTkJDokSUVGRmL06NEYMmQIXF1dkZmZiZ07dyImJkZ0aJIpKChAREQEWrVqhSFDhmDAgAFGd7c3SY8JGxmMgIAAjBw5Ehs3bkS3bt0QFxcHS0tLtGjRQnRopCUtW7bEtm3b8L//%2B7%2BoX78%2Bfv31V1hYWDx3uypDl5eXh8mTJ%2BPcuXMAqpao6d69OxYsWGCUFScAGDt2LBwdHXHw4EGkpqbC1dUVCQkJeOONN0SHJpmlS5eiqKgIKSkp2LdvHz755BP06dMHQ4YMQbdu3USHRwaCQ6JkMCZPnoyQkBCYm5tjxowZKCwsREZGBmbPni06NNKSCRMmYOnSpbh79y5Gjx6NoUOHIiwsDIMGDRIdmiRmzJiBhg0b4vDhw7h8%2BTK%2B%2BuorAMDcuXMFRyadkpISnDlzBhcuXMCdO3dw8eJFnDt3DgqFQnRokmrQoAGGDRuGnTt3YsWKFTh37hyGDx8uOiwyILzpgIj0RmZmJpycnGBubg5TU1NcvnwZRUVF8Pf3Fx2aJLy9vXH8%2BHHY2tqq2x49eoRevXrhp59%2BEhiZdN5//33cuXMHMTExcHFxQWZmJpYtWwYvLy/ExcWJDk8yJSUlOHz4MPbv34/Lly%2BjR48eGDp0qNG%2Btkn7OCRKei82NvZvH2PM29rUJREREUhLS4OlpSWAqn0njVnDhg3x6NEjjYRNoVAY9b6aR48exeHDh%2BHg4ACgahjcw8MDISEhRpuwTZkyBUeOHIGzszOGDBmCpKQko1xXkKTFhI2I9IadnR1kMplGAmPM3nrrLbz77ruYOHEimjdvDplMhuTkZHTv3h1nz55VP86Y5jlZWlpWW%2BHfxsbGqLemMjMzw5o1a9C1a1fRoZAB45AoEemNCRMm4OTJk%2BjSpUu1uyWNsYrq4eHxt48xtsVVv/zyS6SlpSEuLk6dpC5atAju7u6IjIxUP84YdwC4du0asrKy0KNHDxQVFamrjEQ1wYSNDIZCoUBKSkq1VfBv3ryJFStWCI6OtOGvhr%2BNMWGri/6YpJqYmOCPv4Kefm5sSapcLsf//d//4cqVKzA3N8fu3bsRHh6O9evXw9PTU3R4ZCCYsJHBmDp1Kk6cOAF7e3solUrUr18ft27dQmhoKObPny86PKL/yr1795CdnV0tcTHW4bOarqlnTIvKTp48Gba2toiNjVUPd69YsQI//PADtm3bJjo8MhCcw0YG48SJE9i2bRvkcjm2bduGRYsWYf369bh8%2BbLo0EhLkpOTn3ssOjpah5HoxooVK5CUlFSt3dgqTH9kTIlYTZ05cwbfffcdrK2t1WsKjhkzBuvXrxccGRkSJmxkMCorK9GyZUvY2dmpf5lFRkbyTc%2BInDlzRuPzBw8e4LfffkO/fv0ERSStDRs2YPny5c/cHJyMh7m5OcrKymBtba2upJaUlMDGxkZwZGRImLCRwXB2dkZmZibc3NxQUFCAx48fw9TUFCUlJaJDIy151obnBw4cqJbIGQszMzP06NGDyZqRCwwMxLRp0xAfHw8TExMUFBRgzpw5CAgIEB0aGRDOYSODsXr1amzevBm7d%2B/G4sWLkZubC0tLS5SWlj7zFz0ZD19fX6NM2j7//HM8fvwYY8eOrTNLmdRFJSUliI2NRVpaGoCqIe%2BAgAAsWLCAe4pSjTFhI4OSmpqK1157DUVFRVi1ahWKi4sxYcIEuLm5iQ6NJPLTTz/hgw8%2BwNGjR0WHonWHDx/GlClT1Hc9/5GxzmGri86dOwdPT088fPgQWVlZcHZ2rrZsDdHf4ZAoGYySkhKcPHkS06dPh0KhgLW1NSIiItCkSRPRoZGW/Hkul1KpxP379/Hee%2B8JjEo68%2BfPx6hRo/DKK69UW0yWjMe4ceNw7NgxNGrUiDsc0H%2BNCRsZjPnz5yMjIwOff/65eg/CpKQkLFmyBB988IHo8EgLxo8fr/G5qakpWrVqhQ4dOgiKSFpFRUWYMmWK6DBIYm5ubvjll1/g4%2BMjOhQyYBwSJYPx6quv4uDBgxp/oebm5iI8PBwnT54UGBnVVlRU1N9OvN%2B0aZOOotGd6dOno2fPnujdu7foUEhCo0ePRnp6Opo1awYnJyeN17oxvq5JGqywkcGwtrauNmxUv379Z87/IcPi6%2BsLAMjKysJ3332HsLAwuLu7Izc3Fzt37jTaZT3KysowYcIEtGrVCnZ2dvxFbqQ8PT3h6ekJhUKBhw8fwt7eHmZm/PVL/wxfMaT3cnJyAAChoaGYNGkSpk%2BfjqZNmyIvLw8LFizAyJEjxQZItfZ0Udxhw4Zh9erV8PLyUh/r27cvPvroI1GhSap169Zo3bq16DBIYiNHjsSsWbNw%2BPBh9fzb0NDQv9yKjejPOCRKes/Dw%2BOZew4CMMp9B%2BsyT09PnDt3TqOSqlQq4ePjgwsXLgiMjOi/98EHH%2BD27duIiYlRz79dtmwZvLy8EBcXJzo8MhBM2Ejv1WTvwbq43Y0xCg8PR1BQEEaPHq1uW7ZsGX788Uej3HOxsLAQmzdvhkwmUw/tK5VK3Lx5EwcPHhQcHWlLt27dcPjwYTg4OKjbZDIZQkJCkJ6eLjAyMiQcEiW9x2Ss7oiLi8PYsWOxefNmODs7IycnB5WVlVi3bp3o0CQRGxuL27dvo1GjRiguLoarqytOnjyJyMhI0aGRFllaWlabf2tjYwNra2tBEZEhYoWNiPTKgwcPcOzYMchkMjg7OyMwMNBoV4P39vbG119/DZlMhtWrVyM5ORkHDhzAV199hTVr1ogOj7Tkyy%2B/RFpaGuLi4tC8eXPIZDIsWrQI7u7uGsm5q6urwChJ3zFhIyIS5OmWW48ePUJYWBi%2B/fZblJeXIyAgAKdOnRIdHmmJh4eH%2Bv/Pmo/LubhUExwSJSISpGnTprhy5Qo6dOiAkpISyOVymJmZoaysTHRopEXff/%2B96BDICDBhIyISZNiwYYiKisKhQ4cwYMAAjBgxAmZmZujWrZvo0EiLOA%2BXtIFDokREAq1ZswYDBw5Eo0aNsGrVKuzcuRNfffUVGjZsKDo0ItIjpqIDICKqqz777DNs3boVpaWlMDc3x0svvQRzc3Ps3LlTdGhEpGdYYSMiEqR79%2B7YsmUL3Nzc1G13797FiBEjcPToUYGREZG%2BYYWNiEiQ4uJiuLi4aLS5uLjg8ePHgiIiIn3FhI2ISJD27dtj9erVGm3r16/XWAaCiAjgkCgRkTBXr17FqFGjYG1tDWdnZ%2BTm5qK8vBxr165l0kZEGpiwEREJ9PDhQxw9ehR5eXlwcXFBjx49jHZnByL67zFhIyIiItJznMNGREREpOeYsBERERHpOSZsRERERHqOCRsRERGRnmPCRkRERKTnmLARERER6TkmbERERER67v8BfeHpptTDyh0AAAAASUVORK5CYII%3D\" class=\"center-img\">\n",
       "</div>\n",
       "    <div class=\"row headerrow highlight\">\n",
       "        <h1>Sample</h1>\n",
       "    </div>\n",
       "    <div class=\"row variablerow\">\n",
       "    <div class=\"col-md-12\" style=\"overflow:scroll; width: 100%%; overflow-y: hidden;\">\n",
       "        <table border=\"1\" class=\"dataframe sample\">\n",
       "  <thead>\n",
       "    <tr style=\"text-align: right;\">\n",
       "      <th></th>\n",
       "      <th>age</th>\n",
       "      <th>job</th>\n",
       "      <th>marital</th>\n",
       "      <th>education</th>\n",
       "      <th>default</th>\n",
       "      <th>balance</th>\n",
       "      <th>housing</th>\n",
       "      <th>loan</th>\n",
       "      <th>contact</th>\n",
       "      <th>day</th>\n",
       "      <th>month</th>\n",
       "      <th>duration</th>\n",
       "      <th>campaign</th>\n",
       "      <th>pdays</th>\n",
       "      <th>previous</th>\n",
       "      <th>poutcome</th>\n",
       "      <th>y</th>\n",
       "    </tr>\n",
       "  </thead>\n",
       "  <tbody>\n",
       "    <tr>\n",
       "      <th>0</th>\n",
       "      <td>58</td>\n",
       "      <td>management</td>\n",
       "      <td>married</td>\n",
       "      <td>tertiary</td>\n",
       "      <td>no</td>\n",
       "      <td>2143</td>\n",
       "      <td>yes</td>\n",
       "      <td>no</td>\n",
       "      <td>unknown</td>\n",
       "      <td>5</td>\n",
       "      <td>may</td>\n",
       "      <td>261</td>\n",
       "      <td>1</td>\n",
       "      <td>-1</td>\n",
       "      <td>0</td>\n",
       "      <td>unknown</td>\n",
       "      <td>no</td>\n",
       "    </tr>\n",
       "    <tr>\n",
       "      <th>1</th>\n",
       "      <td>44</td>\n",
       "      <td>technician</td>\n",
       "      <td>single</td>\n",
       "      <td>secondary</td>\n",
       "      <td>no</td>\n",
       "      <td>29</td>\n",
       "      <td>yes</td>\n",
       "      <td>no</td>\n",
       "      <td>unknown</td>\n",
       "      <td>5</td>\n",
       "      <td>may</td>\n",
       "      <td>151</td>\n",
       "      <td>1</td>\n",
       "      <td>-1</td>\n",
       "      <td>0</td>\n",
       "      <td>unknown</td>\n",
       "      <td>no</td>\n",
       "    </tr>\n",
       "    <tr>\n",
       "      <th>2</th>\n",
       "      <td>33</td>\n",
       "      <td>entrepreneur</td>\n",
       "      <td>married</td>\n",
       "      <td>secondary</td>\n",
       "      <td>no</td>\n",
       "      <td>2</td>\n",
       "      <td>yes</td>\n",
       "      <td>yes</td>\n",
       "      <td>unknown</td>\n",
       "      <td>5</td>\n",
       "      <td>may</td>\n",
       "      <td>76</td>\n",
       "      <td>1</td>\n",
       "      <td>-1</td>\n",
       "      <td>0</td>\n",
       "      <td>unknown</td>\n",
       "      <td>no</td>\n",
       "    </tr>\n",
       "    <tr>\n",
       "      <th>3</th>\n",
       "      <td>47</td>\n",
       "      <td>blue-collar</td>\n",
       "      <td>married</td>\n",
       "      <td>unknown</td>\n",
       "      <td>no</td>\n",
       "      <td>1506</td>\n",
       "      <td>yes</td>\n",
       "      <td>no</td>\n",
       "      <td>unknown</td>\n",
       "      <td>5</td>\n",
       "      <td>may</td>\n",
       "      <td>92</td>\n",
       "      <td>1</td>\n",
       "      <td>-1</td>\n",
       "      <td>0</td>\n",
       "      <td>unknown</td>\n",
       "      <td>no</td>\n",
       "    </tr>\n",
       "    <tr>\n",
       "      <th>4</th>\n",
       "      <td>33</td>\n",
       "      <td>unknown</td>\n",
       "      <td>single</td>\n",
       "      <td>unknown</td>\n",
       "      <td>no</td>\n",
       "      <td>1</td>\n",
       "      <td>no</td>\n",
       "      <td>no</td>\n",
       "      <td>unknown</td>\n",
       "      <td>5</td>\n",
       "      <td>may</td>\n",
       "      <td>198</td>\n",
       "      <td>1</td>\n",
       "      <td>-1</td>\n",
       "      <td>0</td>\n",
       "      <td>unknown</td>\n",
       "      <td>no</td>\n",
       "    </tr>\n",
       "  </tbody>\n",
       "</table>\n",
       "    </div>\n",
       "</div>\n",
       "</div>"
      ],
      "text/plain": [
       "<pandas_profiling.ProfileReport at 0x1f28eaf9908>"
      ]
     },
     "execution_count": 122,
     "metadata": {},
     "output_type": "execute_result"
    }
   ],
   "source": [
    "profile = ProfileReport(data)#, title=\"Pandas Profiling Report\",html={'style':{'full_width':True}})\n",
    "profile"
   ]
  },
  {
   "cell_type": "code",
   "execution_count": 17,
   "metadata": {},
   "outputs": [
    {
     "data": {
      "text/html": [
       "<div>\n",
       "<style scoped>\n",
       "    .dataframe tbody tr th:only-of-type {\n",
       "        vertical-align: middle;\n",
       "    }\n",
       "\n",
       "    .dataframe tbody tr th {\n",
       "        vertical-align: top;\n",
       "    }\n",
       "\n",
       "    .dataframe thead th {\n",
       "        text-align: right;\n",
       "    }\n",
       "</style>\n",
       "<table border=\"1\" class=\"dataframe\">\n",
       "  <thead>\n",
       "    <tr style=\"text-align: right;\">\n",
       "      <th></th>\n",
       "      <th>age</th>\n",
       "      <th>balance</th>\n",
       "      <th>day</th>\n",
       "      <th>duration</th>\n",
       "      <th>campaign</th>\n",
       "      <th>pdays</th>\n",
       "      <th>previous</th>\n",
       "    </tr>\n",
       "  </thead>\n",
       "  <tbody>\n",
       "    <tr>\n",
       "      <td>count</td>\n",
       "      <td>45211.000000</td>\n",
       "      <td>45211.000000</td>\n",
       "      <td>45211.000000</td>\n",
       "      <td>45211.000000</td>\n",
       "      <td>45211.000000</td>\n",
       "      <td>45211.000000</td>\n",
       "      <td>45211.000000</td>\n",
       "    </tr>\n",
       "    <tr>\n",
       "      <td>mean</td>\n",
       "      <td>40.936210</td>\n",
       "      <td>1362.272058</td>\n",
       "      <td>15.806419</td>\n",
       "      <td>258.163080</td>\n",
       "      <td>2.763841</td>\n",
       "      <td>40.197828</td>\n",
       "      <td>0.580323</td>\n",
       "    </tr>\n",
       "    <tr>\n",
       "      <td>std</td>\n",
       "      <td>10.618762</td>\n",
       "      <td>3044.765829</td>\n",
       "      <td>8.322476</td>\n",
       "      <td>257.527812</td>\n",
       "      <td>3.098021</td>\n",
       "      <td>100.128746</td>\n",
       "      <td>2.303441</td>\n",
       "    </tr>\n",
       "    <tr>\n",
       "      <td>min</td>\n",
       "      <td>18.000000</td>\n",
       "      <td>-8019.000000</td>\n",
       "      <td>1.000000</td>\n",
       "      <td>0.000000</td>\n",
       "      <td>1.000000</td>\n",
       "      <td>-1.000000</td>\n",
       "      <td>0.000000</td>\n",
       "    </tr>\n",
       "    <tr>\n",
       "      <td>25%</td>\n",
       "      <td>33.000000</td>\n",
       "      <td>72.000000</td>\n",
       "      <td>8.000000</td>\n",
       "      <td>103.000000</td>\n",
       "      <td>1.000000</td>\n",
       "      <td>-1.000000</td>\n",
       "      <td>0.000000</td>\n",
       "    </tr>\n",
       "    <tr>\n",
       "      <td>50%</td>\n",
       "      <td>39.000000</td>\n",
       "      <td>448.000000</td>\n",
       "      <td>16.000000</td>\n",
       "      <td>180.000000</td>\n",
       "      <td>2.000000</td>\n",
       "      <td>-1.000000</td>\n",
       "      <td>0.000000</td>\n",
       "    </tr>\n",
       "    <tr>\n",
       "      <td>75%</td>\n",
       "      <td>48.000000</td>\n",
       "      <td>1428.000000</td>\n",
       "      <td>21.000000</td>\n",
       "      <td>319.000000</td>\n",
       "      <td>3.000000</td>\n",
       "      <td>-1.000000</td>\n",
       "      <td>0.000000</td>\n",
       "    </tr>\n",
       "    <tr>\n",
       "      <td>max</td>\n",
       "      <td>95.000000</td>\n",
       "      <td>102127.000000</td>\n",
       "      <td>31.000000</td>\n",
       "      <td>4918.000000</td>\n",
       "      <td>63.000000</td>\n",
       "      <td>871.000000</td>\n",
       "      <td>275.000000</td>\n",
       "    </tr>\n",
       "  </tbody>\n",
       "</table>\n",
       "</div>"
      ],
      "text/plain": [
       "                age        balance           day      duration      campaign  \\\n",
       "count  45211.000000   45211.000000  45211.000000  45211.000000  45211.000000   \n",
       "mean      40.936210    1362.272058     15.806419    258.163080      2.763841   \n",
       "std       10.618762    3044.765829      8.322476    257.527812      3.098021   \n",
       "min       18.000000   -8019.000000      1.000000      0.000000      1.000000   \n",
       "25%       33.000000      72.000000      8.000000    103.000000      1.000000   \n",
       "50%       39.000000     448.000000     16.000000    180.000000      2.000000   \n",
       "75%       48.000000    1428.000000     21.000000    319.000000      3.000000   \n",
       "max       95.000000  102127.000000     31.000000   4918.000000     63.000000   \n",
       "\n",
       "              pdays      previous  \n",
       "count  45211.000000  45211.000000  \n",
       "mean      40.197828      0.580323  \n",
       "std      100.128746      2.303441  \n",
       "min       -1.000000      0.000000  \n",
       "25%       -1.000000      0.000000  \n",
       "50%       -1.000000      0.000000  \n",
       "75%       -1.000000      0.000000  \n",
       "max      871.000000    275.000000  "
      ]
     },
     "execution_count": 17,
     "metadata": {},
     "output_type": "execute_result"
    }
   ],
   "source": [
    "data.describe()"
   ]
  },
  {
   "cell_type": "code",
   "execution_count": 18,
   "metadata": {},
   "outputs": [
    {
     "data": {
      "text/html": [
       "<div>\n",
       "<style scoped>\n",
       "    .dataframe tbody tr th:only-of-type {\n",
       "        vertical-align: middle;\n",
       "    }\n",
       "\n",
       "    .dataframe tbody tr th {\n",
       "        vertical-align: top;\n",
       "    }\n",
       "\n",
       "    .dataframe thead th {\n",
       "        text-align: right;\n",
       "    }\n",
       "</style>\n",
       "<table border=\"1\" class=\"dataframe\">\n",
       "  <thead>\n",
       "    <tr style=\"text-align: right;\">\n",
       "      <th></th>\n",
       "      <th>age</th>\n",
       "      <th>balance</th>\n",
       "      <th>day</th>\n",
       "      <th>duration</th>\n",
       "      <th>campaign</th>\n",
       "      <th>pdays</th>\n",
       "      <th>previous</th>\n",
       "    </tr>\n",
       "    <tr>\n",
       "      <th>y</th>\n",
       "      <th></th>\n",
       "      <th></th>\n",
       "      <th></th>\n",
       "      <th></th>\n",
       "      <th></th>\n",
       "      <th></th>\n",
       "      <th></th>\n",
       "    </tr>\n",
       "  </thead>\n",
       "  <tbody>\n",
       "    <tr>\n",
       "      <td>no</td>\n",
       "      <td>40.838986</td>\n",
       "      <td>1303.714969</td>\n",
       "      <td>15.892290</td>\n",
       "      <td>221.182806</td>\n",
       "      <td>2.846350</td>\n",
       "      <td>36.421372</td>\n",
       "      <td>0.502154</td>\n",
       "    </tr>\n",
       "    <tr>\n",
       "      <td>yes</td>\n",
       "      <td>41.670070</td>\n",
       "      <td>1804.267915</td>\n",
       "      <td>15.158253</td>\n",
       "      <td>537.294574</td>\n",
       "      <td>2.141047</td>\n",
       "      <td>68.702968</td>\n",
       "      <td>1.170354</td>\n",
       "    </tr>\n",
       "  </tbody>\n",
       "</table>\n",
       "</div>"
      ],
      "text/plain": [
       "           age      balance        day    duration  campaign      pdays  \\\n",
       "y                                                                         \n",
       "no   40.838986  1303.714969  15.892290  221.182806  2.846350  36.421372   \n",
       "yes  41.670070  1804.267915  15.158253  537.294574  2.141047  68.702968   \n",
       "\n",
       "     previous  \n",
       "y              \n",
       "no   0.502154  \n",
       "yes  1.170354  "
      ]
     },
     "execution_count": 18,
     "metadata": {},
     "output_type": "execute_result"
    }
   ],
   "source": [
    "data.groupby('y').mean()"
   ]
  },
  {
   "cell_type": "code",
   "execution_count": 19,
   "metadata": {},
   "outputs": [
    {
     "data": {
      "text/plain": [
       "no     39922\n",
       "yes     5289\n",
       "Name: y, dtype: int64"
      ]
     },
     "execution_count": 19,
     "metadata": {},
     "output_type": "execute_result"
    }
   ],
   "source": [
    "data.y.value_counts()"
   ]
  },
  {
   "cell_type": "code",
   "execution_count": 29,
   "metadata": {},
   "outputs": [
    {
     "name": "stdout",
     "output_type": "stream",
     "text": [
      "percentage of yes --> 11.698480458295547\n",
      "percentage of no --> 88.30151954170445\n"
     ]
    }
   ],
   "source": [
    "countyes=len(data[data.y=='yes'])\n",
    "countno= len(data[data.y=='no'])\n",
    "print('percentage of yes -->',countyes/len(data.y)*100)\n",
    "print('percentage of no -->',countno/len(data.y)*100)"
   ]
  },
  {
   "cell_type": "markdown",
   "metadata": {},
   "source": [
    "### checking null values"
   ]
  },
  {
   "cell_type": "code",
   "execution_count": 32,
   "metadata": {},
   "outputs": [
    {
     "data": {
      "text/plain": [
       "<matplotlib.axes._subplots.AxesSubplot at 0x27f936e4c08>"
      ]
     },
     "execution_count": 32,
     "metadata": {},
     "output_type": "execute_result"
    },
    {
     "data": {
      "image/png": "[encoded data removed]",
      "text/plain": [
       "<Figure size 432x288 with 1 Axes>"
      ]
     },
     "metadata": {
      "needs_background": "light"
     },
     "output_type": "display_data"
    }
   ],
   "source": [
    "sns.heatmap(data.isnull(),yticklabels=False, cbar=False, cmap='viridis')"
   ]
  },
  {
   "cell_type": "code",
   "execution_count": 34,
   "metadata": {},
   "outputs": [
    {
     "data": {
      "text/plain": [
       "age          0.0\n",
       "job          0.0\n",
       "marital      0.0\n",
       "education    0.0\n",
       "default      0.0\n",
       "balance      0.0\n",
       "housing      0.0\n",
       "loan         0.0\n",
       "contact      0.0\n",
       "day          0.0\n",
       "month        0.0\n",
       "duration     0.0\n",
       "campaign     0.0\n",
       "pdays        0.0\n",
       "previous     0.0\n",
       "poutcome     0.0\n",
       "y            0.0\n",
       "dtype: float64"
      ]
     },
     "execution_count": 34,
     "metadata": {},
     "output_type": "execute_result"
    }
   ],
   "source": [
    "data[data.isnull()].sum()"
   ]
  },
  {
   "cell_type": "code",
   "execution_count": 39,
   "metadata": {},
   "outputs": [
    {
     "data": {
      "text/plain": [
       "age          False\n",
       "job          False\n",
       "marital      False\n",
       "education    False\n",
       "default      False\n",
       "balance      False\n",
       "housing      False\n",
       "loan         False\n",
       "contact      False\n",
       "day          False\n",
       "month        False\n",
       "duration     False\n",
       "campaign     False\n",
       "pdays        False\n",
       "previous     False\n",
       "poutcome     False\n",
       "y            False\n",
       "dtype: bool"
      ]
     },
     "execution_count": 39,
     "metadata": {},
     "output_type": "execute_result"
    }
   ],
   "source": [
    "data.isna().any()"
   ]
  },
  {
   "cell_type": "markdown",
   "metadata": {},
   "source": [
    "* There are no missing values in data"
   ]
  },
  {
   "cell_type": "markdown",
   "metadata": {},
   "source": [
    "### Data visualization"
   ]
  },
  {
   "cell_type": "code",
   "execution_count": 40,
   "metadata": {},
   "outputs": [
    {
     "data": {
      "image/png": "[encoded data removed]",
      "text/plain": [
       "<Figure size 432x288 with 1 Axes>"
      ]
     },
     "metadata": {
      "needs_background": "light"
     },
     "output_type": "display_data"
    }
   ],
   "source": [
    "bins = range(0, 100, 10)\n",
    "ax = sns.distplot(data.age[data.y=='yes'],\n",
    "              color='red', kde=False, bins=bins, label='Have Subscribed')\n",
    "sns.distplot(data.age[data.y=='no'],\n",
    "         ax=ax,  # Overplots on first plot\n",
    "         color='blue', kde=False, bins=bins, label=\"Haven't Subscribed\")\n",
    "plt.legend()\n",
    "plt.show()"
   ]
  },
  {
   "cell_type": "code",
   "execution_count": 41,
   "metadata": {},
   "outputs": [
    {
     "data": {
      "image/png": "[encoded data removed]",
      "text/plain": [
       "<Figure size 1440x432 with 1 Axes>"
      ]
     },
     "metadata": {
      "needs_background": "light"
     },
     "output_type": "display_data"
    }
   ],
   "source": [
    "pd.crosstab(data.age,data.y).plot(kind=\"bar\",figsize=(20,6))\n",
    "plt.title('Client Subscribed Frequency for Ages')\n",
    "plt.xlabel('Age')\n",
    "plt.ylabel('Frequency')\n",
    "plt.show()"
   ]
  },
  {
   "cell_type": "code",
   "execution_count": 42,
   "metadata": {},
   "outputs": [
    {
     "data": {
      "image/png": "[encoded data removed]",
      "text/plain": [
       "<Figure size 1080x432 with 1 Axes>"
      ]
     },
     "metadata": {
      "needs_background": "light"
     },
     "output_type": "display_data"
    }
   ],
   "source": [
    "pd.crosstab(data.marital,data.y).plot(kind=\"bar\",figsize=(15,6),color=['#1CA53B','#AA1111' ])\n",
    "plt.title('Client Subscribed Frequency for Maritial')\n",
    "plt.xlabel('marital')\n",
    "plt.xticks(rotation=0)\n",
    "plt.legend([\"Haven't Subscribed\", \"Have Subscribed\"])\n",
    "plt.ylabel('Frequency')\n",
    "plt.show()"
   ]
  },
  {
   "cell_type": "code",
   "execution_count": 43,
   "metadata": {},
   "outputs": [
    {
     "data": {
      "image/png": "[encoded data removed]",
      "text/plain": [
       "<Figure size 432x288 with 1 Axes>"
      ]
     },
     "metadata": {
      "needs_background": "light"
     },
     "output_type": "display_data"
    }
   ],
   "source": [
    "plt.scatter(x=data.age[data.y=='yes'], y=data.duration[(data.y=='yes')], c=\"red\")\n",
    "plt.scatter(x=data.age[data.y=='no'], y=data.duration[(data.y=='no')])\n",
    "plt.legend([\"Have Subscribed\", \"Haven't Subscribed\"])\n",
    "plt.xlabel(\"Age\")\n",
    "plt.ylabel(\"Duration\")\n",
    "plt.show()"
   ]
  },
  {
   "cell_type": "code",
   "execution_count": 44,
   "metadata": {},
   "outputs": [
    {
     "data": {
      "text/plain": [
       "<seaborn.axisgrid.PairGrid at 0x27f9432b948>"
      ]
     },
     "execution_count": 44,
     "metadata": {},
     "output_type": "execute_result"
    },
    {
     "data": {
      "image/png": "[encoded data removed]",
      "text/plain": [
       "<Figure size 593.25x540 with 12 Axes>"
      ]
     },
     "metadata": {
      "needs_background": "light"
     },
     "output_type": "display_data"
    }
   ],
   "source": [
    "sns.pairplot(data=data, hue='y', vars= ['age', 'balance', 'duration'])"
   ]
  },
  {
   "cell_type": "code",
   "execution_count": 45,
   "metadata": {},
   "outputs": [
    {
     "data": {
      "text/plain": [
       "<matplotlib.axes._subplots.AxesSubplot at 0x27f93dd1208>"
      ]
     },
     "execution_count": 45,
     "metadata": {},
     "output_type": "execute_result"
    },
    {
     "data": {
      "image/png": "[encoded data removed]",
      "text/plain": [
       "<Figure size 432x288 with 1 Axes>"
      ]
     },
     "metadata": {
      "needs_background": "light"
     },
     "output_type": "display_data"
    }
   ],
   "source": [
    "sns.countplot(x='y', data=data, label='Count')"
   ]
  },
  {
   "cell_type": "code",
   "execution_count": 46,
   "metadata": {
    "scrolled": false
   },
   "outputs": [
    {
     "data": {
      "text/plain": [
       "<matplotlib.axes._subplots.AxesSubplot at 0x27f93d94288>"
      ]
     },
     "execution_count": 46,
     "metadata": {},
     "output_type": "execute_result"
    },
    {
     "data": {
      "image/png": "[encoded data removed]",
      "text/plain": [
       "<Figure size 1440x720 with 2 Axes>"
      ]
     },
     "metadata": {
      "needs_background": "light"
     },
     "output_type": "display_data"
    }
   ],
   "source": [
    "plt.figure(figsize=(20,10))\n",
    "sns.heatmap(data=data.corr(), annot=True, cmap='viridis')"
   ]
  },
  {
   "cell_type": "code",
   "execution_count": 123,
   "metadata": {},
   "outputs": [],
   "source": [
    "from sklearn.preprocessing import OrdinalEncoder"
   ]
  },
  {
   "cell_type": "code",
   "execution_count": 124,
   "metadata": {},
   "outputs": [],
   "source": [
    "oe= OrdinalEncoder()"
   ]
  },
  {
   "cell_type": "code",
   "execution_count": 125,
   "metadata": {},
   "outputs": [],
   "source": [
    "data['y']= oe.fit_transform(data[['y']])\n",
    "data.y=data.y.astype('int64')"
   ]
  },
  {
   "cell_type": "code",
   "execution_count": 127,
   "metadata": {},
   "outputs": [
    {
     "data": {
      "text/plain": [
       "32546    0\n",
       "24847    0\n",
       "5042     0\n",
       "30530    1\n",
       "15945    0\n",
       "29416    0\n",
       "16971    0\n",
       "43291    1\n",
       "29261    0\n",
       "17995    0\n",
       "Name: y, dtype: int64"
      ]
     },
     "execution_count": 127,
     "metadata": {},
     "output_type": "execute_result"
    }
   ],
   "source": [
    "data.y.sample(10)"
   ]
  },
  {
   "cell_type": "markdown",
   "metadata": {},
   "source": [
    "### Pre-modeling"
   ]
  },
  {
   "cell_type": "code",
   "execution_count": 148,
   "metadata": {},
   "outputs": [],
   "source": [
    "feature_data= data.drop(columns=['y','job','marital', 'education', 'contact', \n",
    "             'housing', 'loan', 'day', 'month', 'poutcome' ])\n",
    "target_data= data.y"
   ]
  },
  {
   "cell_type": "code",
   "execution_count": 149,
   "metadata": {},
   "outputs": [
    {
     "data": {
      "text/html": [
       "<div>\n",
       "<style scoped>\n",
       "    .dataframe tbody tr th:only-of-type {\n",
       "        vertical-align: middle;\n",
       "    }\n",
       "\n",
       "    .dataframe tbody tr th {\n",
       "        vertical-align: top;\n",
       "    }\n",
       "\n",
       "    .dataframe thead th {\n",
       "        text-align: right;\n",
       "    }\n",
       "</style>\n",
       "<table border=\"1\" class=\"dataframe\">\n",
       "  <thead>\n",
       "    <tr style=\"text-align: right;\">\n",
       "      <th></th>\n",
       "      <th>age</th>\n",
       "      <th>default</th>\n",
       "      <th>balance</th>\n",
       "      <th>duration</th>\n",
       "      <th>campaign</th>\n",
       "      <th>pdays</th>\n",
       "      <th>previous</th>\n",
       "    </tr>\n",
       "  </thead>\n",
       "  <tbody>\n",
       "    <tr>\n",
       "      <td>0</td>\n",
       "      <td>58</td>\n",
       "      <td>no</td>\n",
       "      <td>2143</td>\n",
       "      <td>261</td>\n",
       "      <td>1</td>\n",
       "      <td>-1</td>\n",
       "      <td>0</td>\n",
       "    </tr>\n",
       "    <tr>\n",
       "      <td>1</td>\n",
       "      <td>44</td>\n",
       "      <td>no</td>\n",
       "      <td>29</td>\n",
       "      <td>151</td>\n",
       "      <td>1</td>\n",
       "      <td>-1</td>\n",
       "      <td>0</td>\n",
       "    </tr>\n",
       "    <tr>\n",
       "      <td>2</td>\n",
       "      <td>33</td>\n",
       "      <td>no</td>\n",
       "      <td>2</td>\n",
       "      <td>76</td>\n",
       "      <td>1</td>\n",
       "      <td>-1</td>\n",
       "      <td>0</td>\n",
       "    </tr>\n",
       "    <tr>\n",
       "      <td>3</td>\n",
       "      <td>47</td>\n",
       "      <td>no</td>\n",
       "      <td>1506</td>\n",
       "      <td>92</td>\n",
       "      <td>1</td>\n",
       "      <td>-1</td>\n",
       "      <td>0</td>\n",
       "    </tr>\n",
       "    <tr>\n",
       "      <td>4</td>\n",
       "      <td>33</td>\n",
       "      <td>no</td>\n",
       "      <td>1</td>\n",
       "      <td>198</td>\n",
       "      <td>1</td>\n",
       "      <td>-1</td>\n",
       "      <td>0</td>\n",
       "    </tr>\n",
       "  </tbody>\n",
       "</table>\n",
       "</div>"
      ],
      "text/plain": [
       "   age default  balance  duration  campaign  pdays  previous\n",
       "0   58      no     2143       261         1     -1         0\n",
       "1   44      no       29       151         1     -1         0\n",
       "2   33      no        2        76         1     -1         0\n",
       "3   47      no     1506        92         1     -1         0\n",
       "4   33      no        1       198         1     -1         0"
      ]
     },
     "execution_count": 149,
     "metadata": {},
     "output_type": "execute_result"
    }
   ],
   "source": [
    "feature_data.head()"
   ]
  },
  {
   "cell_type": "code",
   "execution_count": 150,
   "metadata": {},
   "outputs": [],
   "source": [
    "from sklearn.linear_model import LogisticRegression\n",
    "from sklearn.tree import DecisionTreeClassifier\n",
    "from sklearn.ensemble import RandomForestClassifier\n",
    "from sklearn.pipeline import make_pipeline\n",
    "from sklearn.compose import make_column_transformer\n",
    "from sklearn.model_selection import train_test_split\n",
    "from sklearn.preprocessing import MinMaxScaler,OrdinalEncoder,StandardScaler\n",
    "from sklearn.metrics import classification_report, confusion_matrix"
   ]
  },
  {
   "cell_type": "markdown",
   "metadata": {},
   "source": [
    "* Creating pipeline"
   ]
  },
  {
   "cell_type": "code",
   "execution_count": 151,
   "metadata": {},
   "outputs": [],
   "source": [
    "num_data = feature_data.select_dtypes(include = ['int','float'])\n",
    "cat_data = feature_data.select_dtypes(include= ['object'])"
   ]
  },
  {
   "cell_type": "code",
   "execution_count": 152,
   "metadata": {},
   "outputs": [],
   "source": [
    "num_pipeline = make_pipeline(StandardScaler())\n",
    "cat_pipeline = make_pipeline(OrdinalEncoder())"
   ]
  },
  {
   "cell_type": "code",
   "execution_count": 153,
   "metadata": {},
   "outputs": [],
   "source": [
    "preprocessor = make_column_transformer(\n",
    "               (cat_pipeline,cat_data.columns),\n",
    "               (num_pipeline,num_data.columns)\n",
    "               )"
   ]
  },
  {
   "cell_type": "code",
   "execution_count": 154,
   "metadata": {},
   "outputs": [],
   "source": [
    "trainX, testX, trainY, testY = train_test_split(feature_data, target_data)"
   ]
  },
  {
   "cell_type": "code",
   "execution_count": 155,
   "metadata": {},
   "outputs": [],
   "source": [
    "pipeline = make_pipeline(preprocessor, LogisticRegression())"
   ]
  },
  {
   "cell_type": "code",
   "execution_count": 156,
   "metadata": {},
   "outputs": [
    {
     "data": {
      "text/plain": [
       "Pipeline(steps=[('columntransformer',\n",
       "                 ColumnTransformer(transformers=[('pipeline-1',\n",
       "                                                  Pipeline(steps=[('ordinalencoder',\n",
       "                                                                   OrdinalEncoder())]),\n",
       "                                                  Index(['default'], dtype='object')),\n",
       "                                                 ('pipeline-2',\n",
       "                                                  Pipeline(steps=[('standardscaler',\n",
       "                                                                   StandardScaler())]),\n",
       "                                                  Index([], dtype='object'))])),\n",
       "                ('logisticregression', LogisticRegression())])"
      ]
     },
     "execution_count": 156,
     "metadata": {},
     "output_type": "execute_result"
    }
   ],
   "source": [
    "pipeline.fit(trainX, trainY)"
   ]
  },
  {
   "cell_type": "code",
   "execution_count": 157,
   "metadata": {},
   "outputs": [
    {
     "data": {
      "text/plain": [
       "0.8812704591701318"
      ]
     },
     "execution_count": 157,
     "metadata": {},
     "output_type": "execute_result"
    }
   ],
   "source": [
    "pipeline.score(testX,testY)"
   ]
  },
  {
   "cell_type": "code",
   "execution_count": 158,
   "metadata": {
    "scrolled": true
   },
   "outputs": [
    {
     "name": "stdout",
     "output_type": "stream",
     "text": [
      "              precision    recall  f1-score   support\n",
      "\n",
      "           0       0.88      1.00      0.94      9961\n",
      "           1       0.00      0.00      0.00      1342\n",
      "\n",
      "    accuracy                           0.88     11303\n",
      "   macro avg       0.44      0.50      0.47     11303\n",
      "weighted avg       0.78      0.88      0.83     11303\n",
      "\n",
      "[[9961    0]\n",
      " [1342    0]]\n"
     ]
    }
   ],
   "source": [
    "# score= pipeline.score(testX,testY).predict(testX)\n",
    "print(classification_report(testY,pipeline.predict(testX)))\n",
    "print(confusion_matrix(testY,pipeline.predict(testX)))"
   ]
  },
  {
   "cell_type": "code",
   "execution_count": 159,
   "metadata": {},
   "outputs": [],
   "source": [
    "import plotly.express as px"
   ]
  },
  {
   "cell_type": "code",
   "execution_count": 160,
   "metadata": {},
   "outputs": [],
   "source": [
    "df = pd.DataFrame(target_data.value_counts())"
   ]
  },
  {
   "cell_type": "code",
   "execution_count": 161,
   "metadata": {},
   "outputs": [
    {
     "data": {
      "text/html": [
       "<div>\n",
       "<style scoped>\n",
       "    .dataframe tbody tr th:only-of-type {\n",
       "        vertical-align: middle;\n",
       "    }\n",
       "\n",
       "    .dataframe tbody tr th {\n",
       "        vertical-align: top;\n",
       "    }\n",
       "\n",
       "    .dataframe thead th {\n",
       "        text-align: right;\n",
       "    }\n",
       "</style>\n",
       "<table border=\"1\" class=\"dataframe\">\n",
       "  <thead>\n",
       "    <tr style=\"text-align: right;\">\n",
       "      <th></th>\n",
       "      <th>y</th>\n",
       "    </tr>\n",
       "  </thead>\n",
       "  <tbody>\n",
       "    <tr>\n",
       "      <td>0</td>\n",
       "      <td>39922</td>\n",
       "    </tr>\n",
       "    <tr>\n",
       "      <td>1</td>\n",
       "      <td>5289</td>\n",
       "    </tr>\n",
       "  </tbody>\n",
       "</table>\n",
       "</div>"
      ],
      "text/plain": [
       "       y\n",
       "0  39922\n",
       "1   5289"
      ]
     },
     "execution_count": 161,
     "metadata": {},
     "output_type": "execute_result"
    }
   ],
   "source": [
    "df.head()"
   ]
  },
  {
   "cell_type": "code",
   "execution_count": 162,
   "metadata": {},
   "outputs": [
    {
     "data": {
      "application/vnd.plotly.v1+json": {
       "config": {
        "plotlyServerURL": "https://plot.ly"
       },
       "data": [
        {
         "alignmentgroup": "True",
         "hovertemplate": "index=%{x}<br>y=%{y}<extra></extra>",
         "legendgroup": "",
         "marker": {
          "color": "#636efa"
         },
         "name": "",
         "offsetgroup": "",
         "orientation": "v",
         "showlegend": false,
         "textposition": "auto",
         "type": "bar",
         "x": [
          0,
          1
         ],
         "xaxis": "x",
         "y": [
          39922,
          5289
         ],
         "yaxis": "y"
        }
       ],
       "layout": {
        "barmode": "relative",
        "legend": {
         "tracegroupgap": 0
        },
        "margin": {
         "t": 60
        },
        "template": {
         "data": {
          "bar": [
           {
            "error_x": {
             "color": "#2a3f5f"
            },
            "error_y": {
             "color": "#2a3f5f"
            },
            "marker": {
             "line": {
              "color": "#E5ECF6",
              "width": 0.5
             }
            },
            "type": "bar"
           }
          ],
          "barpolar": [
           {
            "marker": {
             "line": {
              "color": "#E5ECF6",
              "width": 0.5
             }
            },
            "type": "barpolar"
           }
          ],
          "carpet": [
           {
            "aaxis": {
             "endlinecolor": "#2a3f5f",
             "gridcolor": "white",
             "linecolor": "white",
             "minorgridcolor": "white",
             "startlinecolor": "#2a3f5f"
            },
            "baxis": {
             "endlinecolor": "#2a3f5f",
             "gridcolor": "white",
             "linecolor": "white",
             "minorgridcolor": "white",
             "startlinecolor": "#2a3f5f"
            },
            "type": "carpet"
           }
          ],
          "choropleth": [
           {
            "colorbar": {
             "outlinewidth": 0,
             "ticks": ""
            },
            "type": "choropleth"
           }
          ],
          "contour": [
           {
            "colorbar": {
             "outlinewidth": 0,
             "ticks": ""
            },
            "colorscale": [
             [
              0,
              "#0d0887"
             ],
             [
              0.1111111111111111,
              "#46039f"
             ],
             [
              0.2222222222222222,
              "#7201a8"
             ],
             [
              0.3333333333333333,
              "#9c179e"
             ],
             [
              0.4444444444444444,
              "#bd3786"
             ],
             [
              0.5555555555555556,
              "#d8576b"
             ],
             [
              0.6666666666666666,
              "#ed7953"
             ],
             [
              0.7777777777777778,
              "#fb9f3a"
             ],
             [
              0.8888888888888888,
              "#fdca26"
             ],
             [
              1,
              "#f0f921"
             ]
            ],
            "type": "contour"
           }
          ],
          "contourcarpet": [
           {
            "colorbar": {
             "outlinewidth": 0,
             "ticks": ""
            },
            "type": "contourcarpet"
           }
          ],
          "heatmap": [
           {
            "colorbar": {
             "outlinewidth": 0,
             "ticks": ""
            },
            "colorscale": [
             [
              0,
              "#0d0887"
             ],
             [
              0.1111111111111111,
              "#46039f"
             ],
             [
              0.2222222222222222,
              "#7201a8"
             ],
             [
              0.3333333333333333,
              "#9c179e"
             ],
             [
              0.4444444444444444,
              "#bd3786"
             ],
             [
              0.5555555555555556,
              "#d8576b"
             ],
             [
              0.6666666666666666,
              "#ed7953"
             ],
             [
              0.7777777777777778,
              "#fb9f3a"
             ],
             [
              0.8888888888888888,
              "#fdca26"
             ],
             [
              1,
              "#f0f921"
             ]
            ],
            "type": "heatmap"
           }
          ],
          "heatmapgl": [
           {
            "colorbar": {
             "outlinewidth": 0,
             "ticks": ""
            },
            "colorscale": [
             [
              0,
              "#0d0887"
             ],
             [
              0.1111111111111111,
              "#46039f"
             ],
             [
              0.2222222222222222,
              "#7201a8"
             ],
             [
              0.3333333333333333,
              "#9c179e"
             ],
             [
              0.4444444444444444,
              "#bd3786"
             ],
             [
              0.5555555555555556,
              "#d8576b"
             ],
             [
              0.6666666666666666,
              "#ed7953"
             ],
             [
              0.7777777777777778,
              "#fb9f3a"
             ],
             [
              0.8888888888888888,
              "#fdca26"
             ],
             [
              1,
              "#f0f921"
             ]
            ],
            "type": "heatmapgl"
           }
          ],
          "histogram": [
           {
            "marker": {
             "colorbar": {
              "outlinewidth": 0,
              "ticks": ""
             }
            },
            "type": "histogram"
           }
          ],
          "histogram2d": [
           {
            "colorbar": {
             "outlinewidth": 0,
             "ticks": ""
            },
            "colorscale": [
             [
              0,
              "#0d0887"
             ],
             [
              0.1111111111111111,
              "#46039f"
             ],
             [
              0.2222222222222222,
              "#7201a8"
             ],
             [
              0.3333333333333333,
              "#9c179e"
             ],
             [
              0.4444444444444444,
              "#bd3786"
             ],
             [
              0.5555555555555556,
              "#d8576b"
             ],
             [
              0.6666666666666666,
              "#ed7953"
             ],
             [
              0.7777777777777778,
              "#fb9f3a"
             ],
             [
              0.8888888888888888,
              "#fdca26"
             ],
             [
              1,
              "#f0f921"
             ]
            ],
            "type": "histogram2d"
           }
          ],
          "histogram2dcontour": [
           {
            "colorbar": {
             "outlinewidth": 0,
             "ticks": ""
            },
            "colorscale": [
             [
              0,
              "#0d0887"
             ],
             [
              0.1111111111111111,
              "#46039f"
             ],
             [
              0.2222222222222222,
              "#7201a8"
             ],
             [
              0.3333333333333333,
              "#9c179e"
             ],
             [
              0.4444444444444444,
              "#bd3786"
             ],
             [
              0.5555555555555556,
              "#d8576b"
             ],
             [
              0.6666666666666666,
              "#ed7953"
             ],
             [
              0.7777777777777778,
              "#fb9f3a"
             ],
             [
              0.8888888888888888,
              "#fdca26"
             ],
             [
              1,
              "#f0f921"
             ]
            ],
            "type": "histogram2dcontour"
           }
          ],
          "mesh3d": [
           {
            "colorbar": {
             "outlinewidth": 0,
             "ticks": ""
            },
            "type": "mesh3d"
           }
          ],
          "parcoords": [
           {
            "line": {
             "colorbar": {
              "outlinewidth": 0,
              "ticks": ""
             }
            },
            "type": "parcoords"
           }
          ],
          "pie": [
           {
            "automargin": true,
            "type": "pie"
           }
          ],
          "scatter": [
           {
            "marker": {
             "colorbar": {
              "outlinewidth": 0,
              "ticks": ""
             }
            },
            "type": "scatter"
           }
          ],
          "scatter3d": [
           {
            "line": {
             "colorbar": {
              "outlinewidth": 0,
              "ticks": ""
             }
            },
            "marker": {
             "colorbar": {
              "outlinewidth": 0,
              "ticks": ""
             }
            },
            "type": "scatter3d"
           }
          ],
          "scattercarpet": [
           {
            "marker": {
             "colorbar": {
              "outlinewidth": 0,
              "ticks": ""
             }
            },
            "type": "scattercarpet"
           }
          ],
          "scattergeo": [
           {
            "marker": {
             "colorbar": {
              "outlinewidth": 0,
              "ticks": ""
             }
            },
            "type": "scattergeo"
           }
          ],
          "scattergl": [
           {
            "marker": {
             "colorbar": {
              "outlinewidth": 0,
              "ticks": ""
             }
            },
            "type": "scattergl"
           }
          ],
          "scattermapbox": [
           {
            "marker": {
             "colorbar": {
              "outlinewidth": 0,
              "ticks": ""
             }
            },
            "type": "scattermapbox"
           }
          ],
          "scatterpolar": [
           {
            "marker": {
             "colorbar": {
              "outlinewidth": 0,
              "ticks": ""
             }
            },
            "type": "scatterpolar"
           }
          ],
          "scatterpolargl": [
           {
            "marker": {
             "colorbar": {
              "outlinewidth": 0,
              "ticks": ""
             }
            },
            "type": "scatterpolargl"
           }
          ],
          "scatterternary": [
           {
            "marker": {
             "colorbar": {
              "outlinewidth": 0,
              "ticks": ""
             }
            },
            "type": "scatterternary"
           }
          ],
          "surface": [
           {
            "colorbar": {
             "outlinewidth": 0,
             "ticks": ""
            },
            "colorscale": [
             [
              0,
              "#0d0887"
             ],
             [
              0.1111111111111111,
              "#46039f"
             ],
             [
              0.2222222222222222,
              "#7201a8"
             ],
             [
              0.3333333333333333,
              "#9c179e"
             ],
             [
              0.4444444444444444,
              "#bd3786"
             ],
             [
              0.5555555555555556,
              "#d8576b"
             ],
             [
              0.6666666666666666,
              "#ed7953"
             ],
             [
              0.7777777777777778,
              "#fb9f3a"
             ],
             [
              0.8888888888888888,
              "#fdca26"
             ],
             [
              1,
              "#f0f921"
             ]
            ],
            "type": "surface"
           }
          ],
          "table": [
           {
            "cells": {
             "fill": {
              "color": "#EBF0F8"
             },
             "line": {
              "color": "white"
             }
            },
            "header": {
             "fill": {
              "color": "#C8D4E3"
             },
             "line": {
              "color": "white"
             }
            },
            "type": "table"
           }
          ]
         },
         "layout": {
          "annotationdefaults": {
           "arrowcolor": "#2a3f5f",
           "arrowhead": 0,
           "arrowwidth": 1
          },
          "coloraxis": {
           "colorbar": {
            "outlinewidth": 0,
            "ticks": ""
           }
          },
          "colorscale": {
           "diverging": [
            [
             0,
             "#8e0152"
            ],
            [
             0.1,
             "#c51b7d"
            ],
            [
             0.2,
             "#de77ae"
            ],
            [
             0.3,
             "#f1b6da"
            ],
            [
             0.4,
             "#fde0ef"
            ],
            [
             0.5,
             "#f7f7f7"
            ],
            [
             0.6,
             "#e6f5d0"
            ],
            [
             0.7,
             "#b8e186"
            ],
            [
             0.8,
             "#7fbc41"
            ],
            [
             0.9,
             "#4d9221"
            ],
            [
             1,
             "#276419"
            ]
           ],
           "sequential": [
            [
             0,
             "#0d0887"
            ],
            [
             0.1111111111111111,
             "#46039f"
            ],
            [
             0.2222222222222222,
             "#7201a8"
            ],
            [
             0.3333333333333333,
             "#9c179e"
            ],
            [
             0.4444444444444444,
             "#bd3786"
            ],
            [
             0.5555555555555556,
             "#d8576b"
            ],
            [
             0.6666666666666666,
             "#ed7953"
            ],
            [
             0.7777777777777778,
             "#fb9f3a"
            ],
            [
             0.8888888888888888,
             "#fdca26"
            ],
            [
             1,
             "#f0f921"
            ]
           ],
           "sequentialminus": [
            [
             0,
             "#0d0887"
            ],
            [
             0.1111111111111111,
             "#46039f"
            ],
            [
             0.2222222222222222,
             "#7201a8"
            ],
            [
             0.3333333333333333,
             "#9c179e"
            ],
            [
             0.4444444444444444,
             "#bd3786"
            ],
            [
             0.5555555555555556,
             "#d8576b"
            ],
            [
             0.6666666666666666,
             "#ed7953"
            ],
            [
             0.7777777777777778,
             "#fb9f3a"
            ],
            [
             0.8888888888888888,
             "#fdca26"
            ],
            [
             1,
             "#f0f921"
            ]
           ]
          },
          "colorway": [
           "#636efa",
           "#EF553B",
           "#00cc96",
           "#ab63fa",
           "#FFA15A",
           "#19d3f3",
           "#FF6692",
           "#B6E880",
           "#FF97FF",
           "#FECB52"
          ],
          "font": {
           "color": "#2a3f5f"
          },
          "geo": {
           "bgcolor": "white",
           "lakecolor": "white",
           "landcolor": "#E5ECF6",
           "showlakes": true,
           "showland": true,
           "subunitcolor": "white"
          },
          "hoverlabel": {
           "align": "left"
          },
          "hovermode": "closest",
          "mapbox": {
           "style": "light"
          },
          "paper_bgcolor": "white",
          "plot_bgcolor": "#E5ECF6",
          "polar": {
           "angularaxis": {
            "gridcolor": "white",
            "linecolor": "white",
            "ticks": ""
           },
           "bgcolor": "#E5ECF6",
           "radialaxis": {
            "gridcolor": "white",
            "linecolor": "white",
            "ticks": ""
           }
          },
          "scene": {
           "xaxis": {
            "backgroundcolor": "#E5ECF6",
            "gridcolor": "white",
            "gridwidth": 2,
            "linecolor": "white",
            "showbackground": true,
            "ticks": "",
            "zerolinecolor": "white"
           },
           "yaxis": {
            "backgroundcolor": "#E5ECF6",
            "gridcolor": "white",
            "gridwidth": 2,
            "linecolor": "white",
            "showbackground": true,
            "ticks": "",
            "zerolinecolor": "white"
           },
           "zaxis": {
            "backgroundcolor": "#E5ECF6",
            "gridcolor": "white",
            "gridwidth": 2,
            "linecolor": "white",
            "showbackground": true,
            "ticks": "",
            "zerolinecolor": "white"
           }
          },
          "shapedefaults": {
           "line": {
            "color": "#2a3f5f"
           }
          },
          "ternary": {
           "aaxis": {
            "gridcolor": "white",
            "linecolor": "white",
            "ticks": ""
           },
           "baxis": {
            "gridcolor": "white",
            "linecolor": "white",
            "ticks": ""
           },
           "bgcolor": "#E5ECF6",
           "caxis": {
            "gridcolor": "white",
            "linecolor": "white",
            "ticks": ""
           }
          },
          "title": {
           "x": 0.05
          },
          "xaxis": {
           "automargin": true,
           "gridcolor": "white",
           "linecolor": "white",
           "ticks": "",
           "title": {
            "standoff": 15
           },
           "zerolinecolor": "white",
           "zerolinewidth": 2
          },
          "yaxis": {
           "automargin": true,
           "gridcolor": "white",
           "linecolor": "white",
           "ticks": "",
           "title": {
            "standoff": 15
           },
           "zerolinecolor": "white",
           "zerolinewidth": 2
          }
         }
        },
        "xaxis": {
         "anchor": "y",
         "domain": [
          0,
          1
         ],
         "title": {
          "text": "index"
         }
        },
        "yaxis": {
         "anchor": "x",
         "domain": [
          0,
          1
         ],
         "title": {
          "text": "y"
         }
        }
       }
      },
      "text/html": [
       "<div>\n",
       "        \n",
       "        \n",
       "            <div id=\"68e409bf-426c-4dc3-878a-368e2a388f9b\" class=\"plotly-graph-div\" style=\"height:525px; width:100%;\"></div>\n",
       "            <script type=\"text/javascript\">\n",
       "                require([\"plotly\"], function(Plotly) {\n",
       "                    window.PLOTLYENV=window.PLOTLYENV || {};\n",
       "                    \n",
       "                if (document.getElementById(\"68e409bf-426c-4dc3-878a-368e2a388f9b\")) {\n",
       "                    Plotly.newPlot(\n",
       "                        '68e409bf-426c-4dc3-878a-368e2a388f9b',\n",
       "                        [{\"alignmentgroup\": \"True\", \"hovertemplate\": \"index=%{x}<br>y=%{y}<extra></extra>\", \"legendgroup\": \"\", \"marker\": {\"color\": \"#636efa\"}, \"name\": \"\", \"offsetgroup\": \"\", \"orientation\": \"v\", \"showlegend\": false, \"textposition\": \"auto\", \"type\": \"bar\", \"x\": [0, 1], \"xaxis\": \"x\", \"y\": [39922, 5289], \"yaxis\": \"y\"}],\n",
       "                        {\"barmode\": \"relative\", \"legend\": {\"tracegroupgap\": 0}, \"margin\": {\"t\": 60}, \"template\": {\"data\": {\"bar\": [{\"error_x\": {\"color\": \"#2a3f5f\"}, \"error_y\": {\"color\": \"#2a3f5f\"}, \"marker\": {\"line\": {\"color\": \"#E5ECF6\", \"width\": 0.5}}, \"type\": \"bar\"}], \"barpolar\": [{\"marker\": {\"line\": {\"color\": \"#E5ECF6\", \"width\": 0.5}}, \"type\": \"barpolar\"}], \"carpet\": [{\"aaxis\": {\"endlinecolor\": \"#2a3f5f\", \"gridcolor\": \"white\", \"linecolor\": \"white\", \"minorgridcolor\": \"white\", \"startlinecolor\": \"#2a3f5f\"}, \"baxis\": {\"endlinecolor\": \"#2a3f5f\", \"gridcolor\": \"white\", \"linecolor\": \"white\", \"minorgridcolor\": \"white\", \"startlinecolor\": \"#2a3f5f\"}, \"type\": \"carpet\"}], \"choropleth\": [{\"colorbar\": {\"outlinewidth\": 0, \"ticks\": \"\"}, \"type\": \"choropleth\"}], \"contour\": [{\"colorbar\": {\"outlinewidth\": 0, \"ticks\": \"\"}, \"colorscale\": [[0.0, \"#0d0887\"], [0.1111111111111111, \"#46039f\"], [0.2222222222222222, \"#7201a8\"], [0.3333333333333333, \"#9c179e\"], [0.4444444444444444, \"#bd3786\"], [0.5555555555555556, \"#d8576b\"], [0.6666666666666666, \"#ed7953\"], [0.7777777777777778, \"#fb9f3a\"], [0.8888888888888888, \"#fdca26\"], [1.0, \"#f0f921\"]], \"type\": \"contour\"}], \"contourcarpet\": [{\"colorbar\": {\"outlinewidth\": 0, \"ticks\": \"\"}, \"type\": \"contourcarpet\"}], \"heatmap\": [{\"colorbar\": {\"outlinewidth\": 0, \"ticks\": \"\"}, \"colorscale\": [[0.0, \"#0d0887\"], [0.1111111111111111, \"#46039f\"], [0.2222222222222222, \"#7201a8\"], [0.3333333333333333, \"#9c179e\"], [0.4444444444444444, \"#bd3786\"], [0.5555555555555556, \"#d8576b\"], [0.6666666666666666, \"#ed7953\"], [0.7777777777777778, \"#fb9f3a\"], [0.8888888888888888, \"#fdca26\"], [1.0, \"#f0f921\"]], \"type\": \"heatmap\"}], \"heatmapgl\": [{\"colorbar\": {\"outlinewidth\": 0, \"ticks\": \"\"}, \"colorscale\": [[0.0, \"#0d0887\"], [0.1111111111111111, \"#46039f\"], [0.2222222222222222, \"#7201a8\"], [0.3333333333333333, \"#9c179e\"], [0.4444444444444444, \"#bd3786\"], [0.5555555555555556, \"#d8576b\"], [0.6666666666666666, \"#ed7953\"], [0.7777777777777778, \"#fb9f3a\"], [0.8888888888888888, \"#fdca26\"], [1.0, \"#f0f921\"]], \"type\": \"heatmapgl\"}], \"histogram\": [{\"marker\": {\"colorbar\": {\"outlinewidth\": 0, \"ticks\": \"\"}}, \"type\": \"histogram\"}], \"histogram2d\": [{\"colorbar\": {\"outlinewidth\": 0, \"ticks\": \"\"}, \"colorscale\": [[0.0, \"#0d0887\"], [0.1111111111111111, \"#46039f\"], [0.2222222222222222, \"#7201a8\"], [0.3333333333333333, \"#9c179e\"], [0.4444444444444444, \"#bd3786\"], [0.5555555555555556, \"#d8576b\"], [0.6666666666666666, \"#ed7953\"], [0.7777777777777778, \"#fb9f3a\"], [0.8888888888888888, \"#fdca26\"], [1.0, \"#f0f921\"]], \"type\": \"histogram2d\"}], \"histogram2dcontour\": [{\"colorbar\": {\"outlinewidth\": 0, \"ticks\": \"\"}, \"colorscale\": [[0.0, \"#0d0887\"], [0.1111111111111111, \"#46039f\"], [0.2222222222222222, \"#7201a8\"], [0.3333333333333333, \"#9c179e\"], [0.4444444444444444, \"#bd3786\"], [0.5555555555555556, \"#d8576b\"], [0.6666666666666666, \"#ed7953\"], [0.7777777777777778, \"#fb9f3a\"], [0.8888888888888888, \"#fdca26\"], [1.0, \"#f0f921\"]], \"type\": \"histogram2dcontour\"}], \"mesh3d\": [{\"colorbar\": {\"outlinewidth\": 0, \"ticks\": \"\"}, \"type\": \"mesh3d\"}], \"parcoords\": [{\"line\": {\"colorbar\": {\"outlinewidth\": 0, \"ticks\": \"\"}}, \"type\": \"parcoords\"}], \"pie\": [{\"automargin\": true, \"type\": \"pie\"}], \"scatter\": [{\"marker\": {\"colorbar\": {\"outlinewidth\": 0, \"ticks\": \"\"}}, \"type\": \"scatter\"}], \"scatter3d\": [{\"line\": {\"colorbar\": {\"outlinewidth\": 0, \"ticks\": \"\"}}, \"marker\": {\"colorbar\": {\"outlinewidth\": 0, \"ticks\": \"\"}}, \"type\": \"scatter3d\"}], \"scattercarpet\": [{\"marker\": {\"colorbar\": {\"outlinewidth\": 0, \"ticks\": \"\"}}, \"type\": \"scattercarpet\"}], \"scattergeo\": [{\"marker\": {\"colorbar\": {\"outlinewidth\": 0, \"ticks\": \"\"}}, \"type\": \"scattergeo\"}], \"scattergl\": [{\"marker\": {\"colorbar\": {\"outlinewidth\": 0, \"ticks\": \"\"}}, \"type\": \"scattergl\"}], \"scattermapbox\": [{\"marker\": {\"colorbar\": {\"outlinewidth\": 0, \"ticks\": \"\"}}, \"type\": \"scattermapbox\"}], \"scatterpolar\": [{\"marker\": {\"colorbar\": {\"outlinewidth\": 0, \"ticks\": \"\"}}, \"type\": \"scatterpolar\"}], \"scatterpolargl\": [{\"marker\": {\"colorbar\": {\"outlinewidth\": 0, \"ticks\": \"\"}}, \"type\": \"scatterpolargl\"}], \"scatterternary\": [{\"marker\": {\"colorbar\": {\"outlinewidth\": 0, \"ticks\": \"\"}}, \"type\": \"scatterternary\"}], \"surface\": [{\"colorbar\": {\"outlinewidth\": 0, \"ticks\": \"\"}, \"colorscale\": [[0.0, \"#0d0887\"], [0.1111111111111111, \"#46039f\"], [0.2222222222222222, \"#7201a8\"], [0.3333333333333333, \"#9c179e\"], [0.4444444444444444, \"#bd3786\"], [0.5555555555555556, \"#d8576b\"], [0.6666666666666666, \"#ed7953\"], [0.7777777777777778, \"#fb9f3a\"], [0.8888888888888888, \"#fdca26\"], [1.0, \"#f0f921\"]], \"type\": \"surface\"}], \"table\": [{\"cells\": {\"fill\": {\"color\": \"#EBF0F8\"}, \"line\": {\"color\": \"white\"}}, \"header\": {\"fill\": {\"color\": \"#C8D4E3\"}, \"line\": {\"color\": \"white\"}}, \"type\": \"table\"}]}, \"layout\": {\"annotationdefaults\": {\"arrowcolor\": \"#2a3f5f\", \"arrowhead\": 0, \"arrowwidth\": 1}, \"coloraxis\": {\"colorbar\": {\"outlinewidth\": 0, \"ticks\": \"\"}}, \"colorscale\": {\"diverging\": [[0, \"#8e0152\"], [0.1, \"#c51b7d\"], [0.2, \"#de77ae\"], [0.3, \"#f1b6da\"], [0.4, \"#fde0ef\"], [0.5, \"#f7f7f7\"], [0.6, \"#e6f5d0\"], [0.7, \"#b8e186\"], [0.8, \"#7fbc41\"], [0.9, \"#4d9221\"], [1, \"#276419\"]], \"sequential\": [[0.0, \"#0d0887\"], [0.1111111111111111, \"#46039f\"], [0.2222222222222222, \"#7201a8\"], [0.3333333333333333, \"#9c179e\"], [0.4444444444444444, \"#bd3786\"], [0.5555555555555556, \"#d8576b\"], [0.6666666666666666, \"#ed7953\"], [0.7777777777777778, \"#fb9f3a\"], [0.8888888888888888, \"#fdca26\"], [1.0, \"#f0f921\"]], \"sequentialminus\": [[0.0, \"#0d0887\"], [0.1111111111111111, \"#46039f\"], [0.2222222222222222, \"#7201a8\"], [0.3333333333333333, \"#9c179e\"], [0.4444444444444444, \"#bd3786\"], [0.5555555555555556, \"#d8576b\"], [0.6666666666666666, \"#ed7953\"], [0.7777777777777778, \"#fb9f3a\"], [0.8888888888888888, \"#fdca26\"], [1.0, \"#f0f921\"]]}, \"colorway\": [\"#636efa\", \"#EF553B\", \"#00cc96\", \"#ab63fa\", \"#FFA15A\", \"#19d3f3\", \"#FF6692\", \"#B6E880\", \"#FF97FF\", \"#FECB52\"], \"font\": {\"color\": \"#2a3f5f\"}, \"geo\": {\"bgcolor\": \"white\", \"lakecolor\": \"white\", \"landcolor\": \"#E5ECF6\", \"showlakes\": true, \"showland\": true, \"subunitcolor\": \"white\"}, \"hoverlabel\": {\"align\": \"left\"}, \"hovermode\": \"closest\", \"mapbox\": {\"style\": \"light\"}, \"paper_bgcolor\": \"white\", \"plot_bgcolor\": \"#E5ECF6\", \"polar\": {\"angularaxis\": {\"gridcolor\": \"white\", \"linecolor\": \"white\", \"ticks\": \"\"}, \"bgcolor\": \"#E5ECF6\", \"radialaxis\": {\"gridcolor\": \"white\", \"linecolor\": \"white\", \"ticks\": \"\"}}, \"scene\": {\"xaxis\": {\"backgroundcolor\": \"#E5ECF6\", \"gridcolor\": \"white\", \"gridwidth\": 2, \"linecolor\": \"white\", \"showbackground\": true, \"ticks\": \"\", \"zerolinecolor\": \"white\"}, \"yaxis\": {\"backgroundcolor\": \"#E5ECF6\", \"gridcolor\": \"white\", \"gridwidth\": 2, \"linecolor\": \"white\", \"showbackground\": true, \"ticks\": \"\", \"zerolinecolor\": \"white\"}, \"zaxis\": {\"backgroundcolor\": \"#E5ECF6\", \"gridcolor\": \"white\", \"gridwidth\": 2, \"linecolor\": \"white\", \"showbackground\": true, \"ticks\": \"\", \"zerolinecolor\": \"white\"}}, \"shapedefaults\": {\"line\": {\"color\": \"#2a3f5f\"}}, \"ternary\": {\"aaxis\": {\"gridcolor\": \"white\", \"linecolor\": \"white\", \"ticks\": \"\"}, \"baxis\": {\"gridcolor\": \"white\", \"linecolor\": \"white\", \"ticks\": \"\"}, \"bgcolor\": \"#E5ECF6\", \"caxis\": {\"gridcolor\": \"white\", \"linecolor\": \"white\", \"ticks\": \"\"}}, \"title\": {\"x\": 0.05}, \"xaxis\": {\"automargin\": true, \"gridcolor\": \"white\", \"linecolor\": \"white\", \"ticks\": \"\", \"title\": {\"standoff\": 15}, \"zerolinecolor\": \"white\", \"zerolinewidth\": 2}, \"yaxis\": {\"automargin\": true, \"gridcolor\": \"white\", \"linecolor\": \"white\", \"ticks\": \"\", \"title\": {\"standoff\": 15}, \"zerolinecolor\": \"white\", \"zerolinewidth\": 2}}}, \"xaxis\": {\"anchor\": \"y\", \"domain\": [0.0, 1.0], \"title\": {\"text\": \"index\"}}, \"yaxis\": {\"anchor\": \"x\", \"domain\": [0.0, 1.0], \"title\": {\"text\": \"y\"}}},\n",
       "                        {\"responsive\": true}\n",
       "                    ).then(function(){\n",
       "                            \n",
       "var gd = document.getElementById('68e409bf-426c-4dc3-878a-368e2a388f9b');\n",
       "var x = new MutationObserver(function (mutations, observer) {{\n",
       "        var display = window.getComputedStyle(gd).display;\n",
       "        if (!display || display === 'none') {{\n",
       "            console.log([gd, 'removed!']);\n",
       "            Plotly.purge(gd);\n",
       "            observer.disconnect();\n",
       "        }}\n",
       "}});\n",
       "\n",
       "// Listen for the removal of the full notebook cells\n",
       "var notebookContainer = gd.closest('#notebook-container');\n",
       "if (notebookContainer) {{\n",
       "    x.observe(notebookContainer, {childList: true});\n",
       "}}\n",
       "\n",
       "// Listen for the clearing of the current output cell\n",
       "var outputEl = gd.closest('.output');\n",
       "if (outputEl) {{\n",
       "    x.observe(outputEl, {childList: true});\n",
       "}}\n",
       "\n",
       "                        })\n",
       "                };\n",
       "                });\n",
       "            </script>\n",
       "        </div>"
      ]
     },
     "metadata": {},
     "output_type": "display_data"
    }
   ],
   "source": [
    "fig = px.bar(df, x=df.index, y=df.y)\n",
    "fig.show()"
   ]
  },
  {
   "cell_type": "markdown",
   "metadata": {},
   "source": [
    "* In this data we have recall_score =0.0,f1_score= 0.0  for target class 1 which is very bad\n",
    "* We need to balance target value which is imbalance. To improve F1 score and recall score"
   ]
  },
  {
   "cell_type": "code",
   "execution_count": 163,
   "metadata": {},
   "outputs": [],
   "source": [
    "from imblearn.over_sampling import RandomOverSampler,SMOTE"
   ]
  },
  {
   "cell_type": "code",
   "execution_count": 164,
   "metadata": {},
   "outputs": [],
   "source": [
    "col= feature_data.columns\n",
    "feature_data[col]= oe.fit_transform(feature_data[col])"
   ]
  },
  {
   "cell_type": "code",
   "execution_count": 165,
   "metadata": {},
   "outputs": [],
   "source": [
    "sc = StandardScaler()\n",
    "feature_data[col]= sc.fit_transform(feature_data[col]) "
   ]
  },
  {
   "cell_type": "code",
   "execution_count": 166,
   "metadata": {},
   "outputs": [],
   "source": [
    "smote = SMOTE()"
   ]
  },
  {
   "cell_type": "code",
   "execution_count": 167,
   "metadata": {},
   "outputs": [],
   "source": [
    "feature_s, target_s = smote.fit_sample(feature_data,target_data)"
   ]
  },
  {
   "cell_type": "code",
   "execution_count": 168,
   "metadata": {},
   "outputs": [],
   "source": [
    "df = pd.DataFrame(target_s.value_counts())"
   ]
  },
  {
   "cell_type": "code",
   "execution_count": 169,
   "metadata": {},
   "outputs": [
    {
     "data": {
      "text/html": [
       "<div>\n",
       "<style scoped>\n",
       "    .dataframe tbody tr th:only-of-type {\n",
       "        vertical-align: middle;\n",
       "    }\n",
       "\n",
       "    .dataframe tbody tr th {\n",
       "        vertical-align: top;\n",
       "    }\n",
       "\n",
       "    .dataframe thead th {\n",
       "        text-align: right;\n",
       "    }\n",
       "</style>\n",
       "<table border=\"1\" class=\"dataframe\">\n",
       "  <thead>\n",
       "    <tr style=\"text-align: right;\">\n",
       "      <th></th>\n",
       "      <th>y</th>\n",
       "    </tr>\n",
       "  </thead>\n",
       "  <tbody>\n",
       "    <tr>\n",
       "      <td>1</td>\n",
       "      <td>39922</td>\n",
       "    </tr>\n",
       "    <tr>\n",
       "      <td>0</td>\n",
       "      <td>39922</td>\n",
       "    </tr>\n",
       "  </tbody>\n",
       "</table>\n",
       "</div>"
      ],
      "text/plain": [
       "       y\n",
       "1  39922\n",
       "0  39922"
      ]
     },
     "execution_count": 169,
     "metadata": {},
     "output_type": "execute_result"
    }
   ],
   "source": [
    "df.head()"
   ]
  },
  {
   "cell_type": "code",
   "execution_count": 29,
   "metadata": {},
   "outputs": [
    {
     "data": {
      "application/vnd.plotly.v1+json": {
       "config": {
        "plotlyServerURL": "https://plot.ly"
       },
       "data": [
        {
         "alignmentgroup": "True",
         "hovertemplate": "index=%{x}<br>y=%{y}<extra></extra>",
         "legendgroup": "",
         "marker": {
          "color": "#636efa"
         },
         "name": "",
         "offsetgroup": "",
         "orientation": "v",
         "showlegend": false,
         "textposition": "auto",
         "type": "bar",
         "x": [
          1,
          0
         ],
         "xaxis": "x",
         "y": [
          39922,
          39922
         ],
         "yaxis": "y"
        }
       ],
       "layout": {
        "barmode": "relative",
        "legend": {
         "tracegroupgap": 0
        },
        "margin": {
         "t": 60
        },
        "template": {
         "data": {
          "bar": [
           {
            "error_x": {
             "color": "#2a3f5f"
            },
            "error_y": {
             "color": "#2a3f5f"
            },
            "marker": {
             "line": {
              "color": "#E5ECF6",
              "width": 0.5
             }
            },
            "type": "bar"
           }
          ],
          "barpolar": [
           {
            "marker": {
             "line": {
              "color": "#E5ECF6",
              "width": 0.5
             }
            },
            "type": "barpolar"
           }
          ],
          "carpet": [
           {
            "aaxis": {
             "endlinecolor": "#2a3f5f",
             "gridcolor": "white",
             "linecolor": "white",
             "minorgridcolor": "white",
             "startlinecolor": "#2a3f5f"
            },
            "baxis": {
             "endlinecolor": "#2a3f5f",
             "gridcolor": "white",
             "linecolor": "white",
             "minorgridcolor": "white",
             "startlinecolor": "#2a3f5f"
            },
            "type": "carpet"
           }
          ],
          "choropleth": [
           {
            "colorbar": {
             "outlinewidth": 0,
             "ticks": ""
            },
            "type": "choropleth"
           }
          ],
          "contour": [
           {
            "colorbar": {
             "outlinewidth": 0,
             "ticks": ""
            },
            "colorscale": [
             [
              0,
              "#0d0887"
             ],
             [
              0.1111111111111111,
              "#46039f"
             ],
             [
              0.2222222222222222,
              "#7201a8"
             ],
             [
              0.3333333333333333,
              "#9c179e"
             ],
             [
              0.4444444444444444,
              "#bd3786"
             ],
             [
              0.5555555555555556,
              "#d8576b"
             ],
             [
              0.6666666666666666,
              "#ed7953"
             ],
             [
              0.7777777777777778,
              "#fb9f3a"
             ],
             [
              0.8888888888888888,
              "#fdca26"
             ],
             [
              1,
              "#f0f921"
             ]
            ],
            "type": "contour"
           }
          ],
          "contourcarpet": [
           {
            "colorbar": {
             "outlinewidth": 0,
             "ticks": ""
            },
            "type": "contourcarpet"
           }
          ],
          "heatmap": [
           {
            "colorbar": {
             "outlinewidth": 0,
             "ticks": ""
            },
            "colorscale": [
             [
              0,
              "#0d0887"
             ],
             [
              0.1111111111111111,
              "#46039f"
             ],
             [
              0.2222222222222222,
              "#7201a8"
             ],
             [
              0.3333333333333333,
              "#9c179e"
             ],
             [
              0.4444444444444444,
              "#bd3786"
             ],
             [
              0.5555555555555556,
              "#d8576b"
             ],
             [
              0.6666666666666666,
              "#ed7953"
             ],
             [
              0.7777777777777778,
              "#fb9f3a"
             ],
             [
              0.8888888888888888,
              "#fdca26"
             ],
             [
              1,
              "#f0f921"
             ]
            ],
            "type": "heatmap"
           }
          ],
          "heatmapgl": [
           {
            "colorbar": {
             "outlinewidth": 0,
             "ticks": ""
            },
            "colorscale": [
             [
              0,
              "#0d0887"
             ],
             [
              0.1111111111111111,
              "#46039f"
             ],
             [
              0.2222222222222222,
              "#7201a8"
             ],
             [
              0.3333333333333333,
              "#9c179e"
             ],
             [
              0.4444444444444444,
              "#bd3786"
             ],
             [
              0.5555555555555556,
              "#d8576b"
             ],
             [
              0.6666666666666666,
              "#ed7953"
             ],
             [
              0.7777777777777778,
              "#fb9f3a"
             ],
             [
              0.8888888888888888,
              "#fdca26"
             ],
             [
              1,
              "#f0f921"
             ]
            ],
            "type": "heatmapgl"
           }
          ],
          "histogram": [
           {
            "marker": {
             "colorbar": {
              "outlinewidth": 0,
              "ticks": ""
             }
            },
            "type": "histogram"
           }
          ],
          "histogram2d": [
           {
            "colorbar": {
             "outlinewidth": 0,
             "ticks": ""
            },
            "colorscale": [
             [
              0,
              "#0d0887"
             ],
             [
              0.1111111111111111,
              "#46039f"
             ],
             [
              0.2222222222222222,
              "#7201a8"
             ],
             [
              0.3333333333333333,
              "#9c179e"
             ],
             [
              0.4444444444444444,
              "#bd3786"
             ],
             [
              0.5555555555555556,
              "#d8576b"
             ],
             [
              0.6666666666666666,
              "#ed7953"
             ],
             [
              0.7777777777777778,
              "#fb9f3a"
             ],
             [
              0.8888888888888888,
              "#fdca26"
             ],
             [
              1,
              "#f0f921"
             ]
            ],
            "type": "histogram2d"
           }
          ],
          "histogram2dcontour": [
           {
            "colorbar": {
             "outlinewidth": 0,
             "ticks": ""
            },
            "colorscale": [
             [
              0,
              "#0d0887"
             ],
             [
              0.1111111111111111,
              "#46039f"
             ],
             [
              0.2222222222222222,
              "#7201a8"
             ],
             [
              0.3333333333333333,
              "#9c179e"
             ],
             [
              0.4444444444444444,
              "#bd3786"
             ],
             [
              0.5555555555555556,
              "#d8576b"
             ],
             [
              0.6666666666666666,
              "#ed7953"
             ],
             [
              0.7777777777777778,
              "#fb9f3a"
             ],
             [
              0.8888888888888888,
              "#fdca26"
             ],
             [
              1,
              "#f0f921"
             ]
            ],
            "type": "histogram2dcontour"
           }
          ],
          "mesh3d": [
           {
            "colorbar": {
             "outlinewidth": 0,
             "ticks": ""
            },
            "type": "mesh3d"
           }
          ],
          "parcoords": [
           {
            "line": {
             "colorbar": {
              "outlinewidth": 0,
              "ticks": ""
             }
            },
            "type": "parcoords"
           }
          ],
          "pie": [
           {
            "automargin": true,
            "type": "pie"
           }
          ],
          "scatter": [
           {
            "marker": {
             "colorbar": {
              "outlinewidth": 0,
              "ticks": ""
             }
            },
            "type": "scatter"
           }
          ],
          "scatter3d": [
           {
            "line": {
             "colorbar": {
              "outlinewidth": 0,
              "ticks": ""
             }
            },
            "marker": {
             "colorbar": {
              "outlinewidth": 0,
              "ticks": ""
             }
            },
            "type": "scatter3d"
           }
          ],
          "scattercarpet": [
           {
            "marker": {
             "colorbar": {
              "outlinewidth": 0,
              "ticks": ""
             }
            },
            "type": "scattercarpet"
           }
          ],
          "scattergeo": [
           {
            "marker": {
             "colorbar": {
              "outlinewidth": 0,
              "ticks": ""
             }
            },
            "type": "scattergeo"
           }
          ],
          "scattergl": [
           {
            "marker": {
             "colorbar": {
              "outlinewidth": 0,
              "ticks": ""
             }
            },
            "type": "scattergl"
           }
          ],
          "scattermapbox": [
           {
            "marker": {
             "colorbar": {
              "outlinewidth": 0,
              "ticks": ""
             }
            },
            "type": "scattermapbox"
           }
          ],
          "scatterpolar": [
           {
            "marker": {
             "colorbar": {
              "outlinewidth": 0,
              "ticks": ""
             }
            },
            "type": "scatterpolar"
           }
          ],
          "scatterpolargl": [
           {
            "marker": {
             "colorbar": {
              "outlinewidth": 0,
              "ticks": ""
             }
            },
            "type": "scatterpolargl"
           }
          ],
          "scatterternary": [
           {
            "marker": {
             "colorbar": {
              "outlinewidth": 0,
              "ticks": ""
             }
            },
            "type": "scatterternary"
           }
          ],
          "surface": [
           {
            "colorbar": {
             "outlinewidth": 0,
             "ticks": ""
            },
            "colorscale": [
             [
              0,
              "#0d0887"
             ],
             [
              0.1111111111111111,
              "#46039f"
             ],
             [
              0.2222222222222222,
              "#7201a8"
             ],
             [
              0.3333333333333333,
              "#9c179e"
             ],
             [
              0.4444444444444444,
              "#bd3786"
             ],
             [
              0.5555555555555556,
              "#d8576b"
             ],
             [
              0.6666666666666666,
              "#ed7953"
             ],
             [
              0.7777777777777778,
              "#fb9f3a"
             ],
             [
              0.8888888888888888,
              "#fdca26"
             ],
             [
              1,
              "#f0f921"
             ]
            ],
            "type": "surface"
           }
          ],
          "table": [
           {
            "cells": {
             "fill": {
              "color": "#EBF0F8"
             },
             "line": {
              "color": "white"
             }
            },
            "header": {
             "fill": {
              "color": "#C8D4E3"
             },
             "line": {
              "color": "white"
             }
            },
            "type": "table"
           }
          ]
         },
         "layout": {
          "annotationdefaults": {
           "arrowcolor": "#2a3f5f",
           "arrowhead": 0,
           "arrowwidth": 1
          },
          "coloraxis": {
           "colorbar": {
            "outlinewidth": 0,
            "ticks": ""
           }
          },
          "colorscale": {
           "diverging": [
            [
             0,
             "#8e0152"
            ],
            [
             0.1,
             "#c51b7d"
            ],
            [
             0.2,
             "#de77ae"
            ],
            [
             0.3,
             "#f1b6da"
            ],
            [
             0.4,
             "#fde0ef"
            ],
            [
             0.5,
             "#f7f7f7"
            ],
            [
             0.6,
             "#e6f5d0"
            ],
            [
             0.7,
             "#b8e186"
            ],
            [
             0.8,
             "#7fbc41"
            ],
            [
             0.9,
             "#4d9221"
            ],
            [
             1,
             "#276419"
            ]
           ],
           "sequential": [
            [
             0,
             "#0d0887"
            ],
            [
             0.1111111111111111,
             "#46039f"
            ],
            [
             0.2222222222222222,
             "#7201a8"
            ],
            [
             0.3333333333333333,
             "#9c179e"
            ],
            [
             0.4444444444444444,
             "#bd3786"
            ],
            [
             0.5555555555555556,
             "#d8576b"
            ],
            [
             0.6666666666666666,
             "#ed7953"
            ],
            [
             0.7777777777777778,
             "#fb9f3a"
            ],
            [
             0.8888888888888888,
             "#fdca26"
            ],
            [
             1,
             "#f0f921"
            ]
           ],
           "sequentialminus": [
            [
             0,
             "#0d0887"
            ],
            [
             0.1111111111111111,
             "#46039f"
            ],
            [
             0.2222222222222222,
             "#7201a8"
            ],
            [
             0.3333333333333333,
             "#9c179e"
            ],
            [
             0.4444444444444444,
             "#bd3786"
            ],
            [
             0.5555555555555556,
             "#d8576b"
            ],
            [
             0.6666666666666666,
             "#ed7953"
            ],
            [
             0.7777777777777778,
             "#fb9f3a"
            ],
            [
             0.8888888888888888,
             "#fdca26"
            ],
            [
             1,
             "#f0f921"
            ]
           ]
          },
          "colorway": [
           "#636efa",
           "#EF553B",
           "#00cc96",
           "#ab63fa",
           "#FFA15A",
           "#19d3f3",
           "#FF6692",
           "#B6E880",
           "#FF97FF",
           "#FECB52"
          ],
          "font": {
           "color": "#2a3f5f"
          },
          "geo": {
           "bgcolor": "white",
           "lakecolor": "white",
           "landcolor": "#E5ECF6",
           "showlakes": true,
           "showland": true,
           "subunitcolor": "white"
          },
          "hoverlabel": {
           "align": "left"
          },
          "hovermode": "closest",
          "mapbox": {
           "style": "light"
          },
          "paper_bgcolor": "white",
          "plot_bgcolor": "#E5ECF6",
          "polar": {
           "angularaxis": {
            "gridcolor": "white",
            "linecolor": "white",
            "ticks": ""
           },
           "bgcolor": "#E5ECF6",
           "radialaxis": {
            "gridcolor": "white",
            "linecolor": "white",
            "ticks": ""
           }
          },
          "scene": {
           "xaxis": {
            "backgroundcolor": "#E5ECF6",
            "gridcolor": "white",
            "gridwidth": 2,
            "linecolor": "white",
            "showbackground": true,
            "ticks": "",
            "zerolinecolor": "white"
           },
           "yaxis": {
            "backgroundcolor": "#E5ECF6",
            "gridcolor": "white",
            "gridwidth": 2,
            "linecolor": "white",
            "showbackground": true,
            "ticks": "",
            "zerolinecolor": "white"
           },
           "zaxis": {
            "backgroundcolor": "#E5ECF6",
            "gridcolor": "white",
            "gridwidth": 2,
            "linecolor": "white",
            "showbackground": true,
            "ticks": "",
            "zerolinecolor": "white"
           }
          },
          "shapedefaults": {
           "line": {
            "color": "#2a3f5f"
           }
          },
          "ternary": {
           "aaxis": {
            "gridcolor": "white",
            "linecolor": "white",
            "ticks": ""
           },
           "baxis": {
            "gridcolor": "white",
            "linecolor": "white",
            "ticks": ""
           },
           "bgcolor": "#E5ECF6",
           "caxis": {
            "gridcolor": "white",
            "linecolor": "white",
            "ticks": ""
           }
          },
          "title": {
           "x": 0.05
          },
          "xaxis": {
           "automargin": true,
           "gridcolor": "white",
           "linecolor": "white",
           "ticks": "",
           "title": {
            "standoff": 15
           },
           "zerolinecolor": "white",
           "zerolinewidth": 2
          },
          "yaxis": {
           "automargin": true,
           "gridcolor": "white",
           "linecolor": "white",
           "ticks": "",
           "title": {
            "standoff": 15
           },
           "zerolinecolor": "white",
           "zerolinewidth": 2
          }
         }
        },
        "xaxis": {
         "anchor": "y",
         "domain": [
          0,
          1
         ],
         "title": {
          "text": "index"
         }
        },
        "yaxis": {
         "anchor": "x",
         "domain": [
          0,
          1
         ],
         "title": {
          "text": "y"
         }
        }
       }
      },
      "text/html": [
       "<div>\n",
       "        \n",
       "        \n",
       "            <div id=\"01a7947a-1f71-4bf0-8bf9-b7be1b8bbc8f\" class=\"plotly-graph-div\" style=\"height:525px; width:100%;\"></div>\n",
       "            <script type=\"text/javascript\">\n",
       "                require([\"plotly\"], function(Plotly) {\n",
       "                    window.PLOTLYENV=window.PLOTLYENV || {};\n",
       "                    \n",
       "                if (document.getElementById(\"01a7947a-1f71-4bf0-8bf9-b7be1b8bbc8f\")) {\n",
       "                    Plotly.newPlot(\n",
       "                        '01a7947a-1f71-4bf0-8bf9-b7be1b8bbc8f',\n",
       "                        [{\"alignmentgroup\": \"True\", \"hovertemplate\": \"index=%{x}<br>y=%{y}<extra></extra>\", \"legendgroup\": \"\", \"marker\": {\"color\": \"#636efa\"}, \"name\": \"\", \"offsetgroup\": \"\", \"orientation\": \"v\", \"showlegend\": false, \"textposition\": \"auto\", \"type\": \"bar\", \"x\": [1, 0], \"xaxis\": \"x\", \"y\": [39922, 39922], \"yaxis\": \"y\"}],\n",
       "                        {\"barmode\": \"relative\", \"legend\": {\"tracegroupgap\": 0}, \"margin\": {\"t\": 60}, \"template\": {\"data\": {\"bar\": [{\"error_x\": {\"color\": \"#2a3f5f\"}, \"error_y\": {\"color\": \"#2a3f5f\"}, \"marker\": {\"line\": {\"color\": \"#E5ECF6\", \"width\": 0.5}}, \"type\": \"bar\"}], \"barpolar\": [{\"marker\": {\"line\": {\"color\": \"#E5ECF6\", \"width\": 0.5}}, \"type\": \"barpolar\"}], \"carpet\": [{\"aaxis\": {\"endlinecolor\": \"#2a3f5f\", \"gridcolor\": \"white\", \"linecolor\": \"white\", \"minorgridcolor\": \"white\", \"startlinecolor\": \"#2a3f5f\"}, \"baxis\": {\"endlinecolor\": \"#2a3f5f\", \"gridcolor\": \"white\", \"linecolor\": \"white\", \"minorgridcolor\": \"white\", \"startlinecolor\": \"#2a3f5f\"}, \"type\": \"carpet\"}], \"choropleth\": [{\"colorbar\": {\"outlinewidth\": 0, \"ticks\": \"\"}, \"type\": \"choropleth\"}], \"contour\": [{\"colorbar\": {\"outlinewidth\": 0, \"ticks\": \"\"}, \"colorscale\": [[0.0, \"#0d0887\"], [0.1111111111111111, \"#46039f\"], [0.2222222222222222, \"#7201a8\"], [0.3333333333333333, \"#9c179e\"], [0.4444444444444444, \"#bd3786\"], [0.5555555555555556, \"#d8576b\"], [0.6666666666666666, \"#ed7953\"], [0.7777777777777778, \"#fb9f3a\"], [0.8888888888888888, \"#fdca26\"], [1.0, \"#f0f921\"]], \"type\": \"contour\"}], \"contourcarpet\": [{\"colorbar\": {\"outlinewidth\": 0, \"ticks\": \"\"}, \"type\": \"contourcarpet\"}], \"heatmap\": [{\"colorbar\": {\"outlinewidth\": 0, \"ticks\": \"\"}, \"colorscale\": [[0.0, \"#0d0887\"], [0.1111111111111111, \"#46039f\"], [0.2222222222222222, \"#7201a8\"], [0.3333333333333333, \"#9c179e\"], [0.4444444444444444, \"#bd3786\"], [0.5555555555555556, \"#d8576b\"], [0.6666666666666666, \"#ed7953\"], [0.7777777777777778, \"#fb9f3a\"], [0.8888888888888888, \"#fdca26\"], [1.0, \"#f0f921\"]], \"type\": \"heatmap\"}], \"heatmapgl\": [{\"colorbar\": {\"outlinewidth\": 0, \"ticks\": \"\"}, \"colorscale\": [[0.0, \"#0d0887\"], [0.1111111111111111, \"#46039f\"], [0.2222222222222222, \"#7201a8\"], [0.3333333333333333, \"#9c179e\"], [0.4444444444444444, \"#bd3786\"], [0.5555555555555556, \"#d8576b\"], [0.6666666666666666, \"#ed7953\"], [0.7777777777777778, \"#fb9f3a\"], [0.8888888888888888, \"#fdca26\"], [1.0, \"#f0f921\"]], \"type\": \"heatmapgl\"}], \"histogram\": [{\"marker\": {\"colorbar\": {\"outlinewidth\": 0, \"ticks\": \"\"}}, \"type\": \"histogram\"}], \"histogram2d\": [{\"colorbar\": {\"outlinewidth\": 0, \"ticks\": \"\"}, \"colorscale\": [[0.0, \"#0d0887\"], [0.1111111111111111, \"#46039f\"], [0.2222222222222222, \"#7201a8\"], [0.3333333333333333, \"#9c179e\"], [0.4444444444444444, \"#bd3786\"], [0.5555555555555556, \"#d8576b\"], [0.6666666666666666, \"#ed7953\"], [0.7777777777777778, \"#fb9f3a\"], [0.8888888888888888, \"#fdca26\"], [1.0, \"#f0f921\"]], \"type\": \"histogram2d\"}], \"histogram2dcontour\": [{\"colorbar\": {\"outlinewidth\": 0, \"ticks\": \"\"}, \"colorscale\": [[0.0, \"#0d0887\"], [0.1111111111111111, \"#46039f\"], [0.2222222222222222, \"#7201a8\"], [0.3333333333333333, \"#9c179e\"], [0.4444444444444444, \"#bd3786\"], [0.5555555555555556, \"#d8576b\"], [0.6666666666666666, \"#ed7953\"], [0.7777777777777778, \"#fb9f3a\"], [0.8888888888888888, \"#fdca26\"], [1.0, \"#f0f921\"]], \"type\": \"histogram2dcontour\"}], \"mesh3d\": [{\"colorbar\": {\"outlinewidth\": 0, \"ticks\": \"\"}, \"type\": \"mesh3d\"}], \"parcoords\": [{\"line\": {\"colorbar\": {\"outlinewidth\": 0, \"ticks\": \"\"}}, \"type\": \"parcoords\"}], \"pie\": [{\"automargin\": true, \"type\": \"pie\"}], \"scatter\": [{\"marker\": {\"colorbar\": {\"outlinewidth\": 0, \"ticks\": \"\"}}, \"type\": \"scatter\"}], \"scatter3d\": [{\"line\": {\"colorbar\": {\"outlinewidth\": 0, \"ticks\": \"\"}}, \"marker\": {\"colorbar\": {\"outlinewidth\": 0, \"ticks\": \"\"}}, \"type\": \"scatter3d\"}], \"scattercarpet\": [{\"marker\": {\"colorbar\": {\"outlinewidth\": 0, \"ticks\": \"\"}}, \"type\": \"scattercarpet\"}], \"scattergeo\": [{\"marker\": {\"colorbar\": {\"outlinewidth\": 0, \"ticks\": \"\"}}, \"type\": \"scattergeo\"}], \"scattergl\": [{\"marker\": {\"colorbar\": {\"outlinewidth\": 0, \"ticks\": \"\"}}, \"type\": \"scattergl\"}], \"scattermapbox\": [{\"marker\": {\"colorbar\": {\"outlinewidth\": 0, \"ticks\": \"\"}}, \"type\": \"scattermapbox\"}], \"scatterpolar\": [{\"marker\": {\"colorbar\": {\"outlinewidth\": 0, \"ticks\": \"\"}}, \"type\": \"scatterpolar\"}], \"scatterpolargl\": [{\"marker\": {\"colorbar\": {\"outlinewidth\": 0, \"ticks\": \"\"}}, \"type\": \"scatterpolargl\"}], \"scatterternary\": [{\"marker\": {\"colorbar\": {\"outlinewidth\": 0, \"ticks\": \"\"}}, \"type\": \"scatterternary\"}], \"surface\": [{\"colorbar\": {\"outlinewidth\": 0, \"ticks\": \"\"}, \"colorscale\": [[0.0, \"#0d0887\"], [0.1111111111111111, \"#46039f\"], [0.2222222222222222, \"#7201a8\"], [0.3333333333333333, \"#9c179e\"], [0.4444444444444444, \"#bd3786\"], [0.5555555555555556, \"#d8576b\"], [0.6666666666666666, \"#ed7953\"], [0.7777777777777778, \"#fb9f3a\"], [0.8888888888888888, \"#fdca26\"], [1.0, \"#f0f921\"]], \"type\": \"surface\"}], \"table\": [{\"cells\": {\"fill\": {\"color\": \"#EBF0F8\"}, \"line\": {\"color\": \"white\"}}, \"header\": {\"fill\": {\"color\": \"#C8D4E3\"}, \"line\": {\"color\": \"white\"}}, \"type\": \"table\"}]}, \"layout\": {\"annotationdefaults\": {\"arrowcolor\": \"#2a3f5f\", \"arrowhead\": 0, \"arrowwidth\": 1}, \"coloraxis\": {\"colorbar\": {\"outlinewidth\": 0, \"ticks\": \"\"}}, \"colorscale\": {\"diverging\": [[0, \"#8e0152\"], [0.1, \"#c51b7d\"], [0.2, \"#de77ae\"], [0.3, \"#f1b6da\"], [0.4, \"#fde0ef\"], [0.5, \"#f7f7f7\"], [0.6, \"#e6f5d0\"], [0.7, \"#b8e186\"], [0.8, \"#7fbc41\"], [0.9, \"#4d9221\"], [1, \"#276419\"]], \"sequential\": [[0.0, \"#0d0887\"], [0.1111111111111111, \"#46039f\"], [0.2222222222222222, \"#7201a8\"], [0.3333333333333333, \"#9c179e\"], [0.4444444444444444, \"#bd3786\"], [0.5555555555555556, \"#d8576b\"], [0.6666666666666666, \"#ed7953\"], [0.7777777777777778, \"#fb9f3a\"], [0.8888888888888888, \"#fdca26\"], [1.0, \"#f0f921\"]], \"sequentialminus\": [[0.0, \"#0d0887\"], [0.1111111111111111, \"#46039f\"], [0.2222222222222222, \"#7201a8\"], [0.3333333333333333, \"#9c179e\"], [0.4444444444444444, \"#bd3786\"], [0.5555555555555556, \"#d8576b\"], [0.6666666666666666, \"#ed7953\"], [0.7777777777777778, \"#fb9f3a\"], [0.8888888888888888, \"#fdca26\"], [1.0, \"#f0f921\"]]}, \"colorway\": [\"#636efa\", \"#EF553B\", \"#00cc96\", \"#ab63fa\", \"#FFA15A\", \"#19d3f3\", \"#FF6692\", \"#B6E880\", \"#FF97FF\", \"#FECB52\"], \"font\": {\"color\": \"#2a3f5f\"}, \"geo\": {\"bgcolor\": \"white\", \"lakecolor\": \"white\", \"landcolor\": \"#E5ECF6\", \"showlakes\": true, \"showland\": true, \"subunitcolor\": \"white\"}, \"hoverlabel\": {\"align\": \"left\"}, \"hovermode\": \"closest\", \"mapbox\": {\"style\": \"light\"}, \"paper_bgcolor\": \"white\", \"plot_bgcolor\": \"#E5ECF6\", \"polar\": {\"angularaxis\": {\"gridcolor\": \"white\", \"linecolor\": \"white\", \"ticks\": \"\"}, \"bgcolor\": \"#E5ECF6\", \"radialaxis\": {\"gridcolor\": \"white\", \"linecolor\": \"white\", \"ticks\": \"\"}}, \"scene\": {\"xaxis\": {\"backgroundcolor\": \"#E5ECF6\", \"gridcolor\": \"white\", \"gridwidth\": 2, \"linecolor\": \"white\", \"showbackground\": true, \"ticks\": \"\", \"zerolinecolor\": \"white\"}, \"yaxis\": {\"backgroundcolor\": \"#E5ECF6\", \"gridcolor\": \"white\", \"gridwidth\": 2, \"linecolor\": \"white\", \"showbackground\": true, \"ticks\": \"\", \"zerolinecolor\": \"white\"}, \"zaxis\": {\"backgroundcolor\": \"#E5ECF6\", \"gridcolor\": \"white\", \"gridwidth\": 2, \"linecolor\": \"white\", \"showbackground\": true, \"ticks\": \"\", \"zerolinecolor\": \"white\"}}, \"shapedefaults\": {\"line\": {\"color\": \"#2a3f5f\"}}, \"ternary\": {\"aaxis\": {\"gridcolor\": \"white\", \"linecolor\": \"white\", \"ticks\": \"\"}, \"baxis\": {\"gridcolor\": \"white\", \"linecolor\": \"white\", \"ticks\": \"\"}, \"bgcolor\": \"#E5ECF6\", \"caxis\": {\"gridcolor\": \"white\", \"linecolor\": \"white\", \"ticks\": \"\"}}, \"title\": {\"x\": 0.05}, \"xaxis\": {\"automargin\": true, \"gridcolor\": \"white\", \"linecolor\": \"white\", \"ticks\": \"\", \"title\": {\"standoff\": 15}, \"zerolinecolor\": \"white\", \"zerolinewidth\": 2}, \"yaxis\": {\"automargin\": true, \"gridcolor\": \"white\", \"linecolor\": \"white\", \"ticks\": \"\", \"title\": {\"standoff\": 15}, \"zerolinecolor\": \"white\", \"zerolinewidth\": 2}}}, \"xaxis\": {\"anchor\": \"y\", \"domain\": [0.0, 1.0], \"title\": {\"text\": \"index\"}}, \"yaxis\": {\"anchor\": \"x\", \"domain\": [0.0, 1.0], \"title\": {\"text\": \"y\"}}},\n",
       "                        {\"responsive\": true}\n",
       "                    ).then(function(){\n",
       "                            \n",
       "var gd = document.getElementById('01a7947a-1f71-4bf0-8bf9-b7be1b8bbc8f');\n",
       "var x = new MutationObserver(function (mutations, observer) {{\n",
       "        var display = window.getComputedStyle(gd).display;\n",
       "        if (!display || display === 'none') {{\n",
       "            console.log([gd, 'removed!']);\n",
       "            Plotly.purge(gd);\n",
       "            observer.disconnect();\n",
       "        }}\n",
       "}});\n",
       "\n",
       "// Listen for the removal of the full notebook cells\n",
       "var notebookContainer = gd.closest('#notebook-container');\n",
       "if (notebookContainer) {{\n",
       "    x.observe(notebookContainer, {childList: true});\n",
       "}}\n",
       "\n",
       "// Listen for the clearing of the current output cell\n",
       "var outputEl = gd.closest('.output');\n",
       "if (outputEl) {{\n",
       "    x.observe(outputEl, {childList: true});\n",
       "}}\n",
       "\n",
       "                        })\n",
       "                };\n",
       "                });\n",
       "            </script>\n",
       "        </div>"
      ]
     },
     "metadata": {},
     "output_type": "display_data"
    }
   ],
   "source": [
    "fig = px.bar(df, x=df.index, y=df.y)\n",
    "fig.show()"
   ]
  },
  {
   "cell_type": "code",
   "execution_count": 170,
   "metadata": {},
   "outputs": [],
   "source": [
    "trainX, testX, trainY, testY = train_test_split(feature_s, target_s)"
   ]
  },
  {
   "cell_type": "code",
   "execution_count": 171,
   "metadata": {},
   "outputs": [],
   "source": [
    "lr= LogisticRegression()"
   ]
  },
  {
   "cell_type": "code",
   "execution_count": 172,
   "metadata": {
    "scrolled": true
   },
   "outputs": [
    {
     "data": {
      "text/plain": [
       "LogisticRegression()"
      ]
     },
     "execution_count": 172,
     "metadata": {},
     "output_type": "execute_result"
    }
   ],
   "source": [
    "lr.fit(trainX,trainY)"
   ]
  },
  {
   "cell_type": "code",
   "execution_count": 173,
   "metadata": {},
   "outputs": [
    {
     "data": {
      "text/plain": [
       "0.7624868493562447"
      ]
     },
     "execution_count": 173,
     "metadata": {},
     "output_type": "execute_result"
    }
   ],
   "source": [
    "lr.score(testX,testY)"
   ]
  },
  {
   "cell_type": "code",
   "execution_count": 174,
   "metadata": {},
   "outputs": [],
   "source": [
    "lr_report=classification_report(testY,lr.predict(testX))"
   ]
  },
  {
   "cell_type": "code",
   "execution_count": 175,
   "metadata": {},
   "outputs": [
    {
     "name": "stdout",
     "output_type": "stream",
     "text": [
      "              precision    recall  f1-score   support\n",
      "\n",
      "           0       0.74      0.81      0.77     10053\n",
      "           1       0.79      0.71      0.75      9908\n",
      "\n",
      "    accuracy                           0.76     19961\n",
      "   macro avg       0.76      0.76      0.76     19961\n",
      "weighted avg       0.76      0.76      0.76     19961\n",
      "\n",
      "[[8153 1900]\n",
      " [2841 7067]]\n"
     ]
    }
   ],
   "source": [
    "print(lr_report)\n",
    "print(confusion_matrix(testY,lr.predict(testX)))"
   ]
  },
  {
   "cell_type": "markdown",
   "metadata": {},
   "source": [
    "* we have improved recall_score and f1_score by balancing dataset\n",
    "* Improving Fruther"
   ]
  },
  {
   "cell_type": "markdown",
   "metadata": {},
   "source": [
    "* Using DecisionTreeClassifier"
   ]
  },
  {
   "cell_type": "code",
   "execution_count": 176,
   "metadata": {},
   "outputs": [],
   "source": [
    "dt = DecisionTreeClassifier()"
   ]
  },
  {
   "cell_type": "code",
   "execution_count": 177,
   "metadata": {},
   "outputs": [
    {
     "data": {
      "text/plain": [
       "DecisionTreeClassifier()"
      ]
     },
     "execution_count": 177,
     "metadata": {},
     "output_type": "execute_result"
    }
   ],
   "source": [
    "dt.fit(trainX,trainY)"
   ]
  },
  {
   "cell_type": "code",
   "execution_count": 178,
   "metadata": {},
   "outputs": [
    {
     "data": {
      "text/plain": [
       "0.8732027453534392"
      ]
     },
     "execution_count": 178,
     "metadata": {},
     "output_type": "execute_result"
    }
   ],
   "source": [
    "dt.score(testX,testY)"
   ]
  },
  {
   "cell_type": "code",
   "execution_count": 179,
   "metadata": {},
   "outputs": [],
   "source": [
    "dt_report = lr_report=classification_report(testY,dt.predict(testX))"
   ]
  },
  {
   "cell_type": "code",
   "execution_count": 180,
   "metadata": {
    "scrolled": true
   },
   "outputs": [
    {
     "name": "stdout",
     "output_type": "stream",
     "text": [
      "              precision    recall  f1-score   support\n",
      "\n",
      "           0       0.88      0.87      0.87     10053\n",
      "           1       0.87      0.88      0.87      9908\n",
      "\n",
      "    accuracy                           0.87     19961\n",
      "   macro avg       0.87      0.87      0.87     19961\n",
      "weighted avg       0.87      0.87      0.87     19961\n",
      "\n",
      "[[8713 1340]\n",
      " [1191 8717]]\n"
     ]
    }
   ],
   "source": [
    "print(dt_report)\n",
    "print(confusion_matrix(testY,dt.predict(testX)))"
   ]
  },
  {
   "cell_type": "markdown",
   "metadata": {},
   "source": [
    "* By using RandomForestClassifier"
   ]
  },
  {
   "cell_type": "code",
   "execution_count": 181,
   "metadata": {},
   "outputs": [],
   "source": [
    "rt = RandomForestClassifier(n_estimators=100, n_jobs=1)"
   ]
  },
  {
   "cell_type": "code",
   "execution_count": 182,
   "metadata": {},
   "outputs": [
    {
     "data": {
      "text/plain": [
       "RandomForestClassifier(n_jobs=1)"
      ]
     },
     "execution_count": 182,
     "metadata": {},
     "output_type": "execute_result"
    }
   ],
   "source": [
    "rt.fit(trainX,trainY)"
   ]
  },
  {
   "cell_type": "code",
   "execution_count": 183,
   "metadata": {},
   "outputs": [
    {
     "name": "stdout",
     "output_type": "stream",
     "text": [
      "testing score 0.9143329492510395\n",
      "traning score 0.9999332030793381\n"
     ]
    }
   ],
   "source": [
    "print('testing score',rt.score(testX,testY))\n",
    "print('traning score',rt.score(trainX,trainY))"
   ]
  },
  {
   "cell_type": "code",
   "execution_count": 184,
   "metadata": {},
   "outputs": [],
   "source": [
    "rt_report = classification_report(testY,rt.predict(testX))"
   ]
  },
  {
   "cell_type": "code",
   "execution_count": 46,
   "metadata": {
    "scrolled": false
   },
   "outputs": [
    {
     "name": "stdout",
     "output_type": "stream",
     "text": [
      "              precision    recall  f1-score   support\n",
      "\n",
      "           0       0.92      0.89      0.91      9901\n",
      "           1       0.90      0.93      0.91     10060\n",
      "\n",
      "    accuracy                           0.91     19961\n",
      "   macro avg       0.91      0.91      0.91     19961\n",
      "weighted avg       0.91      0.91      0.91     19961\n",
      "\n",
      "[[8810 1091]\n",
      " [ 727 9333]]\n"
     ]
    }
   ],
   "source": [
    "print(rt_report)\n",
    "print(confusion_matrix(testY,rt.predict(testX)))"
   ]
  },
  {
   "cell_type": "markdown",
   "metadata": {},
   "source": [
    "### Deployment of Model"
   ]
  },
  {
   "cell_type": "code",
   "execution_count": 207,
   "metadata": {},
   "outputs": [
    {
     "data": {
      "text/html": [
       "<div>\n",
       "<style scoped>\n",
       "    .dataframe tbody tr th:only-of-type {\n",
       "        vertical-align: middle;\n",
       "    }\n",
       "\n",
       "    .dataframe tbody tr th {\n",
       "        vertical-align: top;\n",
       "    }\n",
       "\n",
       "    .dataframe thead th {\n",
       "        text-align: right;\n",
       "    }\n",
       "</style>\n",
       "<table border=\"1\" class=\"dataframe\">\n",
       "  <thead>\n",
       "    <tr style=\"text-align: right;\">\n",
       "      <th></th>\n",
       "      <th>age</th>\n",
       "      <th>default</th>\n",
       "      <th>balance</th>\n",
       "      <th>duration</th>\n",
       "      <th>campaign</th>\n",
       "      <th>pdays</th>\n",
       "      <th>previous</th>\n",
       "      <th>y</th>\n",
       "    </tr>\n",
       "  </thead>\n",
       "  <tbody>\n",
       "    <tr>\n",
       "      <td>83</td>\n",
       "      <td>59</td>\n",
       "      <td>no</td>\n",
       "      <td>2343</td>\n",
       "      <td>1042</td>\n",
       "      <td>1</td>\n",
       "      <td>-1</td>\n",
       "      <td>0</td>\n",
       "      <td>1</td>\n",
       "    </tr>\n",
       "    <tr>\n",
       "      <td>86</td>\n",
       "      <td>56</td>\n",
       "      <td>no</td>\n",
       "      <td>45</td>\n",
       "      <td>1467</td>\n",
       "      <td>1</td>\n",
       "      <td>-1</td>\n",
       "      <td>0</td>\n",
       "      <td>1</td>\n",
       "    </tr>\n",
       "    <tr>\n",
       "      <td>87</td>\n",
       "      <td>41</td>\n",
       "      <td>no</td>\n",
       "      <td>1270</td>\n",
       "      <td>1389</td>\n",
       "      <td>1</td>\n",
       "      <td>-1</td>\n",
       "      <td>0</td>\n",
       "      <td>1</td>\n",
       "    </tr>\n",
       "    <tr>\n",
       "      <td>129</td>\n",
       "      <td>55</td>\n",
       "      <td>no</td>\n",
       "      <td>2476</td>\n",
       "      <td>579</td>\n",
       "      <td>1</td>\n",
       "      <td>-1</td>\n",
       "      <td>0</td>\n",
       "      <td>1</td>\n",
       "    </tr>\n",
       "    <tr>\n",
       "      <td>168</td>\n",
       "      <td>54</td>\n",
       "      <td>no</td>\n",
       "      <td>184</td>\n",
       "      <td>673</td>\n",
       "      <td>2</td>\n",
       "      <td>-1</td>\n",
       "      <td>0</td>\n",
       "      <td>1</td>\n",
       "    </tr>\n",
       "  </tbody>\n",
       "</table>\n",
       "</div>"
      ],
      "text/plain": [
       "     age default  balance  duration  campaign  pdays  previous  y\n",
       "83    59      no     2343      1042         1     -1         0  1\n",
       "86    56      no       45      1467         1     -1         0  1\n",
       "87    41      no     1270      1389         1     -1         0  1\n",
       "129   55      no     2476       579         1     -1         0  1\n",
       "168   54      no      184       673         2     -1         0  1"
      ]
     },
     "execution_count": 207,
     "metadata": {},
     "output_type": "execute_result"
    }
   ],
   "source": [
    "data.loc[data.y==1,['age','default','balance','duration','campaign','pdays','previous','y']].head()"
   ]
  },
  {
   "cell_type": "code",
   "execution_count": 223,
   "metadata": {},
   "outputs": [
    {
     "data": {
      "text/html": [
       "<div>\n",
       "<style scoped>\n",
       "    .dataframe tbody tr th:only-of-type {\n",
       "        vertical-align: middle;\n",
       "    }\n",
       "\n",
       "    .dataframe tbody tr th {\n",
       "        vertical-align: top;\n",
       "    }\n",
       "\n",
       "    .dataframe thead th {\n",
       "        text-align: right;\n",
       "    }\n",
       "</style>\n",
       "<table border=\"1\" class=\"dataframe\">\n",
       "  <thead>\n",
       "    <tr style=\"text-align: right;\">\n",
       "      <th></th>\n",
       "      <th>age</th>\n",
       "      <th>default</th>\n",
       "      <th>balance</th>\n",
       "      <th>duration</th>\n",
       "      <th>campaign</th>\n",
       "      <th>pdays</th>\n",
       "      <th>previous</th>\n",
       "      <th>y</th>\n",
       "    </tr>\n",
       "  </thead>\n",
       "  <tbody>\n",
       "    <tr>\n",
       "      <td>0</td>\n",
       "      <td>58</td>\n",
       "      <td>no</td>\n",
       "      <td>2143</td>\n",
       "      <td>261</td>\n",
       "      <td>1</td>\n",
       "      <td>-1</td>\n",
       "      <td>0</td>\n",
       "      <td>0</td>\n",
       "    </tr>\n",
       "    <tr>\n",
       "      <td>1</td>\n",
       "      <td>44</td>\n",
       "      <td>no</td>\n",
       "      <td>29</td>\n",
       "      <td>151</td>\n",
       "      <td>1</td>\n",
       "      <td>-1</td>\n",
       "      <td>0</td>\n",
       "      <td>0</td>\n",
       "    </tr>\n",
       "    <tr>\n",
       "      <td>2</td>\n",
       "      <td>33</td>\n",
       "      <td>no</td>\n",
       "      <td>2</td>\n",
       "      <td>76</td>\n",
       "      <td>1</td>\n",
       "      <td>-1</td>\n",
       "      <td>0</td>\n",
       "      <td>0</td>\n",
       "    </tr>\n",
       "    <tr>\n",
       "      <td>3</td>\n",
       "      <td>47</td>\n",
       "      <td>no</td>\n",
       "      <td>1506</td>\n",
       "      <td>92</td>\n",
       "      <td>1</td>\n",
       "      <td>-1</td>\n",
       "      <td>0</td>\n",
       "      <td>0</td>\n",
       "    </tr>\n",
       "    <tr>\n",
       "      <td>4</td>\n",
       "      <td>33</td>\n",
       "      <td>no</td>\n",
       "      <td>1</td>\n",
       "      <td>198</td>\n",
       "      <td>1</td>\n",
       "      <td>-1</td>\n",
       "      <td>0</td>\n",
       "      <td>0</td>\n",
       "    </tr>\n",
       "    <tr>\n",
       "      <td>...</td>\n",
       "      <td>...</td>\n",
       "      <td>...</td>\n",
       "      <td>...</td>\n",
       "      <td>...</td>\n",
       "      <td>...</td>\n",
       "      <td>...</td>\n",
       "      <td>...</td>\n",
       "      <td>...</td>\n",
       "    </tr>\n",
       "    <tr>\n",
       "      <td>45194</td>\n",
       "      <td>59</td>\n",
       "      <td>no</td>\n",
       "      <td>138</td>\n",
       "      <td>162</td>\n",
       "      <td>2</td>\n",
       "      <td>187</td>\n",
       "      <td>5</td>\n",
       "      <td>0</td>\n",
       "    </tr>\n",
       "    <tr>\n",
       "      <td>45198</td>\n",
       "      <td>37</td>\n",
       "      <td>no</td>\n",
       "      <td>1428</td>\n",
       "      <td>333</td>\n",
       "      <td>2</td>\n",
       "      <td>-1</td>\n",
       "      <td>0</td>\n",
       "      <td>0</td>\n",
       "    </tr>\n",
       "    <tr>\n",
       "      <td>45199</td>\n",
       "      <td>34</td>\n",
       "      <td>no</td>\n",
       "      <td>1475</td>\n",
       "      <td>1166</td>\n",
       "      <td>3</td>\n",
       "      <td>530</td>\n",
       "      <td>12</td>\n",
       "      <td>0</td>\n",
       "    </tr>\n",
       "    <tr>\n",
       "      <td>45209</td>\n",
       "      <td>57</td>\n",
       "      <td>no</td>\n",
       "      <td>668</td>\n",
       "      <td>508</td>\n",
       "      <td>4</td>\n",
       "      <td>-1</td>\n",
       "      <td>0</td>\n",
       "      <td>0</td>\n",
       "    </tr>\n",
       "    <tr>\n",
       "      <td>45210</td>\n",
       "      <td>37</td>\n",
       "      <td>no</td>\n",
       "      <td>2971</td>\n",
       "      <td>361</td>\n",
       "      <td>2</td>\n",
       "      <td>188</td>\n",
       "      <td>11</td>\n",
       "      <td>0</td>\n",
       "    </tr>\n",
       "  </tbody>\n",
       "</table>\n",
       "<p>39922 rows × 8 columns</p>\n",
       "</div>"
      ],
      "text/plain": [
       "       age default  balance  duration  campaign  pdays  previous  y\n",
       "0       58      no     2143       261         1     -1         0  0\n",
       "1       44      no       29       151         1     -1         0  0\n",
       "2       33      no        2        76         1     -1         0  0\n",
       "3       47      no     1506        92         1     -1         0  0\n",
       "4       33      no        1       198         1     -1         0  0\n",
       "...    ...     ...      ...       ...       ...    ...       ... ..\n",
       "45194   59      no      138       162         2    187         5  0\n",
       "45198   37      no     1428       333         2     -1         0  0\n",
       "45199   34      no     1475      1166         3    530        12  0\n",
       "45209   57      no      668       508         4     -1         0  0\n",
       "45210   37      no     2971       361         2    188        11  0\n",
       "\n",
       "[39922 rows x 8 columns]"
      ]
     },
     "execution_count": 223,
     "metadata": {},
     "output_type": "execute_result"
    }
   ],
   "source": [
    "data.loc[data.y==0,['age','default','balance','duration','campaign','pdays','previous','y']]"
   ]
  },
  {
   "cell_type": "code",
   "execution_count": 214,
   "metadata": {},
   "outputs": [],
   "source": [
    "import pickle# use to dump model "
   ]
  },
  {
   "cell_type": "code",
   "execution_count": 215,
   "metadata": {},
   "outputs": [],
   "source": [
    "pickle.dump(rt,open('bank_pridection.pkl','wb'))"
   ]
  },
  {
   "cell_type": "code",
   "execution_count": 216,
   "metadata": {},
   "outputs": [],
   "source": [
    "loaded_model = pickle.load(open('bank_pridection.pkl', 'rb'))\n"
   ]
  },
  {
   "cell_type": "code",
   "execution_count": 217,
   "metadata": {},
   "outputs": [
    {
     "data": {
      "text/plain": [
       "array([0], dtype=int64)"
      ]
     },
     "execution_count": 217,
     "metadata": {},
     "output_type": "execute_result"
    }
   ],
   "source": [
    "loaded_model.predict([[37,0,2971,361,2,188,11]]) #inserting values where data.y== 0"
   ]
  },
  {
   "cell_type": "code",
   "execution_count": 219,
   "metadata": {},
   "outputs": [
    {
     "data": {
      "text/plain": [
       "array([1], dtype=int64)"
      ]
     },
     "execution_count": 219,
     "metadata": {},
     "output_type": "execute_result"
    }
   ],
   "source": [
    "loaded_model.predict([[56,0,45,1467,1,-1,0]])# #inserting values where data.y== 1"
   ]
  },
  {
   "cell_type": "code",
   "execution_count": null,
   "metadata": {},
   "outputs": [],
   "source": []
  }
 ],
 "metadata": {
  "kernelspec": {
   "display_name": "Python 3",
   "language": "python",
   "name": "python3"
  },
  "language_info": {
   "codemirror_mode": {
    "name": "ipython",
    "version": 3
   },
   "file_extension": ".py",
   "mimetype": "text/x-python",
   "name": "python",
   "nbconvert_exporter": "python",
   "pygments_lexer": "ipython3",
   "version": "3.7.4"
  }
 },
 "nbformat": 4,
 "nbformat_minor": 2
}
